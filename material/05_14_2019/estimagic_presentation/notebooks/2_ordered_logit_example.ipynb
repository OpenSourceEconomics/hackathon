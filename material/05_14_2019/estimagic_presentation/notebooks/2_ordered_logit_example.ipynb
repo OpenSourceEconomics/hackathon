{
 "cells": [
  {
   "cell_type": "code",
   "execution_count": 1,
   "metadata": {},
   "outputs": [],
   "source": [
    "import numpy as np\n",
    "import pandas as pd\n",
    "from scipy import stats\n",
    "from patsy import dmatrices\n",
    "import sys\n",
    "\n",
    "sys.path.append('/home/janos/Dropbox/Projects/estimagic/')\n",
    "from estimagic.optimization.optimize import maximize"
   ]
  },
  {
   "cell_type": "code",
   "execution_count": 2,
   "metadata": {},
   "outputs": [],
   "source": [
    "def ordered_logit(formula, data, dashboard=False):\n",
    "    params, y, x, constr = ordered_logit_processing(formula, data)\n",
    "    \n",
    "    res = maximize(\n",
    "        criterion=ordered_logit_loglike, \n",
    "        params=params, \n",
    "        algorithm='nlopt_bobyqa',\n",
    "        constraints=constr,\n",
    "        criterion_args=(y, x), \n",
    "        dashboard=dashboard)\n",
    "    return res\n",
    "\n",
    "\n",
    "def ordered_logit_loglike(params, y, x):\n",
    "    beta = params.loc['beta'].to_numpy()\n",
    "    cutoffs = params.loc['cutoff'].to_numpy()\n",
    "    xb = x.dot(beta)\n",
    "    \n",
    "    upper_cutoffs = np.hstack([cutoffs, np.inf])[y]\n",
    "    lower_cutoffs = np.hstack([-np.inf, cutoffs])[y]\n",
    "    \n",
    "    upper_cdf = stats.logistic.cdf(upper_cutoffs - xb)\n",
    "    lower_cdf = stats.logistic.cdf(lower_cutoffs - xb)\n",
    "    \n",
    "    return np.log(upper_cdf - lower_cdf).sum()\n",
    "\n",
    "\n",
    "def ordered_logit_processing(formula, data):\n",
    "    # extract data arrays\n",
    "    y, x = dmatrices(formula + ' - 1', data, return_type='dataframe')\n",
    "    y = y[y.columns[0]]\n",
    "    \n",
    "    # extract dimensions\n",
    "    num_choices = len(y.unique())\n",
    "    beta_names = list(x.columns)\n",
    "    num_betas = len(beta_names)\n",
    "    num_cutoffs = num_choices - 1\n",
    "    \n",
    "    # set-up index for params_df\n",
    "    names = beta_names + list(range(num_cutoffs))\n",
    "    categories = ['beta'] * num_betas + ['cutoff'] * num_cutoffs\n",
    "    index = pd.MultiIndex.from_tuples(\n",
    "        zip(categories, names), names=['type', 'name'])\n",
    "    \n",
    "    # make params_df\n",
    "    np.random.seed(5471)\n",
    "    start_params = pd.DataFrame(index=index)\n",
    "    start_params['value'] = np.hstack(\n",
    "        [np.random.uniform(low=-0.5, high=0.5, size=len(x.columns)),\n",
    "        np.arange(num_cutoffs) * 2])\n",
    "    \n",
    "    # make constraints\n",
    "    constr = [{'loc': 'cutoff', 'type': 'increasing'}]\n",
    "    \n",
    "    return start_params, y.to_numpy().astype(int), x.to_numpy(), constr"
   ]
  },
  {
   "cell_type": "code",
   "execution_count": 3,
   "metadata": {},
   "outputs": [],
   "source": [
    "df = pd.read_stata('ologit.dta')\n",
    "df['apply'] = df['apply'].cat.codes\n",
    "form = 'apply ~ pared + public + gpa'\n",
    "correct = [1.047664, -.0586828, .6157458, 2.203323,  4.298767]"
   ]
  },
  {
   "cell_type": "code",
   "execution_count": 4,
   "metadata": {},
   "outputs": [
    {
     "data": {
      "text/plain": [
       "({'x': [1.0476636809475925,\n",
       "   -0.058682798734612227,\n",
       "   0.6157458197420849,\n",
       "   2.2033232357653287,\n",
       "   4.298767391412519],\n",
       "  'internal_x': [1.0476636809475925,\n",
       "   -0.058682798734612227,\n",
       "   0.6157458197420849,\n",
       "   2.2033232357653287,\n",
       "   2.0954441556471903],\n",
       "  'f': -358.5124356620388},\n",
       " type    name  \n",
       " beta    pared     1.047664\n",
       "         public   -0.058683\n",
       "         gpa       0.615746\n",
       " cutoff  0         2.203323\n",
       "         1         4.298767\n",
       " Name: value, dtype: float64)"
      ]
     },
     "execution_count": 4,
     "metadata": {},
     "output_type": "execute_result"
    }
   ],
   "source": [
    "ordered_logit(form, df, dashboard=False)"
   ]
  },
  {
   "cell_type": "code",
   "execution_count": null,
   "metadata": {},
   "outputs": [],
   "source": []
  }
 ],
 "metadata": {
  "kernelspec": {
   "display_name": "Python 3",
   "language": "python",
   "name": "python3"
  },
  "language_info": {
   "codemirror_mode": {
    "name": "ipython",
    "version": 3
   },
   "file_extension": ".py",
   "mimetype": "text/x-python",
   "name": "python",
   "nbconvert_exporter": "python",
   "pygments_lexer": "ipython3",
   "version": "3.7.3"
  }
 },
 "nbformat": 4,
 "nbformat_minor": 2
}
