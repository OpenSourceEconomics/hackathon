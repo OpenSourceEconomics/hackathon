{
 "cells": [
  {
   "cell_type": "code",
   "execution_count": 1,
   "metadata": {},
   "outputs": [],
   "source": [
    "import numpy as np\n",
    "import pandas as pd\n",
    "import scipy.optimize"
   ]
  },
  {
   "cell_type": "markdown",
   "metadata": {},
   "source": [
    "# Powell Function\n",
    "\n",
    "global minimum f(x*) = 0 at x* = (0, ..., 0)\n",
    "\n",
    "source: https://www.sfu.ca/~ssurjano/powell.html\n",
    "\n",
    "![Powell Function](powell_func.png)"
   ]
  },
  {
   "cell_type": "code",
   "execution_count": 2,
   "metadata": {},
   "outputs": [],
   "source": [
    "def powell_scipy(x):\n",
    "    d = len(x)\n",
    "    assert d % 4 == 0, \"x must be divisible by 4!\"\n",
    "    a, b, c, d = x.reshape(int(d / 4), 4).T\n",
    "    sum1 = (a + 10 * b) ** 2\n",
    "    sum2 = 5 * (c - d) ** 2\n",
    "    sum3 = (b - 2 * c) ** 4\n",
    "    sum4 = 10 * (a - d) ** 4\n",
    "    f_x = (sum1 + sum2 + sum3 + sum4).sum()\n",
    "    return f_x"
   ]
  },
  {
   "cell_type": "code",
   "execution_count": 3,
   "metadata": {},
   "outputs": [],
   "source": [
    "res = scipy.optimize.minimize(\n",
    "    powell_scipy, \n",
    "    x0=np.ones(24), \n",
    "    method='Powell')"
   ]
  },
  {
   "cell_type": "code",
   "execution_count": 4,
   "metadata": {},
   "outputs": [
    {
     "data": {
      "text/plain": [
       "array([[ 0.0009, -0.0001,  0.0005,  0.0005],\n",
       "       [ 0.0009, -0.0001,  0.0005,  0.0005],\n",
       "       [ 0.0009, -0.0001,  0.0005,  0.0005],\n",
       "       [ 0.0009, -0.0001,  0.0005,  0.0005],\n",
       "       [-0.0017,  0.0002, -0.0012, -0.0012],\n",
       "       [ 0.0008, -0.0001,  0.0011,  0.0011]])"
      ]
     },
     "execution_count": 4,
     "metadata": {},
     "output_type": "execute_result"
    }
   ],
   "source": [
    "res['x'].reshape((6, 4)).round(4)"
   ]
  },
  {
   "cell_type": "code",
   "execution_count": null,
   "metadata": {},
   "outputs": [],
   "source": []
  }
 ],
 "metadata": {
  "kernelspec": {
   "display_name": "Python 3",
   "language": "python",
   "name": "python3"
  },
  "language_info": {
   "codemirror_mode": {
    "name": "ipython",
    "version": 3
   },
   "file_extension": ".py",
   "mimetype": "text/x-python",
   "name": "python",
   "nbconvert_exporter": "python",
   "pygments_lexer": "ipython3",
   "version": "3.7.3"
  }
 },
 "nbformat": 4,
 "nbformat_minor": 2
}
