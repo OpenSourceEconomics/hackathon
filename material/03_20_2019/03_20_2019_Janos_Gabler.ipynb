{
 "cells": [
  {
   "cell_type": "markdown",
   "metadata": {
    "collapsed": true
   },
   "source": [
    "# When (Not) to Write Classes\n",
    "\n",
    "- How to define and use classes\n",
    "- Advantage 1: bundle code and data\n",
    "- Advantage 2: Inheritance\n",
    "- Advantage 3: Harmonize interfaces\n",
    "- Advantage 4: Avoid long lists of arguments\n",
    "- For each case I discuss disadvantages and alternative implementations \n",
    "\n",
    "# Introduction"
   ]
  },
  {
   "cell_type": "markdown",
   "metadata": {
    "collapsed": true
   },
   "source": [
    "### Disclaimer\n",
    "\n",
    "- There are heated debates about what I'm going to present right now by people that are way more qualified than me. Feel free to disagree with everything I say. \n",
    "\n",
    "### Terminology\n",
    "\n",
    "- Object: something that consists out of data and methods that work on that data\n",
    "- Object oriented programming: building code out of objects that interact\n",
    "- Class: a blueprint for an object\n",
    "- Instance: an object of a certain class\n",
    "\n",
    "### Examples\n",
    "\n",
    "The following example is based on [A Beginner's Python Tutorial](https://en.wikibooks.org/wiki/A_Beginner%27s_Python_Tutorial/Classes)https://en.wikibooks.org/wiki/A_Beginner%27s_Python_Tutorial/Classes\n",
    "\n",
    "### Define a class"
   ]
  },
  {
   "cell_type": "code",
   "execution_count": 2,
   "metadata": {},
   "outputs": [],
   "source": [
    "import numpy as np\n",
    "\n",
    "\n",
    "class Rectangle:\n",
    "    def __init__(self, x, y):\n",
    "        self.x = x\n",
    "        self.y = y\n",
    "        \n",
    "    def area(self):\n",
    "        return self.x * self.y\n",
    "    \n",
    "    def perimeter(self):\n",
    "        return 2 * (self.x + self.y)\n",
    "    \n",
    "    def scale(self, factor):\n",
    "        self.x *= factor\n",
    "        self.y *= factor"
   ]
  },
  {
   "cell_type": "markdown",
   "metadata": {},
   "source": [
    "### Make an instance of the class"
   ]
  },
  {
   "cell_type": "code",
   "execution_count": 3,
   "metadata": {},
   "outputs": [],
   "source": [
    "rect = Rectangle(x=10, y=5)"
   ]
  },
  {
   "cell_type": "markdown",
   "metadata": {},
   "source": [
    "### Use the class"
   ]
  },
  {
   "cell_type": "code",
   "execution_count": 4,
   "metadata": {},
   "outputs": [
    {
     "data": {
      "text/plain": [
       "50"
      ]
     },
     "execution_count": 4,
     "metadata": {},
     "output_type": "execute_result"
    }
   ],
   "source": [
    "rect.area()"
   ]
  },
  {
   "cell_type": "code",
   "execution_count": 47,
   "metadata": {},
   "outputs": [
    {
     "data": {
      "text/plain": [
       "30"
      ]
     },
     "execution_count": 47,
     "metadata": {},
     "output_type": "execute_result"
    }
   ],
   "source": [
    "rect.perimeter()"
   ]
  },
  {
   "cell_type": "code",
   "execution_count": 9,
   "metadata": {},
   "outputs": [],
   "source": [
    "rect.scale(2)"
   ]
  },
  {
   "cell_type": "code",
   "execution_count": 10,
   "metadata": {},
   "outputs": [
    {
     "data": {
      "text/plain": [
       "3200"
      ]
     },
     "execution_count": 10,
     "metadata": {},
     "output_type": "execute_result"
    }
   ],
   "source": [
    "rect.area()"
   ]
  },
  {
   "cell_type": "code",
   "execution_count": 11,
   "metadata": {},
   "outputs": [
    {
     "data": {
      "text/plain": [
       "240"
      ]
     },
     "execution_count": 11,
     "metadata": {},
     "output_type": "execute_result"
    }
   ],
   "source": [
    "rect.perimeter()"
   ]
  },
  {
   "cell_type": "markdown",
   "metadata": {},
   "source": [
    "## You have used objects before\n",
    "\n",
    "- Everything in Python is an object\n",
    "    - integers\n",
    "    - floats\n",
    "    - strings\n",
    "    - DataFrames\n",
    "    - ...\n",
    "    \n",
    "- Statsmodels is a object oriented library for statistics and econometrics\n",
    "- here the model classes bundle information on the model specification, datasets and methods for estimation and inference."
   ]
  },
  {
   "cell_type": "code",
   "execution_count": 12,
   "metadata": {},
   "outputs": [
    {
     "data": {
      "text/html": [
       "<table class=\"simpletable\">\n",
       "<caption>OLS Regression Results</caption>\n",
       "<tr>\n",
       "  <th>Dep. Variable:</th>         <td>Lottery</td>     <th>  R-squared:         </th> <td>   0.348</td>\n",
       "</tr>\n",
       "<tr>\n",
       "  <th>Model:</th>                   <td>OLS</td>       <th>  Adj. R-squared:    </th> <td>   0.333</td>\n",
       "</tr>\n",
       "<tr>\n",
       "  <th>Method:</th>             <td>Least Squares</td>  <th>  F-statistic:       </th> <td>   22.20</td>\n",
       "</tr>\n",
       "<tr>\n",
       "  <th>Date:</th>             <td>Wed, 20 Mar 2019</td> <th>  Prob (F-statistic):</th> <td>1.90e-08</td>\n",
       "</tr>\n",
       "<tr>\n",
       "  <th>Time:</th>                 <td>19:39:26</td>     <th>  Log-Likelihood:    </th> <td> -379.82</td>\n",
       "</tr>\n",
       "<tr>\n",
       "  <th>No. Observations:</th>      <td>    86</td>      <th>  AIC:               </th> <td>   765.6</td>\n",
       "</tr>\n",
       "<tr>\n",
       "  <th>Df Residuals:</th>          <td>    83</td>      <th>  BIC:               </th> <td>   773.0</td>\n",
       "</tr>\n",
       "<tr>\n",
       "  <th>Df Model:</th>              <td>     2</td>      <th>                     </th>     <td> </td>   \n",
       "</tr>\n",
       "<tr>\n",
       "  <th>Covariance Type:</th>      <td>nonrobust</td>    <th>                     </th>     <td> </td>   \n",
       "</tr>\n",
       "</table>\n",
       "<table class=\"simpletable\">\n",
       "<tr>\n",
       "         <td></td>            <th>coef</th>     <th>std err</th>      <th>t</th>      <th>P>|t|</th>  <th>[0.025</th>    <th>0.975]</th>  \n",
       "</tr>\n",
       "<tr>\n",
       "  <th>Intercept</th>       <td>  246.4341</td> <td>   35.233</td> <td>    6.995</td> <td> 0.000</td> <td>  176.358</td> <td>  316.510</td>\n",
       "</tr>\n",
       "<tr>\n",
       "  <th>Literacy</th>        <td>   -0.4889</td> <td>    0.128</td> <td>   -3.832</td> <td> 0.000</td> <td>   -0.743</td> <td>   -0.235</td>\n",
       "</tr>\n",
       "<tr>\n",
       "  <th>np.log(Pop1831)</th> <td>  -31.3114</td> <td>    5.977</td> <td>   -5.239</td> <td> 0.000</td> <td>  -43.199</td> <td>  -19.424</td>\n",
       "</tr>\n",
       "</table>\n",
       "<table class=\"simpletable\">\n",
       "<tr>\n",
       "  <th>Omnibus:</th>       <td> 3.713</td> <th>  Durbin-Watson:     </th> <td>   2.019</td>\n",
       "</tr>\n",
       "<tr>\n",
       "  <th>Prob(Omnibus):</th> <td> 0.156</td> <th>  Jarque-Bera (JB):  </th> <td>   3.394</td>\n",
       "</tr>\n",
       "<tr>\n",
       "  <th>Skew:</th>          <td>-0.487</td> <th>  Prob(JB):          </th> <td>   0.183</td>\n",
       "</tr>\n",
       "<tr>\n",
       "  <th>Kurtosis:</th>      <td> 3.003</td> <th>  Cond. No.          </th> <td>    702.</td>\n",
       "</tr>\n",
       "</table><br/><br/>Warnings:<br/>[1] Standard Errors assume that the covariance matrix of the errors is correctly specified."
      ],
      "text/plain": [
       "<class 'statsmodels.iolib.summary.Summary'>\n",
       "\"\"\"\n",
       "                            OLS Regression Results                            \n",
       "==============================================================================\n",
       "Dep. Variable:                Lottery   R-squared:                       0.348\n",
       "Model:                            OLS   Adj. R-squared:                  0.333\n",
       "Method:                 Least Squares   F-statistic:                     22.20\n",
       "Date:                Wed, 20 Mar 2019   Prob (F-statistic):           1.90e-08\n",
       "Time:                        19:39:26   Log-Likelihood:                -379.82\n",
       "No. Observations:                  86   AIC:                             765.6\n",
       "Df Residuals:                      83   BIC:                             773.0\n",
       "Df Model:                           2                                         \n",
       "Covariance Type:            nonrobust                                         \n",
       "===================================================================================\n",
       "                      coef    std err          t      P>|t|      [0.025      0.975]\n",
       "-----------------------------------------------------------------------------------\n",
       "Intercept         246.4341     35.233      6.995      0.000     176.358     316.510\n",
       "Literacy           -0.4889      0.128     -3.832      0.000      -0.743      -0.235\n",
       "np.log(Pop1831)   -31.3114      5.977     -5.239      0.000     -43.199     -19.424\n",
       "==============================================================================\n",
       "Omnibus:                        3.713   Durbin-Watson:                   2.019\n",
       "Prob(Omnibus):                  0.156   Jarque-Bera (JB):                3.394\n",
       "Skew:                          -0.487   Prob(JB):                        0.183\n",
       "Kurtosis:                       3.003   Cond. No.                         702.\n",
       "==============================================================================\n",
       "\n",
       "Warnings:\n",
       "[1] Standard Errors assume that the covariance matrix of the errors is correctly specified.\n",
       "\"\"\""
      ]
     },
     "execution_count": 12,
     "metadata": {},
     "output_type": "execute_result"
    }
   ],
   "source": [
    "import statsmodels.api as sm\n",
    "import statsmodels.formula.api as smf\n",
    "\n",
    "dat = sm.datasets.get_rdataset(\"Guerry\", \"HistData\").data\n",
    "model = sm.OLS.from_formula('Lottery ~ Literacy + np.log(Pop1831)', data=dat)\n",
    "results = model.fit()\n",
    "\n",
    "results.summary()"
   ]
  },
  {
   "cell_type": "markdown",
   "metadata": {},
   "source": [
    "# Discussion\n",
    "\n",
    "The main advantage of a Rectangle class is that we can bundle data and code that works with the data. While this sounds very reasonable, I have some concerns:\n",
    "\n",
    "- Is it really so intuitive to bundle code and data?\n",
    "    - For me a rectangle is just a thing with two sides and not a thing with two sides that can calculate its area and perimeter and rescale itself.\n",
    "    - Similar problems exist in real examples: E.g. Statsmodels\n",
    "    \n",
    "- In real examples, bundles often get too big (god-classes)\n",
    "    - E.g. Statsmodels\n",
    "- The scale method changes the state of the rectangle without creating a new instance\n",
    "    - This invites bugs\n",
    "\n",
    "Here is an alternative implementation"
   ]
  },
  {
   "cell_type": "code",
   "execution_count": 85,
   "metadata": {},
   "outputs": [],
   "source": [
    "from collections import namedtuple\n",
    "\n",
    "Rectangle = namedtuple('Rectangle', ['x', 'y'])\n",
    "\n",
    "\n",
    "def area(rectangle):\n",
    "    return rectangle.x * rectangle.y\n",
    "\n",
    "\n",
    "def perimeter(rectangle):\n",
    "    return 2 * (rectangle.x + rectangle.y)\n",
    "\n",
    "\n",
    "def scale(rectangle, factor):\n",
    "    new_rect = Rectangle(x=rectangle.x * factor, y=rectangle.y * factor)\n",
    "    return new_rect"
   ]
  },
  {
   "cell_type": "code",
   "execution_count": 86,
   "metadata": {},
   "outputs": [
    {
     "data": {
      "text/plain": [
       "50"
      ]
     },
     "execution_count": 86,
     "metadata": {},
     "output_type": "execute_result"
    }
   ],
   "source": [
    "rect = Rectangle(10, 5)\n",
    "\n",
    "area(rect)"
   ]
  },
  {
   "cell_type": "code",
   "execution_count": 87,
   "metadata": {},
   "outputs": [
    {
     "data": {
      "text/plain": [
       "30"
      ]
     },
     "execution_count": 87,
     "metadata": {},
     "output_type": "execute_result"
    }
   ],
   "source": [
    "perimeter(rect)"
   ]
  },
  {
   "cell_type": "code",
   "execution_count": 88,
   "metadata": {},
   "outputs": [],
   "source": [
    "big_rect = scale(rect, 100)"
   ]
  },
  {
   "cell_type": "markdown",
   "metadata": {},
   "source": [
    "- The new Rectangle is immutable\n",
    "- Each function has a clear interface (only if there were more arguments)\n",
    "- It would be easy to split the functions into different modules (only relevant in bigger examples)"
   ]
  },
  {
   "cell_type": "markdown",
   "metadata": {},
   "source": [
    "# Inheritance\n",
    "\n",
    "The previous example was just to show you how the mechanics of defining, instantiating and using a class work. I would not yet call that object oriented programming. Now we extend the example slightly:\n",
    "\n",
    "Let's first define a very abstract Shape class, that doesn't do anything but tells us how a shape should look like"
   ]
  },
  {
   "cell_type": "code",
   "execution_count": 15,
   "metadata": {},
   "outputs": [],
   "source": [
    "class Shape:\n",
    "    def __init__(self):\n",
    "        pass\n",
    "    \n",
    "    def area(self):\n",
    "        raise NotImplementedError(\n",
    "            'area has to be defined by the subclass.')\n",
    "        \n",
    "    def perimeter(self):\n",
    "        raise NotImplementedError(\n",
    "            'perimeter has to be defined by the subclass.')\n",
    "        \n",
    "    def scale(self, factor):\n",
    "        raise NotImplementedError(\n",
    "            'scale has to be defined by the subclass.')\n",
    "        "
   ]
  },
  {
   "cell_type": "markdown",
   "metadata": {},
   "source": [
    "Now we can actually define a rectangle, as subclass of a shape"
   ]
  },
  {
   "cell_type": "code",
   "execution_count": 16,
   "metadata": {},
   "outputs": [],
   "source": [
    "class Rectangle(Shape):\n",
    "    def __init__(self, x, y):\n",
    "        self.x = x\n",
    "        self.y = y\n",
    "        \n",
    "    def area(self):\n",
    "        return self.x * self.y\n",
    "    \n",
    "    def perimeter(self):\n",
    "        return 2 * (self.x + self.y)"
   ]
  },
  {
   "cell_type": "code",
   "execution_count": 17,
   "metadata": {},
   "outputs": [
    {
     "ename": "NotImplementedError",
     "evalue": "scale has to be defined by the subclass.",
     "output_type": "error",
     "traceback": [
      "\u001b[0;31m---------------------------------------------------------------------------\u001b[0m",
      "\u001b[0;31mNotImplementedError\u001b[0m                       Traceback (most recent call last)",
      "\u001b[0;32m<ipython-input-17-137c0ba5c233>\u001b[0m in \u001b[0;36m<module>\u001b[0;34m\u001b[0m\n\u001b[1;32m      1\u001b[0m \u001b[0mrect\u001b[0m \u001b[0;34m=\u001b[0m \u001b[0mRectangle\u001b[0m\u001b[0;34m(\u001b[0m\u001b[0;36m10\u001b[0m\u001b[0;34m,\u001b[0m \u001b[0;36m2\u001b[0m\u001b[0;34m)\u001b[0m\u001b[0;34m\u001b[0m\u001b[0;34m\u001b[0m\u001b[0m\n\u001b[0;32m----> 2\u001b[0;31m \u001b[0mrect\u001b[0m\u001b[0;34m.\u001b[0m\u001b[0mscale\u001b[0m\u001b[0;34m(\u001b[0m\u001b[0;36m5\u001b[0m\u001b[0;34m)\u001b[0m\u001b[0;34m\u001b[0m\u001b[0;34m\u001b[0m\u001b[0m\n\u001b[0m",
      "\u001b[0;32m<ipython-input-15-cb12fb4ecd1d>\u001b[0m in \u001b[0;36mscale\u001b[0;34m(self, factor)\u001b[0m\n\u001b[1;32m     13\u001b[0m     \u001b[0;32mdef\u001b[0m \u001b[0mscale\u001b[0m\u001b[0;34m(\u001b[0m\u001b[0mself\u001b[0m\u001b[0;34m,\u001b[0m \u001b[0mfactor\u001b[0m\u001b[0;34m)\u001b[0m\u001b[0;34m:\u001b[0m\u001b[0;34m\u001b[0m\u001b[0;34m\u001b[0m\u001b[0m\n\u001b[1;32m     14\u001b[0m         raise NotImplementedError(\n\u001b[0;32m---> 15\u001b[0;31m             'scale has to be defined by the subclass.')\n\u001b[0m\u001b[1;32m     16\u001b[0m \u001b[0;34m\u001b[0m\u001b[0m\n",
      "\u001b[0;31mNotImplementedError\u001b[0m: scale has to be defined by the subclass."
     ]
    }
   ],
   "source": [
    "rect = Rectangle(10, 2)\n",
    "rect.scale(5)"
   ]
  },
  {
   "cell_type": "code",
   "execution_count": 18,
   "metadata": {},
   "outputs": [],
   "source": [
    "class Rectangle(Shape):\n",
    "    def __init__(self, x, y):\n",
    "        self.x = x\n",
    "        self.y = y\n",
    "        \n",
    "    def area(self):\n",
    "        return self.x * self.y\n",
    "    \n",
    "    def perimeter(self):\n",
    "        return 2 * (self.x + self.y)\n",
    "    \n",
    "    def scale(self, factor):\n",
    "        self.x *= factor\n",
    "        self.y *= factor"
   ]
  },
  {
   "cell_type": "markdown",
   "metadata": {},
   "source": [
    "The real strength of object oriented code is to avoid code duplication by inheritance"
   ]
  },
  {
   "cell_type": "code",
   "execution_count": 19,
   "metadata": {},
   "outputs": [],
   "source": [
    "class Square(Rectangle):\n",
    "    def __init__(self, x):\n",
    "        super().__init__(x, x)\n",
    "        "
   ]
  },
  {
   "cell_type": "code",
   "execution_count": 20,
   "metadata": {},
   "outputs": [],
   "source": [
    "sq = Square(5)"
   ]
  },
  {
   "cell_type": "code",
   "execution_count": 21,
   "metadata": {},
   "outputs": [
    {
     "data": {
      "text/plain": [
       "25"
      ]
     },
     "execution_count": 21,
     "metadata": {},
     "output_type": "execute_result"
    }
   ],
   "source": [
    "sq.area()"
   ]
  },
  {
   "cell_type": "code",
   "execution_count": 22,
   "metadata": {},
   "outputs": [
    {
     "data": {
      "text/plain": [
       "20"
      ]
     },
     "execution_count": 22,
     "metadata": {},
     "output_type": "execute_result"
    }
   ],
   "source": [
    "sq.perimeter()"
   ]
  },
  {
   "cell_type": "markdown",
   "metadata": {},
   "source": [
    "# Discussion\n",
    "\n",
    "\n",
    "- The advantage of subclassing shape is mainly that we get a good error message when we forget to implement something that should be part of any class that defines a shape. \n",
    "- But this is a very expensive form of documentation / testing because the documentation or test code is part of the real code and could introduce bugs!\n",
    "- Also, you can go too far with abstract classes:\n",
    "\n",
    "![](https://i.redd.it/rj8raf1riyny.png)\n",
    "\n",
    "- Inheritance can be a powerful tool to reduce code duplication\n",
    "- The above example is very unrealistic. Why do we even need to implement  special case for a square? In less contrived examples, inheritance also becomes more difficult\n",
    "- Multiple inheritance is a nightmare to debug!\n",
    "- Personal experience: When I tried to inherit methods from statsmodels.GenericLikelihoodModel in my skillmodels package, I ended up writing overwriting most of the methods in the subclass because they would not work out of the box.\n",
    "- Let's look at the [Statsmodels source code](https://github.com/statsmodels/statsmodels/blob/master/statsmodels/base/model.py) just so you see a non-trivial example of object oriented code"
   ]
  },
  {
   "cell_type": "markdown",
   "metadata": {},
   "source": [
    "# Use classes to harmonize interfaces"
   ]
  },
  {
   "cell_type": "code",
   "execution_count": 23,
   "metadata": {},
   "outputs": [],
   "source": [
    "class Circle(Shape):\n",
    "    def __init__(self, r):\n",
    "        self.r = r\n",
    "        \n",
    "    def area(self):\n",
    "        return np.pi * self.r ** 2\n",
    "    \n",
    "    \n",
    "    def perimeter(self):\n",
    "        return 2 * np.pi * self.r\n",
    "    \n",
    "    def scale(self, factor):\n",
    "        self.r *= factor"
   ]
  },
  {
   "cell_type": "code",
   "execution_count": 24,
   "metadata": {},
   "outputs": [],
   "source": [
    "ci = Circle(5)"
   ]
  },
  {
   "cell_type": "code",
   "execution_count": 25,
   "metadata": {},
   "outputs": [
    {
     "data": {
      "text/plain": [
       "78.53981633974483"
      ]
     },
     "execution_count": 25,
     "metadata": {},
     "output_type": "execute_result"
    }
   ],
   "source": [
    "ci.area()"
   ]
  },
  {
   "cell_type": "code",
   "execution_count": 26,
   "metadata": {},
   "outputs": [
    {
     "data": {
      "text/plain": [
       "31.41592653589793"
      ]
     },
     "execution_count": 26,
     "metadata": {},
     "output_type": "execute_result"
    }
   ],
   "source": [
    "ci.perimeter()"
   ]
  },
  {
   "cell_type": "markdown",
   "metadata": {},
   "source": [
    "# Discussion\n",
    "\n",
    "- Circles, Squares and Rectangles have a very similar interface\n",
    "- Using classes to harmonize interfaces can make code much more readable!\n",
    "- There are (imperfect) substitutes without classes:\n",
    "    - multiple dispatch\n",
    "    - we could write two modules: circle_funcs and rectangle_funcs"
   ]
  },
  {
   "cell_type": "markdown",
   "metadata": {},
   "source": [
    "# Use classes to avoid long lists of arguments\n",
    "\n",
    "\n",
    "Remember the Kalman filters from the programming course:"
   ]
  },
  {
   "cell_type": "code",
   "execution_count": 93,
   "metadata": {},
   "outputs": [],
   "source": [
    "def predict(state, root_cov, params, shock_sds, kappa):\n",
    "    \"\"\"Predict *state* in next period and adjust *root_cov*.\n",
    "\n",
    "    Args:\n",
    "        state (pd.Series): period t estimate of the unobserved state vector\n",
    "        root_cov (pd.DataFrame): lower triangular matrix square-root of the\n",
    "            covariance matrix of the state vector in period t\n",
    "        params (dict): keys are the names of the states (latent\n",
    "            factors), values are series with parameters for the transition\n",
    "            equation of that state.\n",
    "        shock_sds (pd.Series): standard deviations of the shocks\n",
    "        kappa (float): scaling parameter for the unscented predict\n",
    "\n",
    "    Returns:\n",
    "        predicted_state (pd.Series)\n",
    "        predicted_root_cov (pd.DataFrame)\n",
    "\n",
    "    \"\"\"\n",
    "    pass\n",
    "\n",
    "\n",
    "def update(state, root_cov, measurement, loadings, meas_var):\n",
    "    \"\"\"Update *state* and *root_cov with* with a *measurement*.\n",
    "\n",
    "    Args:\n",
    "        state (pd.Series): pre-update estimate of the unobserved state vector\n",
    "        root_cov (pd.DataFrame): lower triangular matrix square-root of the\n",
    "            covariance matrix of the state vector before the update\n",
    "        measurement (float): the measurement to incorporate\n",
    "        loadings (pd.Series): the factor loadings\n",
    "\n",
    "    Returns:\n",
    "        updated_state (pd.Series)\n",
    "        updated_root_cov (pd.Series)\n",
    "\n",
    "    \"\"\"\n",
    "    pass\n",
    "    "
   ]
  },
  {
   "cell_type": "markdown",
   "metadata": {},
   "source": [
    "We could define a class that has most of the arguments as attributes and only some left as arguments. Example:"
   ]
  },
  {
   "cell_type": "code",
   "execution_count": 94,
   "metadata": {},
   "outputs": [],
   "source": [
    "class KalmanFilter:\n",
    "    def __init__(\n",
    "        self,\n",
    "        state, \n",
    "        root_cov, \n",
    "        params, \n",
    "        shock_sds, \n",
    "        kappa, \n",
    "        loadings, \n",
    "        meas_var\n",
    "    ):\n",
    "        self.state = state\n",
    "        self.root_cov = root_cov\n",
    "        self.params = params\n",
    "        self.shock_sds = shock_sds\n",
    "        self.kappa = kappa\n",
    "        self.loadings = loadings\n",
    "        self.meas_var = meas_var\n",
    "        \n",
    "    def update(self, measurement):\n",
    "        pass\n",
    "    \n",
    "    def predict(self):\n",
    "        pass"
   ]
  },
  {
   "cell_type": "markdown",
   "metadata": {},
   "source": [
    "# Discussion\n",
    "\n",
    "- This only moves the problem to the instatiation of the class\n",
    "- Now there are no helpful function signatures that show how information flows through the code\n",
    "\n",
    "### Alternative 1: functools partial"
   ]
  },
  {
   "cell_type": "code",
   "execution_count": 27,
   "metadata": {},
   "outputs": [
    {
     "name": "stdout",
     "output_type": "stream",
     "text": [
      "14\n"
     ]
    }
   ],
   "source": [
    "from functools import partial\n",
    "\n",
    "def some_func(x, y, z):\n",
    "    print(x + y + z)\n",
    "    \n",
    "new_func = partial(some_func, x=5, y=6)\n",
    "\n",
    "new_func(z=3)\n"
   ]
  },
  {
   "cell_type": "markdown",
   "metadata": {},
   "source": [
    "functools partial could be used to:\n",
    "\n",
    "- get an update function that only has the arguments state, root_cov and measurement\n",
    "- a predict function that only has the arguments state and root_cov\n",
    "\n",
    "This preserves interfaces that document the flow of information, but gets rid of the constant parameters\n",
    "\n",
    "### Alternative 2: bundle some of the arguments\n",
    "\n",
    "for example we could define a namedtuple with all fixed parameters (params, shock_sds, kappa, loadings and meas_var) and then re-define the interfaces:"
   ]
  },
  {
   "cell_type": "code",
   "execution_count": 70,
   "metadata": {},
   "outputs": [],
   "source": [
    "def predict(state, root_cov, fixed_params):\n",
    "    pass\n",
    "\n",
    "\n",
    "def update(state, root_cov, measurement, fixed_params):\n",
    "    pass"
   ]
  },
  {
   "cell_type": "markdown",
   "metadata": {},
   "source": [
    "# Summary\n",
    "\n",
    "- There are many advantages of object orientation\n",
    "    - bundling of data and code\n",
    "    - inheritance\n",
    "    - harmonized interfaces\n",
    "    - shortend argument list\n",
    "- My main problem with classes object oriented code are:\n",
    "    - By using mutable objects and methods with side effects, programs have a lot of state\n",
    "    - Classes often become too large\n",
    "    - Class methods often don't have good signatures that show the flow of information in the code\n",
    "    - Multiple inheritance is hard to debug\n",
    "- Often, the alternatives are similarly or more readable and scale better when the programs become larger"
   ]
  },
  {
   "cell_type": "code",
   "execution_count": null,
   "metadata": {},
   "outputs": [],
   "source": []
  }
 ],
 "metadata": {
  "kernelspec": {
   "display_name": "Python 3",
   "language": "python",
   "name": "python3"
  },
  "language_info": {
   "codemirror_mode": {
    "name": "ipython",
    "version": 3
   },
   "file_extension": ".py",
   "mimetype": "text/x-python",
   "name": "python",
   "nbconvert_exporter": "python",
   "pygments_lexer": "ipython3",
   "version": "3.6.7"
  }
 },
 "nbformat": 4,
 "nbformat_minor": 2
}
