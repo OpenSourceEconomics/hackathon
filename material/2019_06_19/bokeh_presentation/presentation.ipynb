{
 "cells": [
  {
   "cell_type": "markdown",
   "metadata": {},
   "source": [
    "# Interactive Plots with Bokeh\n",
    "\n",
    "## Motivation\n",
    "\n",
    "When doing research we often try many specifications ...\n",
    "\n",
    "However, it's extremely difficult to recognize patterns by staring at large regression tables!\n",
    "\n",
    "## What we'll build today: A plot to compare estimation results\n",
    "\n",
    "- Plots should be designed to answer questions\n",
    "- While answering one question, no information that is not relevant to that question should be displayed.\n",
    "- Interactive plots can display and hide information as needed as we explore the data!\n",
    "\n",
    "### The questions our plot will be able to answer:\n",
    "\n",
    "1. Are parameters different across models?\n",
    "2. Is the difference relevant in comparison to standard errors?\n",
    "3. Are some models responsible for all outliers? \n",
    "4. Are there other patterns across models?\n",
    "5. Are there patterns across classes of models?\n",
    "\n",
    "**Credits:**\n",
    "\n",
    "- Janos for the idea\n",
    "- Laura for a basic version"
   ]
  },
  {
   "cell_type": "code",
   "execution_count": null,
   "metadata": {},
   "outputs": [],
   "source": []
  },
  {
   "cell_type": "code",
   "execution_count": 1,
   "metadata": {},
   "outputs": [],
   "source": [
    "from comparison_plot import comparison_plot"
   ]
  },
  {
   "cell_type": "code",
   "execution_count": 2,
   "metadata": {
    "scrolled": true
   },
   "outputs": [
    {
     "data": {
      "text/html": [
       "\n",
       "    <div class=\"bk-root\">\n",
       "        <a href=\"https://bokeh.pydata.org\" target=\"_blank\" class=\"bk-logo bk-logo-small bk-logo-notebook\"></a>\n",
       "        <span id=\"1001\">Loading BokehJS ...</span>\n",
       "    </div>"
      ]
     },
     "metadata": {},
     "output_type": "display_data"
    },
    {
     "data": {
      "application/javascript": [
       "\n",
       "(function(root) {\n",
       "  function now() {\n",
       "    return new Date();\n",
       "  }\n",
       "\n",
       "  var force = true;\n",
       "\n",
       "  if (typeof root._bokeh_onload_callbacks === \"undefined\" || force === true) {\n",
       "    root._bokeh_onload_callbacks = [];\n",
       "    root._bokeh_is_loading = undefined;\n",
       "  }\n",
       "\n",
       "  var JS_MIME_TYPE = 'application/javascript';\n",
       "  var HTML_MIME_TYPE = 'text/html';\n",
       "  var EXEC_MIME_TYPE = 'application/vnd.bokehjs_exec.v0+json';\n",
       "  var CLASS_NAME = 'output_bokeh rendered_html';\n",
       "\n",
       "  /**\n",
       "   * Render data to the DOM node\n",
       "   */\n",
       "  function render(props, node) {\n",
       "    var script = document.createElement(\"script\");\n",
       "    node.appendChild(script);\n",
       "  }\n",
       "\n",
       "  /**\n",
       "   * Handle when an output is cleared or removed\n",
       "   */\n",
       "  function handleClearOutput(event, handle) {\n",
       "    var cell = handle.cell;\n",
       "\n",
       "    var id = cell.output_area._bokeh_element_id;\n",
       "    var server_id = cell.output_area._bokeh_server_id;\n",
       "    // Clean up Bokeh references\n",
       "    if (id != null && id in Bokeh.index) {\n",
       "      Bokeh.index[id].model.document.clear();\n",
       "      delete Bokeh.index[id];\n",
       "    }\n",
       "\n",
       "    if (server_id !== undefined) {\n",
       "      // Clean up Bokeh references\n",
       "      var cmd = \"from bokeh.io.state import curstate; print(curstate().uuid_to_server['\" + server_id + \"'].get_sessions()[0].document.roots[0]._id)\";\n",
       "      cell.notebook.kernel.execute(cmd, {\n",
       "        iopub: {\n",
       "          output: function(msg) {\n",
       "            var id = msg.content.text.trim();\n",
       "            if (id in Bokeh.index) {\n",
       "              Bokeh.index[id].model.document.clear();\n",
       "              delete Bokeh.index[id];\n",
       "            }\n",
       "          }\n",
       "        }\n",
       "      });\n",
       "      // Destroy server and session\n",
       "      var cmd = \"import bokeh.io.notebook as ion; ion.destroy_server('\" + server_id + \"')\";\n",
       "      cell.notebook.kernel.execute(cmd);\n",
       "    }\n",
       "  }\n",
       "\n",
       "  /**\n",
       "   * Handle when a new output is added\n",
       "   */\n",
       "  function handleAddOutput(event, handle) {\n",
       "    var output_area = handle.output_area;\n",
       "    var output = handle.output;\n",
       "\n",
       "    // limit handleAddOutput to display_data with EXEC_MIME_TYPE content only\n",
       "    if ((output.output_type != \"display_data\") || (!output.data.hasOwnProperty(EXEC_MIME_TYPE))) {\n",
       "      return\n",
       "    }\n",
       "\n",
       "    var toinsert = output_area.element.find(\".\" + CLASS_NAME.split(' ')[0]);\n",
       "\n",
       "    if (output.metadata[EXEC_MIME_TYPE][\"id\"] !== undefined) {\n",
       "      toinsert[toinsert.length - 1].firstChild.textContent = output.data[JS_MIME_TYPE];\n",
       "      // store reference to embed id on output_area\n",
       "      output_area._bokeh_element_id = output.metadata[EXEC_MIME_TYPE][\"id\"];\n",
       "    }\n",
       "    if (output.metadata[EXEC_MIME_TYPE][\"server_id\"] !== undefined) {\n",
       "      var bk_div = document.createElement(\"div\");\n",
       "      bk_div.innerHTML = output.data[HTML_MIME_TYPE];\n",
       "      var script_attrs = bk_div.children[0].attributes;\n",
       "      for (var i = 0; i < script_attrs.length; i++) {\n",
       "        toinsert[toinsert.length - 1].firstChild.setAttribute(script_attrs[i].name, script_attrs[i].value);\n",
       "      }\n",
       "      // store reference to server id on output_area\n",
       "      output_area._bokeh_server_id = output.metadata[EXEC_MIME_TYPE][\"server_id\"];\n",
       "    }\n",
       "  }\n",
       "\n",
       "  function register_renderer(events, OutputArea) {\n",
       "\n",
       "    function append_mime(data, metadata, element) {\n",
       "      // create a DOM node to render to\n",
       "      var toinsert = this.create_output_subarea(\n",
       "        metadata,\n",
       "        CLASS_NAME,\n",
       "        EXEC_MIME_TYPE\n",
       "      );\n",
       "      this.keyboard_manager.register_events(toinsert);\n",
       "      // Render to node\n",
       "      var props = {data: data, metadata: metadata[EXEC_MIME_TYPE]};\n",
       "      render(props, toinsert[toinsert.length - 1]);\n",
       "      element.append(toinsert);\n",
       "      return toinsert\n",
       "    }\n",
       "\n",
       "    /* Handle when an output is cleared or removed */\n",
       "    events.on('clear_output.CodeCell', handleClearOutput);\n",
       "    events.on('delete.Cell', handleClearOutput);\n",
       "\n",
       "    /* Handle when a new output is added */\n",
       "    events.on('output_added.OutputArea', handleAddOutput);\n",
       "\n",
       "    /**\n",
       "     * Register the mime type and append_mime function with output_area\n",
       "     */\n",
       "    OutputArea.prototype.register_mime_type(EXEC_MIME_TYPE, append_mime, {\n",
       "      /* Is output safe? */\n",
       "      safe: true,\n",
       "      /* Index of renderer in `output_area.display_order` */\n",
       "      index: 0\n",
       "    });\n",
       "  }\n",
       "\n",
       "  // register the mime type if in Jupyter Notebook environment and previously unregistered\n",
       "  if (root.Jupyter !== undefined) {\n",
       "    var events = require('base/js/events');\n",
       "    var OutputArea = require('notebook/js/outputarea').OutputArea;\n",
       "\n",
       "    if (OutputArea.prototype.mime_types().indexOf(EXEC_MIME_TYPE) == -1) {\n",
       "      register_renderer(events, OutputArea);\n",
       "    }\n",
       "  }\n",
       "\n",
       "  \n",
       "  if (typeof (root._bokeh_timeout) === \"undefined\" || force === true) {\n",
       "    root._bokeh_timeout = Date.now() + 5000;\n",
       "    root._bokeh_failed_load = false;\n",
       "  }\n",
       "\n",
       "  var NB_LOAD_WARNING = {'data': {'text/html':\n",
       "     \"<div style='background-color: #fdd'>\\n\"+\n",
       "     \"<p>\\n\"+\n",
       "     \"BokehJS does not appear to have successfully loaded. If loading BokehJS from CDN, this \\n\"+\n",
       "     \"may be due to a slow or bad network connection. Possible fixes:\\n\"+\n",
       "     \"</p>\\n\"+\n",
       "     \"<ul>\\n\"+\n",
       "     \"<li>re-rerun `output_notebook()` to attempt to load from CDN again, or</li>\\n\"+\n",
       "     \"<li>use INLINE resources instead, as so:</li>\\n\"+\n",
       "     \"</ul>\\n\"+\n",
       "     \"<code>\\n\"+\n",
       "     \"from bokeh.resources import INLINE\\n\"+\n",
       "     \"output_notebook(resources=INLINE)\\n\"+\n",
       "     \"</code>\\n\"+\n",
       "     \"</div>\"}};\n",
       "\n",
       "  function display_loaded() {\n",
       "    var el = document.getElementById(\"1001\");\n",
       "    if (el != null) {\n",
       "      el.textContent = \"BokehJS is loading...\";\n",
       "    }\n",
       "    if (root.Bokeh !== undefined) {\n",
       "      if (el != null) {\n",
       "        el.textContent = \"BokehJS \" + root.Bokeh.version + \" successfully loaded.\";\n",
       "      }\n",
       "    } else if (Date.now() < root._bokeh_timeout) {\n",
       "      setTimeout(display_loaded, 100)\n",
       "    }\n",
       "  }\n",
       "\n",
       "\n",
       "  function run_callbacks() {\n",
       "    try {\n",
       "      root._bokeh_onload_callbacks.forEach(function(callback) {\n",
       "        if (callback != null)\n",
       "          callback();\n",
       "      });\n",
       "    } finally {\n",
       "      delete root._bokeh_onload_callbacks\n",
       "    }\n",
       "    console.debug(\"Bokeh: all callbacks have finished\");\n",
       "  }\n",
       "\n",
       "  function load_libs(css_urls, js_urls, callback) {\n",
       "    if (css_urls == null) css_urls = [];\n",
       "    if (js_urls == null) js_urls = [];\n",
       "\n",
       "    root._bokeh_onload_callbacks.push(callback);\n",
       "    if (root._bokeh_is_loading > 0) {\n",
       "      console.debug(\"Bokeh: BokehJS is being loaded, scheduling callback at\", now());\n",
       "      return null;\n",
       "    }\n",
       "    if (js_urls == null || js_urls.length === 0) {\n",
       "      run_callbacks();\n",
       "      return null;\n",
       "    }\n",
       "    console.debug(\"Bokeh: BokehJS not loaded, scheduling load and callback at\", now());\n",
       "    root._bokeh_is_loading = css_urls.length + js_urls.length;\n",
       "\n",
       "    function on_load() {\n",
       "      root._bokeh_is_loading--;\n",
       "      if (root._bokeh_is_loading === 0) {\n",
       "        console.debug(\"Bokeh: all BokehJS libraries/stylesheets loaded\");\n",
       "        run_callbacks()\n",
       "      }\n",
       "    }\n",
       "\n",
       "    function on_error() {\n",
       "      console.error(\"failed to load \" + url);\n",
       "    }\n",
       "\n",
       "    for (var i = 0; i < css_urls.length; i++) {\n",
       "      var url = css_urls[i];\n",
       "      const element = document.createElement(\"link\");\n",
       "      element.onload = on_load;\n",
       "      element.onerror = on_error;\n",
       "      element.rel = \"stylesheet\";\n",
       "      element.type = \"text/css\";\n",
       "      element.href = url;\n",
       "      console.debug(\"Bokeh: injecting link tag for BokehJS stylesheet: \", url);\n",
       "      document.body.appendChild(element);\n",
       "    }\n",
       "\n",
       "    for (var i = 0; i < js_urls.length; i++) {\n",
       "      var url = js_urls[i];\n",
       "      var element = document.createElement('script');\n",
       "      element.onload = on_load;\n",
       "      element.onerror = on_error;\n",
       "      element.async = false;\n",
       "      element.src = url;\n",
       "      console.debug(\"Bokeh: injecting script tag for BokehJS library: \", url);\n",
       "      document.head.appendChild(element);\n",
       "    }\n",
       "  };var element = document.getElementById(\"1001\");\n",
       "  if (element == null) {\n",
       "    console.error(\"Bokeh: ERROR: autoload.js configured with elementid '1001' but no matching script tag was found. \")\n",
       "    return false;\n",
       "  }\n",
       "\n",
       "  function inject_raw_css(css) {\n",
       "    const element = document.createElement(\"style\");\n",
       "    element.appendChild(document.createTextNode(css));\n",
       "    document.body.appendChild(element);\n",
       "  }\n",
       "\n",
       "  var js_urls = [\"https://cdn.pydata.org/bokeh/release/bokeh-1.2.0.min.js\", \"https://cdn.pydata.org/bokeh/release/bokeh-widgets-1.2.0.min.js\", \"https://cdn.pydata.org/bokeh/release/bokeh-tables-1.2.0.min.js\", \"https://cdn.pydata.org/bokeh/release/bokeh-gl-1.2.0.min.js\"];\n",
       "  var css_urls = [\"https://cdn.pydata.org/bokeh/release/bokeh-1.2.0.min.css\", \"https://cdn.pydata.org/bokeh/release/bokeh-widgets-1.2.0.min.css\", \"https://cdn.pydata.org/bokeh/release/bokeh-tables-1.2.0.min.css\"];\n",
       "\n",
       "  var inline_js = [\n",
       "    function(Bokeh) {\n",
       "      Bokeh.set_log_level(\"info\");\n",
       "    },\n",
       "    \n",
       "    function(Bokeh) {\n",
       "      \n",
       "    },\n",
       "    function(Bokeh) {} // ensure no trailing comma for IE\n",
       "  ];\n",
       "\n",
       "  function run_inline_js() {\n",
       "    \n",
       "    if ((root.Bokeh !== undefined) || (force === true)) {\n",
       "      for (var i = 0; i < inline_js.length; i++) {\n",
       "        inline_js[i].call(root, root.Bokeh);\n",
       "      }if (force === true) {\n",
       "        display_loaded();\n",
       "      }} else if (Date.now() < root._bokeh_timeout) {\n",
       "      setTimeout(run_inline_js, 100);\n",
       "    } else if (!root._bokeh_failed_load) {\n",
       "      console.log(\"Bokeh: BokehJS failed to load within specified timeout.\");\n",
       "      root._bokeh_failed_load = true;\n",
       "    } else if (force !== true) {\n",
       "      var cell = $(document.getElementById(\"1001\")).parents('.cell').data().cell;\n",
       "      cell.output_area.append_execute_result(NB_LOAD_WARNING)\n",
       "    }\n",
       "\n",
       "  }\n",
       "\n",
       "  if (root._bokeh_is_loading === 0) {\n",
       "    console.debug(\"Bokeh: BokehJS loaded, going straight to plotting\");\n",
       "    run_inline_js();\n",
       "  } else {\n",
       "    load_libs(css_urls, js_urls, function() {\n",
       "      console.debug(\"Bokeh: BokehJS plotting callback run at\", now());\n",
       "      run_inline_js();\n",
       "    });\n",
       "  }\n",
       "}(window));"
      ],
      "application/vnd.bokehjs_load.v0+json": "\n(function(root) {\n  function now() {\n    return new Date();\n  }\n\n  var force = true;\n\n  if (typeof root._bokeh_onload_callbacks === \"undefined\" || force === true) {\n    root._bokeh_onload_callbacks = [];\n    root._bokeh_is_loading = undefined;\n  }\n\n  \n\n  \n  if (typeof (root._bokeh_timeout) === \"undefined\" || force === true) {\n    root._bokeh_timeout = Date.now() + 5000;\n    root._bokeh_failed_load = false;\n  }\n\n  var NB_LOAD_WARNING = {'data': {'text/html':\n     \"<div style='background-color: #fdd'>\\n\"+\n     \"<p>\\n\"+\n     \"BokehJS does not appear to have successfully loaded. If loading BokehJS from CDN, this \\n\"+\n     \"may be due to a slow or bad network connection. Possible fixes:\\n\"+\n     \"</p>\\n\"+\n     \"<ul>\\n\"+\n     \"<li>re-rerun `output_notebook()` to attempt to load from CDN again, or</li>\\n\"+\n     \"<li>use INLINE resources instead, as so:</li>\\n\"+\n     \"</ul>\\n\"+\n     \"<code>\\n\"+\n     \"from bokeh.resources import INLINE\\n\"+\n     \"output_notebook(resources=INLINE)\\n\"+\n     \"</code>\\n\"+\n     \"</div>\"}};\n\n  function display_loaded() {\n    var el = document.getElementById(\"1001\");\n    if (el != null) {\n      el.textContent = \"BokehJS is loading...\";\n    }\n    if (root.Bokeh !== undefined) {\n      if (el != null) {\n        el.textContent = \"BokehJS \" + root.Bokeh.version + \" successfully loaded.\";\n      }\n    } else if (Date.now() < root._bokeh_timeout) {\n      setTimeout(display_loaded, 100)\n    }\n  }\n\n\n  function run_callbacks() {\n    try {\n      root._bokeh_onload_callbacks.forEach(function(callback) {\n        if (callback != null)\n          callback();\n      });\n    } finally {\n      delete root._bokeh_onload_callbacks\n    }\n    console.debug(\"Bokeh: all callbacks have finished\");\n  }\n\n  function load_libs(css_urls, js_urls, callback) {\n    if (css_urls == null) css_urls = [];\n    if (js_urls == null) js_urls = [];\n\n    root._bokeh_onload_callbacks.push(callback);\n    if (root._bokeh_is_loading > 0) {\n      console.debug(\"Bokeh: BokehJS is being loaded, scheduling callback at\", now());\n      return null;\n    }\n    if (js_urls == null || js_urls.length === 0) {\n      run_callbacks();\n      return null;\n    }\n    console.debug(\"Bokeh: BokehJS not loaded, scheduling load and callback at\", now());\n    root._bokeh_is_loading = css_urls.length + js_urls.length;\n\n    function on_load() {\n      root._bokeh_is_loading--;\n      if (root._bokeh_is_loading === 0) {\n        console.debug(\"Bokeh: all BokehJS libraries/stylesheets loaded\");\n        run_callbacks()\n      }\n    }\n\n    function on_error() {\n      console.error(\"failed to load \" + url);\n    }\n\n    for (var i = 0; i < css_urls.length; i++) {\n      var url = css_urls[i];\n      const element = document.createElement(\"link\");\n      element.onload = on_load;\n      element.onerror = on_error;\n      element.rel = \"stylesheet\";\n      element.type = \"text/css\";\n      element.href = url;\n      console.debug(\"Bokeh: injecting link tag for BokehJS stylesheet: \", url);\n      document.body.appendChild(element);\n    }\n\n    for (var i = 0; i < js_urls.length; i++) {\n      var url = js_urls[i];\n      var element = document.createElement('script');\n      element.onload = on_load;\n      element.onerror = on_error;\n      element.async = false;\n      element.src = url;\n      console.debug(\"Bokeh: injecting script tag for BokehJS library: \", url);\n      document.head.appendChild(element);\n    }\n  };var element = document.getElementById(\"1001\");\n  if (element == null) {\n    console.error(\"Bokeh: ERROR: autoload.js configured with elementid '1001' but no matching script tag was found. \")\n    return false;\n  }\n\n  function inject_raw_css(css) {\n    const element = document.createElement(\"style\");\n    element.appendChild(document.createTextNode(css));\n    document.body.appendChild(element);\n  }\n\n  var js_urls = [\"https://cdn.pydata.org/bokeh/release/bokeh-1.2.0.min.js\", \"https://cdn.pydata.org/bokeh/release/bokeh-widgets-1.2.0.min.js\", \"https://cdn.pydata.org/bokeh/release/bokeh-tables-1.2.0.min.js\", \"https://cdn.pydata.org/bokeh/release/bokeh-gl-1.2.0.min.js\"];\n  var css_urls = [\"https://cdn.pydata.org/bokeh/release/bokeh-1.2.0.min.css\", \"https://cdn.pydata.org/bokeh/release/bokeh-widgets-1.2.0.min.css\", \"https://cdn.pydata.org/bokeh/release/bokeh-tables-1.2.0.min.css\"];\n\n  var inline_js = [\n    function(Bokeh) {\n      Bokeh.set_log_level(\"info\");\n    },\n    \n    function(Bokeh) {\n      \n    },\n    function(Bokeh) {} // ensure no trailing comma for IE\n  ];\n\n  function run_inline_js() {\n    \n    if ((root.Bokeh !== undefined) || (force === true)) {\n      for (var i = 0; i < inline_js.length; i++) {\n        inline_js[i].call(root, root.Bokeh);\n      }if (force === true) {\n        display_loaded();\n      }} else if (Date.now() < root._bokeh_timeout) {\n      setTimeout(run_inline_js, 100);\n    } else if (!root._bokeh_failed_load) {\n      console.log(\"Bokeh: BokehJS failed to load within specified timeout.\");\n      root._bokeh_failed_load = true;\n    } else if (force !== true) {\n      var cell = $(document.getElementById(\"1001\")).parents('.cell').data().cell;\n      cell.output_area.append_execute_result(NB_LOAD_WARNING)\n    }\n\n  }\n\n  if (root._bokeh_is_loading === 0) {\n    console.debug(\"Bokeh: BokehJS loaded, going straight to plotting\");\n    run_inline_js();\n  } else {\n    load_libs(css_urls, js_urls, function() {\n      console.debug(\"Bokeh: BokehJS plotting callback run at\", now());\n      run_inline_js();\n    });\n  }\n}(window));"
     },
     "metadata": {},
     "output_type": "display_data"
    }
   ],
   "source": [
    "# matplotlib inline\n",
    "from bokeh.plotting import output_notebook\n",
    "output_notebook()"
   ]
  },
  {
   "cell_type": "code",
   "execution_count": 3,
   "metadata": {},
   "outputs": [
    {
     "data": {
      "text/html": [
       "\n",
       "\n",
       "\n",
       "\n",
       "\n",
       "\n",
       "  <div class=\"bk-root\" id=\"4be56c39-26cb-4b22-94a3-60924f86e31d\" data-root-id=\"1128\"></div>\n"
      ]
     },
     "metadata": {},
     "output_type": "display_data"
    },
    {
     "data": {
      "application/javascript": [
       "(function(root) {\n",
       "  function embed_document(root) {\n",
       "    \n",
       "  var docs_json = {\"99e28365-f6b4-4f72-b16f-719d33ee912e\":{\"roots\":{\"references\":[{\"attributes\":{\"children\":[{\"id\":\"1125\",\"type\":\"GridBox\"},{\"id\":\"1127\",\"type\":\"ToolbarBox\"}]},\"id\":\"1128\",\"type\":\"Row\"},{\"attributes\":{\"data_source\":{\"id\":\"1002\",\"type\":\"ColumnDataSource\"},\"glyph\":{\"id\":\"1096\",\"type\":\"HBar\"},\"hover_glyph\":null,\"muted_glyph\":null,\"nonselection_glyph\":{\"id\":\"1097\",\"type\":\"HBar\"},\"selection_glyph\":{\"id\":\"1098\",\"type\":\"HBar\"},\"view\":{\"id\":\"1100\",\"type\":\"CDSView\"}},\"id\":\"1099\",\"type\":\"GlyphRenderer\"},{\"attributes\":{\"source\":{\"id\":\"1002\",\"type\":\"ColumnDataSource\"}},\"id\":\"1100\",\"type\":\"CDSView\"},{\"attributes\":{},\"id\":\"1010\",\"type\":\"LinearScale\"},{\"attributes\":{\"bottom_units\":\"screen\",\"fill_alpha\":{\"value\":0.5},\"fill_color\":{\"value\":\"lightgrey\"},\"left_units\":\"screen\",\"level\":\"overlay\",\"line_alpha\":{\"value\":1.0},\"line_color\":{\"value\":\"black\"},\"line_dash\":[4,4],\"line_width\":{\"value\":2},\"render_mode\":\"css\",\"right_units\":\"screen\",\"top_units\":\"screen\"},\"id\":\"1112\",\"type\":\"BoxAnnotation\"},{\"attributes\":{},\"id\":\"1111\",\"type\":\"CategoricalTickFormatter\"},{\"attributes\":{\"callback\":null,\"end\":0.5337431453369277,\"start\":-0.08899757345246377},\"id\":\"1106\",\"type\":\"Range1d\"},{\"attributes\":{\"callback\":{\"id\":\"1103\",\"type\":\"CustomJS\"},\"renderers\":[{\"id\":\"1093\",\"type\":\"GlyphRenderer\"}]},\"id\":\"1104\",\"type\":\"TapTool\"},{\"attributes\":{\"callback\":null,\"renderers\":[{\"id\":\"1093\",\"type\":\"GlyphRenderer\"}],\"tooltips\":[[\"model\",\"@model\"],[\"full_name\",\"@full_name\"],[\"start_value\",\"@start_value\"],[\"final_value\",\"@final_value\"],[\"index\",\"@index\"],[\"conf_int_lower\",\"@conf_int_lower\"],[\"conf_int_upper\",\"@conf_int_upper\"]]},\"id\":\"1101\",\"type\":\"HoverTool\"},{\"attributes\":{\"fill_alpha\":{\"value\":0.7},\"fill_color\":{\"field\":\"color\"},\"height\":{\"value\":0.01},\"left\":{\"field\":\"conf_int_lower\"},\"line_alpha\":{\"value\":0.7},\"line_color\":{\"field\":\"color\"},\"right\":{\"field\":\"conf_int_upper\"},\"y\":{\"field\":\"full_name\",\"transform\":{\"id\":\"1088\",\"type\":\"Jitter\"}}},\"id\":\"1098\",\"type\":\"HBar\"},{\"attributes\":{},\"id\":\"1113\",\"type\":\"UnionRenderers\"},{\"attributes\":{\"below\":[{\"id\":\"1066\",\"type\":\"LinearAxis\"}],\"center\":[{\"id\":\"1070\",\"type\":\"Grid\"},{\"id\":\"1074\",\"type\":\"Grid\"}],\"left\":[{\"id\":\"1071\",\"type\":\"CategoricalAxis\"}],\"outline_line_color\":{\"value\":null},\"plot_height\":240,\"plot_width\":500,\"renderers\":[{\"id\":\"1093\",\"type\":\"GlyphRenderer\"},{\"id\":\"1099\",\"type\":\"GlyphRenderer\"}],\"title\":{\"id\":\"1056\",\"type\":\"Title\"},\"toolbar\":{\"id\":\"1081\",\"type\":\"Toolbar\"},\"toolbar_location\":null,\"x_range\":{\"id\":\"1106\",\"type\":\"Range1d\"},\"x_scale\":{\"id\":\"1062\",\"type\":\"LinearScale\"},\"y_range\":{\"id\":\"1060\",\"type\":\"FactorRange\"},\"y_scale\":{\"id\":\"1064\",\"type\":\"CategoricalScale\"}},\"id\":\"1055\",\"subtype\":\"Figure\",\"type\":\"Plot\"},{\"attributes\":{},\"id\":\"1114\",\"type\":\"Selection\"},{\"attributes\":{},\"id\":\"1118\",\"type\":\"BasicTickFormatter\"},{\"attributes\":{},\"id\":\"1120\",\"type\":\"CategoricalTickFormatter\"},{\"attributes\":{\"bottom_units\":\"screen\",\"fill_alpha\":{\"value\":0.5},\"fill_color\":{\"value\":\"lightgrey\"},\"left_units\":\"screen\",\"level\":\"overlay\",\"line_alpha\":{\"value\":1.0},\"line_color\":{\"value\":\"black\"},\"line_dash\":[4,4],\"line_width\":{\"value\":2},\"render_mode\":\"css\",\"right_units\":\"screen\",\"top_units\":\"screen\"},\"id\":\"1121\",\"type\":\"BoxAnnotation\"},{\"attributes\":{\"tools\":[{\"id\":\"1023\",\"type\":\"PanTool\"},{\"id\":\"1024\",\"type\":\"WheelZoomTool\"},{\"id\":\"1025\",\"type\":\"BoxZoomTool\"},{\"id\":\"1026\",\"type\":\"SaveTool\"},{\"id\":\"1027\",\"type\":\"ResetTool\"},{\"id\":\"1028\",\"type\":\"HelpTool\"},{\"id\":\"1049\",\"type\":\"HoverTool\"},{\"id\":\"1052\",\"type\":\"TapTool\"},{\"id\":\"1075\",\"type\":\"PanTool\"},{\"id\":\"1076\",\"type\":\"WheelZoomTool\"},{\"id\":\"1077\",\"type\":\"BoxZoomTool\"},{\"id\":\"1078\",\"type\":\"SaveTool\"},{\"id\":\"1079\",\"type\":\"ResetTool\"},{\"id\":\"1080\",\"type\":\"HelpTool\"},{\"id\":\"1101\",\"type\":\"HoverTool\"},{\"id\":\"1104\",\"type\":\"TapTool\"}]},\"id\":\"1126\",\"type\":\"ProxyToolbar\"},{\"attributes\":{\"toolbar\":{\"id\":\"1126\",\"type\":\"ProxyToolbar\"}},\"id\":\"1127\",\"type\":\"ToolbarBox\"},{\"attributes\":{\"formatter\":{\"id\":\"1109\",\"type\":\"BasicTickFormatter\"},\"ticker\":{\"id\":\"1015\",\"type\":\"BasicTicker\"}},\"id\":\"1014\",\"type\":\"LinearAxis\"},{\"attributes\":{\"args\":{\"source\":{\"id\":\"1002\",\"type\":\"ColumnDataSource\"}},\"code\":\"\\n    // adapted from https://stackoverflow.com/a/44996422\\n\\n    var chosen = source.selected.indices;\\n    if (typeof(chosen) == \\\"number\\\"){\\n        var chosen = [chosen]\\n    };\\n\\n    var chosen_models = [];\\n\\n    for (var i = 0; i < chosen.length; ++ i){\\n        chosen_models.push(source.data['model'][chosen[i]])\\n    };\\n\\n    var chosen_models_indices = [];\\n\\n    for (var i = 0; i < source.data['index'].length; ++ i){\\n        if (chosen_models.includes(source.data['model'][i])){\\n            chosen_models_indices.push(i)\\n        };\\n    };\\n\\n    source.selected.indices = chosen_models_indices;\\n    source.change.emit();\"},\"id\":\"1051\",\"type\":\"CustomJS\"},{\"attributes\":{},\"id\":\"1012\",\"type\":\"CategoricalScale\"},{\"attributes\":{\"callback\":null,\"factors\":[\"a_a2\",\"a_a1\",\"a_a0\"]},\"id\":\"1008\",\"type\":\"FactorRange\"},{\"attributes\":{\"callback\":{\"id\":\"1051\",\"type\":\"CustomJS\"},\"renderers\":[{\"id\":\"1041\",\"type\":\"GlyphRenderer\"}]},\"id\":\"1052\",\"type\":\"TapTool\"},{\"attributes\":{\"text\":\"Comparison Plot of B Parameters\"},\"id\":\"1056\",\"type\":\"Title\"},{\"attributes\":{},\"id\":\"1015\",\"type\":\"BasicTicker\"},{\"attributes\":{\"callback\":null,\"end\":0.5337431453369277,\"start\":-0.08899757345246377},\"id\":\"1054\",\"type\":\"Range1d\"},{\"attributes\":{\"fill_alpha\":{\"value\":0.5},\"fill_color\":{\"field\":\"color\"},\"line_alpha\":{\"value\":0.5},\"line_color\":{\"field\":\"color\"},\"marker\":{\"field\":\"marker\"},\"size\":{\"units\":\"screen\",\"value\":12},\"x\":{\"field\":\"final_value\"},\"y\":{\"field\":\"full_name\",\"transform\":{\"id\":\"1088\",\"type\":\"Jitter\"}}},\"id\":\"1090\",\"type\":\"Scatter\"},{\"attributes\":{\"text\":\"Comparison Plot of A Parameters\"},\"id\":\"1004\",\"type\":\"Title\"},{\"attributes\":{},\"id\":\"1109\",\"type\":\"BasicTickFormatter\"},{\"attributes\":{\"axis_line_color\":{\"value\":\"white\"},\"formatter\":{\"id\":\"1111\",\"type\":\"CategoricalTickFormatter\"},\"major_tick_line_color\":{\"value\":null},\"ticker\":{\"id\":\"1020\",\"type\":\"CategoricalTicker\"}},\"id\":\"1019\",\"type\":\"CategoricalAxis\"},{\"attributes\":{\"callback\":null,\"factors\":[\"b_b2\",\"b_b1\",\"b_b0\"]},\"id\":\"1060\",\"type\":\"FactorRange\"},{\"attributes\":{},\"id\":\"1062\",\"type\":\"LinearScale\"},{\"attributes\":{\"below\":[{\"id\":\"1014\",\"type\":\"LinearAxis\"}],\"center\":[{\"id\":\"1018\",\"type\":\"Grid\"},{\"id\":\"1022\",\"type\":\"Grid\"}],\"left\":[{\"id\":\"1019\",\"type\":\"CategoricalAxis\"}],\"outline_line_color\":{\"value\":null},\"plot_height\":240,\"plot_width\":500,\"renderers\":[{\"id\":\"1041\",\"type\":\"GlyphRenderer\"},{\"id\":\"1047\",\"type\":\"GlyphRenderer\"}],\"title\":{\"id\":\"1004\",\"type\":\"Title\"},\"toolbar\":{\"id\":\"1029\",\"type\":\"Toolbar\"},\"toolbar_location\":null,\"x_range\":{\"id\":\"1054\",\"type\":\"Range1d\"},\"x_scale\":{\"id\":\"1010\",\"type\":\"LinearScale\"},\"y_range\":{\"id\":\"1008\",\"type\":\"FactorRange\"},\"y_scale\":{\"id\":\"1012\",\"type\":\"CategoricalScale\"}},\"id\":\"1003\",\"subtype\":\"Figure\",\"type\":\"Plot\"},{\"attributes\":{},\"id\":\"1064\",\"type\":\"CategoricalScale\"},{\"attributes\":{\"grid_line_color\":null,\"ticker\":{\"id\":\"1015\",\"type\":\"BasicTicker\"}},\"id\":\"1018\",\"type\":\"Grid\"},{\"attributes\":{\"formatter\":{\"id\":\"1118\",\"type\":\"BasicTickFormatter\"},\"ticker\":{\"id\":\"1067\",\"type\":\"BasicTicker\"}},\"id\":\"1066\",\"type\":\"LinearAxis\"},{\"attributes\":{},\"id\":\"1020\",\"type\":\"CategoricalTicker\"},{\"attributes\":{\"dimension\":1,\"ticker\":{\"id\":\"1020\",\"type\":\"CategoricalTicker\"}},\"id\":\"1022\",\"type\":\"Grid\"},{\"attributes\":{},\"id\":\"1067\",\"type\":\"BasicTicker\"},{\"attributes\":{\"grid_line_color\":null,\"ticker\":{\"id\":\"1067\",\"type\":\"BasicTicker\"}},\"id\":\"1070\",\"type\":\"Grid\"},{\"attributes\":{\"axis_line_color\":{\"value\":\"white\"},\"formatter\":{\"id\":\"1120\",\"type\":\"CategoricalTickFormatter\"},\"major_tick_line_color\":{\"value\":null},\"ticker\":{\"id\":\"1072\",\"type\":\"CategoricalTicker\"}},\"id\":\"1071\",\"type\":\"CategoricalAxis\"},{\"attributes\":{\"args\":{\"source\":{\"id\":\"1002\",\"type\":\"ColumnDataSource\"}},\"code\":\"\\n    // adapted from https://stackoverflow.com/a/44996422\\n\\n    var chosen = source.selected.indices;\\n    if (typeof(chosen) == \\\"number\\\"){\\n        var chosen = [chosen]\\n    };\\n\\n    var chosen_models = [];\\n\\n    for (var i = 0; i < chosen.length; ++ i){\\n        chosen_models.push(source.data['model'][chosen[i]])\\n    };\\n\\n    var chosen_models_indices = [];\\n\\n    for (var i = 0; i < source.data['index'].length; ++ i){\\n        if (chosen_models.includes(source.data['model'][i])){\\n            chosen_models_indices.push(i)\\n        };\\n    };\\n\\n    source.selected.indices = chosen_models_indices;\\n    source.change.emit();\"},\"id\":\"1103\",\"type\":\"CustomJS\"},{\"attributes\":{},\"id\":\"1072\",\"type\":\"CategoricalTicker\"},{\"attributes\":{},\"id\":\"1023\",\"type\":\"PanTool\"},{\"attributes\":{\"dimension\":1,\"ticker\":{\"id\":\"1072\",\"type\":\"CategoricalTicker\"}},\"id\":\"1074\",\"type\":\"Grid\"},{\"attributes\":{},\"id\":\"1024\",\"type\":\"WheelZoomTool\"},{\"attributes\":{\"fill_alpha\":{\"value\":0.0},\"fill_color\":{\"field\":\"color\"},\"height\":{\"value\":0.01},\"left\":{\"field\":\"conf_int_lower\"},\"line_alpha\":{\"value\":0.0},\"line_color\":{\"field\":\"color\"},\"right\":{\"field\":\"conf_int_upper\"},\"y\":{\"field\":\"full_name\",\"transform\":{\"id\":\"1088\",\"type\":\"Jitter\"}}},\"id\":\"1097\",\"type\":\"HBar\"},{\"attributes\":{\"overlay\":{\"id\":\"1112\",\"type\":\"BoxAnnotation\"}},\"id\":\"1025\",\"type\":\"BoxZoomTool\"},{\"attributes\":{},\"id\":\"1026\",\"type\":\"SaveTool\"},{\"attributes\":{\"range\":{\"id\":\"1060\",\"type\":\"FactorRange\"},\"width\":0.6},\"id\":\"1088\",\"type\":\"Jitter\"},{\"attributes\":{\"fill_alpha\":{\"value\":0.3},\"fill_color\":{\"field\":\"color\"},\"line_alpha\":{\"value\":0.3},\"line_color\":{\"field\":\"color\"},\"marker\":{\"field\":\"marker\"},\"size\":{\"units\":\"screen\",\"value\":12},\"x\":{\"field\":\"final_value\"},\"y\":{\"field\":\"full_name\",\"transform\":{\"id\":\"1088\",\"type\":\"Jitter\"}}},\"id\":\"1091\",\"type\":\"Scatter\"},{\"attributes\":{},\"id\":\"1027\",\"type\":\"ResetTool\"},{\"attributes\":{},\"id\":\"1075\",\"type\":\"PanTool\"},{\"attributes\":{},\"id\":\"1028\",\"type\":\"HelpTool\"},{\"attributes\":{},\"id\":\"1076\",\"type\":\"WheelZoomTool\"},{\"attributes\":{\"active_drag\":\"auto\",\"active_inspect\":\"auto\",\"active_multi\":null,\"active_scroll\":\"auto\",\"active_tap\":\"auto\",\"tools\":[{\"id\":\"1023\",\"type\":\"PanTool\"},{\"id\":\"1024\",\"type\":\"WheelZoomTool\"},{\"id\":\"1025\",\"type\":\"BoxZoomTool\"},{\"id\":\"1026\",\"type\":\"SaveTool\"},{\"id\":\"1027\",\"type\":\"ResetTool\"},{\"id\":\"1028\",\"type\":\"HelpTool\"},{\"id\":\"1049\",\"type\":\"HoverTool\"},{\"id\":\"1052\",\"type\":\"TapTool\"}]},\"id\":\"1029\",\"type\":\"Toolbar\"},{\"attributes\":{\"overlay\":{\"id\":\"1121\",\"type\":\"BoxAnnotation\"}},\"id\":\"1077\",\"type\":\"BoxZoomTool\"},{\"attributes\":{\"fill_alpha\":{\"value\":0.5},\"fill_color\":{\"field\":\"color\"},\"line_alpha\":{\"value\":0.5},\"line_color\":{\"field\":\"color\"},\"marker\":{\"field\":\"marker\"},\"size\":{\"units\":\"screen\",\"value\":12},\"x\":{\"field\":\"final_value\"},\"y\":{\"field\":\"full_name\",\"transform\":{\"id\":\"1036\",\"type\":\"Jitter\"}}},\"id\":\"1038\",\"type\":\"Scatter\"},{\"attributes\":{},\"id\":\"1078\",\"type\":\"SaveTool\"},{\"attributes\":{},\"id\":\"1079\",\"type\":\"ResetTool\"},{\"attributes\":{\"fill_alpha\":{\"value\":0.3},\"fill_color\":{\"field\":\"color\"},\"line_alpha\":{\"value\":0.3},\"line_color\":{\"field\":\"color\"},\"marker\":{\"field\":\"marker\"},\"size\":{\"units\":\"screen\",\"value\":12},\"x\":{\"field\":\"final_value\"},\"y\":{\"field\":\"full_name\",\"transform\":{\"id\":\"1036\",\"type\":\"Jitter\"}}},\"id\":\"1039\",\"type\":\"Scatter\"},{\"attributes\":{\"fill_alpha\":{\"value\":0.7},\"fill_color\":{\"field\":\"color\"},\"line_alpha\":{\"value\":0.7},\"line_color\":{\"field\":\"color\"},\"marker\":{\"field\":\"marker\"},\"size\":{\"units\":\"screen\",\"value\":12},\"x\":{\"field\":\"final_value\"},\"y\":{\"field\":\"full_name\",\"transform\":{\"id\":\"1036\",\"type\":\"Jitter\"}}},\"id\":\"1040\",\"type\":\"Scatter\"},{\"attributes\":{},\"id\":\"1080\",\"type\":\"HelpTool\"},{\"attributes\":{\"callback\":null,\"data\":{\"color\":[\"#035096\",\"#035096\",\"#035096\",\"#035096\",\"#035096\",\"#035096\",\"#035096\",\"#035096\",\"#035096\",\"#035096\",\"#035096\",\"#035096\",\"#035096\",\"#035096\",\"#035096\",\"#035096\",\"#035096\",\"#035096\",\"#035096\",\"#035096\",\"#035096\",\"#035096\",\"#035096\",\"#035096\",\"#035096\",\"#035096\",\"#035096\",\"#035096\",\"#035096\",\"#035096\",\"#035096\",\"#035096\",\"#035096\",\"#035096\",\"#035096\",\"#035096\",\"#035096\",\"#035096\",\"#035096\",\"#035096\",\"#035096\",\"#035096\",\"#035096\",\"#035096\",\"#035096\",\"#035096\",\"#035096\",\"#035096\",\"#035096\",\"#035096\",\"#035096\",\"#035096\",\"#035096\",\"#035096\",\"#035096\",\"#035096\",\"#035096\",\"#035096\",\"#035096\",\"#035096\"],\"conf_int_lower\":{\"__ndarray__\":\"/oD0NO2Vl79PVP2rwxCTvxrEF7BHj6e/4djVoTFNpr+gb26EISmkv+NNLJVcAqC/TWH8Le56lb/2KASUmPKgv5xnz1oBzIa/upWsIYs3pr9A0VVzxARbv/YETiHqSKm/1ljTXfH3mD8BFDbspAGjvwqC5WGF+7e/WlkZ7/94mr9yVUjBfTqlP1oMQ4OvEKa/KP2xVv6qar9r8o/iCzWhv7RparOdX3m/Yt0bB7K0lr/d392M5fyhv6gic4OkCaG/m+oTBg/UrL+0Zk+vxneRvzskrhTNcKC/FjjLLTUspL94wPS1YbWVvxqYqEavAJS/H7nTxMPPuD/2SV3gC+miv9rscw6yU56/h2wXQXqZn79u322j0ZWuv7o1gnv+tpm/OR+Bb6wcsz+9UxeberahvwGFgPwh7tE/bALjiARJsr84JiL7/pnbPwwbCFfpO7W/7kZymSYenr9toJPxMFaivwmQOAHVoZO/EqhmUjqKqL/IdtNcqoKBvyJ2ZnL9o4K/R0iqUDktqb/GcTFP5/qovzCowChTCau/AE5fldZPn7/JK9ErmN2ovw9vXeCAiKC/8JoYSCVkeb8i15HuiF+jv2R5/Aplr56/p5RGg/zpnb+WbPKswc+fv/8L3BooZ6m/\",\"dtype\":\"float64\",\"shape\":[60]},\"conf_int_upper\":{\"__ndarray__\":\"VpVnl9NElD/WDoXVUfOUP0ipiz6k55U/qD24rL8spj8mRxkWeyudP1UbDyjQ4p8/HwCBSMnFkz+MLRDO4IeiP/WnAihDxKA/XjIGa8I4mT+AxI/fg5OsPyKO3Txc36E/sPAcryzTtT/IqzwPhuaFP//FN2H7ZaK/OK5BtVf+oj9qbbkuN3yxP6myW7X+HqE/A6rPTpBEpz9qHClZLdujPy7xFnIdl7A/wLFew+18jz8kPppvi1CkP9YQ0ofyS6E/ToO/Wwb0lj/C82WkNcKcP3s84mVjM5g/BiHxGxgXoj8TrizizjioPzy0S4V0VKI/EeIPqtdxwz8ER1HxPeefP0z+Hv6cZKQ/++9g6Qf5pz+QIul98p90vzMSNW+jH6A/eBJMy4oyxD9QhsZr7mKZP0wxvoAlYtQ/hjf9+Fidjr8AWHCTNkTgP9QVjIGCFpW/mn0qTFEUjD88k4CMQ/qEP1gZjmO6ipo/Xz2mlMJZoT8ocJ3aQV6hP7Lg+PghZpw/0AW1IkBdjD9kFRpm86mpP1BUkHOM0Zw/UFbtZmN+oD9gX0Xmfq59vzFukpoCdKI/RI65L2UisT9edtlaoTepP+hthRWso6A/9Ga67KHmlj8cx8gsupClPwVFi9+82ZY/\",\"dtype\":\"float64\",\"shape\":[60]},\"final_value\":{\"__ndarray__\":\"gEyBUUWiTz8AwO/4ck4ZvwAYH5d98Gq/AHCEkSSNNT+gAIHL85uBvwCgfmyaLEw/AEiVBeSRYL8AQL/u9ZAqPwD+IlezM30/AJSMjUx0R79AN32NzRiSPwCQkl3fAF2/EHQ7BsZrrT8Ak73FtrF3v7DVpMKmRbC/AKidG0CpeT+gNlBhogenPwB+fZVbXnK/AC0mKsT5gz8AgBoId/9Pv8DFM+LqaZU/ALgev+wmYb8AQRXQ/paDPwB4r/fAVU+/gBIQJjmgir8AcKO7NEdVP4D5XQ5lYog/APhChTt5U78AwJJZBYePPwBk0k3WN1m/SP2jsH6Auz8A1+vFL8CFvwDe/2YWQIc/AKBN5AgqS7/ARw8IasejvwAmye0konI/SFPCLYpwvT+Ar5r21jSIv+yvgydoJdQ/sJSmuV/vor+UsxMUnp/dP4ArxShFHam/oDXkO62abL8A8Oxpf242PyDq4qC+mHU/ANA5XjJ7QL+Af+IXgm6EPwBXFjljl0+/AEhRU0x9jb8AiHdpzuVbP4BmiiD+EJC/AGgWJunWXT8AAhHhfF6bvwDYRl6kJWg/yLIAZ31yoT8AzCLP2uhrv6A28ZLui4Y/AGzis7UGUr8ATGDdkstiPwBelTOSHi2/\",\"dtype\":\"float64\",\"shape\":[60]},\"full_name\":[\"a_a0\",\"b_b0\",\"a_a1\",\"b_b1\",\"a_a2\",\"b_b2\",\"a_a0\",\"b_b0\",\"a_a1\",\"b_b1\",\"a_a2\",\"b_b2\",\"a_a0\",\"b_b0\",\"a_a1\",\"b_b1\",\"a_a2\",\"b_b2\",\"a_a0\",\"b_b0\",\"a_a1\",\"b_b1\",\"a_a2\",\"b_b2\",\"a_a0\",\"b_b0\",\"a_a1\",\"b_b1\",\"a_a2\",\"b_b2\",\"a_a0\",\"b_b0\",\"a_a1\",\"b_b1\",\"a_a2\",\"b_b2\",\"a_a0\",\"b_b0\",\"a_a1\",\"b_b1\",\"a_a2\",\"b_b2\",\"a_a0\",\"b_b0\",\"a_a1\",\"b_b1\",\"a_a2\",\"b_b2\",\"a_a0\",\"b_b0\",\"a_a1\",\"b_b1\",\"a_a2\",\"b_b2\",\"a_a0\",\"b_b0\",\"a_a1\",\"b_b1\",\"a_a2\",\"b_b2\"],\"group\":[\"a\",\"b\",\"a\",\"b\",\"a\",\"b\",\"a\",\"b\",\"a\",\"b\",\"a\",\"b\",\"a\",\"b\",\"a\",\"b\",\"a\",\"b\",\"a\",\"b\",\"a\",\"b\",\"a\",\"b\",\"a\",\"b\",\"a\",\"b\",\"a\",\"b\",\"a\",\"b\",\"a\",\"b\",\"a\",\"b\",\"a\",\"b\",\"a\",\"b\",\"a\",\"b\",\"a\",\"b\",\"a\",\"b\",\"a\",\"b\",\"a\",\"b\",\"a\",\"b\",\"a\",\"b\",\"a\",\"b\",\"a\",\"b\",\"a\",\"b\"],\"index\":[0,1,4,5,8,9,0,1,4,5,8,9,0,1,4,5,8,9,0,1,4,5,8,9,0,1,4,5,8,9,0,1,4,5,8,9,0,1,4,5,8,9,0,1,4,5,8,9,0,1,4,5,8,9,0,1,4,5,8,9],\"level_0\":[0,1,2,3,4,5,6,7,8,9,10,11,12,13,14,15,16,17,18,19,20,21,22,23,24,25,26,27,28,29,30,31,32,33,34,35,36,37,38,39,40,41,42,43,44,45,46,47,48,49,50,51,52,53,54,55,56,57,58,59],\"marker\":[\"circle\",\"circle\",\"circle\",\"circle\",\"circle\",\"circle\",\"circle\",\"circle\",\"circle\",\"circle\",\"circle\",\"circle\",\"circle\",\"circle\",\"circle\",\"circle\",\"circle\",\"circle\",\"circle\",\"circle\",\"circle\",\"circle\",\"circle\",\"circle\",\"circle\",\"circle\",\"circle\",\"circle\",\"circle\",\"circle\",\"circle\",\"circle\",\"circle\",\"circle\",\"circle\",\"circle\",\"circle\",\"circle\",\"circle\",\"circle\",\"circle\",\"circle\",\"circle\",\"circle\",\"circle\",\"circle\",\"circle\",\"circle\",\"circle\",\"circle\",\"circle\",\"circle\",\"circle\",\"circle\",\"circle\",\"circle\",\"circle\",\"circle\",\"circle\",\"circle\"],\"model\":[\"scipy_TNC_0\",\"scipy_TNC_0\",\"scipy_TNC_0\",\"scipy_TNC_0\",\"scipy_TNC_0\",\"scipy_TNC_0\",\"scipy_TNC_1\",\"scipy_TNC_1\",\"scipy_TNC_1\",\"scipy_TNC_1\",\"scipy_TNC_1\",\"scipy_TNC_1\",\"scipy_TNC_2\",\"scipy_TNC_2\",\"scipy_TNC_2\",\"scipy_TNC_2\",\"scipy_TNC_2\",\"scipy_TNC_2\",\"scipy_TNC_3\",\"scipy_TNC_3\",\"scipy_TNC_3\",\"scipy_TNC_3\",\"scipy_TNC_3\",\"scipy_TNC_3\",\"scipy_TNC_4\",\"scipy_TNC_4\",\"scipy_TNC_4\",\"scipy_TNC_4\",\"scipy_TNC_4\",\"scipy_TNC_4\",\"scipy_TNC_5\",\"scipy_TNC_5\",\"scipy_TNC_5\",\"scipy_TNC_5\",\"scipy_TNC_5\",\"scipy_TNC_5\",\"scipy_TNC_6\",\"scipy_TNC_6\",\"scipy_TNC_6\",\"scipy_TNC_6\",\"scipy_TNC_6\",\"scipy_TNC_6\",\"scipy_TNC_7\",\"scipy_TNC_7\",\"scipy_TNC_7\",\"scipy_TNC_7\",\"scipy_TNC_7\",\"scipy_TNC_7\",\"scipy_TNC_8\",\"scipy_TNC_8\",\"scipy_TNC_8\",\"scipy_TNC_8\",\"scipy_TNC_8\",\"scipy_TNC_8\",\"scipy_TNC_9\",\"scipy_TNC_9\",\"scipy_TNC_9\",\"scipy_TNC_9\",\"scipy_TNC_9\",\"scipy_TNC_9\"],\"name\":[\"a0\",\"b0\",\"a1\",\"b1\",\"a2\",\"b2\",\"a0\",\"b0\",\"a1\",\"b1\",\"a2\",\"b2\",\"a0\",\"b0\",\"a1\",\"b1\",\"a2\",\"b2\",\"a0\",\"b0\",\"a1\",\"b1\",\"a2\",\"b2\",\"a0\",\"b0\",\"a1\",\"b1\",\"a2\",\"b2\",\"a0\",\"b0\",\"a1\",\"b1\",\"a2\",\"b2\",\"a0\",\"b0\",\"a1\",\"b1\",\"a2\",\"b2\",\"a0\",\"b0\",\"a1\",\"b1\",\"a2\",\"b2\",\"a0\",\"b0\",\"a1\",\"b1\",\"a2\",\"b2\",\"a0\",\"b0\",\"a1\",\"b1\",\"a2\",\"b2\"],\"start_value\":{\"__ndarray__\":\"QPq3UB7EuL/SjZtfx3Hxv8KTDxAarQbA4PbtHpDh+z84vkDhbo3Vv1F8A9QpZfG/UGuc2uLsAUBujtgBdTwDwDg9d99U2/Q/MGf+eHTl4r+Q2aIdRuHvv3hfq1dFavY/rBLi7f6N6r+sfuzDFMDwPzi2uR1ZAf4/fKCz/dOWBMDQchDubgzhv3ZmDruDwwZAfKEumbMpAsBCiy6XLfr0vyn6rvcpnva/TnIwPztiBcAdAigBLyEGwGgnTvVeV+q/4COX5UqI9D/4IqAbnWz9P4ynCxXRg/o/7iIPfUP9AkByKynfBVYHwF/54qiyt/S/uPVD7Eqx5z80dybeU/YAQLhYqw/RFATA26nOQJPp8r8Moc4eedb7v5I1ngHR8gZAAP4uGAz87j9kp8rBtMrwPygSiia+4/E/zIc+4ZVw7L9A03Bb0rrVP5zajMJv8wTAwE07VGf5t7/YzSuZCxHzP5BZqjq1UcW/nNgk3LZi8L9dHSPn/+78vyAibIsQHsY/HOnyM1AvBEC0m0Le+zgHwCrBbY+dBwHAogJ1/wNnA8AE8jJ06MoFQPxK51W2U/k/sMmURq5d2D9ImstfmaYEQHiX8s+hude/sETRA6oU8z+8WEQ5el8HwEAIY/jeiLg/\",\"dtype\":\"float64\",\"shape\":[60]}},\"selected\":{\"id\":\"1114\",\"type\":\"Selection\"},\"selection_policy\":{\"id\":\"1113\",\"type\":\"UnionRenderers\"}},\"id\":\"1002\",\"type\":\"ColumnDataSource\"},{\"attributes\":{\"children\":[[{\"id\":\"1003\",\"subtype\":\"Figure\",\"type\":\"Plot\"},0,0],[{\"id\":\"1055\",\"subtype\":\"Figure\",\"type\":\"Plot\"},1,0]]},\"id\":\"1125\",\"type\":\"GridBox\"},{\"attributes\":{\"data_source\":{\"id\":\"1002\",\"type\":\"ColumnDataSource\"},\"glyph\":{\"id\":\"1038\",\"type\":\"Scatter\"},\"hover_glyph\":null,\"muted_glyph\":null,\"nonselection_glyph\":{\"id\":\"1039\",\"type\":\"Scatter\"},\"selection_glyph\":{\"id\":\"1040\",\"type\":\"Scatter\"},\"view\":{\"id\":\"1042\",\"type\":\"CDSView\"}},\"id\":\"1041\",\"type\":\"GlyphRenderer\"},{\"attributes\":{\"callback\":null,\"renderers\":[{\"id\":\"1041\",\"type\":\"GlyphRenderer\"}],\"tooltips\":[[\"model\",\"@model\"],[\"full_name\",\"@full_name\"],[\"start_value\",\"@start_value\"],[\"final_value\",\"@final_value\"],[\"index\",\"@index\"],[\"conf_int_lower\",\"@conf_int_lower\"],[\"conf_int_upper\",\"@conf_int_upper\"]]},\"id\":\"1049\",\"type\":\"HoverTool\"},{\"attributes\":{\"active_drag\":\"auto\",\"active_inspect\":\"auto\",\"active_multi\":null,\"active_scroll\":\"auto\",\"active_tap\":\"auto\",\"tools\":[{\"id\":\"1075\",\"type\":\"PanTool\"},{\"id\":\"1076\",\"type\":\"WheelZoomTool\"},{\"id\":\"1077\",\"type\":\"BoxZoomTool\"},{\"id\":\"1078\",\"type\":\"SaveTool\"},{\"id\":\"1079\",\"type\":\"ResetTool\"},{\"id\":\"1080\",\"type\":\"HelpTool\"},{\"id\":\"1101\",\"type\":\"HoverTool\"},{\"id\":\"1104\",\"type\":\"TapTool\"}]},\"id\":\"1081\",\"type\":\"Toolbar\"},{\"attributes\":{\"source\":{\"id\":\"1002\",\"type\":\"ColumnDataSource\"}},\"id\":\"1042\",\"type\":\"CDSView\"},{\"attributes\":{\"fill_alpha\":{\"value\":0.0},\"fill_color\":{\"field\":\"color\"},\"height\":{\"value\":0.01},\"left\":{\"field\":\"conf_int_lower\"},\"line_alpha\":{\"value\":0.0},\"line_color\":{\"field\":\"color\"},\"right\":{\"field\":\"conf_int_upper\"},\"y\":{\"field\":\"full_name\",\"transform\":{\"id\":\"1036\",\"type\":\"Jitter\"}}},\"id\":\"1045\",\"type\":\"HBar\"},{\"attributes\":{\"fill_alpha\":{\"value\":0.7},\"fill_color\":{\"field\":\"color\"},\"line_alpha\":{\"value\":0.7},\"line_color\":{\"field\":\"color\"},\"marker\":{\"field\":\"marker\"},\"size\":{\"units\":\"screen\",\"value\":12},\"x\":{\"field\":\"final_value\"},\"y\":{\"field\":\"full_name\",\"transform\":{\"id\":\"1088\",\"type\":\"Jitter\"}}},\"id\":\"1092\",\"type\":\"Scatter\"},{\"attributes\":{\"fill_alpha\":{\"value\":0.0},\"fill_color\":{\"field\":\"color\"},\"height\":{\"value\":0.01},\"left\":{\"field\":\"conf_int_lower\"},\"line_alpha\":{\"value\":0.0},\"line_color\":{\"field\":\"color\"},\"right\":{\"field\":\"conf_int_upper\"},\"y\":{\"field\":\"full_name\",\"transform\":{\"id\":\"1036\",\"type\":\"Jitter\"}}},\"id\":\"1044\",\"type\":\"HBar\"},{\"attributes\":{\"data_source\":{\"id\":\"1002\",\"type\":\"ColumnDataSource\"},\"glyph\":{\"id\":\"1090\",\"type\":\"Scatter\"},\"hover_glyph\":null,\"muted_glyph\":null,\"nonselection_glyph\":{\"id\":\"1091\",\"type\":\"Scatter\"},\"selection_glyph\":{\"id\":\"1092\",\"type\":\"Scatter\"},\"view\":{\"id\":\"1094\",\"type\":\"CDSView\"}},\"id\":\"1093\",\"type\":\"GlyphRenderer\"},{\"attributes\":{\"fill_alpha\":{\"value\":0.7},\"fill_color\":{\"field\":\"color\"},\"height\":{\"value\":0.01},\"left\":{\"field\":\"conf_int_lower\"},\"line_alpha\":{\"value\":0.7},\"line_color\":{\"field\":\"color\"},\"right\":{\"field\":\"conf_int_upper\"},\"y\":{\"field\":\"full_name\",\"transform\":{\"id\":\"1036\",\"type\":\"Jitter\"}}},\"id\":\"1046\",\"type\":\"HBar\"},{\"attributes\":{\"source\":{\"id\":\"1002\",\"type\":\"ColumnDataSource\"}},\"id\":\"1094\",\"type\":\"CDSView\"},{\"attributes\":{\"data_source\":{\"id\":\"1002\",\"type\":\"ColumnDataSource\"},\"glyph\":{\"id\":\"1044\",\"type\":\"HBar\"},\"hover_glyph\":null,\"muted_glyph\":null,\"nonselection_glyph\":{\"id\":\"1045\",\"type\":\"HBar\"},\"selection_glyph\":{\"id\":\"1046\",\"type\":\"HBar\"},\"view\":{\"id\":\"1048\",\"type\":\"CDSView\"}},\"id\":\"1047\",\"type\":\"GlyphRenderer\"},{\"attributes\":{\"source\":{\"id\":\"1002\",\"type\":\"ColumnDataSource\"}},\"id\":\"1048\",\"type\":\"CDSView\"},{\"attributes\":{\"fill_alpha\":{\"value\":0.0},\"fill_color\":{\"field\":\"color\"},\"height\":{\"value\":0.01},\"left\":{\"field\":\"conf_int_lower\"},\"line_alpha\":{\"value\":0.0},\"line_color\":{\"field\":\"color\"},\"right\":{\"field\":\"conf_int_upper\"},\"y\":{\"field\":\"full_name\",\"transform\":{\"id\":\"1088\",\"type\":\"Jitter\"}}},\"id\":\"1096\",\"type\":\"HBar\"},{\"attributes\":{\"range\":{\"id\":\"1008\",\"type\":\"FactorRange\"},\"width\":0.6},\"id\":\"1036\",\"type\":\"Jitter\"}],\"root_ids\":[\"1128\"]},\"title\":\"Bokeh Application\",\"version\":\"1.2.0\"}};\n",
       "  var render_items = [{\"docid\":\"99e28365-f6b4-4f72-b16f-719d33ee912e\",\"roots\":{\"1128\":\"4be56c39-26cb-4b22-94a3-60924f86e31d\"}}];\n",
       "  root.Bokeh.embed.embed_items_notebook(docs_json, render_items);\n",
       "\n",
       "  }\n",
       "  if (root.Bokeh !== undefined) {\n",
       "    embed_document(root);\n",
       "  } else {\n",
       "    var attempts = 0;\n",
       "    var timer = setInterval(function(root) {\n",
       "      if (root.Bokeh !== undefined) {\n",
       "        embed_document(root);\n",
       "        clearInterval(timer);\n",
       "      }\n",
       "      attempts++;\n",
       "      if (attempts > 100) {\n",
       "        console.log(\"Bokeh: ERROR: Unable to run BokehJS code because BokehJS library is missing\");\n",
       "        clearInterval(timer);\n",
       "      }\n",
       "    }, 10, root)\n",
       "  }\n",
       "})(window);"
      ],
      "application/vnd.bokehjs_exec.v0+json": ""
     },
     "metadata": {
      "application/vnd.bokehjs_exec.v0+json": {
       "id": "1128"
      }
     },
     "output_type": "display_data"
    }
   ],
   "source": [
    "import pickle\n",
    "with open('just_tnc.pickle', 'rb') as f:\n",
    "    just_tnc = pickle.load(f)\n",
    "with open('full_res.pickle', 'rb') as f:\n",
    "    full_res = pickle.load(f)\n",
    "\n",
    "grid, plots = comparison_plot(just_tnc, width=500)"
   ]
  },
  {
   "cell_type": "code",
   "execution_count": 4,
   "metadata": {},
   "outputs": [
    {
     "data": {
      "text/html": [
       "\n",
       "\n",
       "\n",
       "\n",
       "\n",
       "\n",
       "  <div class=\"bk-root\" id=\"02a7b198-df71-4b6f-a615-63538ae509e3\" data-root-id=\"1359\"></div>\n"
      ]
     },
     "metadata": {},
     "output_type": "display_data"
    },
    {
     "data": {
      "application/javascript": [
       "(function(root) {\n",
       "  function embed_document(root) {\n",
       "    \n",
       "  var docs_json = {\"d48013cb-e351-44f9-9b1e-80c8d77c91b0\":{\"roots\":{\"references\":[{\"attributes\":{\"children\":[{\"id\":\"1356\",\"type\":\"GridBox\"},{\"id\":\"1358\",\"type\":\"ToolbarBox\"}]},\"id\":\"1359\",\"type\":\"Row\"},{\"attributes\":{\"tools\":[{\"id\":\"1250\",\"type\":\"PanTool\"},{\"id\":\"1251\",\"type\":\"WheelZoomTool\"},{\"id\":\"1252\",\"type\":\"BoxZoomTool\"},{\"id\":\"1253\",\"type\":\"SaveTool\"},{\"id\":\"1254\",\"type\":\"ResetTool\"},{\"id\":\"1255\",\"type\":\"HelpTool\"},{\"id\":\"1276\",\"type\":\"HoverTool\"},{\"id\":\"1279\",\"type\":\"TapTool\"},{\"id\":\"1302\",\"type\":\"PanTool\"},{\"id\":\"1303\",\"type\":\"WheelZoomTool\"},{\"id\":\"1304\",\"type\":\"BoxZoomTool\"},{\"id\":\"1305\",\"type\":\"SaveTool\"},{\"id\":\"1306\",\"type\":\"ResetTool\"},{\"id\":\"1307\",\"type\":\"HelpTool\"},{\"id\":\"1328\",\"type\":\"HoverTool\"},{\"id\":\"1331\",\"type\":\"TapTool\"}]},\"id\":\"1357\",\"type\":\"ProxyToolbar\"},{\"attributes\":{\"toolbar\":{\"id\":\"1357\",\"type\":\"ProxyToolbar\"}},\"id\":\"1358\",\"type\":\"ToolbarBox\"},{\"attributes\":{\"fill_alpha\":{\"value\":0.5},\"fill_color\":{\"field\":\"color\"},\"line_alpha\":{\"value\":0.5},\"line_color\":{\"field\":\"color\"},\"marker\":{\"field\":\"marker\"},\"size\":{\"units\":\"screen\",\"value\":12},\"x\":{\"field\":\"final_value\"},\"y\":{\"field\":\"full_name\",\"transform\":{\"id\":\"1263\",\"type\":\"Jitter\"}}},\"id\":\"1265\",\"type\":\"Scatter\"},{\"attributes\":{\"overlay\":{\"id\":\"1343\",\"type\":\"BoxAnnotation\"}},\"id\":\"1252\",\"type\":\"BoxZoomTool\"},{\"attributes\":{},\"id\":\"1251\",\"type\":\"WheelZoomTool\"},{\"attributes\":{},\"id\":\"1250\",\"type\":\"PanTool\"},{\"attributes\":{\"active_drag\":\"auto\",\"active_inspect\":\"auto\",\"active_multi\":null,\"active_scroll\":\"auto\",\"active_tap\":\"auto\",\"tools\":[{\"id\":\"1250\",\"type\":\"PanTool\"},{\"id\":\"1251\",\"type\":\"WheelZoomTool\"},{\"id\":\"1252\",\"type\":\"BoxZoomTool\"},{\"id\":\"1253\",\"type\":\"SaveTool\"},{\"id\":\"1254\",\"type\":\"ResetTool\"},{\"id\":\"1255\",\"type\":\"HelpTool\"},{\"id\":\"1276\",\"type\":\"HoverTool\"},{\"id\":\"1279\",\"type\":\"TapTool\"}]},\"id\":\"1256\",\"type\":\"Toolbar\"},{\"attributes\":{\"grid_line_color\":null,\"ticker\":{\"id\":\"1242\",\"type\":\"BasicTicker\"}},\"id\":\"1245\",\"type\":\"Grid\"},{\"attributes\":{},\"id\":\"1254\",\"type\":\"ResetTool\"},{\"attributes\":{\"axis_line_color\":{\"value\":\"white\"},\"formatter\":{\"id\":\"1342\",\"type\":\"CategoricalTickFormatter\"},\"major_tick_line_color\":{\"value\":null},\"ticker\":{\"id\":\"1247\",\"type\":\"CategoricalTicker\"}},\"id\":\"1246\",\"type\":\"CategoricalAxis\"},{\"attributes\":{\"source\":{\"id\":\"1229\",\"type\":\"ColumnDataSource\"}},\"id\":\"1269\",\"type\":\"CDSView\"},{\"attributes\":{\"data_source\":{\"id\":\"1229\",\"type\":\"ColumnDataSource\"},\"glyph\":{\"id\":\"1265\",\"type\":\"Scatter\"},\"hover_glyph\":null,\"muted_glyph\":null,\"nonselection_glyph\":{\"id\":\"1266\",\"type\":\"Scatter\"},\"selection_glyph\":{\"id\":\"1267\",\"type\":\"Scatter\"},\"view\":{\"id\":\"1269\",\"type\":\"CDSView\"}},\"id\":\"1268\",\"type\":\"GlyphRenderer\"},{\"attributes\":{\"callback\":null,\"factors\":[\"a_a2\",\"a_a1\",\"a_a0\"]},\"id\":\"1235\",\"type\":\"FactorRange\"},{\"attributes\":{\"fill_alpha\":{\"value\":0.7},\"fill_color\":{\"field\":\"color\"},\"line_alpha\":{\"value\":0.7},\"line_color\":{\"field\":\"color\"},\"marker\":{\"field\":\"marker\"},\"size\":{\"units\":\"screen\",\"value\":12},\"x\":{\"field\":\"final_value\"},\"y\":{\"field\":\"full_name\",\"transform\":{\"id\":\"1263\",\"type\":\"Jitter\"}}},\"id\":\"1267\",\"type\":\"Scatter\"},{\"attributes\":{\"fill_alpha\":{\"value\":0.3},\"fill_color\":{\"field\":\"color\"},\"line_alpha\":{\"value\":0.3},\"line_color\":{\"field\":\"color\"},\"marker\":{\"field\":\"marker\"},\"size\":{\"units\":\"screen\",\"value\":12},\"x\":{\"field\":\"final_value\"},\"y\":{\"field\":\"full_name\",\"transform\":{\"id\":\"1263\",\"type\":\"Jitter\"}}},\"id\":\"1266\",\"type\":\"Scatter\"},{\"attributes\":{},\"id\":\"1255\",\"type\":\"HelpTool\"},{\"attributes\":{\"bottom_units\":\"screen\",\"fill_alpha\":{\"value\":0.5},\"fill_color\":{\"value\":\"lightgrey\"},\"left_units\":\"screen\",\"level\":\"overlay\",\"line_alpha\":{\"value\":1.0},\"line_color\":{\"value\":\"black\"},\"line_dash\":[4,4],\"line_width\":{\"value\":2},\"render_mode\":\"css\",\"right_units\":\"screen\",\"top_units\":\"screen\"},\"id\":\"1352\",\"type\":\"BoxAnnotation\"},{\"attributes\":{\"fill_alpha\":{\"value\":0.7},\"fill_color\":{\"field\":\"color\"},\"height\":{\"value\":0.01},\"left\":{\"field\":\"conf_int_lower\"},\"line_alpha\":{\"value\":0.7},\"line_color\":{\"field\":\"color\"},\"right\":{\"field\":\"conf_int_upper\"},\"y\":{\"field\":\"full_name\",\"transform\":{\"id\":\"1263\",\"type\":\"Jitter\"}}},\"id\":\"1273\",\"type\":\"HBar\"},{\"attributes\":{\"fill_alpha\":{\"value\":0.0},\"fill_color\":{\"field\":\"color\"},\"height\":{\"value\":0.01},\"left\":{\"field\":\"conf_int_lower\"},\"line_alpha\":{\"value\":0.0},\"line_color\":{\"field\":\"color\"},\"right\":{\"field\":\"conf_int_upper\"},\"y\":{\"field\":\"full_name\",\"transform\":{\"id\":\"1263\",\"type\":\"Jitter\"}}},\"id\":\"1272\",\"type\":\"HBar\"},{\"attributes\":{\"fill_alpha\":{\"value\":0.0},\"fill_color\":{\"field\":\"color\"},\"height\":{\"value\":0.01},\"left\":{\"field\":\"conf_int_lower\"},\"line_alpha\":{\"value\":0.0},\"line_color\":{\"field\":\"color\"},\"right\":{\"field\":\"conf_int_upper\"},\"y\":{\"field\":\"full_name\",\"transform\":{\"id\":\"1263\",\"type\":\"Jitter\"}}},\"id\":\"1271\",\"type\":\"HBar\"},{\"attributes\":{\"source\":{\"id\":\"1229\",\"type\":\"ColumnDataSource\"}},\"id\":\"1275\",\"type\":\"CDSView\"},{\"attributes\":{\"data_source\":{\"id\":\"1229\",\"type\":\"ColumnDataSource\"},\"glyph\":{\"id\":\"1271\",\"type\":\"HBar\"},\"hover_glyph\":null,\"muted_glyph\":null,\"nonselection_glyph\":{\"id\":\"1272\",\"type\":\"HBar\"},\"selection_glyph\":{\"id\":\"1273\",\"type\":\"HBar\"},\"view\":{\"id\":\"1275\",\"type\":\"CDSView\"}},\"id\":\"1274\",\"type\":\"GlyphRenderer\"},{\"attributes\":{\"dimension\":1,\"ticker\":{\"id\":\"1247\",\"type\":\"CategoricalTicker\"}},\"id\":\"1249\",\"type\":\"Grid\"},{\"attributes\":{},\"id\":\"1247\",\"type\":\"CategoricalTicker\"},{\"attributes\":{\"formatter\":{\"id\":\"1349\",\"type\":\"BasicTickFormatter\"},\"ticker\":{\"id\":\"1294\",\"type\":\"BasicTicker\"}},\"id\":\"1293\",\"type\":\"LinearAxis\"},{\"attributes\":{\"callback\":{\"id\":\"1278\",\"type\":\"CustomJS\"},\"renderers\":[{\"id\":\"1268\",\"type\":\"GlyphRenderer\"}]},\"id\":\"1279\",\"type\":\"TapTool\"},{\"attributes\":{},\"id\":\"1242\",\"type\":\"BasicTicker\"},{\"attributes\":{},\"id\":\"1237\",\"type\":\"LinearScale\"},{\"attributes\":{},\"id\":\"1291\",\"type\":\"CategoricalScale\"},{\"attributes\":{\"text\":\"Comparison Plot of B Parameters\"},\"id\":\"1283\",\"type\":\"Title\"},{\"attributes\":{\"callback\":null,\"renderers\":[{\"id\":\"1320\",\"type\":\"GlyphRenderer\"}],\"tooltips\":[[\"model\",\"@model\"],[\"full_name\",\"@full_name\"],[\"start_value\",\"@start_value\"],[\"final_value\",\"@final_value\"],[\"index\",\"@index\"],[\"conf_int_lower\",\"@conf_int_lower\"],[\"conf_int_upper\",\"@conf_int_upper\"],[\"model_class\",\"@model_class\"]]},\"id\":\"1328\",\"type\":\"HoverTool\"},{\"attributes\":{},\"id\":\"1289\",\"type\":\"LinearScale\"},{\"attributes\":{\"below\":[{\"id\":\"1293\",\"type\":\"LinearAxis\"}],\"center\":[{\"id\":\"1297\",\"type\":\"Grid\"},{\"id\":\"1301\",\"type\":\"Grid\"}],\"left\":[{\"id\":\"1298\",\"type\":\"CategoricalAxis\"}],\"outline_line_color\":{\"value\":null},\"plot_height\":400,\"plot_width\":500,\"renderers\":[{\"id\":\"1320\",\"type\":\"GlyphRenderer\"},{\"id\":\"1326\",\"type\":\"GlyphRenderer\"}],\"title\":{\"id\":\"1283\",\"type\":\"Title\"},\"toolbar\":{\"id\":\"1308\",\"type\":\"Toolbar\"},\"toolbar_location\":null,\"x_range\":{\"id\":\"1333\",\"type\":\"Range1d\"},\"x_scale\":{\"id\":\"1289\",\"type\":\"LinearScale\"},\"y_range\":{\"id\":\"1287\",\"type\":\"FactorRange\"},\"y_scale\":{\"id\":\"1291\",\"type\":\"CategoricalScale\"}},\"id\":\"1282\",\"subtype\":\"Figure\",\"type\":\"Plot\"},{\"attributes\":{\"args\":{\"group_list\":[\"L-BFGS-B\",\"SLSQP\",\"TNC\"],\"source\":{\"id\":\"1229\",\"type\":\"ColumnDataSource\"}},\"code\":\"\\n    // https://stackoverflow.com/a/36145278\\n\\n    var chosen_inds = cb_obj.active;\\n\\n    var chosen_widget_groups = [];\\n\\n    for (var i = 0; i < group_list.length; ++ i){\\n        if (chosen_inds.includes(i)){\\n            chosen_widget_groups.push(group_list[i])\\n        };\\n    };\\n\\n    to_select_inds = []\\n\\n    for (var i = 0; i < source.data['index'].length; ++ i){\\n        if (chosen_widget_groups.includes(source.data['model_class'][i])){\\n            to_select_inds.push(i)\\n        };\\n    };\\n\\n    source.selected.indices = to_select_inds;\\n    source.change.emit();\"},\"id\":\"1334\",\"type\":\"CustomJS\"},{\"attributes\":{\"callback\":null,\"factors\":[\"b_b2\",\"b_b1\",\"b_b0\"]},\"id\":\"1287\",\"type\":\"FactorRange\"},{\"attributes\":{\"callback\":null,\"end\":0.5337431453369277,\"start\":-0.10436306196431164},\"id\":\"1281\",\"type\":\"Range1d\"},{\"attributes\":{\"callback\":null,\"data\":{\"color\":[\"forestgreen\",\"forestgreen\",\"forestgreen\",\"forestgreen\",\"forestgreen\",\"forestgreen\",\"forestgreen\",\"forestgreen\",\"forestgreen\",\"forestgreen\",\"forestgreen\",\"forestgreen\",\"forestgreen\",\"forestgreen\",\"forestgreen\",\"forestgreen\",\"forestgreen\",\"forestgreen\",\"forestgreen\",\"forestgreen\",\"forestgreen\",\"forestgreen\",\"forestgreen\",\"forestgreen\",\"forestgreen\",\"forestgreen\",\"forestgreen\",\"forestgreen\",\"forestgreen\",\"forestgreen\",\"forestgreen\",\"forestgreen\",\"forestgreen\",\"forestgreen\",\"forestgreen\",\"forestgreen\",\"forestgreen\",\"forestgreen\",\"forestgreen\",\"forestgreen\",\"forestgreen\",\"forestgreen\",\"forestgreen\",\"forestgreen\",\"forestgreen\",\"forestgreen\",\"forestgreen\",\"forestgreen\",\"forestgreen\",\"forestgreen\",\"forestgreen\",\"forestgreen\",\"forestgreen\",\"forestgreen\",\"forestgreen\",\"forestgreen\",\"forestgreen\",\"forestgreen\",\"forestgreen\",\"forestgreen\",\"#035096\",\"#035096\",\"#035096\",\"#035096\",\"#035096\",\"#035096\",\"#035096\",\"#035096\",\"#035096\",\"#035096\",\"#035096\",\"#035096\",\"#035096\",\"#035096\",\"#035096\",\"#035096\",\"#035096\",\"#035096\",\"#035096\",\"#035096\",\"#035096\",\"#035096\",\"#035096\",\"#035096\",\"#035096\",\"#035096\",\"#035096\",\"#035096\",\"#035096\",\"#035096\",\"#035096\",\"#035096\",\"#035096\",\"#035096\",\"#035096\",\"#035096\",\"#035096\",\"#035096\",\"#035096\",\"#035096\",\"#035096\",\"#035096\",\"#035096\",\"#035096\",\"#035096\",\"#035096\",\"#035096\",\"#035096\",\"#035096\",\"#035096\",\"#035096\",\"#035096\",\"#035096\",\"#035096\",\"#035096\",\"#035096\",\"#035096\",\"#035096\",\"#035096\",\"#035096\",\"firebrick\",\"firebrick\",\"firebrick\",\"firebrick\",\"firebrick\",\"firebrick\",\"firebrick\",\"firebrick\",\"firebrick\",\"firebrick\",\"firebrick\",\"firebrick\",\"firebrick\",\"firebrick\",\"firebrick\",\"firebrick\",\"firebrick\",\"firebrick\",\"firebrick\",\"firebrick\",\"firebrick\",\"firebrick\",\"firebrick\",\"firebrick\",\"firebrick\",\"firebrick\",\"firebrick\",\"firebrick\",\"firebrick\",\"firebrick\",\"firebrick\",\"firebrick\",\"firebrick\",\"firebrick\",\"firebrick\",\"firebrick\",\"firebrick\",\"firebrick\",\"firebrick\",\"firebrick\",\"firebrick\",\"firebrick\",\"firebrick\",\"firebrick\",\"firebrick\",\"firebrick\",\"firebrick\",\"firebrick\",\"firebrick\",\"firebrick\",\"firebrick\",\"firebrick\",\"firebrick\",\"firebrick\",\"firebrick\",\"firebrick\",\"firebrick\",\"firebrick\",\"firebrick\",\"firebrick\"],\"conf_int_lower\":{\"__ndarray__\":\"BQqOaxnVi78pfEGAjEmWv2N0Yj9VDZO/78uFzIROnL9kFkwsCTeTvwQM/dijLJa/wITQ+f2sQT98HKOrjZuUvzV3VRB9PZm/a53hDQt3nr9B/FpMFtCWv7T+3GpsSJ2/DG4ZfBScUj/belxqFteWv/r4HFf6M4i/yevP2J0Clb8P7wMst0aQv4iqLlFUfJO/fGLi5zkWnL+OrTVB3T+Kv+aDw8xAIqW/fxPkv0Ueib/w0eb4YY6Dv5iHJaVX75y/wJGBRBs3pb83UVHlYfyYvyFeXhB1aaG/Aw9X2+I2m7+8Y8BMzUusv5Qelp1533C/WspyoFWzir96su0J64KUvyIMBgSCd4C/ORf6jTwPlL/46rxBM56mv6inuJDndpa/I01fAHKHjL8Oe+fxxrydv9BGzmmnsZC/h5HsMpl4kr8uGZ0nrB6bvz71G1zfYoO/Vi1WXaWNpr8u7QmYyuOOv3Kig3N3p5W/0XHUfTgngL+8QBCOprCIv7MTmLO4N4+/lhdhDFClnr9UW26hf6qTv7QBYpvTHnc/XgOd7+TClL9/7uKXacCOv6aRFYeHQpa/6wNDY7vHh79j0HD/cBeSv8zo6cHi+6C/36LyPgcLlb9EgjY25eGZv7kf5mmUdqG//oD0NO2Vl79PVP2rwxCTvxrEF7BHj6e/4djVoTFNpr+gb26EISmkv+NNLJVcAqC/TWH8Le56lb/2KASUmPKgv5xnz1oBzIa/upWsIYs3pr9A0VVzxARbv/YETiHqSKm/1ljTXfH3mD8BFDbspAGjvwqC5WGF+7e/WlkZ7/94mr9yVUjBfTqlP1oMQ4OvEKa/KP2xVv6qar9r8o/iCzWhv7RparOdX3m/Yt0bB7K0lr/d392M5fyhv6gic4OkCaG/m+oTBg/UrL+0Zk+vxneRvzskrhTNcKC/FjjLLTUspL94wPS1YbWVvxqYqEavAJS/H7nTxMPPuD/2SV3gC+miv9rscw6yU56/h2wXQXqZn79u322j0ZWuv7o1gnv+tpm/OR+Bb6wcsz+9UxeberahvwGFgPwh7tE/bALjiARJsr84JiL7/pnbPwwbCFfpO7W/7kZymSYenr9toJPxMFaivwmQOAHVoZO/EqhmUjqKqL/IdtNcqoKBvyJ2ZnL9o4K/R0iqUDktqb/GcTFP5/qovzCowChTCau/AE5fldZPn7/JK9ErmN2ovw9vXeCAiKC/8JoYSCVkeb8i15HuiF+jv2R5/Aplr56/p5RGg/zpnb+WbPKswc+fv/8L3BooZ6m/NJNr/92LoL9e7+6gzauyv/V7VWoeErG/f/5iIB3+qr93fEJozAK2v63Mt+9A3ae/cB7dWAnAqL96t8caviubv8DJCCdB6Yq/ZKHrXLzkn79zbQkEpCubvz/qG8VDXqe/EduwtGb6o79OdIPgjYasv+DzQjPfbbW/+3e0kjgfor/YvEluALWiv9Xv+x7gray/HzIPncErmb8hzvFYm/2hv4LMfK6S0a6/kgiI3F0op79Hxb7JRnecv+W1qoM+baO/pTL0Ji1lsL/IJwxalU2vv8pXU0UOJLO/0c/QRjz5qL/CHzVngx+8v/L8KDkOKqW/BNBp+T0cr79GZ7hS88GhvxBLdcVg32A/6FAeQ9bxrb8kAjhOektwv6QL0xz+GJG/rF4wpTqcs7+MQdRJi4GIv6BLZ5XBtJa/74MFDR5gk7//yoA9o8aTv5FGJ68+0KW/q2mPEJ9Dnr9GD8Gd4SitvyLcvbw/M6i/Pi6ZbJItnL/gTQ9tQqiRvwgbN4d9iZq/KN973zC0h7+G9bPzzpSrv1QpeuJJxaa/a8+xI8QYpb9w9/o7vYmqv6mmp/ro2p+/2gZyiQZClr8g/8U2drKqv459UDNJbbC/Ux4ZrPTspL/XZWGHoJipv2JLUpqnIaq/\",\"dtype\":\"float64\",\"shape\":[180]},\"conf_int_upper\":{\"__ndarray__\":\"PcAXYP1nkz9xqoiHWYCVP0JPedxeHoU/NiNEoxo4mT+upLzii2GgP/rgTom1RZM/gOXCmmXEoj9/fQirNB6bP7dQLyXwnZo/Vpyg8FEamD/Ly7KxwpyTP9+f0SYVS5Q/i+1uBIfslT8iFWFzVy2HP3Q58woJQpo/IH+O0Zd/kD83NCPiEfSdP+OUkI41R50/FEybpjdqmz9W0jQF17CMPxg05qMVf3g/YFmH8xY+mj8uGB4IuFKhP8Qx2/6iL5M/QPftb324Wb+4CVpOWDGTP0BZHW4KBH8/tqYFN3vUlD/gcb9EXpdKP4yTPT5XIZE/csJ4KDT8mD9jhUClfxqTP/HU7bwOfZ8//gE+zcFIhT+KmAevw55yv0SqyCbccZc/csxXhKdJfT8HEZNnGpSOPwNdeRWQypk/zCUb6csFmT8vgoSItfaLP2xtW1PrN34/AM7PAtA1ID9tBwdjXgygP8X1zVgTNYk/5VqL3PXmoD+Ra/LoUHuDP2y+I+3veZI/nrKX7KQPgL8q3lb1cHuNP/b3Dvaumak/CxRFaPZWlD/DgLlx8valPx9q/x+uV5E/fonqZohNmD9K0cb3GxWSP+5ypTozoJM/R4tM3Xktjz92lmogS26ZPyEPJl6tJZ0/VpVnl9NElD/WDoXVUfOUP0ipiz6k55U/qD24rL8spj8mRxkWeyudP1UbDyjQ4p8/HwCBSMnFkz+MLRDO4IeiP/WnAihDxKA/XjIGa8I4mT+AxI/fg5OsPyKO3Txc36E/sPAcryzTtT/IqzwPhuaFP//FN2H7ZaK/OK5BtVf+oj9qbbkuN3yxP6myW7X+HqE/A6rPTpBEpz9qHClZLdujPy7xFnIdl7A/wLFew+18jz8kPppvi1CkP9YQ0ofyS6E/ToO/Wwb0lj/C82WkNcKcP3s84mVjM5g/BiHxGxgXoj8TrizizjioPzy0S4V0VKI/EeIPqtdxwz8ER1HxPeefP0z+Hv6cZKQ/++9g6Qf5pz+QIul98p90vzMSNW+jH6A/eBJMy4oyxD9QhsZr7mKZP0wxvoAlYtQ/hjf9+Fidjr8AWHCTNkTgP9QVjIGCFpW/mn0qTFEUjD88k4CMQ/qEP1gZjmO6ipo/Xz2mlMJZoT8ocJ3aQV6hP7Lg+PghZpw/0AW1IkBdjD9kFRpm86mpP1BUkHOM0Zw/UFbtZmN+oD9gX0Xmfq59vzFukpoCdKI/RI65L2UisT9edtlaoTepP+hthRWso6A/9Ga67KHmlj8cx8gsupClPwVFi9+82ZY/bfFeuglrpj8M3d+q8cCdPxBlBi72CKA/B9tOUx7Hoz+oKbSC50RxP/b5FLu7s64/ib2cdQ5bmj9KNWRL2iCaP1KBb5TVvaY/u6EXHyIdqj+mdunYkWqSP900GB+2Kak/GX1jwKzCpD8afCHnjh6hP24rFp64wJS//flXsqYzrz9co/CG3farPxTIRPoi6Js/hLYiUDxVsT8OUCVQXYeqP4DOzmjck6I/W5SgN6Kcnz+78Z6hk4SxP2oTEoKGL6Q/XrJ4tQkilT8/5vF/QnSsPxzCkpfSzo0/qvEmuwgZsD/kZNi1kKOBv99JrftNU6U/vSaMhJv0lz+kucb1WRmgP8rV2HXi4bA/FQnHlVhSoT8ywasBEJ+yP0OW2l+fTaQ/0H/WNAfZlL9G4ZzzEImjPwO0GENsAqs/lBuoX+18oD+wyo947qyqP5V6CNdNi5g/KwVSVst5mT9w+frrdp6rP6oXio1P26E/gG1dot+BmT+3cHcyeyKqP3DhSA1MXKg/D6ysLOuvsj8UgYL6BvOkP+xaSmT8Xp4/KeztRAcmsT+Z/xXRlr2Uv8/JDyvHoZw/oCKlBIqHsD8cZpW3yIuSP1QZbyOR/oA/WFxLGUUroz/j7C5sSL6gP/cibX5+4Kg/\",\"dtype\":\"float64\",\"shape\":[180]},\"final_value\":{\"__ndarray__\":\"G4YehnuBbj/lC5QRboI4v9SYO3HchXO/LZONbghJPz9HmTdKZcBwPyYBC/SOxjq/HuvDYnJElT+OZVYXGgJhv+uQtfwt1mK/TMMK/GwILj8w6lIfNSZxv/Y4OjgLYjs/f48f9pQ+eD8UA+lgyFhDvzPWj9nsp3k/hzDo+ZObRL+OEXBp2plQvxL1EpBjUBo/8Ens4iW2ej8I0M2j2lZFv66bJ3ACDpK/GupqApTjXD/cwcKue0qDP4A43XOy2E6/SdeHEL+Dlr/JcHph0gJiP1YYGddsDYy/8CXkkQhwVj+ByCzNTPOXv5P+ZlHfKWM/sxLY6I/LVT8OWjrf/24hv3Zr1K17EII/62emjKfuTL9rvsReQNaOv0kXSY76sFg/yB10rVz9Yr8yr0zKuWUuP9Avj9g9BWc/stro8spzMr+900efQhiFv9CWyU+431A/6n2y5BgQlL+Zo1mZMA5gP6PudxxZs4G/i/GI+nRPTD+jnEeK6mpQP+p+os5KzBq/NJDgR8RhjL/xJLeSgblWPwvclKMHIZY/JtgZOx/EYb/VOjh/9dWHP4RRfx2WI1O/U+npp6+vhD8S5NLt8Y5Qv5S4VKxHlIq/quy6lk9DVT8w2mi+b7BgP0oJRKJNwiq/gEyBUUWiTz8AwO/4ck4ZvwAYH5d98Gq/AHCEkSSNNT+gAIHL85uBvwCgfmyaLEw/AEiVBeSRYL8AQL/u9ZAqPwD+IlezM30/AJSMjUx0R79AN32NzRiSPwCQkl3fAF2/EHQ7BsZrrT8Ak73FtrF3v7DVpMKmRbC/AKidG0CpeT+gNlBhogenPwB+fZVbXnK/AC0mKsT5gz8AgBoId/9Pv8DFM+LqaZU/ALgev+wmYb8AQRXQ/paDPwB4r/fAVU+/gBIQJjmgir8AcKO7NEdVP4D5XQ5lYog/APhChTt5U78AwJJZBYePPwBk0k3WN1m/SP2jsH6Auz8A1+vFL8CFvwDe/2YWQIc/AKBN5AgqS7/ARw8IasejvwAmye0konI/SFPCLYpwvT+Ar5r21jSIv+yvgydoJdQ/sJSmuV/vor+UsxMUnp/dP4ArxShFHam/oDXkO62abL8A8Oxpf242PyDq4qC+mHU/ANA5XjJ7QL+Af+IXgm6EPwBXFjljl0+/AEhRU0x9jb8AiHdpzuVbP4BmiiD+EJC/AGgWJunWXT8AAhHhfF6bvwDYRl6kJWg/yLIAZ31yoT8AzCLP2uhrv6A28ZLui4Y/AGzis7UGUr8ATGDdkstiPwBelTOSHi2/uPXbY7nwdb8G2lZ0445BPyWQDhVclYS/oQyq/yF4UD9sG2GeCTmhvxx8tZThjms/MaKXxNhul79c+HG3y75iP9pb8P9Kvos/ICs5+4AyVr9K77n4P5eQv6D+KeJ/jFo/S2hxheDHgb/gyRwTDX9MP7f+tV7g/Km/qYKqqwnNdD8pmLwz4DOKP55N9mkK51S/SWFOm+f5lT/a6BcD0JNhv8p1oa8SOIu/0ez1Sl7JVT+aEBClscWIP66lARynzVO/xFWUVenikb99xswMEaJcP1qgsZ7eE6O/MAVxCySPbj8G8kfwPHmhv6aFUHCC9ms/e79DIhdLab/Js4UCw2A0P3gSSDq9YJ8/bFhDaIIdab/42VxBcoaEP8Ul7zXObVC/4+K1C/SBrL8ll5eCyc92P4KBSaBI5ZE/9PIUdguUXL8J9eoMl6VrPx+YF5SlDja/gHvjbjrp5L5ABTCmf5O5PuXaG5pJYJO/Z39XPk4AXz/8IF5rfKeaP2C5BAB/UmW/BiJHCTjBgz/SMFqfHqdPvwqN+R1mNFK/tCOOXZwHHT/Dr8tjVGqfv+c0wWdwH2k/F6Jy5NB7oT9kuTwX8/lrv74n3o/hnqG/kq+jTOgybD+oQCRQBHhOP/ABy4YLdRi/\",\"dtype\":\"float64\",\"shape\":[180]},\"full_name\":[\"a_a0\",\"b_b0\",\"a_a1\",\"b_b1\",\"a_a2\",\"b_b2\",\"a_a0\",\"b_b0\",\"a_a1\",\"b_b1\",\"a_a2\",\"b_b2\",\"a_a0\",\"b_b0\",\"a_a1\",\"b_b1\",\"a_a2\",\"b_b2\",\"a_a0\",\"b_b0\",\"a_a1\",\"b_b1\",\"a_a2\",\"b_b2\",\"a_a0\",\"b_b0\",\"a_a1\",\"b_b1\",\"a_a2\",\"b_b2\",\"a_a0\",\"b_b0\",\"a_a1\",\"b_b1\",\"a_a2\",\"b_b2\",\"a_a0\",\"b_b0\",\"a_a1\",\"b_b1\",\"a_a2\",\"b_b2\",\"a_a0\",\"b_b0\",\"a_a1\",\"b_b1\",\"a_a2\",\"b_b2\",\"a_a0\",\"b_b0\",\"a_a1\",\"b_b1\",\"a_a2\",\"b_b2\",\"a_a0\",\"b_b0\",\"a_a1\",\"b_b1\",\"a_a2\",\"b_b2\",\"a_a0\",\"b_b0\",\"a_a1\",\"b_b1\",\"a_a2\",\"b_b2\",\"a_a0\",\"b_b0\",\"a_a1\",\"b_b1\",\"a_a2\",\"b_b2\",\"a_a0\",\"b_b0\",\"a_a1\",\"b_b1\",\"a_a2\",\"b_b2\",\"a_a0\",\"b_b0\",\"a_a1\",\"b_b1\",\"a_a2\",\"b_b2\",\"a_a0\",\"b_b0\",\"a_a1\",\"b_b1\",\"a_a2\",\"b_b2\",\"a_a0\",\"b_b0\",\"a_a1\",\"b_b1\",\"a_a2\",\"b_b2\",\"a_a0\",\"b_b0\",\"a_a1\",\"b_b1\",\"a_a2\",\"b_b2\",\"a_a0\",\"b_b0\",\"a_a1\",\"b_b1\",\"a_a2\",\"b_b2\",\"a_a0\",\"b_b0\",\"a_a1\",\"b_b1\",\"a_a2\",\"b_b2\",\"a_a0\",\"b_b0\",\"a_a1\",\"b_b1\",\"a_a2\",\"b_b2\",\"a_a0\",\"b_b0\",\"a_a1\",\"b_b1\",\"a_a2\",\"b_b2\",\"a_a0\",\"b_b0\",\"a_a1\",\"b_b1\",\"a_a2\",\"b_b2\",\"a_a0\",\"b_b0\",\"a_a1\",\"b_b1\",\"a_a2\",\"b_b2\",\"a_a0\",\"b_b0\",\"a_a1\",\"b_b1\",\"a_a2\",\"b_b2\",\"a_a0\",\"b_b0\",\"a_a1\",\"b_b1\",\"a_a2\",\"b_b2\",\"a_a0\",\"b_b0\",\"a_a1\",\"b_b1\",\"a_a2\",\"b_b2\",\"a_a0\",\"b_b0\",\"a_a1\",\"b_b1\",\"a_a2\",\"b_b2\",\"a_a0\",\"b_b0\",\"a_a1\",\"b_b1\",\"a_a2\",\"b_b2\",\"a_a0\",\"b_b0\",\"a_a1\",\"b_b1\",\"a_a2\",\"b_b2\",\"a_a0\",\"b_b0\",\"a_a1\",\"b_b1\",\"a_a2\",\"b_b2\"],\"group\":[\"a\",\"b\",\"a\",\"b\",\"a\",\"b\",\"a\",\"b\",\"a\",\"b\",\"a\",\"b\",\"a\",\"b\",\"a\",\"b\",\"a\",\"b\",\"a\",\"b\",\"a\",\"b\",\"a\",\"b\",\"a\",\"b\",\"a\",\"b\",\"a\",\"b\",\"a\",\"b\",\"a\",\"b\",\"a\",\"b\",\"a\",\"b\",\"a\",\"b\",\"a\",\"b\",\"a\",\"b\",\"a\",\"b\",\"a\",\"b\",\"a\",\"b\",\"a\",\"b\",\"a\",\"b\",\"a\",\"b\",\"a\",\"b\",\"a\",\"b\",\"a\",\"b\",\"a\",\"b\",\"a\",\"b\",\"a\",\"b\",\"a\",\"b\",\"a\",\"b\",\"a\",\"b\",\"a\",\"b\",\"a\",\"b\",\"a\",\"b\",\"a\",\"b\",\"a\",\"b\",\"a\",\"b\",\"a\",\"b\",\"a\",\"b\",\"a\",\"b\",\"a\",\"b\",\"a\",\"b\",\"a\",\"b\",\"a\",\"b\",\"a\",\"b\",\"a\",\"b\",\"a\",\"b\",\"a\",\"b\",\"a\",\"b\",\"a\",\"b\",\"a\",\"b\",\"a\",\"b\",\"a\",\"b\",\"a\",\"b\",\"a\",\"b\",\"a\",\"b\",\"a\",\"b\",\"a\",\"b\",\"a\",\"b\",\"a\",\"b\",\"a\",\"b\",\"a\",\"b\",\"a\",\"b\",\"a\",\"b\",\"a\",\"b\",\"a\",\"b\",\"a\",\"b\",\"a\",\"b\",\"a\",\"b\",\"a\",\"b\",\"a\",\"b\",\"a\",\"b\",\"a\",\"b\",\"a\",\"b\",\"a\",\"b\",\"a\",\"b\",\"a\",\"b\",\"a\",\"b\",\"a\",\"b\",\"a\",\"b\",\"a\",\"b\",\"a\",\"b\",\"a\",\"b\",\"a\",\"b\"],\"index\":[0,1,4,5,8,9,0,1,4,5,8,9,0,1,4,5,8,9,0,1,4,5,8,9,0,1,4,5,8,9,0,1,4,5,8,9,0,1,4,5,8,9,0,1,4,5,8,9,0,1,4,5,8,9,0,1,4,5,8,9,0,1,4,5,8,9,0,1,4,5,8,9,0,1,4,5,8,9,0,1,4,5,8,9,0,1,4,5,8,9,0,1,4,5,8,9,0,1,4,5,8,9,0,1,4,5,8,9,0,1,4,5,8,9,0,1,4,5,8,9,0,1,4,5,8,9,0,1,4,5,8,9,0,1,4,5,8,9,0,1,4,5,8,9,0,1,4,5,8,9,0,1,4,5,8,9,0,1,4,5,8,9,0,1,4,5,8,9,0,1,4,5,8,9,0,1,4,5,8,9],\"level_0\":[0,1,2,3,4,5,6,7,8,9,10,11,12,13,14,15,16,17,18,19,20,21,22,23,24,25,26,27,28,29,30,31,32,33,34,35,36,37,38,39,40,41,42,43,44,45,46,47,48,49,50,51,52,53,54,55,56,57,58,59,60,61,62,63,64,65,66,67,68,69,70,71,72,73,74,75,76,77,78,79,80,81,82,83,84,85,86,87,88,89,90,91,92,93,94,95,96,97,98,99,100,101,102,103,104,105,106,107,108,109,110,111,112,113,114,115,116,117,118,119,120,121,122,123,124,125,126,127,128,129,130,131,132,133,134,135,136,137,138,139,140,141,142,143,144,145,146,147,148,149,150,151,152,153,154,155,156,157,158,159,160,161,162,163,164,165,166,167,168,169,170,171,172,173,174,175,176,177,178,179],\"marker\":[\"circle\",\"circle\",\"circle\",\"circle\",\"circle\",\"circle\",\"circle\",\"circle\",\"circle\",\"circle\",\"circle\",\"circle\",\"circle\",\"circle\",\"circle\",\"circle\",\"circle\",\"circle\",\"circle\",\"circle\",\"circle\",\"circle\",\"circle\",\"circle\",\"circle\",\"circle\",\"circle\",\"circle\",\"circle\",\"circle\",\"circle\",\"circle\",\"circle\",\"circle\",\"circle\",\"circle\",\"circle\",\"circle\",\"circle\",\"circle\",\"circle\",\"circle\",\"circle\",\"circle\",\"circle\",\"circle\",\"circle\",\"circle\",\"circle\",\"circle\",\"circle\",\"circle\",\"circle\",\"circle\",\"circle\",\"circle\",\"circle\",\"circle\",\"circle\",\"circle\",\"circle\",\"circle\",\"circle\",\"circle\",\"circle\",\"circle\",\"circle\",\"circle\",\"circle\",\"circle\",\"circle\",\"circle\",\"circle\",\"circle\",\"circle\",\"circle\",\"circle\",\"circle\",\"circle\",\"circle\",\"circle\",\"circle\",\"circle\",\"circle\",\"circle\",\"circle\",\"circle\",\"circle\",\"circle\",\"circle\",\"circle\",\"circle\",\"circle\",\"circle\",\"circle\",\"circle\",\"circle\",\"circle\",\"circle\",\"circle\",\"circle\",\"circle\",\"circle\",\"circle\",\"circle\",\"circle\",\"circle\",\"circle\",\"circle\",\"circle\",\"circle\",\"circle\",\"circle\",\"circle\",\"circle\",\"circle\",\"circle\",\"circle\",\"circle\",\"circle\",\"circle\",\"circle\",\"circle\",\"circle\",\"circle\",\"circle\",\"circle\",\"circle\",\"circle\",\"circle\",\"circle\",\"circle\",\"circle\",\"circle\",\"circle\",\"circle\",\"circle\",\"circle\",\"circle\",\"circle\",\"circle\",\"circle\",\"circle\",\"circle\",\"circle\",\"circle\",\"circle\",\"circle\",\"circle\",\"circle\",\"circle\",\"circle\",\"circle\",\"circle\",\"circle\",\"circle\",\"circle\",\"circle\",\"circle\",\"circle\",\"circle\",\"circle\",\"circle\",\"circle\",\"circle\",\"circle\",\"circle\",\"circle\",\"circle\",\"circle\",\"circle\",\"circle\",\"circle\",\"circle\",\"circle\",\"circle\",\"circle\",\"circle\",\"circle\",\"circle\"],\"model\":[\"scipy_L-BFGS-B_0\",\"scipy_L-BFGS-B_0\",\"scipy_L-BFGS-B_0\",\"scipy_L-BFGS-B_0\",\"scipy_L-BFGS-B_0\",\"scipy_L-BFGS-B_0\",\"scipy_L-BFGS-B_1\",\"scipy_L-BFGS-B_1\",\"scipy_L-BFGS-B_1\",\"scipy_L-BFGS-B_1\",\"scipy_L-BFGS-B_1\",\"scipy_L-BFGS-B_1\",\"scipy_L-BFGS-B_2\",\"scipy_L-BFGS-B_2\",\"scipy_L-BFGS-B_2\",\"scipy_L-BFGS-B_2\",\"scipy_L-BFGS-B_2\",\"scipy_L-BFGS-B_2\",\"scipy_L-BFGS-B_3\",\"scipy_L-BFGS-B_3\",\"scipy_L-BFGS-B_3\",\"scipy_L-BFGS-B_3\",\"scipy_L-BFGS-B_3\",\"scipy_L-BFGS-B_3\",\"scipy_L-BFGS-B_4\",\"scipy_L-BFGS-B_4\",\"scipy_L-BFGS-B_4\",\"scipy_L-BFGS-B_4\",\"scipy_L-BFGS-B_4\",\"scipy_L-BFGS-B_4\",\"scipy_L-BFGS-B_5\",\"scipy_L-BFGS-B_5\",\"scipy_L-BFGS-B_5\",\"scipy_L-BFGS-B_5\",\"scipy_L-BFGS-B_5\",\"scipy_L-BFGS-B_5\",\"scipy_L-BFGS-B_6\",\"scipy_L-BFGS-B_6\",\"scipy_L-BFGS-B_6\",\"scipy_L-BFGS-B_6\",\"scipy_L-BFGS-B_6\",\"scipy_L-BFGS-B_6\",\"scipy_L-BFGS-B_7\",\"scipy_L-BFGS-B_7\",\"scipy_L-BFGS-B_7\",\"scipy_L-BFGS-B_7\",\"scipy_L-BFGS-B_7\",\"scipy_L-BFGS-B_7\",\"scipy_L-BFGS-B_8\",\"scipy_L-BFGS-B_8\",\"scipy_L-BFGS-B_8\",\"scipy_L-BFGS-B_8\",\"scipy_L-BFGS-B_8\",\"scipy_L-BFGS-B_8\",\"scipy_L-BFGS-B_9\",\"scipy_L-BFGS-B_9\",\"scipy_L-BFGS-B_9\",\"scipy_L-BFGS-B_9\",\"scipy_L-BFGS-B_9\",\"scipy_L-BFGS-B_9\",\"scipy_TNC_0\",\"scipy_TNC_0\",\"scipy_TNC_0\",\"scipy_TNC_0\",\"scipy_TNC_0\",\"scipy_TNC_0\",\"scipy_TNC_1\",\"scipy_TNC_1\",\"scipy_TNC_1\",\"scipy_TNC_1\",\"scipy_TNC_1\",\"scipy_TNC_1\",\"scipy_TNC_2\",\"scipy_TNC_2\",\"scipy_TNC_2\",\"scipy_TNC_2\",\"scipy_TNC_2\",\"scipy_TNC_2\",\"scipy_TNC_3\",\"scipy_TNC_3\",\"scipy_TNC_3\",\"scipy_TNC_3\",\"scipy_TNC_3\",\"scipy_TNC_3\",\"scipy_TNC_4\",\"scipy_TNC_4\",\"scipy_TNC_4\",\"scipy_TNC_4\",\"scipy_TNC_4\",\"scipy_TNC_4\",\"scipy_TNC_5\",\"scipy_TNC_5\",\"scipy_TNC_5\",\"scipy_TNC_5\",\"scipy_TNC_5\",\"scipy_TNC_5\",\"scipy_TNC_6\",\"scipy_TNC_6\",\"scipy_TNC_6\",\"scipy_TNC_6\",\"scipy_TNC_6\",\"scipy_TNC_6\",\"scipy_TNC_7\",\"scipy_TNC_7\",\"scipy_TNC_7\",\"scipy_TNC_7\",\"scipy_TNC_7\",\"scipy_TNC_7\",\"scipy_TNC_8\",\"scipy_TNC_8\",\"scipy_TNC_8\",\"scipy_TNC_8\",\"scipy_TNC_8\",\"scipy_TNC_8\",\"scipy_TNC_9\",\"scipy_TNC_9\",\"scipy_TNC_9\",\"scipy_TNC_9\",\"scipy_TNC_9\",\"scipy_TNC_9\",\"scipy_SLSQP_0\",\"scipy_SLSQP_0\",\"scipy_SLSQP_0\",\"scipy_SLSQP_0\",\"scipy_SLSQP_0\",\"scipy_SLSQP_0\",\"scipy_SLSQP_1\",\"scipy_SLSQP_1\",\"scipy_SLSQP_1\",\"scipy_SLSQP_1\",\"scipy_SLSQP_1\",\"scipy_SLSQP_1\",\"scipy_SLSQP_2\",\"scipy_SLSQP_2\",\"scipy_SLSQP_2\",\"scipy_SLSQP_2\",\"scipy_SLSQP_2\",\"scipy_SLSQP_2\",\"scipy_SLSQP_3\",\"scipy_SLSQP_3\",\"scipy_SLSQP_3\",\"scipy_SLSQP_3\",\"scipy_SLSQP_3\",\"scipy_SLSQP_3\",\"scipy_SLSQP_4\",\"scipy_SLSQP_4\",\"scipy_SLSQP_4\",\"scipy_SLSQP_4\",\"scipy_SLSQP_4\",\"scipy_SLSQP_4\",\"scipy_SLSQP_5\",\"scipy_SLSQP_5\",\"scipy_SLSQP_5\",\"scipy_SLSQP_5\",\"scipy_SLSQP_5\",\"scipy_SLSQP_5\",\"scipy_SLSQP_6\",\"scipy_SLSQP_6\",\"scipy_SLSQP_6\",\"scipy_SLSQP_6\",\"scipy_SLSQP_6\",\"scipy_SLSQP_6\",\"scipy_SLSQP_7\",\"scipy_SLSQP_7\",\"scipy_SLSQP_7\",\"scipy_SLSQP_7\",\"scipy_SLSQP_7\",\"scipy_SLSQP_7\",\"scipy_SLSQP_8\",\"scipy_SLSQP_8\",\"scipy_SLSQP_8\",\"scipy_SLSQP_8\",\"scipy_SLSQP_8\",\"scipy_SLSQP_8\",\"scipy_SLSQP_9\",\"scipy_SLSQP_9\",\"scipy_SLSQP_9\",\"scipy_SLSQP_9\",\"scipy_SLSQP_9\",\"scipy_SLSQP_9\"],\"model_class\":[\"L-BFGS-B\",\"L-BFGS-B\",\"L-BFGS-B\",\"L-BFGS-B\",\"L-BFGS-B\",\"L-BFGS-B\",\"L-BFGS-B\",\"L-BFGS-B\",\"L-BFGS-B\",\"L-BFGS-B\",\"L-BFGS-B\",\"L-BFGS-B\",\"L-BFGS-B\",\"L-BFGS-B\",\"L-BFGS-B\",\"L-BFGS-B\",\"L-BFGS-B\",\"L-BFGS-B\",\"L-BFGS-B\",\"L-BFGS-B\",\"L-BFGS-B\",\"L-BFGS-B\",\"L-BFGS-B\",\"L-BFGS-B\",\"L-BFGS-B\",\"L-BFGS-B\",\"L-BFGS-B\",\"L-BFGS-B\",\"L-BFGS-B\",\"L-BFGS-B\",\"L-BFGS-B\",\"L-BFGS-B\",\"L-BFGS-B\",\"L-BFGS-B\",\"L-BFGS-B\",\"L-BFGS-B\",\"L-BFGS-B\",\"L-BFGS-B\",\"L-BFGS-B\",\"L-BFGS-B\",\"L-BFGS-B\",\"L-BFGS-B\",\"L-BFGS-B\",\"L-BFGS-B\",\"L-BFGS-B\",\"L-BFGS-B\",\"L-BFGS-B\",\"L-BFGS-B\",\"L-BFGS-B\",\"L-BFGS-B\",\"L-BFGS-B\",\"L-BFGS-B\",\"L-BFGS-B\",\"L-BFGS-B\",\"L-BFGS-B\",\"L-BFGS-B\",\"L-BFGS-B\",\"L-BFGS-B\",\"L-BFGS-B\",\"L-BFGS-B\",\"TNC\",\"TNC\",\"TNC\",\"TNC\",\"TNC\",\"TNC\",\"TNC\",\"TNC\",\"TNC\",\"TNC\",\"TNC\",\"TNC\",\"TNC\",\"TNC\",\"TNC\",\"TNC\",\"TNC\",\"TNC\",\"TNC\",\"TNC\",\"TNC\",\"TNC\",\"TNC\",\"TNC\",\"TNC\",\"TNC\",\"TNC\",\"TNC\",\"TNC\",\"TNC\",\"TNC\",\"TNC\",\"TNC\",\"TNC\",\"TNC\",\"TNC\",\"TNC\",\"TNC\",\"TNC\",\"TNC\",\"TNC\",\"TNC\",\"TNC\",\"TNC\",\"TNC\",\"TNC\",\"TNC\",\"TNC\",\"TNC\",\"TNC\",\"TNC\",\"TNC\",\"TNC\",\"TNC\",\"TNC\",\"TNC\",\"TNC\",\"TNC\",\"TNC\",\"TNC\",\"SLSQP\",\"SLSQP\",\"SLSQP\",\"SLSQP\",\"SLSQP\",\"SLSQP\",\"SLSQP\",\"SLSQP\",\"SLSQP\",\"SLSQP\",\"SLSQP\",\"SLSQP\",\"SLSQP\",\"SLSQP\",\"SLSQP\",\"SLSQP\",\"SLSQP\",\"SLSQP\",\"SLSQP\",\"SLSQP\",\"SLSQP\",\"SLSQP\",\"SLSQP\",\"SLSQP\",\"SLSQP\",\"SLSQP\",\"SLSQP\",\"SLSQP\",\"SLSQP\",\"SLSQP\",\"SLSQP\",\"SLSQP\",\"SLSQP\",\"SLSQP\",\"SLSQP\",\"SLSQP\",\"SLSQP\",\"SLSQP\",\"SLSQP\",\"SLSQP\",\"SLSQP\",\"SLSQP\",\"SLSQP\",\"SLSQP\",\"SLSQP\",\"SLSQP\",\"SLSQP\",\"SLSQP\",\"SLSQP\",\"SLSQP\",\"SLSQP\",\"SLSQP\",\"SLSQP\",\"SLSQP\",\"SLSQP\",\"SLSQP\",\"SLSQP\",\"SLSQP\",\"SLSQP\",\"SLSQP\"],\"name\":[\"a0\",\"b0\",\"a1\",\"b1\",\"a2\",\"b2\",\"a0\",\"b0\",\"a1\",\"b1\",\"a2\",\"b2\",\"a0\",\"b0\",\"a1\",\"b1\",\"a2\",\"b2\",\"a0\",\"b0\",\"a1\",\"b1\",\"a2\",\"b2\",\"a0\",\"b0\",\"a1\",\"b1\",\"a2\",\"b2\",\"a0\",\"b0\",\"a1\",\"b1\",\"a2\",\"b2\",\"a0\",\"b0\",\"a1\",\"b1\",\"a2\",\"b2\",\"a0\",\"b0\",\"a1\",\"b1\",\"a2\",\"b2\",\"a0\",\"b0\",\"a1\",\"b1\",\"a2\",\"b2\",\"a0\",\"b0\",\"a1\",\"b1\",\"a2\",\"b2\",\"a0\",\"b0\",\"a1\",\"b1\",\"a2\",\"b2\",\"a0\",\"b0\",\"a1\",\"b1\",\"a2\",\"b2\",\"a0\",\"b0\",\"a1\",\"b1\",\"a2\",\"b2\",\"a0\",\"b0\",\"a1\",\"b1\",\"a2\",\"b2\",\"a0\",\"b0\",\"a1\",\"b1\",\"a2\",\"b2\",\"a0\",\"b0\",\"a1\",\"b1\",\"a2\",\"b2\",\"a0\",\"b0\",\"a1\",\"b1\",\"a2\",\"b2\",\"a0\",\"b0\",\"a1\",\"b1\",\"a2\",\"b2\",\"a0\",\"b0\",\"a1\",\"b1\",\"a2\",\"b2\",\"a0\",\"b0\",\"a1\",\"b1\",\"a2\",\"b2\",\"a0\",\"b0\",\"a1\",\"b1\",\"a2\",\"b2\",\"a0\",\"b0\",\"a1\",\"b1\",\"a2\",\"b2\",\"a0\",\"b0\",\"a1\",\"b1\",\"a2\",\"b2\",\"a0\",\"b0\",\"a1\",\"b1\",\"a2\",\"b2\",\"a0\",\"b0\",\"a1\",\"b1\",\"a2\",\"b2\",\"a0\",\"b0\",\"a1\",\"b1\",\"a2\",\"b2\",\"a0\",\"b0\",\"a1\",\"b1\",\"a2\",\"b2\",\"a0\",\"b0\",\"a1\",\"b1\",\"a2\",\"b2\",\"a0\",\"b0\",\"a1\",\"b1\",\"a2\",\"b2\",\"a0\",\"b0\",\"a1\",\"b1\",\"a2\",\"b2\"],\"start_value\":{\"__ndarray__\":\"QPq3UB7EuL/SjZtfx3Hxv8KTDxAarQbA4PbtHpDh+z84vkDhbo3Vv1F8A9QpZfG/UGuc2uLsAUBujtgBdTwDwDg9d99U2/Q/MGf+eHTl4r+Q2aIdRuHvv3hfq1dFavY/rBLi7f6N6r+sfuzDFMDwPzi2uR1ZAf4/fKCz/dOWBMDQchDubgzhv3ZmDruDwwZAfKEumbMpAsBCiy6XLfr0vyn6rvcpnva/TnIwPztiBcAdAigBLyEGwGgnTvVeV+q/4COX5UqI9D/4IqAbnWz9P4ynCxXRg/o/7iIPfUP9AkByKynfBVYHwF/54qiyt/S/uPVD7Eqx5z80dybeU/YAQLhYqw/RFATA26nOQJPp8r8Moc4eedb7v5I1ngHR8gZAAP4uGAz87j9kp8rBtMrwPygSiia+4/E/zIc+4ZVw7L9A03Bb0rrVP5zajMJv8wTAwE07VGf5t7/YzSuZCxHzP5BZqjq1UcW/nNgk3LZi8L9dHSPn/+78vyAibIsQHsY/HOnyM1AvBEC0m0Le+zgHwCrBbY+dBwHAogJ1/wNnA8AE8jJ06MoFQPxK51W2U/k/sMmURq5d2D9ImstfmaYEQHiX8s+hude/sETRA6oU8z+8WEQ5el8HwEAIY/jeiLg/QPq3UB7EuL/SjZtfx3Hxv8KTDxAarQbA4PbtHpDh+z84vkDhbo3Vv1F8A9QpZfG/UGuc2uLsAUBujtgBdTwDwDg9d99U2/Q/MGf+eHTl4r+Q2aIdRuHvv3hfq1dFavY/rBLi7f6N6r+sfuzDFMDwPzi2uR1ZAf4/fKCz/dOWBMDQchDubgzhv3ZmDruDwwZAfKEumbMpAsBCiy6XLfr0vyn6rvcpnva/TnIwPztiBcAdAigBLyEGwGgnTvVeV+q/4COX5UqI9D/4IqAbnWz9P4ynCxXRg/o/7iIPfUP9AkByKynfBVYHwF/54qiyt/S/uPVD7Eqx5z80dybeU/YAQLhYqw/RFATA26nOQJPp8r8Moc4eedb7v5I1ngHR8gZAAP4uGAz87j9kp8rBtMrwPygSiia+4/E/zIc+4ZVw7L9A03Bb0rrVP5zajMJv8wTAwE07VGf5t7/YzSuZCxHzP5BZqjq1UcW/nNgk3LZi8L9dHSPn/+78vyAibIsQHsY/HOnyM1AvBEC0m0Le+zgHwCrBbY+dBwHAogJ1/wNnA8AE8jJ06MoFQPxK51W2U/k/sMmURq5d2D9ImstfmaYEQHiX8s+hude/sETRA6oU8z+8WEQ5el8HwEAIY/jeiLg/QPq3UB7EuL/SjZtfx3Hxv8KTDxAarQbA4PbtHpDh+z84vkDhbo3Vv1F8A9QpZfG/UGuc2uLsAUBujtgBdTwDwDg9d99U2/Q/MGf+eHTl4r+Q2aIdRuHvv3hfq1dFavY/rBLi7f6N6r+sfuzDFMDwPzi2uR1ZAf4/fKCz/dOWBMDQchDubgzhv3ZmDruDwwZAfKEumbMpAsBCiy6XLfr0vyn6rvcpnva/TnIwPztiBcAdAigBLyEGwGgnTvVeV+q/4COX5UqI9D/4IqAbnWz9P4ynCxXRg/o/7iIPfUP9AkByKynfBVYHwF/54qiyt/S/uPVD7Eqx5z80dybeU/YAQLhYqw/RFATA26nOQJPp8r8Moc4eedb7v5I1ngHR8gZAAP4uGAz87j9kp8rBtMrwPygSiia+4/E/zIc+4ZVw7L9A03Bb0rrVP5zajMJv8wTAwE07VGf5t7/YzSuZCxHzP5BZqjq1UcW/nNgk3LZi8L9dHSPn/+78vyAibIsQHsY/HOnyM1AvBEC0m0Le+zgHwCrBbY+dBwHAogJ1/wNnA8AE8jJ06MoFQPxK51W2U/k/sMmURq5d2D9ImstfmaYEQHiX8s+hude/sETRA6oU8z+8WEQ5el8HwEAIY/jeiLg/\",\"dtype\":\"float64\",\"shape\":[180]}},\"selected\":{\"id\":\"1337\",\"type\":\"Selection\"},\"selection_policy\":{\"id\":\"1336\",\"type\":\"UnionRenderers\"}},\"id\":\"1229\",\"type\":\"ColumnDataSource\"},{\"attributes\":{\"range\":{\"id\":\"1287\",\"type\":\"FactorRange\"},\"width\":0.6},\"id\":\"1315\",\"type\":\"Jitter\"},{\"attributes\":{},\"id\":\"1253\",\"type\":\"SaveTool\"},{\"attributes\":{\"args\":{\"source\":{\"id\":\"1229\",\"type\":\"ColumnDataSource\"}},\"code\":\"\\n    // adapted from https://stackoverflow.com/a/44996422\\n\\n    var chosen = source.selected.indices;\\n    if (typeof(chosen) == \\\"number\\\"){\\n        var chosen = [chosen]\\n    };\\n\\n    var chosen_models = [];\\n\\n    for (var i = 0; i < chosen.length; ++ i){\\n        chosen_models.push(source.data['model'][chosen[i]])\\n    };\\n\\n    var chosen_models_indices = [];\\n\\n    for (var i = 0; i < source.data['index'].length; ++ i){\\n        if (chosen_models.includes(source.data['model'][i])){\\n            chosen_models_indices.push(i)\\n        };\\n    };\\n\\n    source.selected.indices = chosen_models_indices;\\n    source.change.emit();\"},\"id\":\"1278\",\"type\":\"CustomJS\"},{\"attributes\":{},\"id\":\"1294\",\"type\":\"BasicTicker\"},{\"attributes\":{\"grid_line_color\":null,\"ticker\":{\"id\":\"1294\",\"type\":\"BasicTicker\"}},\"id\":\"1297\",\"type\":\"Grid\"},{\"attributes\":{\"axis_line_color\":{\"value\":\"white\"},\"formatter\":{\"id\":\"1351\",\"type\":\"CategoricalTickFormatter\"},\"major_tick_line_color\":{\"value\":null},\"ticker\":{\"id\":\"1299\",\"type\":\"CategoricalTicker\"}},\"id\":\"1298\",\"type\":\"CategoricalAxis\"},{\"attributes\":{},\"id\":\"1299\",\"type\":\"CategoricalTicker\"},{\"attributes\":{\"dimension\":1,\"ticker\":{\"id\":\"1299\",\"type\":\"CategoricalTicker\"}},\"id\":\"1301\",\"type\":\"Grid\"},{\"attributes\":{\"fill_alpha\":{\"value\":0.5},\"fill_color\":{\"field\":\"color\"},\"line_alpha\":{\"value\":0.5},\"line_color\":{\"field\":\"color\"},\"marker\":{\"field\":\"marker\"},\"size\":{\"units\":\"screen\",\"value\":12},\"x\":{\"field\":\"final_value\"},\"y\":{\"field\":\"full_name\",\"transform\":{\"id\":\"1315\",\"type\":\"Jitter\"}}},\"id\":\"1317\",\"type\":\"Scatter\"},{\"attributes\":{},\"id\":\"1351\",\"type\":\"CategoricalTickFormatter\"},{\"attributes\":{\"fill_alpha\":{\"value\":0.3},\"fill_color\":{\"field\":\"color\"},\"line_alpha\":{\"value\":0.3},\"line_color\":{\"field\":\"color\"},\"marker\":{\"field\":\"marker\"},\"size\":{\"units\":\"screen\",\"value\":12},\"x\":{\"field\":\"final_value\"},\"y\":{\"field\":\"full_name\",\"transform\":{\"id\":\"1315\",\"type\":\"Jitter\"}}},\"id\":\"1318\",\"type\":\"Scatter\"},{\"attributes\":{},\"id\":\"1302\",\"type\":\"PanTool\"},{\"attributes\":{\"text\":\"Comparison Plot of A Parameters\"},\"id\":\"1231\",\"type\":\"Title\"},{\"attributes\":{},\"id\":\"1303\",\"type\":\"WheelZoomTool\"},{\"attributes\":{\"overlay\":{\"id\":\"1352\",\"type\":\"BoxAnnotation\"}},\"id\":\"1304\",\"type\":\"BoxZoomTool\"},{\"attributes\":{},\"id\":\"1305\",\"type\":\"SaveTool\"},{\"attributes\":{},\"id\":\"1306\",\"type\":\"ResetTool\"},{\"attributes\":{},\"id\":\"1307\",\"type\":\"HelpTool\"},{\"attributes\":{\"active_drag\":\"auto\",\"active_inspect\":\"auto\",\"active_multi\":null,\"active_scroll\":\"auto\",\"active_tap\":\"auto\",\"tools\":[{\"id\":\"1302\",\"type\":\"PanTool\"},{\"id\":\"1303\",\"type\":\"WheelZoomTool\"},{\"id\":\"1304\",\"type\":\"BoxZoomTool\"},{\"id\":\"1305\",\"type\":\"SaveTool\"},{\"id\":\"1306\",\"type\":\"ResetTool\"},{\"id\":\"1307\",\"type\":\"HelpTool\"},{\"id\":\"1328\",\"type\":\"HoverTool\"},{\"id\":\"1331\",\"type\":\"TapTool\"}]},\"id\":\"1308\",\"type\":\"Toolbar\"},{\"attributes\":{\"fill_alpha\":{\"value\":0.7},\"fill_color\":{\"field\":\"color\"},\"line_alpha\":{\"value\":0.7},\"line_color\":{\"field\":\"color\"},\"marker\":{\"field\":\"marker\"},\"size\":{\"units\":\"screen\",\"value\":12},\"x\":{\"field\":\"final_value\"},\"y\":{\"field\":\"full_name\",\"transform\":{\"id\":\"1315\",\"type\":\"Jitter\"}}},\"id\":\"1319\",\"type\":\"Scatter\"},{\"attributes\":{\"data_source\":{\"id\":\"1229\",\"type\":\"ColumnDataSource\"},\"glyph\":{\"id\":\"1317\",\"type\":\"Scatter\"},\"hover_glyph\":null,\"muted_glyph\":null,\"nonselection_glyph\":{\"id\":\"1318\",\"type\":\"Scatter\"},\"selection_glyph\":{\"id\":\"1319\",\"type\":\"Scatter\"},\"view\":{\"id\":\"1321\",\"type\":\"CDSView\"}},\"id\":\"1320\",\"type\":\"GlyphRenderer\"},{\"attributes\":{\"range\":{\"id\":\"1235\",\"type\":\"FactorRange\"},\"width\":0.6},\"id\":\"1263\",\"type\":\"Jitter\"},{\"attributes\":{\"below\":[{\"id\":\"1241\",\"type\":\"LinearAxis\"}],\"center\":[{\"id\":\"1245\",\"type\":\"Grid\"},{\"id\":\"1249\",\"type\":\"Grid\"}],\"left\":[{\"id\":\"1246\",\"type\":\"CategoricalAxis\"}],\"outline_line_color\":{\"value\":null},\"plot_height\":400,\"plot_width\":500,\"renderers\":[{\"id\":\"1268\",\"type\":\"GlyphRenderer\"},{\"id\":\"1274\",\"type\":\"GlyphRenderer\"}],\"title\":{\"id\":\"1231\",\"type\":\"Title\"},\"toolbar\":{\"id\":\"1256\",\"type\":\"Toolbar\"},\"toolbar_location\":null,\"x_range\":{\"id\":\"1281\",\"type\":\"Range1d\"},\"x_scale\":{\"id\":\"1237\",\"type\":\"LinearScale\"},\"y_range\":{\"id\":\"1235\",\"type\":\"FactorRange\"},\"y_scale\":{\"id\":\"1239\",\"type\":\"CategoricalScale\"}},\"id\":\"1230\",\"subtype\":\"Figure\",\"type\":\"Plot\"},{\"attributes\":{\"source\":{\"id\":\"1229\",\"type\":\"ColumnDataSource\"}},\"id\":\"1321\",\"type\":\"CDSView\"},{\"attributes\":{},\"id\":\"1349\",\"type\":\"BasicTickFormatter\"},{\"attributes\":{\"fill_alpha\":{\"value\":0.0},\"fill_color\":{\"field\":\"color\"},\"height\":{\"value\":0.01},\"left\":{\"field\":\"conf_int_lower\"},\"line_alpha\":{\"value\":0.0},\"line_color\":{\"field\":\"color\"},\"right\":{\"field\":\"conf_int_upper\"},\"y\":{\"field\":\"full_name\",\"transform\":{\"id\":\"1315\",\"type\":\"Jitter\"}}},\"id\":\"1323\",\"type\":\"HBar\"},{\"attributes\":{\"fill_alpha\":{\"value\":0.0},\"fill_color\":{\"field\":\"color\"},\"height\":{\"value\":0.01},\"left\":{\"field\":\"conf_int_lower\"},\"line_alpha\":{\"value\":0.0},\"line_color\":{\"field\":\"color\"},\"right\":{\"field\":\"conf_int_upper\"},\"y\":{\"field\":\"full_name\",\"transform\":{\"id\":\"1315\",\"type\":\"Jitter\"}}},\"id\":\"1324\",\"type\":\"HBar\"},{\"attributes\":{\"fill_alpha\":{\"value\":0.7},\"fill_color\":{\"field\":\"color\"},\"height\":{\"value\":0.01},\"left\":{\"field\":\"conf_int_lower\"},\"line_alpha\":{\"value\":0.7},\"line_color\":{\"field\":\"color\"},\"right\":{\"field\":\"conf_int_upper\"},\"y\":{\"field\":\"full_name\",\"transform\":{\"id\":\"1315\",\"type\":\"Jitter\"}}},\"id\":\"1325\",\"type\":\"HBar\"},{\"attributes\":{\"data_source\":{\"id\":\"1229\",\"type\":\"ColumnDataSource\"},\"glyph\":{\"id\":\"1323\",\"type\":\"HBar\"},\"hover_glyph\":null,\"muted_glyph\":null,\"nonselection_glyph\":{\"id\":\"1324\",\"type\":\"HBar\"},\"selection_glyph\":{\"id\":\"1325\",\"type\":\"HBar\"},\"view\":{\"id\":\"1327\",\"type\":\"CDSView\"}},\"id\":\"1326\",\"type\":\"GlyphRenderer\"},{\"attributes\":{\"source\":{\"id\":\"1229\",\"type\":\"ColumnDataSource\"}},\"id\":\"1327\",\"type\":\"CDSView\"},{\"attributes\":{},\"id\":\"1239\",\"type\":\"CategoricalScale\"},{\"attributes\":{},\"id\":\"1336\",\"type\":\"UnionRenderers\"},{\"attributes\":{\"children\":[[{\"id\":\"1335\",\"type\":\"CheckboxGroup\"},0,0],[{\"id\":\"1230\",\"subtype\":\"Figure\",\"type\":\"Plot\"},1,0],[{\"id\":\"1282\",\"subtype\":\"Figure\",\"type\":\"Plot\"},2,0]]},\"id\":\"1356\",\"type\":\"GridBox\"},{\"attributes\":{\"callback\":null,\"renderers\":[{\"id\":\"1268\",\"type\":\"GlyphRenderer\"}],\"tooltips\":[[\"model\",\"@model\"],[\"full_name\",\"@full_name\"],[\"start_value\",\"@start_value\"],[\"final_value\",\"@final_value\"],[\"index\",\"@index\"],[\"conf_int_lower\",\"@conf_int_lower\"],[\"conf_int_upper\",\"@conf_int_upper\"],[\"model_class\",\"@model_class\"]]},\"id\":\"1276\",\"type\":\"HoverTool\"},{\"attributes\":{\"active\":[0,0,0],\"callback\":{\"id\":\"1334\",\"type\":\"CustomJS\"},\"inline\":true,\"labels\":[\"L-BFGS-B\",\"SLSQP\",\"TNC\"]},\"id\":\"1335\",\"type\":\"CheckboxGroup\"},{\"attributes\":{\"callback\":null,\"end\":0.5337431453369277,\"start\":-0.10436306196431164},\"id\":\"1333\",\"type\":\"Range1d\"},{\"attributes\":{\"callback\":{\"id\":\"1330\",\"type\":\"CustomJS\"},\"renderers\":[{\"id\":\"1320\",\"type\":\"GlyphRenderer\"}]},\"id\":\"1331\",\"type\":\"TapTool\"},{\"attributes\":{\"args\":{\"source\":{\"id\":\"1229\",\"type\":\"ColumnDataSource\"}},\"code\":\"\\n    // adapted from https://stackoverflow.com/a/44996422\\n\\n    var chosen = source.selected.indices;\\n    if (typeof(chosen) == \\\"number\\\"){\\n        var chosen = [chosen]\\n    };\\n\\n    var chosen_models = [];\\n\\n    for (var i = 0; i < chosen.length; ++ i){\\n        chosen_models.push(source.data['model'][chosen[i]])\\n    };\\n\\n    var chosen_models_indices = [];\\n\\n    for (var i = 0; i < source.data['index'].length; ++ i){\\n        if (chosen_models.includes(source.data['model'][i])){\\n            chosen_models_indices.push(i)\\n        };\\n    };\\n\\n    source.selected.indices = chosen_models_indices;\\n    source.change.emit();\"},\"id\":\"1330\",\"type\":\"CustomJS\"},{\"attributes\":{},\"id\":\"1337\",\"type\":\"Selection\"},{\"attributes\":{},\"id\":\"1340\",\"type\":\"BasicTickFormatter\"},{\"attributes\":{\"formatter\":{\"id\":\"1340\",\"type\":\"BasicTickFormatter\"},\"ticker\":{\"id\":\"1242\",\"type\":\"BasicTicker\"}},\"id\":\"1241\",\"type\":\"LinearAxis\"},{\"attributes\":{},\"id\":\"1342\",\"type\":\"CategoricalTickFormatter\"},{\"attributes\":{\"bottom_units\":\"screen\",\"fill_alpha\":{\"value\":0.5},\"fill_color\":{\"value\":\"lightgrey\"},\"left_units\":\"screen\",\"level\":\"overlay\",\"line_alpha\":{\"value\":1.0},\"line_color\":{\"value\":\"black\"},\"line_dash\":[4,4],\"line_width\":{\"value\":2},\"render_mode\":\"css\",\"right_units\":\"screen\",\"top_units\":\"screen\"},\"id\":\"1343\",\"type\":\"BoxAnnotation\"}],\"root_ids\":[\"1359\"]},\"title\":\"Bokeh Application\",\"version\":\"1.2.0\"}};\n",
       "  var render_items = [{\"docid\":\"d48013cb-e351-44f9-9b1e-80c8d77c91b0\",\"roots\":{\"1359\":\"02a7b198-df71-4b6f-a615-63538ae509e3\"}}];\n",
       "  root.Bokeh.embed.embed_items_notebook(docs_json, render_items);\n",
       "\n",
       "  }\n",
       "  if (root.Bokeh !== undefined) {\n",
       "    embed_document(root);\n",
       "  } else {\n",
       "    var attempts = 0;\n",
       "    var timer = setInterval(function(root) {\n",
       "      if (root.Bokeh !== undefined) {\n",
       "        embed_document(root);\n",
       "        clearInterval(timer);\n",
       "      }\n",
       "      attempts++;\n",
       "      if (attempts > 100) {\n",
       "        console.log(\"Bokeh: ERROR: Unable to run BokehJS code because BokehJS library is missing\");\n",
       "        clearInterval(timer);\n",
       "      }\n",
       "    }, 10, root)\n",
       "  }\n",
       "})(window);"
      ],
      "application/vnd.bokehjs_exec.v0+json": ""
     },
     "metadata": {
      "application/vnd.bokehjs_exec.v0+json": {
       "id": "1359"
      }
     },
     "output_type": "display_data"
    }
   ],
   "source": [
    "color_dict={\n",
    "    'TNC': '#035096', \n",
    "    'SLSQP': 'firebrick', \n",
    "    'L-BFGS-B': 'forestgreen'\n",
    "}\n",
    "grid, plots = comparison_plot(full_res, color_dict, height=800, width=500)"
   ]
  },
  {
   "cell_type": "code",
   "execution_count": null,
   "metadata": {},
   "outputs": [],
   "source": []
  },
  {
   "cell_type": "code",
   "execution_count": null,
   "metadata": {},
   "outputs": [],
   "source": []
  },
  {
   "cell_type": "markdown",
   "metadata": {},
   "source": [
    "# Introduction to Bokeh"
   ]
  },
  {
   "cell_type": "code",
   "execution_count": 5,
   "metadata": {},
   "outputs": [],
   "source": [
    "import numpy as np\n",
    "import pandas as pd\n",
    "import bokeh"
   ]
  },
  {
   "cell_type": "markdown",
   "metadata": {},
   "source": [
    "## Our Inputs"
   ]
  },
  {
   "cell_type": "code",
   "execution_count": 6,
   "metadata": {},
   "outputs": [],
   "source": [
    "from comparison_plot import process_inputs\n",
    "\n",
    "df, param_groups_and_heights, plot_width = process_inputs(\n",
    "    data_dict=full_res,\n",
    "    color_dict=color_dict,\n",
    "    marker_dict=None,\n",
    "    height=800,\n",
    "    width=500)\n",
    "\n",
    "cols = [\n",
    "    'model_class', 'model', 'color', \n",
    "    'group', 'name', 'start_value', 'final_value']"
   ]
  },
  {
   "cell_type": "code",
   "execution_count": 7,
   "metadata": {},
   "outputs": [
    {
     "data": {
      "text/html": [
       "<div>\n",
       "<style scoped>\n",
       "    .dataframe tbody tr th:only-of-type {\n",
       "        vertical-align: middle;\n",
       "    }\n",
       "\n",
       "    .dataframe tbody tr th {\n",
       "        vertical-align: top;\n",
       "    }\n",
       "\n",
       "    .dataframe thead th {\n",
       "        text-align: right;\n",
       "    }\n",
       "</style>\n",
       "<table border=\"1\" class=\"dataframe\">\n",
       "  <thead>\n",
       "    <tr style=\"text-align: right;\">\n",
       "      <th></th>\n",
       "      <th>model_class</th>\n",
       "      <th>model</th>\n",
       "      <th>color</th>\n",
       "      <th>group</th>\n",
       "      <th>name</th>\n",
       "      <th>start_value</th>\n",
       "      <th>final_value</th>\n",
       "    </tr>\n",
       "  </thead>\n",
       "  <tbody>\n",
       "    <tr>\n",
       "      <th>115</th>\n",
       "      <td>TNC</td>\n",
       "      <td>scipy_TNC_9</td>\n",
       "      <td>#035096</td>\n",
       "      <td>b</td>\n",
       "      <td>b0</td>\n",
       "      <td>2.581347</td>\n",
       "      <td>-0.003407</td>\n",
       "    </tr>\n",
       "    <tr>\n",
       "      <th>116</th>\n",
       "      <td>TNC</td>\n",
       "      <td>scipy_TNC_9</td>\n",
       "      <td>#035096</td>\n",
       "      <td>a</td>\n",
       "      <td>a1</td>\n",
       "      <td>-0.370705</td>\n",
       "      <td>0.011009</td>\n",
       "    </tr>\n",
       "    <tr>\n",
       "      <th>117</th>\n",
       "      <td>TNC</td>\n",
       "      <td>scipy_TNC_9</td>\n",
       "      <td>#035096</td>\n",
       "      <td>b</td>\n",
       "      <td>b1</td>\n",
       "      <td>1.192545</td>\n",
       "      <td>-0.001100</td>\n",
       "    </tr>\n",
       "    <tr>\n",
       "      <th>118</th>\n",
       "      <td>TNC</td>\n",
       "      <td>scipy_TNC_9</td>\n",
       "      <td>#035096</td>\n",
       "      <td>a</td>\n",
       "      <td>a2</td>\n",
       "      <td>-2.921620</td>\n",
       "      <td>0.002294</td>\n",
       "    </tr>\n",
       "    <tr>\n",
       "      <th>119</th>\n",
       "      <td>TNC</td>\n",
       "      <td>scipy_TNC_9</td>\n",
       "      <td>#035096</td>\n",
       "      <td>b</td>\n",
       "      <td>b2</td>\n",
       "      <td>0.095838</td>\n",
       "      <td>-0.000222</td>\n",
       "    </tr>\n",
       "    <tr>\n",
       "      <th>120</th>\n",
       "      <td>SLSQP</td>\n",
       "      <td>scipy_SLSQP_0</td>\n",
       "      <td>firebrick</td>\n",
       "      <td>a</td>\n",
       "      <td>a0</td>\n",
       "      <td>-0.096743</td>\n",
       "      <td>-0.005357</td>\n",
       "    </tr>\n",
       "    <tr>\n",
       "      <th>121</th>\n",
       "      <td>SLSQP</td>\n",
       "      <td>scipy_SLSQP_0</td>\n",
       "      <td>firebrick</td>\n",
       "      <td>b</td>\n",
       "      <td>b0</td>\n",
       "      <td>-1.090278</td>\n",
       "      <td>0.000536</td>\n",
       "    </tr>\n",
       "    <tr>\n",
       "      <th>122</th>\n",
       "      <td>SLSQP</td>\n",
       "      <td>scipy_SLSQP_0</td>\n",
       "      <td>firebrick</td>\n",
       "      <td>a</td>\n",
       "      <td>a1</td>\n",
       "      <td>-2.834522</td>\n",
       "      <td>-0.010051</td>\n",
       "    </tr>\n",
       "    <tr>\n",
       "      <th>123</th>\n",
       "      <td>SLSQP</td>\n",
       "      <td>scipy_SLSQP_0</td>\n",
       "      <td>firebrick</td>\n",
       "      <td>b</td>\n",
       "      <td>b1</td>\n",
       "      <td>1.742569</td>\n",
       "      <td>0.001005</td>\n",
       "    </tr>\n",
       "    <tr>\n",
       "      <th>124</th>\n",
       "      <td>SLSQP</td>\n",
       "      <td>scipy_SLSQP_0</td>\n",
       "      <td>firebrick</td>\n",
       "      <td>a</td>\n",
       "      <td>a2</td>\n",
       "      <td>-0.336757</td>\n",
       "      <td>-0.033638</td>\n",
       "    </tr>\n",
       "  </tbody>\n",
       "</table>\n",
       "</div>"
      ],
      "text/plain": [
       "    model_class          model      color group name  start_value  final_value\n",
       "115         TNC    scipy_TNC_9    #035096     b   b0     2.581347    -0.003407\n",
       "116         TNC    scipy_TNC_9    #035096     a   a1    -0.370705     0.011009\n",
       "117         TNC    scipy_TNC_9    #035096     b   b1     1.192545    -0.001100\n",
       "118         TNC    scipy_TNC_9    #035096     a   a2    -2.921620     0.002294\n",
       "119         TNC    scipy_TNC_9    #035096     b   b2     0.095838    -0.000222\n",
       "120       SLSQP  scipy_SLSQP_0  firebrick     a   a0    -0.096743    -0.005357\n",
       "121       SLSQP  scipy_SLSQP_0  firebrick     b   b0    -1.090278     0.000536\n",
       "122       SLSQP  scipy_SLSQP_0  firebrick     a   a1    -2.834522    -0.010051\n",
       "123       SLSQP  scipy_SLSQP_0  firebrick     b   b1     1.742569     0.001005\n",
       "124       SLSQP  scipy_SLSQP_0  firebrick     a   a2    -0.336757    -0.033638"
      ]
     },
     "execution_count": 7,
     "metadata": {},
     "output_type": "execute_result"
    }
   ],
   "source": [
    "# what our data looks like ...\n",
    "df[cols][115:125]"
   ]
  },
  {
   "cell_type": "code",
   "execution_count": null,
   "metadata": {},
   "outputs": [],
   "source": []
  },
  {
   "cell_type": "code",
   "execution_count": 8,
   "metadata": {},
   "outputs": [
    {
     "data": {
      "text/html": [
       "<div>\n",
       "<style scoped>\n",
       "    .dataframe tbody tr th:only-of-type {\n",
       "        vertical-align: middle;\n",
       "    }\n",
       "\n",
       "    .dataframe tbody tr th {\n",
       "        vertical-align: top;\n",
       "    }\n",
       "\n",
       "    .dataframe thead th {\n",
       "        text-align: right;\n",
       "    }\n",
       "</style>\n",
       "<table border=\"1\" class=\"dataframe\">\n",
       "  <thead>\n",
       "    <tr style=\"text-align: right;\">\n",
       "      <th></th>\n",
       "      <th>model_class</th>\n",
       "      <th>model</th>\n",
       "      <th>color</th>\n",
       "      <th>group</th>\n",
       "      <th>name</th>\n",
       "      <th>start_value</th>\n",
       "      <th>final_value</th>\n",
       "    </tr>\n",
       "  </thead>\n",
       "  <tbody>\n",
       "    <tr>\n",
       "      <th>0</th>\n",
       "      <td>L-BFGS-B</td>\n",
       "      <td>scipy_L-BFGS-B_0</td>\n",
       "      <td>forestgreen</td>\n",
       "      <td>a</td>\n",
       "      <td>a0</td>\n",
       "      <td>-0.096743</td>\n",
       "      <td>0.003724</td>\n",
       "    </tr>\n",
       "    <tr>\n",
       "      <th>2</th>\n",
       "      <td>L-BFGS-B</td>\n",
       "      <td>scipy_L-BFGS-B_0</td>\n",
       "      <td>forestgreen</td>\n",
       "      <td>a</td>\n",
       "      <td>a1</td>\n",
       "      <td>-2.834522</td>\n",
       "      <td>-0.004766</td>\n",
       "    </tr>\n",
       "    <tr>\n",
       "      <th>4</th>\n",
       "      <td>L-BFGS-B</td>\n",
       "      <td>scipy_L-BFGS-B_0</td>\n",
       "      <td>forestgreen</td>\n",
       "      <td>a</td>\n",
       "      <td>a2</td>\n",
       "      <td>-0.336757</td>\n",
       "      <td>0.004090</td>\n",
       "    </tr>\n",
       "    <tr>\n",
       "      <th>6</th>\n",
       "      <td>L-BFGS-B</td>\n",
       "      <td>scipy_L-BFGS-B_1</td>\n",
       "      <td>forestgreen</td>\n",
       "      <td>a</td>\n",
       "      <td>a0</td>\n",
       "      <td>2.240667</td>\n",
       "      <td>0.020769</td>\n",
       "    </tr>\n",
       "    <tr>\n",
       "      <th>8</th>\n",
       "      <td>L-BFGS-B</td>\n",
       "      <td>scipy_L-BFGS-B_1</td>\n",
       "      <td>forestgreen</td>\n",
       "      <td>a</td>\n",
       "      <td>a1</td>\n",
       "      <td>1.303548</td>\n",
       "      <td>-0.002299</td>\n",
       "    </tr>\n",
       "  </tbody>\n",
       "</table>\n",
       "</div>"
      ],
      "text/plain": [
       "  model_class             model        color group name  start_value  \\\n",
       "0    L-BFGS-B  scipy_L-BFGS-B_0  forestgreen     a   a0    -0.096743   \n",
       "2    L-BFGS-B  scipy_L-BFGS-B_0  forestgreen     a   a1    -2.834522   \n",
       "4    L-BFGS-B  scipy_L-BFGS-B_0  forestgreen     a   a2    -0.336757   \n",
       "6    L-BFGS-B  scipy_L-BFGS-B_1  forestgreen     a   a0     2.240667   \n",
       "8    L-BFGS-B  scipy_L-BFGS-B_1  forestgreen     a   a1     1.303548   \n",
       "\n",
       "   final_value  \n",
       "0     0.003724  \n",
       "2    -0.004766  \n",
       "4     0.004090  \n",
       "6     0.020769  \n",
       "8    -0.002299  "
      ]
     },
     "execution_count": 8,
     "metadata": {},
     "output_type": "execute_result"
    }
   ],
   "source": [
    "# we will start with just one group of parameters:\n",
    "a_data = df[df['group'] == 'a']\n",
    "a_data[cols].head()"
   ]
  },
  {
   "cell_type": "markdown",
   "metadata": {},
   "source": [
    "## Our First Plot with Bokeh: A Simple Scatter Plot"
   ]
  },
  {
   "cell_type": "code",
   "execution_count": 9,
   "metadata": {},
   "outputs": [
    {
     "data": {
      "text/html": [
       "\n",
       "\n",
       "\n",
       "\n",
       "\n",
       "\n",
       "  <div class=\"bk-root\" id=\"fc737636-9199-449a-9899-4bf5474e5fcb\" data-root-id=\"1474\"></div>\n"
      ]
     },
     "metadata": {},
     "output_type": "display_data"
    },
    {
     "data": {
      "application/javascript": [
       "(function(root) {\n",
       "  function embed_document(root) {\n",
       "    \n",
       "  var docs_json = {\"cc18af24-451b-42c5-a59e-c621633d264c\":{\"roots\":{\"references\":[{\"attributes\":{\"below\":[{\"id\":\"1483\",\"type\":\"LinearAxis\"}],\"center\":[{\"id\":\"1487\",\"type\":\"Grid\"},{\"id\":\"1492\",\"type\":\"Grid\"}],\"left\":[{\"id\":\"1488\",\"type\":\"LinearAxis\"}],\"renderers\":[{\"id\":\"1510\",\"type\":\"GlyphRenderer\"}],\"title\":{\"id\":\"1540\",\"type\":\"Title\"},\"toolbar\":{\"id\":\"1499\",\"type\":\"Toolbar\"},\"x_range\":{\"id\":\"1475\",\"type\":\"DataRange1d\"},\"x_scale\":{\"id\":\"1479\",\"type\":\"LinearScale\"},\"y_range\":{\"id\":\"1477\",\"type\":\"DataRange1d\"},\"y_scale\":{\"id\":\"1481\",\"type\":\"LinearScale\"}},\"id\":\"1474\",\"subtype\":\"Figure\",\"type\":\"Plot\"},{\"attributes\":{\"overlay\":{\"id\":\"1546\",\"type\":\"BoxAnnotation\"}},\"id\":\"1495\",\"type\":\"BoxZoomTool\"},{\"attributes\":{},\"id\":\"1494\",\"type\":\"WheelZoomTool\"},{\"attributes\":{\"callback\":null},\"id\":\"1475\",\"type\":\"DataRange1d\"},{\"attributes\":{},\"id\":\"1497\",\"type\":\"ResetTool\"},{\"attributes\":{},\"id\":\"1498\",\"type\":\"HelpTool\"},{\"attributes\":{\"active_drag\":\"auto\",\"active_inspect\":\"auto\",\"active_multi\":null,\"active_scroll\":\"auto\",\"active_tap\":\"auto\",\"tools\":[{\"id\":\"1493\",\"type\":\"PanTool\"},{\"id\":\"1494\",\"type\":\"WheelZoomTool\"},{\"id\":\"1495\",\"type\":\"BoxZoomTool\"},{\"id\":\"1496\",\"type\":\"SaveTool\"},{\"id\":\"1497\",\"type\":\"ResetTool\"},{\"id\":\"1498\",\"type\":\"HelpTool\"}]},\"id\":\"1499\",\"type\":\"Toolbar\"},{\"attributes\":{\"callback\":null,\"data\":{\"color\":[\"forestgreen\",\"forestgreen\",\"forestgreen\",\"forestgreen\",\"forestgreen\",\"forestgreen\",\"forestgreen\",\"forestgreen\",\"forestgreen\",\"forestgreen\",\"forestgreen\",\"forestgreen\",\"forestgreen\",\"forestgreen\",\"forestgreen\",\"forestgreen\",\"forestgreen\",\"forestgreen\",\"forestgreen\",\"forestgreen\",\"forestgreen\",\"forestgreen\",\"forestgreen\",\"forestgreen\",\"forestgreen\",\"forestgreen\",\"forestgreen\",\"forestgreen\",\"forestgreen\",\"forestgreen\",\"#035096\",\"#035096\",\"#035096\",\"#035096\",\"#035096\",\"#035096\",\"#035096\",\"#035096\",\"#035096\",\"#035096\",\"#035096\",\"#035096\",\"#035096\",\"#035096\",\"#035096\",\"#035096\",\"#035096\",\"#035096\",\"#035096\",\"#035096\",\"#035096\",\"#035096\",\"#035096\",\"#035096\",\"#035096\",\"#035096\",\"#035096\",\"#035096\",\"#035096\",\"#035096\",\"firebrick\",\"firebrick\",\"firebrick\",\"firebrick\",\"firebrick\",\"firebrick\",\"firebrick\",\"firebrick\",\"firebrick\",\"firebrick\",\"firebrick\",\"firebrick\",\"firebrick\",\"firebrick\",\"firebrick\",\"firebrick\",\"firebrick\",\"firebrick\",\"firebrick\",\"firebrick\",\"firebrick\",\"firebrick\",\"firebrick\",\"firebrick\",\"firebrick\",\"firebrick\",\"firebrick\",\"firebrick\",\"firebrick\",\"firebrick\"],\"conf_int_lower\":{\"__ndarray__\":\"BQqOaxnVi79jdGI/VQ2Tv2QWTCwJN5O/wITQ+f2sQT81d1UQfT2Zv0H8WkwW0Ja/DG4ZfBScUj/6+BxX+jOIvw/vAyy3RpC/fGLi5zkWnL/mg8PMQCKlv/DR5vhhjoO/wJGBRBs3pb8hXl4QdWmhv7xjwEzNS6y/WspyoFWzir8iDAYEgneAv/jqvEEznqa/I01fAHKHjL/QRs5pp7GQvy4ZnSesHpu/Vi1WXaWNpr9yooNzd6eVv7xAEI6msIi/lhdhDFClnr+0AWKb0x53P3/u4pdpwI6/6wNDY7vHh7/M6OnB4vugv0SCNjbl4Zm//oD0NO2Vl78axBewR4+nv6BvboQhKaS/TWH8Le56lb+cZ89aAcyGv0DRVXPEBFu/1ljTXfH3mD8KguVhhfu3v3JVSMF9OqU/KP2xVv6qar+0aWqznV95v93f3Yzl/KG/m+oTBg/UrL87JK4UzXCgv3jA9LVhtZW/H7nTxMPPuD/a7HMOslOev27fbaPRla6/OR+Bb6wcsz8BhYD8Ie7RPzgmIvv+mds/7kZymSYenr8JkDgB1aGTv8h201yqgoG/R0iqUDktqb8wqMAoUwmrv8kr0SuY3ai/8JoYSCVkeb9kefwKZa+ev5Zs8qzBz5+/NJNr/92LoL/1e1VqHhKxv3d8QmjMAra/cB7dWAnAqL/AyQgnQemKv3NtCQSkK5u/EduwtGb6o7/g80Iz3221v9i8SW4AtaK/HzIPncErmb+CzHyuktGuv0fFvslGd5y/pTL0Ji1lsL/KV1NFDiSzv8IfNWeDH7y/BNBp+T0cr78QS3XFYN9gPyQCOE56S3C/rF4wpTqcs7+gS2eVwbSWv//KgD2jxpO/q2mPEJ9Dnr8i3L28PzOov+BND21CqJG/KN973zC0h79UKXriScWmv3D3+ju9iaq/2gZyiQZClr+OfVAzSW2wv9dlYYegmKm/\",\"dtype\":\"float64\",\"shape\":[90]},\"conf_int_upper\":{\"__ndarray__\":\"PcAXYP1nkz9CT3ncXh6FP66kvOKLYaA/gOXCmmXEoj+3UC8l8J2aP8vLsrHCnJM/i+1uBIfslT90OfMKCUKaPzc0I+IR9J0/FEybpjdqmz8YNOajFX94Py4YHgi4UqE/QPftb324Wb9AWR1uCgR/P+Bxv0Rel0o/csJ4KDT8mD/x1O28Dn2fP4qYB6/DnnK/csxXhKdJfT8DXXkVkMqZPy+ChIi19os/AM7PAtA1ID/F9c1YEzWJP5Fr8uhQe4M/nrKX7KQPgL/29w72rpmpP8OAuXHy9qU/fonqZohNmD/ucqU6M6CTP3aWaiBLbpk/VpVnl9NElD9IqYs+pOeVPyZHGRZ7K50/HwCBSMnFkz/1pwIoQ8SgP4DEj9+Dk6w/sPAcryzTtT//xTdh+2Wiv2ptuS43fLE/A6rPTpBEpz8u8RZyHZewPyQ+mm+LUKQ/ToO/Wwb0lj97POJlYzOYPxOuLOLOOKg/EeIPqtdxwz9M/h7+nGSkP5Ai6X3yn3S/eBJMy4oyxD9MMb6AJWLUPwBYcJM2ROA/mn0qTFEUjD9YGY5juoqaPyhwndpBXqE/0AW1IkBdjD9QVJBzjNGcP2BfReZ+rn2/RI65L2UisT/obYUVrKOgPxzHyCy6kKU/bfFeuglrpj8QZQYu9gigP6gptILnRHE/ib2cdQ5bmj9SgW+U1b2mP6Z26diRapI/GX1jwKzCpD9uKxaeuMCUv1yj8Ibd9qs/hLYiUDxVsT+Azs5o3JOiP7vxnqGThLE/XrJ4tQkilT8cwpKX0s6NP+Rk2LWQo4G/vSaMhJv0lz/K1dh14uGwPzLBqwEQn7I/0H/WNAfZlL8DtBhDbAKrP7DKj3jurKo/KwVSVst5mT+qF4qNT9uhP7dwdzJ7Iqo/D6ysLOuvsj/sWkpk/F6eP5n/FdGWvZS/oCKlBIqHsD9UGW8jkf6AP+PsLmxIvqA/\",\"dtype\":\"float64\",\"shape\":[90]},\"final_value\":{\"__ndarray__\":\"G4YehnuBbj/UmDtx3IVzv0eZN0plwHA/HuvDYnJElT/rkLX8LdZivzDqUh81JnG/f48f9pQ+eD8z1o/Z7Kd5P44RcGnamVC/8Ens4iW2ej+umydwAg6Sv9zBwq57SoM/SdeHEL+Dlr9WGBnXbA2Mv4HILM1M85e/sxLY6I/LVT92a9StexCCP2u+xF5A1o6/yB10rVz9Yr/QL4/YPQVnP73TR59CGIW/6n2y5BgQlL+j7nccWbOBv6OcR4rqalA/NJDgR8RhjL8L3JSjByGWP9U6OH/11Yc/U+npp6+vhD+UuFSsR5SKvzDaaL5vsGA/gEyBUUWiTz8AGB+XffBqv6AAgcvzm4G/AEiVBeSRYL8A/iJXszN9P0A3fY3NGJI/EHQ7BsZrrT+w1aTCpkWwv6A2UGGiB6c/AC0mKsT5gz/AxTPi6mmVPwBBFdD+loM/gBIQJjmgir+A+V0OZWKIPwDAklkFh48/SP2jsH6Auz8A3v9mFkCHP8BHDwhqx6O/SFPCLYpwvT/sr4MnaCXUP5SzExSen90/oDXkO62abL8g6uKgvph1P4B/4heCboQ/AEhRU0x9jb+AZoog/hCQvwACEeF8Xpu/yLIAZ31yoT+gNvGS7ouGPwBMYN2Sy2I/uPXbY7nwdb8lkA4VXJWEv2wbYZ4JOaG/MaKXxNhul7/aW/D/Sr6LP0rvufg/l5C/S2hxheDHgb+3/rVe4PypvymYvDPgM4o/SWFOm+f5lT/KdaGvEjiLv5oQEKWxxYg/xFWUVenikb9aoLGe3hOjvwbyR/A8eaG/e79DIhdLab94Ekg6vWCfP/jZXEFyhoQ/4+K1C/SBrL+CgUmgSOWRPwn16gyXpWs/gHvjbjrp5L7l2huaSWCTv/wgXmt8p5o/BiJHCTjBgz8KjfkdZjRSv8Ovy2NUap+/F6Jy5NB7oT++J96P4Z6hv6hAJFAEeE4/\",\"dtype\":\"float64\",\"shape\":[90]},\"full_name\":[\"a_a0\",\"a_a1\",\"a_a2\",\"a_a0\",\"a_a1\",\"a_a2\",\"a_a0\",\"a_a1\",\"a_a2\",\"a_a0\",\"a_a1\",\"a_a2\",\"a_a0\",\"a_a1\",\"a_a2\",\"a_a0\",\"a_a1\",\"a_a2\",\"a_a0\",\"a_a1\",\"a_a2\",\"a_a0\",\"a_a1\",\"a_a2\",\"a_a0\",\"a_a1\",\"a_a2\",\"a_a0\",\"a_a1\",\"a_a2\",\"a_a0\",\"a_a1\",\"a_a2\",\"a_a0\",\"a_a1\",\"a_a2\",\"a_a0\",\"a_a1\",\"a_a2\",\"a_a0\",\"a_a1\",\"a_a2\",\"a_a0\",\"a_a1\",\"a_a2\",\"a_a0\",\"a_a1\",\"a_a2\",\"a_a0\",\"a_a1\",\"a_a2\",\"a_a0\",\"a_a1\",\"a_a2\",\"a_a0\",\"a_a1\",\"a_a2\",\"a_a0\",\"a_a1\",\"a_a2\",\"a_a0\",\"a_a1\",\"a_a2\",\"a_a0\",\"a_a1\",\"a_a2\",\"a_a0\",\"a_a1\",\"a_a2\",\"a_a0\",\"a_a1\",\"a_a2\",\"a_a0\",\"a_a1\",\"a_a2\",\"a_a0\",\"a_a1\",\"a_a2\",\"a_a0\",\"a_a1\",\"a_a2\",\"a_a0\",\"a_a1\",\"a_a2\",\"a_a0\",\"a_a1\",\"a_a2\",\"a_a0\",\"a_a1\",\"a_a2\"],\"group\":[\"a\",\"a\",\"a\",\"a\",\"a\",\"a\",\"a\",\"a\",\"a\",\"a\",\"a\",\"a\",\"a\",\"a\",\"a\",\"a\",\"a\",\"a\",\"a\",\"a\",\"a\",\"a\",\"a\",\"a\",\"a\",\"a\",\"a\",\"a\",\"a\",\"a\",\"a\",\"a\",\"a\",\"a\",\"a\",\"a\",\"a\",\"a\",\"a\",\"a\",\"a\",\"a\",\"a\",\"a\",\"a\",\"a\",\"a\",\"a\",\"a\",\"a\",\"a\",\"a\",\"a\",\"a\",\"a\",\"a\",\"a\",\"a\",\"a\",\"a\",\"a\",\"a\",\"a\",\"a\",\"a\",\"a\",\"a\",\"a\",\"a\",\"a\",\"a\",\"a\",\"a\",\"a\",\"a\",\"a\",\"a\",\"a\",\"a\",\"a\",\"a\",\"a\",\"a\",\"a\",\"a\",\"a\",\"a\",\"a\",\"a\",\"a\"],\"index\":[0,4,8,0,4,8,0,4,8,0,4,8,0,4,8,0,4,8,0,4,8,0,4,8,0,4,8,0,4,8,0,4,8,0,4,8,0,4,8,0,4,8,0,4,8,0,4,8,0,4,8,0,4,8,0,4,8,0,4,8,0,4,8,0,4,8,0,4,8,0,4,8,0,4,8,0,4,8,0,4,8,0,4,8,0,4,8,0,4,8],\"level_0\":[0,2,4,6,8,10,12,14,16,18,20,22,24,26,28,30,32,34,36,38,40,42,44,46,48,50,52,54,56,58,60,62,64,66,68,70,72,74,76,78,80,82,84,86,88,90,92,94,96,98,100,102,104,106,108,110,112,114,116,118,120,122,124,126,128,130,132,134,136,138,140,142,144,146,148,150,152,154,156,158,160,162,164,166,168,170,172,174,176,178],\"marker\":[\"circle\",\"circle\",\"circle\",\"circle\",\"circle\",\"circle\",\"circle\",\"circle\",\"circle\",\"circle\",\"circle\",\"circle\",\"circle\",\"circle\",\"circle\",\"circle\",\"circle\",\"circle\",\"circle\",\"circle\",\"circle\",\"circle\",\"circle\",\"circle\",\"circle\",\"circle\",\"circle\",\"circle\",\"circle\",\"circle\",\"circle\",\"circle\",\"circle\",\"circle\",\"circle\",\"circle\",\"circle\",\"circle\",\"circle\",\"circle\",\"circle\",\"circle\",\"circle\",\"circle\",\"circle\",\"circle\",\"circle\",\"circle\",\"circle\",\"circle\",\"circle\",\"circle\",\"circle\",\"circle\",\"circle\",\"circle\",\"circle\",\"circle\",\"circle\",\"circle\",\"circle\",\"circle\",\"circle\",\"circle\",\"circle\",\"circle\",\"circle\",\"circle\",\"circle\",\"circle\",\"circle\",\"circle\",\"circle\",\"circle\",\"circle\",\"circle\",\"circle\",\"circle\",\"circle\",\"circle\",\"circle\",\"circle\",\"circle\",\"circle\",\"circle\",\"circle\",\"circle\",\"circle\",\"circle\",\"circle\"],\"model\":[\"scipy_L-BFGS-B_0\",\"scipy_L-BFGS-B_0\",\"scipy_L-BFGS-B_0\",\"scipy_L-BFGS-B_1\",\"scipy_L-BFGS-B_1\",\"scipy_L-BFGS-B_1\",\"scipy_L-BFGS-B_2\",\"scipy_L-BFGS-B_2\",\"scipy_L-BFGS-B_2\",\"scipy_L-BFGS-B_3\",\"scipy_L-BFGS-B_3\",\"scipy_L-BFGS-B_3\",\"scipy_L-BFGS-B_4\",\"scipy_L-BFGS-B_4\",\"scipy_L-BFGS-B_4\",\"scipy_L-BFGS-B_5\",\"scipy_L-BFGS-B_5\",\"scipy_L-BFGS-B_5\",\"scipy_L-BFGS-B_6\",\"scipy_L-BFGS-B_6\",\"scipy_L-BFGS-B_6\",\"scipy_L-BFGS-B_7\",\"scipy_L-BFGS-B_7\",\"scipy_L-BFGS-B_7\",\"scipy_L-BFGS-B_8\",\"scipy_L-BFGS-B_8\",\"scipy_L-BFGS-B_8\",\"scipy_L-BFGS-B_9\",\"scipy_L-BFGS-B_9\",\"scipy_L-BFGS-B_9\",\"scipy_TNC_0\",\"scipy_TNC_0\",\"scipy_TNC_0\",\"scipy_TNC_1\",\"scipy_TNC_1\",\"scipy_TNC_1\",\"scipy_TNC_2\",\"scipy_TNC_2\",\"scipy_TNC_2\",\"scipy_TNC_3\",\"scipy_TNC_3\",\"scipy_TNC_3\",\"scipy_TNC_4\",\"scipy_TNC_4\",\"scipy_TNC_4\",\"scipy_TNC_5\",\"scipy_TNC_5\",\"scipy_TNC_5\",\"scipy_TNC_6\",\"scipy_TNC_6\",\"scipy_TNC_6\",\"scipy_TNC_7\",\"scipy_TNC_7\",\"scipy_TNC_7\",\"scipy_TNC_8\",\"scipy_TNC_8\",\"scipy_TNC_8\",\"scipy_TNC_9\",\"scipy_TNC_9\",\"scipy_TNC_9\",\"scipy_SLSQP_0\",\"scipy_SLSQP_0\",\"scipy_SLSQP_0\",\"scipy_SLSQP_1\",\"scipy_SLSQP_1\",\"scipy_SLSQP_1\",\"scipy_SLSQP_2\",\"scipy_SLSQP_2\",\"scipy_SLSQP_2\",\"scipy_SLSQP_3\",\"scipy_SLSQP_3\",\"scipy_SLSQP_3\",\"scipy_SLSQP_4\",\"scipy_SLSQP_4\",\"scipy_SLSQP_4\",\"scipy_SLSQP_5\",\"scipy_SLSQP_5\",\"scipy_SLSQP_5\",\"scipy_SLSQP_6\",\"scipy_SLSQP_6\",\"scipy_SLSQP_6\",\"scipy_SLSQP_7\",\"scipy_SLSQP_7\",\"scipy_SLSQP_7\",\"scipy_SLSQP_8\",\"scipy_SLSQP_8\",\"scipy_SLSQP_8\",\"scipy_SLSQP_9\",\"scipy_SLSQP_9\",\"scipy_SLSQP_9\"],\"model_class\":[\"L-BFGS-B\",\"L-BFGS-B\",\"L-BFGS-B\",\"L-BFGS-B\",\"L-BFGS-B\",\"L-BFGS-B\",\"L-BFGS-B\",\"L-BFGS-B\",\"L-BFGS-B\",\"L-BFGS-B\",\"L-BFGS-B\",\"L-BFGS-B\",\"L-BFGS-B\",\"L-BFGS-B\",\"L-BFGS-B\",\"L-BFGS-B\",\"L-BFGS-B\",\"L-BFGS-B\",\"L-BFGS-B\",\"L-BFGS-B\",\"L-BFGS-B\",\"L-BFGS-B\",\"L-BFGS-B\",\"L-BFGS-B\",\"L-BFGS-B\",\"L-BFGS-B\",\"L-BFGS-B\",\"L-BFGS-B\",\"L-BFGS-B\",\"L-BFGS-B\",\"TNC\",\"TNC\",\"TNC\",\"TNC\",\"TNC\",\"TNC\",\"TNC\",\"TNC\",\"TNC\",\"TNC\",\"TNC\",\"TNC\",\"TNC\",\"TNC\",\"TNC\",\"TNC\",\"TNC\",\"TNC\",\"TNC\",\"TNC\",\"TNC\",\"TNC\",\"TNC\",\"TNC\",\"TNC\",\"TNC\",\"TNC\",\"TNC\",\"TNC\",\"TNC\",\"SLSQP\",\"SLSQP\",\"SLSQP\",\"SLSQP\",\"SLSQP\",\"SLSQP\",\"SLSQP\",\"SLSQP\",\"SLSQP\",\"SLSQP\",\"SLSQP\",\"SLSQP\",\"SLSQP\",\"SLSQP\",\"SLSQP\",\"SLSQP\",\"SLSQP\",\"SLSQP\",\"SLSQP\",\"SLSQP\",\"SLSQP\",\"SLSQP\",\"SLSQP\",\"SLSQP\",\"SLSQP\",\"SLSQP\",\"SLSQP\",\"SLSQP\",\"SLSQP\",\"SLSQP\"],\"name\":[\"a0\",\"a1\",\"a2\",\"a0\",\"a1\",\"a2\",\"a0\",\"a1\",\"a2\",\"a0\",\"a1\",\"a2\",\"a0\",\"a1\",\"a2\",\"a0\",\"a1\",\"a2\",\"a0\",\"a1\",\"a2\",\"a0\",\"a1\",\"a2\",\"a0\",\"a1\",\"a2\",\"a0\",\"a1\",\"a2\",\"a0\",\"a1\",\"a2\",\"a0\",\"a1\",\"a2\",\"a0\",\"a1\",\"a2\",\"a0\",\"a1\",\"a2\",\"a0\",\"a1\",\"a2\",\"a0\",\"a1\",\"a2\",\"a0\",\"a1\",\"a2\",\"a0\",\"a1\",\"a2\",\"a0\",\"a1\",\"a2\",\"a0\",\"a1\",\"a2\",\"a0\",\"a1\",\"a2\",\"a0\",\"a1\",\"a2\",\"a0\",\"a1\",\"a2\",\"a0\",\"a1\",\"a2\",\"a0\",\"a1\",\"a2\",\"a0\",\"a1\",\"a2\",\"a0\",\"a1\",\"a2\",\"a0\",\"a1\",\"a2\",\"a0\",\"a1\",\"a2\",\"a0\",\"a1\",\"a2\"],\"start_value\":{\"__ndarray__\":\"QPq3UB7EuL/Ckw8QGq0GwDi+QOFujdW/UGuc2uLsAUA4PXffVNv0P5DZoh1G4e+/rBLi7f6N6r84trkdWQH+P9ByEO5uDOG/fKEumbMpAsAp+q73KZ72vx0CKAEvIQbA4COX5UqI9D+MpwsV0YP6P3IrKd8FVgfAuPVD7Eqx5z+4WKsP0RQEwAyhzh551vu/AP4uGAz87j8oEoomvuPxP0DTcFvSutU/wE07VGf5t7+QWao6tVHFv10dI+f/7vy/HOnyM1AvBEAqwW2PnQcBwATyMnToygVAsMmURq5d2D94l/LPobnXv7xYRDl6XwfAQPq3UB7EuL/Ckw8QGq0GwDi+QOFujdW/UGuc2uLsAUA4PXffVNv0P5DZoh1G4e+/rBLi7f6N6r84trkdWQH+P9ByEO5uDOG/fKEumbMpAsAp+q73KZ72vx0CKAEvIQbA4COX5UqI9D+MpwsV0YP6P3IrKd8FVgfAuPVD7Eqx5z+4WKsP0RQEwAyhzh551vu/AP4uGAz87j8oEoomvuPxP0DTcFvSutU/wE07VGf5t7+QWao6tVHFv10dI+f/7vy/HOnyM1AvBEAqwW2PnQcBwATyMnToygVAsMmURq5d2D94l/LPobnXv7xYRDl6XwfAQPq3UB7EuL/Ckw8QGq0GwDi+QOFujdW/UGuc2uLsAUA4PXffVNv0P5DZoh1G4e+/rBLi7f6N6r84trkdWQH+P9ByEO5uDOG/fKEumbMpAsAp+q73KZ72vx0CKAEvIQbA4COX5UqI9D+MpwsV0YP6P3IrKd8FVgfAuPVD7Eqx5z+4WKsP0RQEwAyhzh551vu/AP4uGAz87j8oEoomvuPxP0DTcFvSutU/wE07VGf5t7+QWao6tVHFv10dI+f/7vy/HOnyM1AvBEAqwW2PnQcBwATyMnToygVAsMmURq5d2D94l/LPobnXv7xYRDl6XwfA\",\"dtype\":\"float64\",\"shape\":[90]}},\"selected\":{\"id\":\"1548\",\"type\":\"Selection\"},\"selection_policy\":{\"id\":\"1547\",\"type\":\"UnionRenderers\"}},\"id\":\"1506\",\"type\":\"ColumnDataSource\"},{\"attributes\":{\"formatter\":{\"id\":\"1545\",\"type\":\"BasicTickFormatter\"},\"ticker\":{\"id\":\"1489\",\"type\":\"BasicTicker\"}},\"id\":\"1488\",\"type\":\"LinearAxis\"},{\"attributes\":{},\"id\":\"1479\",\"type\":\"LinearScale\"},{\"attributes\":{},\"id\":\"1545\",\"type\":\"BasicTickFormatter\"},{\"attributes\":{\"dimension\":1,\"ticker\":{\"id\":\"1489\",\"type\":\"BasicTicker\"}},\"id\":\"1492\",\"type\":\"Grid\"},{\"attributes\":{},\"id\":\"1543\",\"type\":\"BasicTickFormatter\"},{\"attributes\":{\"callback\":null},\"id\":\"1477\",\"type\":\"DataRange1d\"},{\"attributes\":{\"fill_color\":{\"field\":\"color\"},\"line_color\":{\"field\":\"color\"},\"x\":{\"field\":\"start_value\"},\"y\":{\"field\":\"final_value\"}},\"id\":\"1508\",\"type\":\"Scatter\"},{\"attributes\":{},\"id\":\"1547\",\"type\":\"UnionRenderers\"},{\"attributes\":{\"source\":{\"id\":\"1506\",\"type\":\"ColumnDataSource\"}},\"id\":\"1511\",\"type\":\"CDSView\"},{\"attributes\":{},\"id\":\"1484\",\"type\":\"BasicTicker\"},{\"attributes\":{\"data_source\":{\"id\":\"1506\",\"type\":\"ColumnDataSource\"},\"glyph\":{\"id\":\"1508\",\"type\":\"Scatter\"},\"hover_glyph\":null,\"muted_glyph\":null,\"nonselection_glyph\":{\"id\":\"1509\",\"type\":\"Scatter\"},\"selection_glyph\":null,\"view\":{\"id\":\"1511\",\"type\":\"CDSView\"}},\"id\":\"1510\",\"type\":\"GlyphRenderer\"},{\"attributes\":{\"text\":\"\"},\"id\":\"1540\",\"type\":\"Title\"},{\"attributes\":{},\"id\":\"1548\",\"type\":\"Selection\"},{\"attributes\":{\"fill_alpha\":{\"value\":0.1},\"fill_color\":{\"value\":\"#1f77b4\"},\"line_alpha\":{\"value\":0.1},\"line_color\":{\"value\":\"#1f77b4\"},\"x\":{\"field\":\"start_value\"},\"y\":{\"field\":\"final_value\"}},\"id\":\"1509\",\"type\":\"Scatter\"},{\"attributes\":{\"bottom_units\":\"screen\",\"fill_alpha\":{\"value\":0.5},\"fill_color\":{\"value\":\"lightgrey\"},\"left_units\":\"screen\",\"level\":\"overlay\",\"line_alpha\":{\"value\":1.0},\"line_color\":{\"value\":\"black\"},\"line_dash\":[4,4],\"line_width\":{\"value\":2},\"render_mode\":\"css\",\"right_units\":\"screen\",\"top_units\":\"screen\"},\"id\":\"1546\",\"type\":\"BoxAnnotation\"},{\"attributes\":{},\"id\":\"1493\",\"type\":\"PanTool\"},{\"attributes\":{},\"id\":\"1489\",\"type\":\"BasicTicker\"},{\"attributes\":{\"formatter\":{\"id\":\"1543\",\"type\":\"BasicTickFormatter\"},\"ticker\":{\"id\":\"1484\",\"type\":\"BasicTicker\"}},\"id\":\"1483\",\"type\":\"LinearAxis\"},{\"attributes\":{},\"id\":\"1481\",\"type\":\"LinearScale\"},{\"attributes\":{\"ticker\":{\"id\":\"1484\",\"type\":\"BasicTicker\"}},\"id\":\"1487\",\"type\":\"Grid\"},{\"attributes\":{},\"id\":\"1496\",\"type\":\"SaveTool\"}],\"root_ids\":[\"1474\"]},\"title\":\"Bokeh Application\",\"version\":\"1.2.0\"}};\n",
       "  var render_items = [{\"docid\":\"cc18af24-451b-42c5-a59e-c621633d264c\",\"roots\":{\"1474\":\"fc737636-9199-449a-9899-4bf5474e5fcb\"}}];\n",
       "  root.Bokeh.embed.embed_items_notebook(docs_json, render_items);\n",
       "\n",
       "  }\n",
       "  if (root.Bokeh !== undefined) {\n",
       "    embed_document(root);\n",
       "  } else {\n",
       "    var attempts = 0;\n",
       "    var timer = setInterval(function(root) {\n",
       "      if (root.Bokeh !== undefined) {\n",
       "        embed_document(root);\n",
       "        clearInterval(timer);\n",
       "      }\n",
       "      attempts++;\n",
       "      if (attempts > 100) {\n",
       "        console.log(\"Bokeh: ERROR: Unable to run BokehJS code because BokehJS library is missing\");\n",
       "        clearInterval(timer);\n",
       "      }\n",
       "    }, 10, root)\n",
       "  }\n",
       "})(window);"
      ],
      "application/vnd.bokehjs_exec.v0+json": ""
     },
     "metadata": {
      "application/vnd.bokehjs_exec.v0+json": {
       "id": "1474"
      }
     },
     "output_type": "display_data"
    }
   ],
   "source": [
    "from bokeh.plotting import figure, show\n",
    "\n",
    "p = figure()\n",
    "\n",
    "p.scatter(\n",
    "    source=a_data, \n",
    "    x=\"start_value\", \n",
    "    y=\"final_value\",\n",
    "    color=\"color\",\n",
    "    )\n",
    "\n",
    "show(p)"
   ]
  },
  {
   "cell_type": "code",
   "execution_count": null,
   "metadata": {},
   "outputs": [],
   "source": []
  },
  {
   "cell_type": "markdown",
   "metadata": {},
   "source": [
    "## Styling plots is very similar to matplotlib..."
   ]
  },
  {
   "cell_type": "code",
   "execution_count": 10,
   "metadata": {},
   "outputs": [
    {
     "data": {
      "text/html": [
       "\n",
       "\n",
       "\n",
       "\n",
       "\n",
       "\n",
       "  <div class=\"bk-root\" id=\"0440ca63-7563-4106-ad92-481fc2389988\" data-root-id=\"1603\"></div>\n"
      ]
     },
     "metadata": {},
     "output_type": "display_data"
    },
    {
     "data": {
      "application/javascript": [
       "(function(root) {\n",
       "  function embed_document(root) {\n",
       "    \n",
       "  var docs_json = {\"b7a15474-b4aa-41e6-a5b8-cbe020878353\":{\"roots\":{\"references\":[{\"attributes\":{\"below\":[{\"id\":\"1614\",\"type\":\"LinearAxis\"}],\"center\":[{\"id\":\"1618\",\"type\":\"Grid\"},{\"id\":\"1623\",\"type\":\"Grid\"}],\"left\":[{\"id\":\"1619\",\"type\":\"LinearAxis\"}],\"plot_height\":300,\"plot_width\":500,\"renderers\":[{\"id\":\"1641\",\"type\":\"GlyphRenderer\"}],\"title\":{\"id\":\"1604\",\"type\":\"Title\"},\"toolbar\":{\"id\":\"1630\",\"type\":\"Toolbar\"},\"x_range\":{\"id\":\"1606\",\"type\":\"DataRange1d\"},\"x_scale\":{\"id\":\"1610\",\"type\":\"LinearScale\"},\"y_range\":{\"id\":\"1608\",\"type\":\"DataRange1d\"},\"y_scale\":{\"id\":\"1612\",\"type\":\"LinearScale\"}},\"id\":\"1603\",\"subtype\":\"Figure\",\"type\":\"Plot\"},{\"attributes\":{},\"id\":\"1687\",\"type\":\"Selection\"},{\"attributes\":{\"fill_alpha\":{\"value\":0.1},\"fill_color\":{\"value\":\"#1f77b4\"},\"line_alpha\":{\"value\":0.1},\"line_color\":{\"value\":\"#1f77b4\"},\"size\":{\"units\":\"screen\",\"value\":12},\"x\":{\"field\":\"start_value\"},\"y\":{\"field\":\"final_value\"}},\"id\":\"1640\",\"type\":\"Circle\"},{\"attributes\":{},\"id\":\"1610\",\"type\":\"LinearScale\"},{\"attributes\":{},\"id\":\"1624\",\"type\":\"PanTool\"},{\"attributes\":{\"dimension\":1,\"ticker\":{\"id\":\"1620\",\"type\":\"BasicTicker\"}},\"id\":\"1623\",\"type\":\"Grid\"},{\"attributes\":{},\"id\":\"1625\",\"type\":\"WheelZoomTool\"},{\"attributes\":{\"callback\":null,\"data\":{\"color\":[\"forestgreen\",\"forestgreen\",\"forestgreen\",\"forestgreen\",\"forestgreen\",\"forestgreen\",\"forestgreen\",\"forestgreen\",\"forestgreen\",\"forestgreen\",\"forestgreen\",\"forestgreen\",\"forestgreen\",\"forestgreen\",\"forestgreen\",\"forestgreen\",\"forestgreen\",\"forestgreen\",\"forestgreen\",\"forestgreen\",\"forestgreen\",\"forestgreen\",\"forestgreen\",\"forestgreen\",\"forestgreen\",\"forestgreen\",\"forestgreen\",\"forestgreen\",\"forestgreen\",\"forestgreen\",\"#035096\",\"#035096\",\"#035096\",\"#035096\",\"#035096\",\"#035096\",\"#035096\",\"#035096\",\"#035096\",\"#035096\",\"#035096\",\"#035096\",\"#035096\",\"#035096\",\"#035096\",\"#035096\",\"#035096\",\"#035096\",\"#035096\",\"#035096\",\"#035096\",\"#035096\",\"#035096\",\"#035096\",\"#035096\",\"#035096\",\"#035096\",\"#035096\",\"#035096\",\"#035096\",\"firebrick\",\"firebrick\",\"firebrick\",\"firebrick\",\"firebrick\",\"firebrick\",\"firebrick\",\"firebrick\",\"firebrick\",\"firebrick\",\"firebrick\",\"firebrick\",\"firebrick\",\"firebrick\",\"firebrick\",\"firebrick\",\"firebrick\",\"firebrick\",\"firebrick\",\"firebrick\",\"firebrick\",\"firebrick\",\"firebrick\",\"firebrick\",\"firebrick\",\"firebrick\",\"firebrick\",\"firebrick\",\"firebrick\",\"firebrick\"],\"conf_int_lower\":{\"__ndarray__\":\"BQqOaxnVi79jdGI/VQ2Tv2QWTCwJN5O/wITQ+f2sQT81d1UQfT2Zv0H8WkwW0Ja/DG4ZfBScUj/6+BxX+jOIvw/vAyy3RpC/fGLi5zkWnL/mg8PMQCKlv/DR5vhhjoO/wJGBRBs3pb8hXl4QdWmhv7xjwEzNS6y/WspyoFWzir8iDAYEgneAv/jqvEEznqa/I01fAHKHjL/QRs5pp7GQvy4ZnSesHpu/Vi1WXaWNpr9yooNzd6eVv7xAEI6msIi/lhdhDFClnr+0AWKb0x53P3/u4pdpwI6/6wNDY7vHh7/M6OnB4vugv0SCNjbl4Zm//oD0NO2Vl78axBewR4+nv6BvboQhKaS/TWH8Le56lb+cZ89aAcyGv0DRVXPEBFu/1ljTXfH3mD8KguVhhfu3v3JVSMF9OqU/KP2xVv6qar+0aWqznV95v93f3Yzl/KG/m+oTBg/UrL87JK4UzXCgv3jA9LVhtZW/H7nTxMPPuD/a7HMOslOev27fbaPRla6/OR+Bb6wcsz8BhYD8Ie7RPzgmIvv+mds/7kZymSYenr8JkDgB1aGTv8h201yqgoG/R0iqUDktqb8wqMAoUwmrv8kr0SuY3ai/8JoYSCVkeb9kefwKZa+ev5Zs8qzBz5+/NJNr/92LoL/1e1VqHhKxv3d8QmjMAra/cB7dWAnAqL/AyQgnQemKv3NtCQSkK5u/EduwtGb6o7/g80Iz3221v9i8SW4AtaK/HzIPncErmb+CzHyuktGuv0fFvslGd5y/pTL0Ji1lsL/KV1NFDiSzv8IfNWeDH7y/BNBp+T0cr78QS3XFYN9gPyQCOE56S3C/rF4wpTqcs7+gS2eVwbSWv//KgD2jxpO/q2mPEJ9Dnr8i3L28PzOov+BND21CqJG/KN973zC0h79UKXriScWmv3D3+ju9iaq/2gZyiQZClr+OfVAzSW2wv9dlYYegmKm/\",\"dtype\":\"float64\",\"shape\":[90]},\"conf_int_upper\":{\"__ndarray__\":\"PcAXYP1nkz9CT3ncXh6FP66kvOKLYaA/gOXCmmXEoj+3UC8l8J2aP8vLsrHCnJM/i+1uBIfslT90OfMKCUKaPzc0I+IR9J0/FEybpjdqmz8YNOajFX94Py4YHgi4UqE/QPftb324Wb9AWR1uCgR/P+Bxv0Rel0o/csJ4KDT8mD/x1O28Dn2fP4qYB6/DnnK/csxXhKdJfT8DXXkVkMqZPy+ChIi19os/AM7PAtA1ID/F9c1YEzWJP5Fr8uhQe4M/nrKX7KQPgL/29w72rpmpP8OAuXHy9qU/fonqZohNmD/ucqU6M6CTP3aWaiBLbpk/VpVnl9NElD9IqYs+pOeVPyZHGRZ7K50/HwCBSMnFkz/1pwIoQ8SgP4DEj9+Dk6w/sPAcryzTtT//xTdh+2Wiv2ptuS43fLE/A6rPTpBEpz8u8RZyHZewPyQ+mm+LUKQ/ToO/Wwb0lj97POJlYzOYPxOuLOLOOKg/EeIPqtdxwz9M/h7+nGSkP5Ai6X3yn3S/eBJMy4oyxD9MMb6AJWLUPwBYcJM2ROA/mn0qTFEUjD9YGY5juoqaPyhwndpBXqE/0AW1IkBdjD9QVJBzjNGcP2BfReZ+rn2/RI65L2UisT/obYUVrKOgPxzHyCy6kKU/bfFeuglrpj8QZQYu9gigP6gptILnRHE/ib2cdQ5bmj9SgW+U1b2mP6Z26diRapI/GX1jwKzCpD9uKxaeuMCUv1yj8Ibd9qs/hLYiUDxVsT+Azs5o3JOiP7vxnqGThLE/XrJ4tQkilT8cwpKX0s6NP+Rk2LWQo4G/vSaMhJv0lz/K1dh14uGwPzLBqwEQn7I/0H/WNAfZlL8DtBhDbAKrP7DKj3jurKo/KwVSVst5mT+qF4qNT9uhP7dwdzJ7Iqo/D6ysLOuvsj/sWkpk/F6eP5n/FdGWvZS/oCKlBIqHsD9UGW8jkf6AP+PsLmxIvqA/\",\"dtype\":\"float64\",\"shape\":[90]},\"final_value\":{\"__ndarray__\":\"G4YehnuBbj/UmDtx3IVzv0eZN0plwHA/HuvDYnJElT/rkLX8LdZivzDqUh81JnG/f48f9pQ+eD8z1o/Z7Kd5P44RcGnamVC/8Ens4iW2ej+umydwAg6Sv9zBwq57SoM/SdeHEL+Dlr9WGBnXbA2Mv4HILM1M85e/sxLY6I/LVT92a9StexCCP2u+xF5A1o6/yB10rVz9Yr/QL4/YPQVnP73TR59CGIW/6n2y5BgQlL+j7nccWbOBv6OcR4rqalA/NJDgR8RhjL8L3JSjByGWP9U6OH/11Yc/U+npp6+vhD+UuFSsR5SKvzDaaL5vsGA/gEyBUUWiTz8AGB+XffBqv6AAgcvzm4G/AEiVBeSRYL8A/iJXszN9P0A3fY3NGJI/EHQ7BsZrrT+w1aTCpkWwv6A2UGGiB6c/AC0mKsT5gz/AxTPi6mmVPwBBFdD+loM/gBIQJjmgir+A+V0OZWKIPwDAklkFh48/SP2jsH6Auz8A3v9mFkCHP8BHDwhqx6O/SFPCLYpwvT/sr4MnaCXUP5SzExSen90/oDXkO62abL8g6uKgvph1P4B/4heCboQ/AEhRU0x9jb+AZoog/hCQvwACEeF8Xpu/yLIAZ31yoT+gNvGS7ouGPwBMYN2Sy2I/uPXbY7nwdb8lkA4VXJWEv2wbYZ4JOaG/MaKXxNhul7/aW/D/Sr6LP0rvufg/l5C/S2hxheDHgb+3/rVe4PypvymYvDPgM4o/SWFOm+f5lT/KdaGvEjiLv5oQEKWxxYg/xFWUVenikb9aoLGe3hOjvwbyR/A8eaG/e79DIhdLab94Ekg6vWCfP/jZXEFyhoQ/4+K1C/SBrL+CgUmgSOWRPwn16gyXpWs/gHvjbjrp5L7l2huaSWCTv/wgXmt8p5o/BiJHCTjBgz8KjfkdZjRSv8Ovy2NUap+/F6Jy5NB7oT++J96P4Z6hv6hAJFAEeE4/\",\"dtype\":\"float64\",\"shape\":[90]},\"full_name\":[\"a_a0\",\"a_a1\",\"a_a2\",\"a_a0\",\"a_a1\",\"a_a2\",\"a_a0\",\"a_a1\",\"a_a2\",\"a_a0\",\"a_a1\",\"a_a2\",\"a_a0\",\"a_a1\",\"a_a2\",\"a_a0\",\"a_a1\",\"a_a2\",\"a_a0\",\"a_a1\",\"a_a2\",\"a_a0\",\"a_a1\",\"a_a2\",\"a_a0\",\"a_a1\",\"a_a2\",\"a_a0\",\"a_a1\",\"a_a2\",\"a_a0\",\"a_a1\",\"a_a2\",\"a_a0\",\"a_a1\",\"a_a2\",\"a_a0\",\"a_a1\",\"a_a2\",\"a_a0\",\"a_a1\",\"a_a2\",\"a_a0\",\"a_a1\",\"a_a2\",\"a_a0\",\"a_a1\",\"a_a2\",\"a_a0\",\"a_a1\",\"a_a2\",\"a_a0\",\"a_a1\",\"a_a2\",\"a_a0\",\"a_a1\",\"a_a2\",\"a_a0\",\"a_a1\",\"a_a2\",\"a_a0\",\"a_a1\",\"a_a2\",\"a_a0\",\"a_a1\",\"a_a2\",\"a_a0\",\"a_a1\",\"a_a2\",\"a_a0\",\"a_a1\",\"a_a2\",\"a_a0\",\"a_a1\",\"a_a2\",\"a_a0\",\"a_a1\",\"a_a2\",\"a_a0\",\"a_a1\",\"a_a2\",\"a_a0\",\"a_a1\",\"a_a2\",\"a_a0\",\"a_a1\",\"a_a2\",\"a_a0\",\"a_a1\",\"a_a2\"],\"group\":[\"a\",\"a\",\"a\",\"a\",\"a\",\"a\",\"a\",\"a\",\"a\",\"a\",\"a\",\"a\",\"a\",\"a\",\"a\",\"a\",\"a\",\"a\",\"a\",\"a\",\"a\",\"a\",\"a\",\"a\",\"a\",\"a\",\"a\",\"a\",\"a\",\"a\",\"a\",\"a\",\"a\",\"a\",\"a\",\"a\",\"a\",\"a\",\"a\",\"a\",\"a\",\"a\",\"a\",\"a\",\"a\",\"a\",\"a\",\"a\",\"a\",\"a\",\"a\",\"a\",\"a\",\"a\",\"a\",\"a\",\"a\",\"a\",\"a\",\"a\",\"a\",\"a\",\"a\",\"a\",\"a\",\"a\",\"a\",\"a\",\"a\",\"a\",\"a\",\"a\",\"a\",\"a\",\"a\",\"a\",\"a\",\"a\",\"a\",\"a\",\"a\",\"a\",\"a\",\"a\",\"a\",\"a\",\"a\",\"a\",\"a\",\"a\"],\"index\":[0,4,8,0,4,8,0,4,8,0,4,8,0,4,8,0,4,8,0,4,8,0,4,8,0,4,8,0,4,8,0,4,8,0,4,8,0,4,8,0,4,8,0,4,8,0,4,8,0,4,8,0,4,8,0,4,8,0,4,8,0,4,8,0,4,8,0,4,8,0,4,8,0,4,8,0,4,8,0,4,8,0,4,8,0,4,8,0,4,8],\"level_0\":[0,2,4,6,8,10,12,14,16,18,20,22,24,26,28,30,32,34,36,38,40,42,44,46,48,50,52,54,56,58,60,62,64,66,68,70,72,74,76,78,80,82,84,86,88,90,92,94,96,98,100,102,104,106,108,110,112,114,116,118,120,122,124,126,128,130,132,134,136,138,140,142,144,146,148,150,152,154,156,158,160,162,164,166,168,170,172,174,176,178],\"marker\":[\"circle\",\"circle\",\"circle\",\"circle\",\"circle\",\"circle\",\"circle\",\"circle\",\"circle\",\"circle\",\"circle\",\"circle\",\"circle\",\"circle\",\"circle\",\"circle\",\"circle\",\"circle\",\"circle\",\"circle\",\"circle\",\"circle\",\"circle\",\"circle\",\"circle\",\"circle\",\"circle\",\"circle\",\"circle\",\"circle\",\"circle\",\"circle\",\"circle\",\"circle\",\"circle\",\"circle\",\"circle\",\"circle\",\"circle\",\"circle\",\"circle\",\"circle\",\"circle\",\"circle\",\"circle\",\"circle\",\"circle\",\"circle\",\"circle\",\"circle\",\"circle\",\"circle\",\"circle\",\"circle\",\"circle\",\"circle\",\"circle\",\"circle\",\"circle\",\"circle\",\"circle\",\"circle\",\"circle\",\"circle\",\"circle\",\"circle\",\"circle\",\"circle\",\"circle\",\"circle\",\"circle\",\"circle\",\"circle\",\"circle\",\"circle\",\"circle\",\"circle\",\"circle\",\"circle\",\"circle\",\"circle\",\"circle\",\"circle\",\"circle\",\"circle\",\"circle\",\"circle\",\"circle\",\"circle\",\"circle\"],\"model\":[\"scipy_L-BFGS-B_0\",\"scipy_L-BFGS-B_0\",\"scipy_L-BFGS-B_0\",\"scipy_L-BFGS-B_1\",\"scipy_L-BFGS-B_1\",\"scipy_L-BFGS-B_1\",\"scipy_L-BFGS-B_2\",\"scipy_L-BFGS-B_2\",\"scipy_L-BFGS-B_2\",\"scipy_L-BFGS-B_3\",\"scipy_L-BFGS-B_3\",\"scipy_L-BFGS-B_3\",\"scipy_L-BFGS-B_4\",\"scipy_L-BFGS-B_4\",\"scipy_L-BFGS-B_4\",\"scipy_L-BFGS-B_5\",\"scipy_L-BFGS-B_5\",\"scipy_L-BFGS-B_5\",\"scipy_L-BFGS-B_6\",\"scipy_L-BFGS-B_6\",\"scipy_L-BFGS-B_6\",\"scipy_L-BFGS-B_7\",\"scipy_L-BFGS-B_7\",\"scipy_L-BFGS-B_7\",\"scipy_L-BFGS-B_8\",\"scipy_L-BFGS-B_8\",\"scipy_L-BFGS-B_8\",\"scipy_L-BFGS-B_9\",\"scipy_L-BFGS-B_9\",\"scipy_L-BFGS-B_9\",\"scipy_TNC_0\",\"scipy_TNC_0\",\"scipy_TNC_0\",\"scipy_TNC_1\",\"scipy_TNC_1\",\"scipy_TNC_1\",\"scipy_TNC_2\",\"scipy_TNC_2\",\"scipy_TNC_2\",\"scipy_TNC_3\",\"scipy_TNC_3\",\"scipy_TNC_3\",\"scipy_TNC_4\",\"scipy_TNC_4\",\"scipy_TNC_4\",\"scipy_TNC_5\",\"scipy_TNC_5\",\"scipy_TNC_5\",\"scipy_TNC_6\",\"scipy_TNC_6\",\"scipy_TNC_6\",\"scipy_TNC_7\",\"scipy_TNC_7\",\"scipy_TNC_7\",\"scipy_TNC_8\",\"scipy_TNC_8\",\"scipy_TNC_8\",\"scipy_TNC_9\",\"scipy_TNC_9\",\"scipy_TNC_9\",\"scipy_SLSQP_0\",\"scipy_SLSQP_0\",\"scipy_SLSQP_0\",\"scipy_SLSQP_1\",\"scipy_SLSQP_1\",\"scipy_SLSQP_1\",\"scipy_SLSQP_2\",\"scipy_SLSQP_2\",\"scipy_SLSQP_2\",\"scipy_SLSQP_3\",\"scipy_SLSQP_3\",\"scipy_SLSQP_3\",\"scipy_SLSQP_4\",\"scipy_SLSQP_4\",\"scipy_SLSQP_4\",\"scipy_SLSQP_5\",\"scipy_SLSQP_5\",\"scipy_SLSQP_5\",\"scipy_SLSQP_6\",\"scipy_SLSQP_6\",\"scipy_SLSQP_6\",\"scipy_SLSQP_7\",\"scipy_SLSQP_7\",\"scipy_SLSQP_7\",\"scipy_SLSQP_8\",\"scipy_SLSQP_8\",\"scipy_SLSQP_8\",\"scipy_SLSQP_9\",\"scipy_SLSQP_9\",\"scipy_SLSQP_9\"],\"model_class\":[\"L-BFGS-B\",\"L-BFGS-B\",\"L-BFGS-B\",\"L-BFGS-B\",\"L-BFGS-B\",\"L-BFGS-B\",\"L-BFGS-B\",\"L-BFGS-B\",\"L-BFGS-B\",\"L-BFGS-B\",\"L-BFGS-B\",\"L-BFGS-B\",\"L-BFGS-B\",\"L-BFGS-B\",\"L-BFGS-B\",\"L-BFGS-B\",\"L-BFGS-B\",\"L-BFGS-B\",\"L-BFGS-B\",\"L-BFGS-B\",\"L-BFGS-B\",\"L-BFGS-B\",\"L-BFGS-B\",\"L-BFGS-B\",\"L-BFGS-B\",\"L-BFGS-B\",\"L-BFGS-B\",\"L-BFGS-B\",\"L-BFGS-B\",\"L-BFGS-B\",\"TNC\",\"TNC\",\"TNC\",\"TNC\",\"TNC\",\"TNC\",\"TNC\",\"TNC\",\"TNC\",\"TNC\",\"TNC\",\"TNC\",\"TNC\",\"TNC\",\"TNC\",\"TNC\",\"TNC\",\"TNC\",\"TNC\",\"TNC\",\"TNC\",\"TNC\",\"TNC\",\"TNC\",\"TNC\",\"TNC\",\"TNC\",\"TNC\",\"TNC\",\"TNC\",\"SLSQP\",\"SLSQP\",\"SLSQP\",\"SLSQP\",\"SLSQP\",\"SLSQP\",\"SLSQP\",\"SLSQP\",\"SLSQP\",\"SLSQP\",\"SLSQP\",\"SLSQP\",\"SLSQP\",\"SLSQP\",\"SLSQP\",\"SLSQP\",\"SLSQP\",\"SLSQP\",\"SLSQP\",\"SLSQP\",\"SLSQP\",\"SLSQP\",\"SLSQP\",\"SLSQP\",\"SLSQP\",\"SLSQP\",\"SLSQP\",\"SLSQP\",\"SLSQP\",\"SLSQP\"],\"name\":[\"a0\",\"a1\",\"a2\",\"a0\",\"a1\",\"a2\",\"a0\",\"a1\",\"a2\",\"a0\",\"a1\",\"a2\",\"a0\",\"a1\",\"a2\",\"a0\",\"a1\",\"a2\",\"a0\",\"a1\",\"a2\",\"a0\",\"a1\",\"a2\",\"a0\",\"a1\",\"a2\",\"a0\",\"a1\",\"a2\",\"a0\",\"a1\",\"a2\",\"a0\",\"a1\",\"a2\",\"a0\",\"a1\",\"a2\",\"a0\",\"a1\",\"a2\",\"a0\",\"a1\",\"a2\",\"a0\",\"a1\",\"a2\",\"a0\",\"a1\",\"a2\",\"a0\",\"a1\",\"a2\",\"a0\",\"a1\",\"a2\",\"a0\",\"a1\",\"a2\",\"a0\",\"a1\",\"a2\",\"a0\",\"a1\",\"a2\",\"a0\",\"a1\",\"a2\",\"a0\",\"a1\",\"a2\",\"a0\",\"a1\",\"a2\",\"a0\",\"a1\",\"a2\",\"a0\",\"a1\",\"a2\",\"a0\",\"a1\",\"a2\",\"a0\",\"a1\",\"a2\",\"a0\",\"a1\",\"a2\"],\"start_value\":{\"__ndarray__\":\"QPq3UB7EuL/Ckw8QGq0GwDi+QOFujdW/UGuc2uLsAUA4PXffVNv0P5DZoh1G4e+/rBLi7f6N6r84trkdWQH+P9ByEO5uDOG/fKEumbMpAsAp+q73KZ72vx0CKAEvIQbA4COX5UqI9D+MpwsV0YP6P3IrKd8FVgfAuPVD7Eqx5z+4WKsP0RQEwAyhzh551vu/AP4uGAz87j8oEoomvuPxP0DTcFvSutU/wE07VGf5t7+QWao6tVHFv10dI+f/7vy/HOnyM1AvBEAqwW2PnQcBwATyMnToygVAsMmURq5d2D94l/LPobnXv7xYRDl6XwfAQPq3UB7EuL/Ckw8QGq0GwDi+QOFujdW/UGuc2uLsAUA4PXffVNv0P5DZoh1G4e+/rBLi7f6N6r84trkdWQH+P9ByEO5uDOG/fKEumbMpAsAp+q73KZ72vx0CKAEvIQbA4COX5UqI9D+MpwsV0YP6P3IrKd8FVgfAuPVD7Eqx5z+4WKsP0RQEwAyhzh551vu/AP4uGAz87j8oEoomvuPxP0DTcFvSutU/wE07VGf5t7+QWao6tVHFv10dI+f/7vy/HOnyM1AvBEAqwW2PnQcBwATyMnToygVAsMmURq5d2D94l/LPobnXv7xYRDl6XwfAQPq3UB7EuL/Ckw8QGq0GwDi+QOFujdW/UGuc2uLsAUA4PXffVNv0P5DZoh1G4e+/rBLi7f6N6r84trkdWQH+P9ByEO5uDOG/fKEumbMpAsAp+q73KZ72vx0CKAEvIQbA4COX5UqI9D+MpwsV0YP6P3IrKd8FVgfAuPVD7Eqx5z+4WKsP0RQEwAyhzh551vu/AP4uGAz87j8oEoomvuPxP0DTcFvSutU/wE07VGf5t7+QWao6tVHFv10dI+f/7vy/HOnyM1AvBEAqwW2PnQcBwATyMnToygVAsMmURq5d2D94l/LPobnXv7xYRDl6XwfA\",\"dtype\":\"float64\",\"shape\":[90]}},\"selected\":{\"id\":\"1687\",\"type\":\"Selection\"},\"selection_policy\":{\"id\":\"1686\",\"type\":\"UnionRenderers\"}},\"id\":\"1637\",\"type\":\"ColumnDataSource\"},{\"attributes\":{\"axis_label\":\"Start Value\",\"formatter\":{\"id\":\"1682\",\"type\":\"BasicTickFormatter\"},\"ticker\":{\"id\":\"1615\",\"type\":\"BasicTicker\"}},\"id\":\"1614\",\"type\":\"LinearAxis\"},{\"attributes\":{\"text\":\"Dependence of the Final Parameter on the Start Value\"},\"id\":\"1604\",\"type\":\"Title\"},{\"attributes\":{\"callback\":null},\"id\":\"1608\",\"type\":\"DataRange1d\"},{\"attributes\":{\"overlay\":{\"id\":\"1685\",\"type\":\"BoxAnnotation\"}},\"id\":\"1626\",\"type\":\"BoxZoomTool\"},{\"attributes\":{},\"id\":\"1628\",\"type\":\"ResetTool\"},{\"attributes\":{},\"id\":\"1686\",\"type\":\"UnionRenderers\"},{\"attributes\":{},\"id\":\"1629\",\"type\":\"HelpTool\"},{\"attributes\":{},\"id\":\"1682\",\"type\":\"BasicTickFormatter\"},{\"attributes\":{\"active_drag\":\"auto\",\"active_inspect\":\"auto\",\"active_multi\":null,\"active_scroll\":\"auto\",\"active_tap\":\"auto\",\"tools\":[{\"id\":\"1624\",\"type\":\"PanTool\"},{\"id\":\"1625\",\"type\":\"WheelZoomTool\"},{\"id\":\"1626\",\"type\":\"BoxZoomTool\"},{\"id\":\"1627\",\"type\":\"SaveTool\"},{\"id\":\"1628\",\"type\":\"ResetTool\"},{\"id\":\"1629\",\"type\":\"HelpTool\"}]},\"id\":\"1630\",\"type\":\"Toolbar\"},{\"attributes\":{\"bottom_units\":\"screen\",\"fill_alpha\":{\"value\":0.5},\"fill_color\":{\"value\":\"lightgrey\"},\"left_units\":\"screen\",\"level\":\"overlay\",\"line_alpha\":{\"value\":1.0},\"line_color\":{\"value\":\"black\"},\"line_dash\":[4,4],\"line_width\":{\"value\":2},\"render_mode\":\"css\",\"right_units\":\"screen\",\"top_units\":\"screen\"},\"id\":\"1685\",\"type\":\"BoxAnnotation\"},{\"attributes\":{},\"id\":\"1684\",\"type\":\"BasicTickFormatter\"},{\"attributes\":{},\"id\":\"1620\",\"type\":\"BasicTicker\"},{\"attributes\":{},\"id\":\"1627\",\"type\":\"SaveTool\"},{\"attributes\":{\"callback\":null},\"id\":\"1606\",\"type\":\"DataRange1d\"},{\"attributes\":{\"ticker\":{\"id\":\"1615\",\"type\":\"BasicTicker\"}},\"id\":\"1618\",\"type\":\"Grid\"},{\"attributes\":{\"source\":{\"id\":\"1637\",\"type\":\"ColumnDataSource\"}},\"id\":\"1642\",\"type\":\"CDSView\"},{\"attributes\":{},\"id\":\"1615\",\"type\":\"BasicTicker\"},{\"attributes\":{\"data_source\":{\"id\":\"1637\",\"type\":\"ColumnDataSource\"},\"glyph\":{\"id\":\"1639\",\"type\":\"Circle\"},\"hover_glyph\":null,\"muted_glyph\":null,\"nonselection_glyph\":{\"id\":\"1640\",\"type\":\"Circle\"},\"selection_glyph\":null,\"view\":{\"id\":\"1642\",\"type\":\"CDSView\"}},\"id\":\"1641\",\"type\":\"GlyphRenderer\"},{\"attributes\":{},\"id\":\"1612\",\"type\":\"LinearScale\"},{\"attributes\":{\"fill_alpha\":{\"value\":0.5},\"fill_color\":{\"field\":\"color\"},\"line_alpha\":{\"value\":0.5},\"line_color\":{\"field\":\"color\"},\"size\":{\"units\":\"screen\",\"value\":12},\"x\":{\"field\":\"start_value\"},\"y\":{\"field\":\"final_value\"}},\"id\":\"1639\",\"type\":\"Circle\"},{\"attributes\":{\"axis_label\":\"Final Value\",\"formatter\":{\"id\":\"1684\",\"type\":\"BasicTickFormatter\"},\"ticker\":{\"id\":\"1620\",\"type\":\"BasicTicker\"}},\"id\":\"1619\",\"type\":\"LinearAxis\"}],\"root_ids\":[\"1603\"]},\"title\":\"Bokeh Application\",\"version\":\"1.2.0\"}};\n",
       "  var render_items = [{\"docid\":\"b7a15474-b4aa-41e6-a5b8-cbe020878353\",\"roots\":{\"1603\":\"0440ca63-7563-4106-ad92-481fc2389988\"}}];\n",
       "  root.Bokeh.embed.embed_items_notebook(docs_json, render_items);\n",
       "\n",
       "  }\n",
       "  if (root.Bokeh !== undefined) {\n",
       "    embed_document(root);\n",
       "  } else {\n",
       "    var attempts = 0;\n",
       "    var timer = setInterval(function(root) {\n",
       "      if (root.Bokeh !== undefined) {\n",
       "        embed_document(root);\n",
       "        clearInterval(timer);\n",
       "      }\n",
       "      attempts++;\n",
       "      if (attempts > 100) {\n",
       "        console.log(\"Bokeh: ERROR: Unable to run BokehJS code because BokehJS library is missing\");\n",
       "        clearInterval(timer);\n",
       "      }\n",
       "    }, 10, root)\n",
       "  }\n",
       "})(window);"
      ],
      "application/vnd.bokehjs_exec.v0+json": ""
     },
     "metadata": {
      "application/vnd.bokehjs_exec.v0+json": {
       "id": "1603"
      }
     },
     "output_type": "display_data"
    }
   ],
   "source": [
    "p = figure(\n",
    "    title = \"Dependence of the Final Parameter on the Start Value\",\n",
    "    plot_height=300,\n",
    "    plot_width=500,\n",
    ")\n",
    "\n",
    "p.circle(\n",
    "    source=a_data, \n",
    "    x=\"start_value\", \n",
    "    y=\"final_value\",\n",
    "    color=\"color\", \n",
    "    \n",
    "    size=12,\n",
    "    alpha=0.5,\n",
    "    )\n",
    "\n",
    "p.xaxis.axis_label = 'Start Value'\n",
    "p.yaxis.axis_label = 'Final Value'\n",
    "\n",
    "show(p)"
   ]
  },
  {
   "cell_type": "markdown",
   "metadata": {},
   "source": [
    "### When we have a non numeric axis we need to pass it explicitely ..."
   ]
  },
  {
   "cell_type": "code",
   "execution_count": 11,
   "metadata": {
    "scrolled": true
   },
   "outputs": [
    {
     "data": {
      "text/html": [
       "\n",
       "\n",
       "\n",
       "\n",
       "\n",
       "\n",
       "  <div class=\"bk-root\" id=\"8ba6c9aa-1203-462a-86ab-e4e3c2202dba\" data-root-id=\"1736\"></div>\n"
      ]
     },
     "metadata": {},
     "output_type": "display_data"
    },
    {
     "data": {
      "application/javascript": [
       "(function(root) {\n",
       "  function embed_document(root) {\n",
       "    \n",
       "  var docs_json = {\"ea386ee7-bb46-44b9-b0a4-163277c42ed4\":{\"roots\":{\"references\":[{\"attributes\":{\"below\":[{\"id\":\"1747\",\"type\":\"LinearAxis\"}],\"center\":[{\"id\":\"1751\",\"type\":\"Grid\"},{\"id\":\"1755\",\"type\":\"Grid\"}],\"left\":[{\"id\":\"1752\",\"type\":\"CategoricalAxis\"}],\"plot_height\":300,\"plot_width\":500,\"renderers\":[{\"id\":\"1773\",\"type\":\"GlyphRenderer\"}],\"title\":{\"id\":\"1737\",\"type\":\"Title\"},\"toolbar\":{\"id\":\"1762\",\"type\":\"Toolbar\"},\"x_range\":{\"id\":\"1739\",\"type\":\"DataRange1d\"},\"x_scale\":{\"id\":\"1743\",\"type\":\"LinearScale\"},\"y_range\":{\"id\":\"1741\",\"type\":\"FactorRange\"},\"y_scale\":{\"id\":\"1745\",\"type\":\"CategoricalScale\"}},\"id\":\"1736\",\"subtype\":\"Figure\",\"type\":\"Plot\"},{\"attributes\":{},\"id\":\"1756\",\"type\":\"PanTool\"},{\"attributes\":{},\"id\":\"1759\",\"type\":\"SaveTool\"},{\"attributes\":{},\"id\":\"1757\",\"type\":\"WheelZoomTool\"},{\"attributes\":{\"overlay\":{\"id\":\"1825\",\"type\":\"BoxAnnotation\"}},\"id\":\"1758\",\"type\":\"BoxZoomTool\"},{\"attributes\":{},\"id\":\"1743\",\"type\":\"LinearScale\"},{\"attributes\":{},\"id\":\"1760\",\"type\":\"ResetTool\"},{\"attributes\":{},\"id\":\"1748\",\"type\":\"BasicTicker\"},{\"attributes\":{\"callback\":null,\"data\":{\"color\":[\"forestgreen\",\"forestgreen\",\"forestgreen\",\"forestgreen\",\"forestgreen\",\"forestgreen\",\"forestgreen\",\"forestgreen\",\"forestgreen\",\"forestgreen\",\"forestgreen\",\"forestgreen\",\"forestgreen\",\"forestgreen\",\"forestgreen\",\"forestgreen\",\"forestgreen\",\"forestgreen\",\"forestgreen\",\"forestgreen\",\"forestgreen\",\"forestgreen\",\"forestgreen\",\"forestgreen\",\"forestgreen\",\"forestgreen\",\"forestgreen\",\"forestgreen\",\"forestgreen\",\"forestgreen\",\"forestgreen\",\"forestgreen\",\"forestgreen\",\"forestgreen\",\"forestgreen\",\"forestgreen\",\"forestgreen\",\"forestgreen\",\"forestgreen\",\"forestgreen\",\"forestgreen\",\"forestgreen\",\"forestgreen\",\"forestgreen\",\"forestgreen\",\"forestgreen\",\"forestgreen\",\"forestgreen\",\"forestgreen\",\"forestgreen\",\"forestgreen\",\"forestgreen\",\"forestgreen\",\"forestgreen\",\"forestgreen\",\"forestgreen\",\"forestgreen\",\"forestgreen\",\"forestgreen\",\"forestgreen\",\"#035096\",\"#035096\",\"#035096\",\"#035096\",\"#035096\",\"#035096\",\"#035096\",\"#035096\",\"#035096\",\"#035096\",\"#035096\",\"#035096\",\"#035096\",\"#035096\",\"#035096\",\"#035096\",\"#035096\",\"#035096\",\"#035096\",\"#035096\",\"#035096\",\"#035096\",\"#035096\",\"#035096\",\"#035096\",\"#035096\",\"#035096\",\"#035096\",\"#035096\",\"#035096\",\"#035096\",\"#035096\",\"#035096\",\"#035096\",\"#035096\",\"#035096\",\"#035096\",\"#035096\",\"#035096\",\"#035096\",\"#035096\",\"#035096\",\"#035096\",\"#035096\",\"#035096\",\"#035096\",\"#035096\",\"#035096\",\"#035096\",\"#035096\",\"#035096\",\"#035096\",\"#035096\",\"#035096\",\"#035096\",\"#035096\",\"#035096\",\"#035096\",\"#035096\",\"#035096\",\"firebrick\",\"firebrick\",\"firebrick\",\"firebrick\",\"firebrick\",\"firebrick\",\"firebrick\",\"firebrick\",\"firebrick\",\"firebrick\",\"firebrick\",\"firebrick\",\"firebrick\",\"firebrick\",\"firebrick\",\"firebrick\",\"firebrick\",\"firebrick\",\"firebrick\",\"firebrick\",\"firebrick\",\"firebrick\",\"firebrick\",\"firebrick\",\"firebrick\",\"firebrick\",\"firebrick\",\"firebrick\",\"firebrick\",\"firebrick\",\"firebrick\",\"firebrick\",\"firebrick\",\"firebrick\",\"firebrick\",\"firebrick\",\"firebrick\",\"firebrick\",\"firebrick\",\"firebrick\",\"firebrick\",\"firebrick\",\"firebrick\",\"firebrick\",\"firebrick\",\"firebrick\",\"firebrick\",\"firebrick\",\"firebrick\",\"firebrick\",\"firebrick\",\"firebrick\",\"firebrick\",\"firebrick\",\"firebrick\",\"firebrick\",\"firebrick\",\"firebrick\",\"firebrick\",\"firebrick\"],\"conf_int_lower\":{\"__ndarray__\":\"BQqOaxnVi78pfEGAjEmWv2N0Yj9VDZO/78uFzIROnL9kFkwsCTeTvwQM/dijLJa/wITQ+f2sQT98HKOrjZuUvzV3VRB9PZm/a53hDQt3nr9B/FpMFtCWv7T+3GpsSJ2/DG4ZfBScUj/belxqFteWv/r4HFf6M4i/yevP2J0Clb8P7wMst0aQv4iqLlFUfJO/fGLi5zkWnL+OrTVB3T+Kv+aDw8xAIqW/fxPkv0Ueib/w0eb4YY6Dv5iHJaVX75y/wJGBRBs3pb83UVHlYfyYvyFeXhB1aaG/Aw9X2+I2m7+8Y8BMzUusv5Qelp1533C/WspyoFWzir96su0J64KUvyIMBgSCd4C/ORf6jTwPlL/46rxBM56mv6inuJDndpa/I01fAHKHjL8Oe+fxxrydv9BGzmmnsZC/h5HsMpl4kr8uGZ0nrB6bvz71G1zfYoO/Vi1WXaWNpr8u7QmYyuOOv3Kig3N3p5W/0XHUfTgngL+8QBCOprCIv7MTmLO4N4+/lhdhDFClnr9UW26hf6qTv7QBYpvTHnc/XgOd7+TClL9/7uKXacCOv6aRFYeHQpa/6wNDY7vHh79j0HD/cBeSv8zo6cHi+6C/36LyPgcLlb9EgjY25eGZv7kf5mmUdqG//oD0NO2Vl79PVP2rwxCTvxrEF7BHj6e/4djVoTFNpr+gb26EISmkv+NNLJVcAqC/TWH8Le56lb/2KASUmPKgv5xnz1oBzIa/upWsIYs3pr9A0VVzxARbv/YETiHqSKm/1ljTXfH3mD8BFDbspAGjvwqC5WGF+7e/WlkZ7/94mr9yVUjBfTqlP1oMQ4OvEKa/KP2xVv6qar9r8o/iCzWhv7RparOdX3m/Yt0bB7K0lr/d392M5fyhv6gic4OkCaG/m+oTBg/UrL+0Zk+vxneRvzskrhTNcKC/FjjLLTUspL94wPS1YbWVvxqYqEavAJS/H7nTxMPPuD/2SV3gC+miv9rscw6yU56/h2wXQXqZn79u322j0ZWuv7o1gnv+tpm/OR+Bb6wcsz+9UxeberahvwGFgPwh7tE/bALjiARJsr84JiL7/pnbPwwbCFfpO7W/7kZymSYenr9toJPxMFaivwmQOAHVoZO/EqhmUjqKqL/IdtNcqoKBvyJ2ZnL9o4K/R0iqUDktqb/GcTFP5/qovzCowChTCau/AE5fldZPn7/JK9ErmN2ovw9vXeCAiKC/8JoYSCVkeb8i15HuiF+jv2R5/Aplr56/p5RGg/zpnb+WbPKswc+fv/8L3BooZ6m/NJNr/92LoL9e7+6gzauyv/V7VWoeErG/f/5iIB3+qr93fEJozAK2v63Mt+9A3ae/cB7dWAnAqL96t8caviubv8DJCCdB6Yq/ZKHrXLzkn79zbQkEpCubvz/qG8VDXqe/EduwtGb6o79OdIPgjYasv+DzQjPfbbW/+3e0kjgfor/YvEluALWiv9Xv+x7gray/HzIPncErmb8hzvFYm/2hv4LMfK6S0a6/kgiI3F0op79Hxb7JRnecv+W1qoM+baO/pTL0Ji1lsL/IJwxalU2vv8pXU0UOJLO/0c/QRjz5qL/CHzVngx+8v/L8KDkOKqW/BNBp+T0cr79GZ7hS88GhvxBLdcVg32A/6FAeQ9bxrb8kAjhOektwv6QL0xz+GJG/rF4wpTqcs7+MQdRJi4GIv6BLZ5XBtJa/74MFDR5gk7//yoA9o8aTv5FGJ68+0KW/q2mPEJ9Dnr9GD8Gd4SitvyLcvbw/M6i/Pi6ZbJItnL/gTQ9tQqiRvwgbN4d9iZq/KN973zC0h7+G9bPzzpSrv1QpeuJJxaa/a8+xI8QYpb9w9/o7vYmqv6mmp/ro2p+/2gZyiQZClr8g/8U2drKqv459UDNJbbC/Ux4ZrPTspL/XZWGHoJipv2JLUpqnIaq/\",\"dtype\":\"float64\",\"shape\":[180]},\"conf_int_upper\":{\"__ndarray__\":\"PcAXYP1nkz9xqoiHWYCVP0JPedxeHoU/NiNEoxo4mT+upLzii2GgP/rgTom1RZM/gOXCmmXEoj9/fQirNB6bP7dQLyXwnZo/Vpyg8FEamD/Ly7KxwpyTP9+f0SYVS5Q/i+1uBIfslT8iFWFzVy2HP3Q58woJQpo/IH+O0Zd/kD83NCPiEfSdP+OUkI41R50/FEybpjdqmz9W0jQF17CMPxg05qMVf3g/YFmH8xY+mj8uGB4IuFKhP8Qx2/6iL5M/QPftb324Wb+4CVpOWDGTP0BZHW4KBH8/tqYFN3vUlD/gcb9EXpdKP4yTPT5XIZE/csJ4KDT8mD9jhUClfxqTP/HU7bwOfZ8//gE+zcFIhT+KmAevw55yv0SqyCbccZc/csxXhKdJfT8HEZNnGpSOPwNdeRWQypk/zCUb6csFmT8vgoSItfaLP2xtW1PrN34/AM7PAtA1ID9tBwdjXgygP8X1zVgTNYk/5VqL3PXmoD+Ra/LoUHuDP2y+I+3veZI/nrKX7KQPgL8q3lb1cHuNP/b3Dvaumak/CxRFaPZWlD/DgLlx8valPx9q/x+uV5E/fonqZohNmD9K0cb3GxWSP+5ypTozoJM/R4tM3Xktjz92lmogS26ZPyEPJl6tJZ0/VpVnl9NElD/WDoXVUfOUP0ipiz6k55U/qD24rL8spj8mRxkWeyudP1UbDyjQ4p8/HwCBSMnFkz+MLRDO4IeiP/WnAihDxKA/XjIGa8I4mT+AxI/fg5OsPyKO3Txc36E/sPAcryzTtT/IqzwPhuaFP//FN2H7ZaK/OK5BtVf+oj9qbbkuN3yxP6myW7X+HqE/A6rPTpBEpz9qHClZLdujPy7xFnIdl7A/wLFew+18jz8kPppvi1CkP9YQ0ofyS6E/ToO/Wwb0lj/C82WkNcKcP3s84mVjM5g/BiHxGxgXoj8TrizizjioPzy0S4V0VKI/EeIPqtdxwz8ER1HxPeefP0z+Hv6cZKQ/++9g6Qf5pz+QIul98p90vzMSNW+jH6A/eBJMy4oyxD9QhsZr7mKZP0wxvoAlYtQ/hjf9+Fidjr8AWHCTNkTgP9QVjIGCFpW/mn0qTFEUjD88k4CMQ/qEP1gZjmO6ipo/Xz2mlMJZoT8ocJ3aQV6hP7Lg+PghZpw/0AW1IkBdjD9kFRpm86mpP1BUkHOM0Zw/UFbtZmN+oD9gX0Xmfq59vzFukpoCdKI/RI65L2UisT9edtlaoTepP+hthRWso6A/9Ga67KHmlj8cx8gsupClPwVFi9+82ZY/bfFeuglrpj8M3d+q8cCdPxBlBi72CKA/B9tOUx7Hoz+oKbSC50RxP/b5FLu7s64/ib2cdQ5bmj9KNWRL2iCaP1KBb5TVvaY/u6EXHyIdqj+mdunYkWqSP900GB+2Kak/GX1jwKzCpD8afCHnjh6hP24rFp64wJS//flXsqYzrz9co/CG3farPxTIRPoi6Js/hLYiUDxVsT8OUCVQXYeqP4DOzmjck6I/W5SgN6Kcnz+78Z6hk4SxP2oTEoKGL6Q/XrJ4tQkilT8/5vF/QnSsPxzCkpfSzo0/qvEmuwgZsD/kZNi1kKOBv99JrftNU6U/vSaMhJv0lz+kucb1WRmgP8rV2HXi4bA/FQnHlVhSoT8ywasBEJ+yP0OW2l+fTaQ/0H/WNAfZlL9G4ZzzEImjPwO0GENsAqs/lBuoX+18oD+wyo947qyqP5V6CNdNi5g/KwVSVst5mT9w+frrdp6rP6oXio1P26E/gG1dot+BmT+3cHcyeyKqP3DhSA1MXKg/D6ysLOuvsj8UgYL6BvOkP+xaSmT8Xp4/KeztRAcmsT+Z/xXRlr2Uv8/JDyvHoZw/oCKlBIqHsD8cZpW3yIuSP1QZbyOR/oA/WFxLGUUroz/j7C5sSL6gP/cibX5+4Kg/\",\"dtype\":\"float64\",\"shape\":[180]},\"final_value\":{\"__ndarray__\":\"G4YehnuBbj/lC5QRboI4v9SYO3HchXO/LZONbghJPz9HmTdKZcBwPyYBC/SOxjq/HuvDYnJElT+OZVYXGgJhv+uQtfwt1mK/TMMK/GwILj8w6lIfNSZxv/Y4OjgLYjs/f48f9pQ+eD8UA+lgyFhDvzPWj9nsp3k/hzDo+ZObRL+OEXBp2plQvxL1EpBjUBo/8Ens4iW2ej8I0M2j2lZFv66bJ3ACDpK/GupqApTjXD/cwcKue0qDP4A43XOy2E6/SdeHEL+Dlr/JcHph0gJiP1YYGddsDYy/8CXkkQhwVj+ByCzNTPOXv5P+ZlHfKWM/sxLY6I/LVT8OWjrf/24hv3Zr1K17EII/62emjKfuTL9rvsReQNaOv0kXSY76sFg/yB10rVz9Yr8yr0zKuWUuP9Avj9g9BWc/stro8spzMr+900efQhiFv9CWyU+431A/6n2y5BgQlL+Zo1mZMA5gP6PudxxZs4G/i/GI+nRPTD+jnEeK6mpQP+p+os5KzBq/NJDgR8RhjL/xJLeSgblWPwvclKMHIZY/JtgZOx/EYb/VOjh/9dWHP4RRfx2WI1O/U+npp6+vhD8S5NLt8Y5Qv5S4VKxHlIq/quy6lk9DVT8w2mi+b7BgP0oJRKJNwiq/gEyBUUWiTz8AwO/4ck4ZvwAYH5d98Gq/AHCEkSSNNT+gAIHL85uBvwCgfmyaLEw/AEiVBeSRYL8AQL/u9ZAqPwD+IlezM30/AJSMjUx0R79AN32NzRiSPwCQkl3fAF2/EHQ7BsZrrT8Ak73FtrF3v7DVpMKmRbC/AKidG0CpeT+gNlBhogenPwB+fZVbXnK/AC0mKsT5gz8AgBoId/9Pv8DFM+LqaZU/ALgev+wmYb8AQRXQ/paDPwB4r/fAVU+/gBIQJjmgir8AcKO7NEdVP4D5XQ5lYog/APhChTt5U78AwJJZBYePPwBk0k3WN1m/SP2jsH6Auz8A1+vFL8CFvwDe/2YWQIc/AKBN5AgqS7/ARw8IasejvwAmye0konI/SFPCLYpwvT+Ar5r21jSIv+yvgydoJdQ/sJSmuV/vor+UsxMUnp/dP4ArxShFHam/oDXkO62abL8A8Oxpf242PyDq4qC+mHU/ANA5XjJ7QL+Af+IXgm6EPwBXFjljl0+/AEhRU0x9jb8AiHdpzuVbP4BmiiD+EJC/AGgWJunWXT8AAhHhfF6bvwDYRl6kJWg/yLIAZ31yoT8AzCLP2uhrv6A28ZLui4Y/AGzis7UGUr8ATGDdkstiPwBelTOSHi2/uPXbY7nwdb8G2lZ0445BPyWQDhVclYS/oQyq/yF4UD9sG2GeCTmhvxx8tZThjms/MaKXxNhul79c+HG3y75iP9pb8P9Kvos/ICs5+4AyVr9K77n4P5eQv6D+KeJ/jFo/S2hxheDHgb/gyRwTDX9MP7f+tV7g/Km/qYKqqwnNdD8pmLwz4DOKP55N9mkK51S/SWFOm+f5lT/a6BcD0JNhv8p1oa8SOIu/0ez1Sl7JVT+aEBClscWIP66lARynzVO/xFWUVenikb99xswMEaJcP1qgsZ7eE6O/MAVxCySPbj8G8kfwPHmhv6aFUHCC9ms/e79DIhdLab/Js4UCw2A0P3gSSDq9YJ8/bFhDaIIdab/42VxBcoaEP8Ul7zXObVC/4+K1C/SBrL8ll5eCyc92P4KBSaBI5ZE/9PIUdguUXL8J9eoMl6VrPx+YF5SlDja/gHvjbjrp5L5ABTCmf5O5PuXaG5pJYJO/Z39XPk4AXz/8IF5rfKeaP2C5BAB/UmW/BiJHCTjBgz/SMFqfHqdPvwqN+R1mNFK/tCOOXZwHHT/Dr8tjVGqfv+c0wWdwH2k/F6Jy5NB7oT9kuTwX8/lrv74n3o/hnqG/kq+jTOgybD+oQCRQBHhOP/ABy4YLdRi/\",\"dtype\":\"float64\",\"shape\":[180]},\"full_name\":[\"a_a0\",\"b_b0\",\"a_a1\",\"b_b1\",\"a_a2\",\"b_b2\",\"a_a0\",\"b_b0\",\"a_a1\",\"b_b1\",\"a_a2\",\"b_b2\",\"a_a0\",\"b_b0\",\"a_a1\",\"b_b1\",\"a_a2\",\"b_b2\",\"a_a0\",\"b_b0\",\"a_a1\",\"b_b1\",\"a_a2\",\"b_b2\",\"a_a0\",\"b_b0\",\"a_a1\",\"b_b1\",\"a_a2\",\"b_b2\",\"a_a0\",\"b_b0\",\"a_a1\",\"b_b1\",\"a_a2\",\"b_b2\",\"a_a0\",\"b_b0\",\"a_a1\",\"b_b1\",\"a_a2\",\"b_b2\",\"a_a0\",\"b_b0\",\"a_a1\",\"b_b1\",\"a_a2\",\"b_b2\",\"a_a0\",\"b_b0\",\"a_a1\",\"b_b1\",\"a_a2\",\"b_b2\",\"a_a0\",\"b_b0\",\"a_a1\",\"b_b1\",\"a_a2\",\"b_b2\",\"a_a0\",\"b_b0\",\"a_a1\",\"b_b1\",\"a_a2\",\"b_b2\",\"a_a0\",\"b_b0\",\"a_a1\",\"b_b1\",\"a_a2\",\"b_b2\",\"a_a0\",\"b_b0\",\"a_a1\",\"b_b1\",\"a_a2\",\"b_b2\",\"a_a0\",\"b_b0\",\"a_a1\",\"b_b1\",\"a_a2\",\"b_b2\",\"a_a0\",\"b_b0\",\"a_a1\",\"b_b1\",\"a_a2\",\"b_b2\",\"a_a0\",\"b_b0\",\"a_a1\",\"b_b1\",\"a_a2\",\"b_b2\",\"a_a0\",\"b_b0\",\"a_a1\",\"b_b1\",\"a_a2\",\"b_b2\",\"a_a0\",\"b_b0\",\"a_a1\",\"b_b1\",\"a_a2\",\"b_b2\",\"a_a0\",\"b_b0\",\"a_a1\",\"b_b1\",\"a_a2\",\"b_b2\",\"a_a0\",\"b_b0\",\"a_a1\",\"b_b1\",\"a_a2\",\"b_b2\",\"a_a0\",\"b_b0\",\"a_a1\",\"b_b1\",\"a_a2\",\"b_b2\",\"a_a0\",\"b_b0\",\"a_a1\",\"b_b1\",\"a_a2\",\"b_b2\",\"a_a0\",\"b_b0\",\"a_a1\",\"b_b1\",\"a_a2\",\"b_b2\",\"a_a0\",\"b_b0\",\"a_a1\",\"b_b1\",\"a_a2\",\"b_b2\",\"a_a0\",\"b_b0\",\"a_a1\",\"b_b1\",\"a_a2\",\"b_b2\",\"a_a0\",\"b_b0\",\"a_a1\",\"b_b1\",\"a_a2\",\"b_b2\",\"a_a0\",\"b_b0\",\"a_a1\",\"b_b1\",\"a_a2\",\"b_b2\",\"a_a0\",\"b_b0\",\"a_a1\",\"b_b1\",\"a_a2\",\"b_b2\",\"a_a0\",\"b_b0\",\"a_a1\",\"b_b1\",\"a_a2\",\"b_b2\",\"a_a0\",\"b_b0\",\"a_a1\",\"b_b1\",\"a_a2\",\"b_b2\"],\"group\":[\"a\",\"b\",\"a\",\"b\",\"a\",\"b\",\"a\",\"b\",\"a\",\"b\",\"a\",\"b\",\"a\",\"b\",\"a\",\"b\",\"a\",\"b\",\"a\",\"b\",\"a\",\"b\",\"a\",\"b\",\"a\",\"b\",\"a\",\"b\",\"a\",\"b\",\"a\",\"b\",\"a\",\"b\",\"a\",\"b\",\"a\",\"b\",\"a\",\"b\",\"a\",\"b\",\"a\",\"b\",\"a\",\"b\",\"a\",\"b\",\"a\",\"b\",\"a\",\"b\",\"a\",\"b\",\"a\",\"b\",\"a\",\"b\",\"a\",\"b\",\"a\",\"b\",\"a\",\"b\",\"a\",\"b\",\"a\",\"b\",\"a\",\"b\",\"a\",\"b\",\"a\",\"b\",\"a\",\"b\",\"a\",\"b\",\"a\",\"b\",\"a\",\"b\",\"a\",\"b\",\"a\",\"b\",\"a\",\"b\",\"a\",\"b\",\"a\",\"b\",\"a\",\"b\",\"a\",\"b\",\"a\",\"b\",\"a\",\"b\",\"a\",\"b\",\"a\",\"b\",\"a\",\"b\",\"a\",\"b\",\"a\",\"b\",\"a\",\"b\",\"a\",\"b\",\"a\",\"b\",\"a\",\"b\",\"a\",\"b\",\"a\",\"b\",\"a\",\"b\",\"a\",\"b\",\"a\",\"b\",\"a\",\"b\",\"a\",\"b\",\"a\",\"b\",\"a\",\"b\",\"a\",\"b\",\"a\",\"b\",\"a\",\"b\",\"a\",\"b\",\"a\",\"b\",\"a\",\"b\",\"a\",\"b\",\"a\",\"b\",\"a\",\"b\",\"a\",\"b\",\"a\",\"b\",\"a\",\"b\",\"a\",\"b\",\"a\",\"b\",\"a\",\"b\",\"a\",\"b\",\"a\",\"b\",\"a\",\"b\",\"a\",\"b\",\"a\",\"b\",\"a\",\"b\",\"a\",\"b\"],\"index\":[0,1,4,5,8,9,0,1,4,5,8,9,0,1,4,5,8,9,0,1,4,5,8,9,0,1,4,5,8,9,0,1,4,5,8,9,0,1,4,5,8,9,0,1,4,5,8,9,0,1,4,5,8,9,0,1,4,5,8,9,0,1,4,5,8,9,0,1,4,5,8,9,0,1,4,5,8,9,0,1,4,5,8,9,0,1,4,5,8,9,0,1,4,5,8,9,0,1,4,5,8,9,0,1,4,5,8,9,0,1,4,5,8,9,0,1,4,5,8,9,0,1,4,5,8,9,0,1,4,5,8,9,0,1,4,5,8,9,0,1,4,5,8,9,0,1,4,5,8,9,0,1,4,5,8,9,0,1,4,5,8,9,0,1,4,5,8,9,0,1,4,5,8,9,0,1,4,5,8,9],\"level_0\":[0,1,2,3,4,5,6,7,8,9,10,11,12,13,14,15,16,17,18,19,20,21,22,23,24,25,26,27,28,29,30,31,32,33,34,35,36,37,38,39,40,41,42,43,44,45,46,47,48,49,50,51,52,53,54,55,56,57,58,59,60,61,62,63,64,65,66,67,68,69,70,71,72,73,74,75,76,77,78,79,80,81,82,83,84,85,86,87,88,89,90,91,92,93,94,95,96,97,98,99,100,101,102,103,104,105,106,107,108,109,110,111,112,113,114,115,116,117,118,119,120,121,122,123,124,125,126,127,128,129,130,131,132,133,134,135,136,137,138,139,140,141,142,143,144,145,146,147,148,149,150,151,152,153,154,155,156,157,158,159,160,161,162,163,164,165,166,167,168,169,170,171,172,173,174,175,176,177,178,179],\"marker\":[\"circle\",\"circle\",\"circle\",\"circle\",\"circle\",\"circle\",\"circle\",\"circle\",\"circle\",\"circle\",\"circle\",\"circle\",\"circle\",\"circle\",\"circle\",\"circle\",\"circle\",\"circle\",\"circle\",\"circle\",\"circle\",\"circle\",\"circle\",\"circle\",\"circle\",\"circle\",\"circle\",\"circle\",\"circle\",\"circle\",\"circle\",\"circle\",\"circle\",\"circle\",\"circle\",\"circle\",\"circle\",\"circle\",\"circle\",\"circle\",\"circle\",\"circle\",\"circle\",\"circle\",\"circle\",\"circle\",\"circle\",\"circle\",\"circle\",\"circle\",\"circle\",\"circle\",\"circle\",\"circle\",\"circle\",\"circle\",\"circle\",\"circle\",\"circle\",\"circle\",\"circle\",\"circle\",\"circle\",\"circle\",\"circle\",\"circle\",\"circle\",\"circle\",\"circle\",\"circle\",\"circle\",\"circle\",\"circle\",\"circle\",\"circle\",\"circle\",\"circle\",\"circle\",\"circle\",\"circle\",\"circle\",\"circle\",\"circle\",\"circle\",\"circle\",\"circle\",\"circle\",\"circle\",\"circle\",\"circle\",\"circle\",\"circle\",\"circle\",\"circle\",\"circle\",\"circle\",\"circle\",\"circle\",\"circle\",\"circle\",\"circle\",\"circle\",\"circle\",\"circle\",\"circle\",\"circle\",\"circle\",\"circle\",\"circle\",\"circle\",\"circle\",\"circle\",\"circle\",\"circle\",\"circle\",\"circle\",\"circle\",\"circle\",\"circle\",\"circle\",\"circle\",\"circle\",\"circle\",\"circle\",\"circle\",\"circle\",\"circle\",\"circle\",\"circle\",\"circle\",\"circle\",\"circle\",\"circle\",\"circle\",\"circle\",\"circle\",\"circle\",\"circle\",\"circle\",\"circle\",\"circle\",\"circle\",\"circle\",\"circle\",\"circle\",\"circle\",\"circle\",\"circle\",\"circle\",\"circle\",\"circle\",\"circle\",\"circle\",\"circle\",\"circle\",\"circle\",\"circle\",\"circle\",\"circle\",\"circle\",\"circle\",\"circle\",\"circle\",\"circle\",\"circle\",\"circle\",\"circle\",\"circle\",\"circle\",\"circle\",\"circle\",\"circle\",\"circle\",\"circle\",\"circle\",\"circle\",\"circle\",\"circle\",\"circle\",\"circle\"],\"model\":[\"scipy_L-BFGS-B_0\",\"scipy_L-BFGS-B_0\",\"scipy_L-BFGS-B_0\",\"scipy_L-BFGS-B_0\",\"scipy_L-BFGS-B_0\",\"scipy_L-BFGS-B_0\",\"scipy_L-BFGS-B_1\",\"scipy_L-BFGS-B_1\",\"scipy_L-BFGS-B_1\",\"scipy_L-BFGS-B_1\",\"scipy_L-BFGS-B_1\",\"scipy_L-BFGS-B_1\",\"scipy_L-BFGS-B_2\",\"scipy_L-BFGS-B_2\",\"scipy_L-BFGS-B_2\",\"scipy_L-BFGS-B_2\",\"scipy_L-BFGS-B_2\",\"scipy_L-BFGS-B_2\",\"scipy_L-BFGS-B_3\",\"scipy_L-BFGS-B_3\",\"scipy_L-BFGS-B_3\",\"scipy_L-BFGS-B_3\",\"scipy_L-BFGS-B_3\",\"scipy_L-BFGS-B_3\",\"scipy_L-BFGS-B_4\",\"scipy_L-BFGS-B_4\",\"scipy_L-BFGS-B_4\",\"scipy_L-BFGS-B_4\",\"scipy_L-BFGS-B_4\",\"scipy_L-BFGS-B_4\",\"scipy_L-BFGS-B_5\",\"scipy_L-BFGS-B_5\",\"scipy_L-BFGS-B_5\",\"scipy_L-BFGS-B_5\",\"scipy_L-BFGS-B_5\",\"scipy_L-BFGS-B_5\",\"scipy_L-BFGS-B_6\",\"scipy_L-BFGS-B_6\",\"scipy_L-BFGS-B_6\",\"scipy_L-BFGS-B_6\",\"scipy_L-BFGS-B_6\",\"scipy_L-BFGS-B_6\",\"scipy_L-BFGS-B_7\",\"scipy_L-BFGS-B_7\",\"scipy_L-BFGS-B_7\",\"scipy_L-BFGS-B_7\",\"scipy_L-BFGS-B_7\",\"scipy_L-BFGS-B_7\",\"scipy_L-BFGS-B_8\",\"scipy_L-BFGS-B_8\",\"scipy_L-BFGS-B_8\",\"scipy_L-BFGS-B_8\",\"scipy_L-BFGS-B_8\",\"scipy_L-BFGS-B_8\",\"scipy_L-BFGS-B_9\",\"scipy_L-BFGS-B_9\",\"scipy_L-BFGS-B_9\",\"scipy_L-BFGS-B_9\",\"scipy_L-BFGS-B_9\",\"scipy_L-BFGS-B_9\",\"scipy_TNC_0\",\"scipy_TNC_0\",\"scipy_TNC_0\",\"scipy_TNC_0\",\"scipy_TNC_0\",\"scipy_TNC_0\",\"scipy_TNC_1\",\"scipy_TNC_1\",\"scipy_TNC_1\",\"scipy_TNC_1\",\"scipy_TNC_1\",\"scipy_TNC_1\",\"scipy_TNC_2\",\"scipy_TNC_2\",\"scipy_TNC_2\",\"scipy_TNC_2\",\"scipy_TNC_2\",\"scipy_TNC_2\",\"scipy_TNC_3\",\"scipy_TNC_3\",\"scipy_TNC_3\",\"scipy_TNC_3\",\"scipy_TNC_3\",\"scipy_TNC_3\",\"scipy_TNC_4\",\"scipy_TNC_4\",\"scipy_TNC_4\",\"scipy_TNC_4\",\"scipy_TNC_4\",\"scipy_TNC_4\",\"scipy_TNC_5\",\"scipy_TNC_5\",\"scipy_TNC_5\",\"scipy_TNC_5\",\"scipy_TNC_5\",\"scipy_TNC_5\",\"scipy_TNC_6\",\"scipy_TNC_6\",\"scipy_TNC_6\",\"scipy_TNC_6\",\"scipy_TNC_6\",\"scipy_TNC_6\",\"scipy_TNC_7\",\"scipy_TNC_7\",\"scipy_TNC_7\",\"scipy_TNC_7\",\"scipy_TNC_7\",\"scipy_TNC_7\",\"scipy_TNC_8\",\"scipy_TNC_8\",\"scipy_TNC_8\",\"scipy_TNC_8\",\"scipy_TNC_8\",\"scipy_TNC_8\",\"scipy_TNC_9\",\"scipy_TNC_9\",\"scipy_TNC_9\",\"scipy_TNC_9\",\"scipy_TNC_9\",\"scipy_TNC_9\",\"scipy_SLSQP_0\",\"scipy_SLSQP_0\",\"scipy_SLSQP_0\",\"scipy_SLSQP_0\",\"scipy_SLSQP_0\",\"scipy_SLSQP_0\",\"scipy_SLSQP_1\",\"scipy_SLSQP_1\",\"scipy_SLSQP_1\",\"scipy_SLSQP_1\",\"scipy_SLSQP_1\",\"scipy_SLSQP_1\",\"scipy_SLSQP_2\",\"scipy_SLSQP_2\",\"scipy_SLSQP_2\",\"scipy_SLSQP_2\",\"scipy_SLSQP_2\",\"scipy_SLSQP_2\",\"scipy_SLSQP_3\",\"scipy_SLSQP_3\",\"scipy_SLSQP_3\",\"scipy_SLSQP_3\",\"scipy_SLSQP_3\",\"scipy_SLSQP_3\",\"scipy_SLSQP_4\",\"scipy_SLSQP_4\",\"scipy_SLSQP_4\",\"scipy_SLSQP_4\",\"scipy_SLSQP_4\",\"scipy_SLSQP_4\",\"scipy_SLSQP_5\",\"scipy_SLSQP_5\",\"scipy_SLSQP_5\",\"scipy_SLSQP_5\",\"scipy_SLSQP_5\",\"scipy_SLSQP_5\",\"scipy_SLSQP_6\",\"scipy_SLSQP_6\",\"scipy_SLSQP_6\",\"scipy_SLSQP_6\",\"scipy_SLSQP_6\",\"scipy_SLSQP_6\",\"scipy_SLSQP_7\",\"scipy_SLSQP_7\",\"scipy_SLSQP_7\",\"scipy_SLSQP_7\",\"scipy_SLSQP_7\",\"scipy_SLSQP_7\",\"scipy_SLSQP_8\",\"scipy_SLSQP_8\",\"scipy_SLSQP_8\",\"scipy_SLSQP_8\",\"scipy_SLSQP_8\",\"scipy_SLSQP_8\",\"scipy_SLSQP_9\",\"scipy_SLSQP_9\",\"scipy_SLSQP_9\",\"scipy_SLSQP_9\",\"scipy_SLSQP_9\",\"scipy_SLSQP_9\"],\"model_class\":[\"L-BFGS-B\",\"L-BFGS-B\",\"L-BFGS-B\",\"L-BFGS-B\",\"L-BFGS-B\",\"L-BFGS-B\",\"L-BFGS-B\",\"L-BFGS-B\",\"L-BFGS-B\",\"L-BFGS-B\",\"L-BFGS-B\",\"L-BFGS-B\",\"L-BFGS-B\",\"L-BFGS-B\",\"L-BFGS-B\",\"L-BFGS-B\",\"L-BFGS-B\",\"L-BFGS-B\",\"L-BFGS-B\",\"L-BFGS-B\",\"L-BFGS-B\",\"L-BFGS-B\",\"L-BFGS-B\",\"L-BFGS-B\",\"L-BFGS-B\",\"L-BFGS-B\",\"L-BFGS-B\",\"L-BFGS-B\",\"L-BFGS-B\",\"L-BFGS-B\",\"L-BFGS-B\",\"L-BFGS-B\",\"L-BFGS-B\",\"L-BFGS-B\",\"L-BFGS-B\",\"L-BFGS-B\",\"L-BFGS-B\",\"L-BFGS-B\",\"L-BFGS-B\",\"L-BFGS-B\",\"L-BFGS-B\",\"L-BFGS-B\",\"L-BFGS-B\",\"L-BFGS-B\",\"L-BFGS-B\",\"L-BFGS-B\",\"L-BFGS-B\",\"L-BFGS-B\",\"L-BFGS-B\",\"L-BFGS-B\",\"L-BFGS-B\",\"L-BFGS-B\",\"L-BFGS-B\",\"L-BFGS-B\",\"L-BFGS-B\",\"L-BFGS-B\",\"L-BFGS-B\",\"L-BFGS-B\",\"L-BFGS-B\",\"L-BFGS-B\",\"TNC\",\"TNC\",\"TNC\",\"TNC\",\"TNC\",\"TNC\",\"TNC\",\"TNC\",\"TNC\",\"TNC\",\"TNC\",\"TNC\",\"TNC\",\"TNC\",\"TNC\",\"TNC\",\"TNC\",\"TNC\",\"TNC\",\"TNC\",\"TNC\",\"TNC\",\"TNC\",\"TNC\",\"TNC\",\"TNC\",\"TNC\",\"TNC\",\"TNC\",\"TNC\",\"TNC\",\"TNC\",\"TNC\",\"TNC\",\"TNC\",\"TNC\",\"TNC\",\"TNC\",\"TNC\",\"TNC\",\"TNC\",\"TNC\",\"TNC\",\"TNC\",\"TNC\",\"TNC\",\"TNC\",\"TNC\",\"TNC\",\"TNC\",\"TNC\",\"TNC\",\"TNC\",\"TNC\",\"TNC\",\"TNC\",\"TNC\",\"TNC\",\"TNC\",\"TNC\",\"SLSQP\",\"SLSQP\",\"SLSQP\",\"SLSQP\",\"SLSQP\",\"SLSQP\",\"SLSQP\",\"SLSQP\",\"SLSQP\",\"SLSQP\",\"SLSQP\",\"SLSQP\",\"SLSQP\",\"SLSQP\",\"SLSQP\",\"SLSQP\",\"SLSQP\",\"SLSQP\",\"SLSQP\",\"SLSQP\",\"SLSQP\",\"SLSQP\",\"SLSQP\",\"SLSQP\",\"SLSQP\",\"SLSQP\",\"SLSQP\",\"SLSQP\",\"SLSQP\",\"SLSQP\",\"SLSQP\",\"SLSQP\",\"SLSQP\",\"SLSQP\",\"SLSQP\",\"SLSQP\",\"SLSQP\",\"SLSQP\",\"SLSQP\",\"SLSQP\",\"SLSQP\",\"SLSQP\",\"SLSQP\",\"SLSQP\",\"SLSQP\",\"SLSQP\",\"SLSQP\",\"SLSQP\",\"SLSQP\",\"SLSQP\",\"SLSQP\",\"SLSQP\",\"SLSQP\",\"SLSQP\",\"SLSQP\",\"SLSQP\",\"SLSQP\",\"SLSQP\",\"SLSQP\",\"SLSQP\"],\"name\":[\"a0\",\"b0\",\"a1\",\"b1\",\"a2\",\"b2\",\"a0\",\"b0\",\"a1\",\"b1\",\"a2\",\"b2\",\"a0\",\"b0\",\"a1\",\"b1\",\"a2\",\"b2\",\"a0\",\"b0\",\"a1\",\"b1\",\"a2\",\"b2\",\"a0\",\"b0\",\"a1\",\"b1\",\"a2\",\"b2\",\"a0\",\"b0\",\"a1\",\"b1\",\"a2\",\"b2\",\"a0\",\"b0\",\"a1\",\"b1\",\"a2\",\"b2\",\"a0\",\"b0\",\"a1\",\"b1\",\"a2\",\"b2\",\"a0\",\"b0\",\"a1\",\"b1\",\"a2\",\"b2\",\"a0\",\"b0\",\"a1\",\"b1\",\"a2\",\"b2\",\"a0\",\"b0\",\"a1\",\"b1\",\"a2\",\"b2\",\"a0\",\"b0\",\"a1\",\"b1\",\"a2\",\"b2\",\"a0\",\"b0\",\"a1\",\"b1\",\"a2\",\"b2\",\"a0\",\"b0\",\"a1\",\"b1\",\"a2\",\"b2\",\"a0\",\"b0\",\"a1\",\"b1\",\"a2\",\"b2\",\"a0\",\"b0\",\"a1\",\"b1\",\"a2\",\"b2\",\"a0\",\"b0\",\"a1\",\"b1\",\"a2\",\"b2\",\"a0\",\"b0\",\"a1\",\"b1\",\"a2\",\"b2\",\"a0\",\"b0\",\"a1\",\"b1\",\"a2\",\"b2\",\"a0\",\"b0\",\"a1\",\"b1\",\"a2\",\"b2\",\"a0\",\"b0\",\"a1\",\"b1\",\"a2\",\"b2\",\"a0\",\"b0\",\"a1\",\"b1\",\"a2\",\"b2\",\"a0\",\"b0\",\"a1\",\"b1\",\"a2\",\"b2\",\"a0\",\"b0\",\"a1\",\"b1\",\"a2\",\"b2\",\"a0\",\"b0\",\"a1\",\"b1\",\"a2\",\"b2\",\"a0\",\"b0\",\"a1\",\"b1\",\"a2\",\"b2\",\"a0\",\"b0\",\"a1\",\"b1\",\"a2\",\"b2\",\"a0\",\"b0\",\"a1\",\"b1\",\"a2\",\"b2\",\"a0\",\"b0\",\"a1\",\"b1\",\"a2\",\"b2\",\"a0\",\"b0\",\"a1\",\"b1\",\"a2\",\"b2\"],\"start_value\":{\"__ndarray__\":\"QPq3UB7EuL/SjZtfx3Hxv8KTDxAarQbA4PbtHpDh+z84vkDhbo3Vv1F8A9QpZfG/UGuc2uLsAUBujtgBdTwDwDg9d99U2/Q/MGf+eHTl4r+Q2aIdRuHvv3hfq1dFavY/rBLi7f6N6r+sfuzDFMDwPzi2uR1ZAf4/fKCz/dOWBMDQchDubgzhv3ZmDruDwwZAfKEumbMpAsBCiy6XLfr0vyn6rvcpnva/TnIwPztiBcAdAigBLyEGwGgnTvVeV+q/4COX5UqI9D/4IqAbnWz9P4ynCxXRg/o/7iIPfUP9AkByKynfBVYHwF/54qiyt/S/uPVD7Eqx5z80dybeU/YAQLhYqw/RFATA26nOQJPp8r8Moc4eedb7v5I1ngHR8gZAAP4uGAz87j9kp8rBtMrwPygSiia+4/E/zIc+4ZVw7L9A03Bb0rrVP5zajMJv8wTAwE07VGf5t7/YzSuZCxHzP5BZqjq1UcW/nNgk3LZi8L9dHSPn/+78vyAibIsQHsY/HOnyM1AvBEC0m0Le+zgHwCrBbY+dBwHAogJ1/wNnA8AE8jJ06MoFQPxK51W2U/k/sMmURq5d2D9ImstfmaYEQHiX8s+hude/sETRA6oU8z+8WEQ5el8HwEAIY/jeiLg/QPq3UB7EuL/SjZtfx3Hxv8KTDxAarQbA4PbtHpDh+z84vkDhbo3Vv1F8A9QpZfG/UGuc2uLsAUBujtgBdTwDwDg9d99U2/Q/MGf+eHTl4r+Q2aIdRuHvv3hfq1dFavY/rBLi7f6N6r+sfuzDFMDwPzi2uR1ZAf4/fKCz/dOWBMDQchDubgzhv3ZmDruDwwZAfKEumbMpAsBCiy6XLfr0vyn6rvcpnva/TnIwPztiBcAdAigBLyEGwGgnTvVeV+q/4COX5UqI9D/4IqAbnWz9P4ynCxXRg/o/7iIPfUP9AkByKynfBVYHwF/54qiyt/S/uPVD7Eqx5z80dybeU/YAQLhYqw/RFATA26nOQJPp8r8Moc4eedb7v5I1ngHR8gZAAP4uGAz87j9kp8rBtMrwPygSiia+4/E/zIc+4ZVw7L9A03Bb0rrVP5zajMJv8wTAwE07VGf5t7/YzSuZCxHzP5BZqjq1UcW/nNgk3LZi8L9dHSPn/+78vyAibIsQHsY/HOnyM1AvBEC0m0Le+zgHwCrBbY+dBwHAogJ1/wNnA8AE8jJ06MoFQPxK51W2U/k/sMmURq5d2D9ImstfmaYEQHiX8s+hude/sETRA6oU8z+8WEQ5el8HwEAIY/jeiLg/QPq3UB7EuL/SjZtfx3Hxv8KTDxAarQbA4PbtHpDh+z84vkDhbo3Vv1F8A9QpZfG/UGuc2uLsAUBujtgBdTwDwDg9d99U2/Q/MGf+eHTl4r+Q2aIdRuHvv3hfq1dFavY/rBLi7f6N6r+sfuzDFMDwPzi2uR1ZAf4/fKCz/dOWBMDQchDubgzhv3ZmDruDwwZAfKEumbMpAsBCiy6XLfr0vyn6rvcpnva/TnIwPztiBcAdAigBLyEGwGgnTvVeV+q/4COX5UqI9D/4IqAbnWz9P4ynCxXRg/o/7iIPfUP9AkByKynfBVYHwF/54qiyt/S/uPVD7Eqx5z80dybeU/YAQLhYqw/RFATA26nOQJPp8r8Moc4eedb7v5I1ngHR8gZAAP4uGAz87j9kp8rBtMrwPygSiia+4/E/zIc+4ZVw7L9A03Bb0rrVP5zajMJv8wTAwE07VGf5t7/YzSuZCxHzP5BZqjq1UcW/nNgk3LZi8L9dHSPn/+78vyAibIsQHsY/HOnyM1AvBEC0m0Le+zgHwCrBbY+dBwHAogJ1/wNnA8AE8jJ06MoFQPxK51W2U/k/sMmURq5d2D9ImstfmaYEQHiX8s+hude/sETRA6oU8z+8WEQ5el8HwEAIY/jeiLg/\",\"dtype\":\"float64\",\"shape\":[180]}},\"selected\":{\"id\":\"1827\",\"type\":\"Selection\"},\"selection_policy\":{\"id\":\"1826\",\"type\":\"UnionRenderers\"}},\"id\":\"1769\",\"type\":\"ColumnDataSource\"},{\"attributes\":{},\"id\":\"1761\",\"type\":\"HelpTool\"},{\"attributes\":{\"active_drag\":\"auto\",\"active_inspect\":\"auto\",\"active_multi\":null,\"active_scroll\":\"auto\",\"active_tap\":\"auto\",\"tools\":[{\"id\":\"1756\",\"type\":\"PanTool\"},{\"id\":\"1757\",\"type\":\"WheelZoomTool\"},{\"id\":\"1758\",\"type\":\"BoxZoomTool\"},{\"id\":\"1759\",\"type\":\"SaveTool\"},{\"id\":\"1760\",\"type\":\"ResetTool\"},{\"id\":\"1761\",\"type\":\"HelpTool\"}]},\"id\":\"1762\",\"type\":\"Toolbar\"},{\"attributes\":{\"callback\":null,\"factors\":[\"a_a2\",\"a_a1\",\"a_a0\"]},\"id\":\"1741\",\"type\":\"FactorRange\"},{\"attributes\":{\"bottom_units\":\"screen\",\"fill_alpha\":{\"value\":0.5},\"fill_color\":{\"value\":\"lightgrey\"},\"left_units\":\"screen\",\"level\":\"overlay\",\"line_alpha\":{\"value\":1.0},\"line_color\":{\"value\":\"black\"},\"line_dash\":[4,4],\"line_width\":{\"value\":2},\"render_mode\":\"css\",\"right_units\":\"screen\",\"top_units\":\"screen\"},\"id\":\"1825\",\"type\":\"BoxAnnotation\"},{\"attributes\":{\"callback\":null},\"id\":\"1739\",\"type\":\"DataRange1d\"},{\"attributes\":{},\"id\":\"1824\",\"type\":\"CategoricalTickFormatter\"},{\"attributes\":{},\"id\":\"1822\",\"type\":\"BasicTickFormatter\"},{\"attributes\":{},\"id\":\"1745\",\"type\":\"CategoricalScale\"},{\"attributes\":{\"source\":{\"id\":\"1769\",\"type\":\"ColumnDataSource\"}},\"id\":\"1774\",\"type\":\"CDSView\"},{\"attributes\":{\"data_source\":{\"id\":\"1769\",\"type\":\"ColumnDataSource\"},\"glyph\":{\"id\":\"1771\",\"type\":\"Scatter\"},\"hover_glyph\":null,\"muted_glyph\":null,\"nonselection_glyph\":{\"id\":\"1772\",\"type\":\"Scatter\"},\"selection_glyph\":null,\"view\":{\"id\":\"1774\",\"type\":\"CDSView\"}},\"id\":\"1773\",\"type\":\"GlyphRenderer\"},{\"attributes\":{\"dimension\":1,\"ticker\":{\"id\":\"1753\",\"type\":\"CategoricalTicker\"}},\"id\":\"1755\",\"type\":\"Grid\"},{\"attributes\":{},\"id\":\"1753\",\"type\":\"CategoricalTicker\"},{\"attributes\":{\"fill_alpha\":{\"value\":0.1},\"fill_color\":{\"value\":\"#1f77b4\"},\"line_alpha\":{\"value\":0.1},\"line_color\":{\"value\":\"#1f77b4\"},\"size\":{\"units\":\"screen\",\"value\":12},\"x\":{\"field\":\"final_value\"},\"y\":{\"field\":\"full_name\"}},\"id\":\"1772\",\"type\":\"Scatter\"},{\"attributes\":{\"formatter\":{\"id\":\"1822\",\"type\":\"BasicTickFormatter\"},\"ticker\":{\"id\":\"1748\",\"type\":\"BasicTicker\"}},\"id\":\"1747\",\"type\":\"LinearAxis\"},{\"attributes\":{\"fill_alpha\":{\"value\":0.5},\"fill_color\":{\"field\":\"color\"},\"line_alpha\":{\"value\":0.5},\"line_color\":{\"field\":\"color\"},\"size\":{\"units\":\"screen\",\"value\":12},\"x\":{\"field\":\"final_value\"},\"y\":{\"field\":\"full_name\"}},\"id\":\"1771\",\"type\":\"Scatter\"},{\"attributes\":{\"text\":\"Comparison Plot of A Parameters\"},\"id\":\"1737\",\"type\":\"Title\"},{\"attributes\":{},\"id\":\"1826\",\"type\":\"UnionRenderers\"},{\"attributes\":{\"ticker\":{\"id\":\"1748\",\"type\":\"BasicTicker\"}},\"id\":\"1751\",\"type\":\"Grid\"},{\"attributes\":{},\"id\":\"1827\",\"type\":\"Selection\"},{\"attributes\":{\"formatter\":{\"id\":\"1824\",\"type\":\"CategoricalTickFormatter\"},\"ticker\":{\"id\":\"1753\",\"type\":\"CategoricalTicker\"}},\"id\":\"1752\",\"type\":\"CategoricalAxis\"}],\"root_ids\":[\"1736\"]},\"title\":\"Bokeh Application\",\"version\":\"1.2.0\"}};\n",
       "  var render_items = [{\"docid\":\"ea386ee7-bb46-44b9-b0a4-163277c42ed4\",\"roots\":{\"1736\":\"8ba6c9aa-1203-462a-86ab-e4e3c2202dba\"}}];\n",
       "  root.Bokeh.embed.embed_items_notebook(docs_json, render_items);\n",
       "\n",
       "  }\n",
       "  if (root.Bokeh !== undefined) {\n",
       "    embed_document(root);\n",
       "  } else {\n",
       "    var attempts = 0;\n",
       "    var timer = setInterval(function(root) {\n",
       "      if (root.Bokeh !== undefined) {\n",
       "        embed_document(root);\n",
       "        clearInterval(timer);\n",
       "      }\n",
       "      attempts++;\n",
       "      if (attempts > 100) {\n",
       "        console.log(\"Bokeh: ERROR: Unable to run BokehJS code because BokehJS library is missing\");\n",
       "        clearInterval(timer);\n",
       "      }\n",
       "    }, 10, root)\n",
       "  }\n",
       "})(window);"
      ],
      "application/vnd.bokehjs_exec.v0+json": ""
     },
     "metadata": {
      "application/vnd.bokehjs_exec.v0+json": {
       "id": "1736"
      }
     },
     "output_type": "display_data"
    }
   ],
   "source": [
    "p = figure(\n",
    "    title=\"Comparison Plot of A Parameters\",\n",
    "    plot_height=300,\n",
    "    plot_width=500,\n",
    "    \n",
    "    # =======================================\n",
    "    y_range=sorted(a_data['full_name'].unique(), reverse=True),\n",
    "    # =======================================\n",
    ")\n",
    "\n",
    "p.scatter(\n",
    "    source=df,\n",
    "    x=\"final_value\",\n",
    "    \n",
    "    # =======================================\n",
    "    y=\"full_name\",\n",
    "    # =======================================\n",
    "    \n",
    "    color=\"color\",\n",
    "    size=12,\n",
    "    alpha=0.5,\n",
    ")\n",
    "\n",
    "show(p)"
   ]
  },
  {
   "cell_type": "markdown",
   "metadata": {},
   "source": [
    "### Add the Confidence Intervals as Whiskers"
   ]
  },
  {
   "cell_type": "code",
   "execution_count": 12,
   "metadata": {},
   "outputs": [
    {
     "data": {
      "text/html": [
       "\n",
       "\n",
       "\n",
       "\n",
       "\n",
       "\n",
       "  <div class=\"bk-root\" id=\"c739e350-75a3-44e5-b950-9b413711d7f2\" data-root-id=\"1876\"></div>\n"
      ]
     },
     "metadata": {},
     "output_type": "display_data"
    },
    {
     "data": {
      "application/javascript": [
       "(function(root) {\n",
       "  function embed_document(root) {\n",
       "    \n",
       "  var docs_json = {\"a8eee646-19cf-47b9-901a-79cf30e9d86e\":{\"roots\":{\"references\":[{\"attributes\":{\"below\":[{\"id\":\"1887\",\"type\":\"LinearAxis\"}],\"center\":[{\"id\":\"1891\",\"type\":\"Grid\"},{\"id\":\"1895\",\"type\":\"Grid\"}],\"left\":[{\"id\":\"1892\",\"type\":\"CategoricalAxis\"}],\"plot_height\":300,\"plot_width\":500,\"renderers\":[{\"id\":\"1913\",\"type\":\"GlyphRenderer\"},{\"id\":\"1919\",\"type\":\"GlyphRenderer\"}],\"title\":{\"id\":\"1877\",\"type\":\"Title\"},\"toolbar\":{\"id\":\"1902\",\"type\":\"Toolbar\"},\"x_range\":{\"id\":\"1879\",\"type\":\"DataRange1d\"},\"x_scale\":{\"id\":\"1883\",\"type\":\"LinearScale\"},\"y_range\":{\"id\":\"1881\",\"type\":\"FactorRange\"},\"y_scale\":{\"id\":\"1885\",\"type\":\"CategoricalScale\"}},\"id\":\"1876\",\"subtype\":\"Figure\",\"type\":\"Plot\"},{\"attributes\":{\"formatter\":{\"id\":\"1976\",\"type\":\"BasicTickFormatter\"},\"ticker\":{\"id\":\"1888\",\"type\":\"BasicTicker\"}},\"id\":\"1887\",\"type\":\"LinearAxis\"},{\"attributes\":{},\"id\":\"1888\",\"type\":\"BasicTicker\"},{\"attributes\":{},\"id\":\"1885\",\"type\":\"CategoricalScale\"},{\"attributes\":{\"ticker\":{\"id\":\"1888\",\"type\":\"BasicTicker\"}},\"id\":\"1891\",\"type\":\"Grid\"},{\"attributes\":{\"source\":{\"id\":\"1909\",\"type\":\"ColumnDataSource\"}},\"id\":\"1914\",\"type\":\"CDSView\"},{\"attributes\":{\"data_source\":{\"id\":\"1909\",\"type\":\"ColumnDataSource\"},\"glyph\":{\"id\":\"1911\",\"type\":\"Scatter\"},\"hover_glyph\":null,\"muted_glyph\":null,\"nonselection_glyph\":{\"id\":\"1912\",\"type\":\"Scatter\"},\"selection_glyph\":null,\"view\":{\"id\":\"1914\",\"type\":\"CDSView\"}},\"id\":\"1913\",\"type\":\"GlyphRenderer\"},{\"attributes\":{\"formatter\":{\"id\":\"1978\",\"type\":\"CategoricalTickFormatter\"},\"ticker\":{\"id\":\"1893\",\"type\":\"CategoricalTicker\"}},\"id\":\"1892\",\"type\":\"CategoricalAxis\"},{\"attributes\":{\"fill_alpha\":{\"value\":0.1},\"fill_color\":{\"value\":\"#1f77b4\"},\"line_alpha\":{\"value\":0.1},\"line_color\":{\"value\":\"#1f77b4\"},\"size\":{\"units\":\"screen\",\"value\":12},\"x\":{\"field\":\"final_value\"},\"y\":{\"field\":\"full_name\"}},\"id\":\"1912\",\"type\":\"Scatter\"},{\"attributes\":{},\"id\":\"1893\",\"type\":\"CategoricalTicker\"},{\"attributes\":{\"dimension\":1,\"ticker\":{\"id\":\"1893\",\"type\":\"CategoricalTicker\"}},\"id\":\"1895\",\"type\":\"Grid\"},{\"attributes\":{},\"id\":\"1980\",\"type\":\"UnionRenderers\"},{\"attributes\":{\"bottom_units\":\"screen\",\"fill_alpha\":{\"value\":0.5},\"fill_color\":{\"value\":\"lightgrey\"},\"left_units\":\"screen\",\"level\":\"overlay\",\"line_alpha\":{\"value\":1.0},\"line_color\":{\"value\":\"black\"},\"line_dash\":[4,4],\"line_width\":{\"value\":2},\"render_mode\":\"css\",\"right_units\":\"screen\",\"top_units\":\"screen\"},\"id\":\"1979\",\"type\":\"BoxAnnotation\"},{\"attributes\":{\"text\":\"Comparison Plot of A Parameters\"},\"id\":\"1877\",\"type\":\"Title\"},{\"attributes\":{},\"id\":\"1978\",\"type\":\"CategoricalTickFormatter\"},{\"attributes\":{\"callback\":null,\"data\":{\"color\":[\"forestgreen\",\"forestgreen\",\"forestgreen\",\"forestgreen\",\"forestgreen\",\"forestgreen\",\"forestgreen\",\"forestgreen\",\"forestgreen\",\"forestgreen\",\"forestgreen\",\"forestgreen\",\"forestgreen\",\"forestgreen\",\"forestgreen\",\"forestgreen\",\"forestgreen\",\"forestgreen\",\"forestgreen\",\"forestgreen\",\"forestgreen\",\"forestgreen\",\"forestgreen\",\"forestgreen\",\"forestgreen\",\"forestgreen\",\"forestgreen\",\"forestgreen\",\"forestgreen\",\"forestgreen\",\"#035096\",\"#035096\",\"#035096\",\"#035096\",\"#035096\",\"#035096\",\"#035096\",\"#035096\",\"#035096\",\"#035096\",\"#035096\",\"#035096\",\"#035096\",\"#035096\",\"#035096\",\"#035096\",\"#035096\",\"#035096\",\"#035096\",\"#035096\",\"#035096\",\"#035096\",\"#035096\",\"#035096\",\"#035096\",\"#035096\",\"#035096\",\"#035096\",\"#035096\",\"#035096\",\"firebrick\",\"firebrick\",\"firebrick\",\"firebrick\",\"firebrick\",\"firebrick\",\"firebrick\",\"firebrick\",\"firebrick\",\"firebrick\",\"firebrick\",\"firebrick\",\"firebrick\",\"firebrick\",\"firebrick\",\"firebrick\",\"firebrick\",\"firebrick\",\"firebrick\",\"firebrick\",\"firebrick\",\"firebrick\",\"firebrick\",\"firebrick\",\"firebrick\",\"firebrick\",\"firebrick\",\"firebrick\",\"firebrick\",\"firebrick\"],\"conf_int_lower\":{\"__ndarray__\":\"BQqOaxnVi79jdGI/VQ2Tv2QWTCwJN5O/wITQ+f2sQT81d1UQfT2Zv0H8WkwW0Ja/DG4ZfBScUj/6+BxX+jOIvw/vAyy3RpC/fGLi5zkWnL/mg8PMQCKlv/DR5vhhjoO/wJGBRBs3pb8hXl4QdWmhv7xjwEzNS6y/WspyoFWzir8iDAYEgneAv/jqvEEznqa/I01fAHKHjL/QRs5pp7GQvy4ZnSesHpu/Vi1WXaWNpr9yooNzd6eVv7xAEI6msIi/lhdhDFClnr+0AWKb0x53P3/u4pdpwI6/6wNDY7vHh7/M6OnB4vugv0SCNjbl4Zm//oD0NO2Vl78axBewR4+nv6BvboQhKaS/TWH8Le56lb+cZ89aAcyGv0DRVXPEBFu/1ljTXfH3mD8KguVhhfu3v3JVSMF9OqU/KP2xVv6qar+0aWqznV95v93f3Yzl/KG/m+oTBg/UrL87JK4UzXCgv3jA9LVhtZW/H7nTxMPPuD/a7HMOslOev27fbaPRla6/OR+Bb6wcsz8BhYD8Ie7RPzgmIvv+mds/7kZymSYenr8JkDgB1aGTv8h201yqgoG/R0iqUDktqb8wqMAoUwmrv8kr0SuY3ai/8JoYSCVkeb9kefwKZa+ev5Zs8qzBz5+/NJNr/92LoL/1e1VqHhKxv3d8QmjMAra/cB7dWAnAqL/AyQgnQemKv3NtCQSkK5u/EduwtGb6o7/g80Iz3221v9i8SW4AtaK/HzIPncErmb+CzHyuktGuv0fFvslGd5y/pTL0Ji1lsL/KV1NFDiSzv8IfNWeDH7y/BNBp+T0cr78QS3XFYN9gPyQCOE56S3C/rF4wpTqcs7+gS2eVwbSWv//KgD2jxpO/q2mPEJ9Dnr8i3L28PzOov+BND21CqJG/KN973zC0h79UKXriScWmv3D3+ju9iaq/2gZyiQZClr+OfVAzSW2wv9dlYYegmKm/\",\"dtype\":\"float64\",\"shape\":[90]},\"conf_int_upper\":{\"__ndarray__\":\"PcAXYP1nkz9CT3ncXh6FP66kvOKLYaA/gOXCmmXEoj+3UC8l8J2aP8vLsrHCnJM/i+1uBIfslT90OfMKCUKaPzc0I+IR9J0/FEybpjdqmz8YNOajFX94Py4YHgi4UqE/QPftb324Wb9AWR1uCgR/P+Bxv0Rel0o/csJ4KDT8mD/x1O28Dn2fP4qYB6/DnnK/csxXhKdJfT8DXXkVkMqZPy+ChIi19os/AM7PAtA1ID/F9c1YEzWJP5Fr8uhQe4M/nrKX7KQPgL/29w72rpmpP8OAuXHy9qU/fonqZohNmD/ucqU6M6CTP3aWaiBLbpk/VpVnl9NElD9IqYs+pOeVPyZHGRZ7K50/HwCBSMnFkz/1pwIoQ8SgP4DEj9+Dk6w/sPAcryzTtT//xTdh+2Wiv2ptuS43fLE/A6rPTpBEpz8u8RZyHZewPyQ+mm+LUKQ/ToO/Wwb0lj97POJlYzOYPxOuLOLOOKg/EeIPqtdxwz9M/h7+nGSkP5Ai6X3yn3S/eBJMy4oyxD9MMb6AJWLUPwBYcJM2ROA/mn0qTFEUjD9YGY5juoqaPyhwndpBXqE/0AW1IkBdjD9QVJBzjNGcP2BfReZ+rn2/RI65L2UisT/obYUVrKOgPxzHyCy6kKU/bfFeuglrpj8QZQYu9gigP6gptILnRHE/ib2cdQ5bmj9SgW+U1b2mP6Z26diRapI/GX1jwKzCpD9uKxaeuMCUv1yj8Ibd9qs/hLYiUDxVsT+Azs5o3JOiP7vxnqGThLE/XrJ4tQkilT8cwpKX0s6NP+Rk2LWQo4G/vSaMhJv0lz/K1dh14uGwPzLBqwEQn7I/0H/WNAfZlL8DtBhDbAKrP7DKj3jurKo/KwVSVst5mT+qF4qNT9uhP7dwdzJ7Iqo/D6ysLOuvsj/sWkpk/F6eP5n/FdGWvZS/oCKlBIqHsD9UGW8jkf6AP+PsLmxIvqA/\",\"dtype\":\"float64\",\"shape\":[90]},\"final_value\":{\"__ndarray__\":\"G4YehnuBbj/UmDtx3IVzv0eZN0plwHA/HuvDYnJElT/rkLX8LdZivzDqUh81JnG/f48f9pQ+eD8z1o/Z7Kd5P44RcGnamVC/8Ens4iW2ej+umydwAg6Sv9zBwq57SoM/SdeHEL+Dlr9WGBnXbA2Mv4HILM1M85e/sxLY6I/LVT92a9StexCCP2u+xF5A1o6/yB10rVz9Yr/QL4/YPQVnP73TR59CGIW/6n2y5BgQlL+j7nccWbOBv6OcR4rqalA/NJDgR8RhjL8L3JSjByGWP9U6OH/11Yc/U+npp6+vhD+UuFSsR5SKvzDaaL5vsGA/gEyBUUWiTz8AGB+XffBqv6AAgcvzm4G/AEiVBeSRYL8A/iJXszN9P0A3fY3NGJI/EHQ7BsZrrT+w1aTCpkWwv6A2UGGiB6c/AC0mKsT5gz/AxTPi6mmVPwBBFdD+loM/gBIQJjmgir+A+V0OZWKIPwDAklkFh48/SP2jsH6Auz8A3v9mFkCHP8BHDwhqx6O/SFPCLYpwvT/sr4MnaCXUP5SzExSen90/oDXkO62abL8g6uKgvph1P4B/4heCboQ/AEhRU0x9jb+AZoog/hCQvwACEeF8Xpu/yLIAZ31yoT+gNvGS7ouGPwBMYN2Sy2I/uPXbY7nwdb8lkA4VXJWEv2wbYZ4JOaG/MaKXxNhul7/aW/D/Sr6LP0rvufg/l5C/S2hxheDHgb+3/rVe4PypvymYvDPgM4o/SWFOm+f5lT/KdaGvEjiLv5oQEKWxxYg/xFWUVenikb9aoLGe3hOjvwbyR/A8eaG/e79DIhdLab94Ekg6vWCfP/jZXEFyhoQ/4+K1C/SBrL+CgUmgSOWRPwn16gyXpWs/gHvjbjrp5L7l2huaSWCTv/wgXmt8p5o/BiJHCTjBgz8KjfkdZjRSv8Ovy2NUap+/F6Jy5NB7oT++J96P4Z6hv6hAJFAEeE4/\",\"dtype\":\"float64\",\"shape\":[90]},\"full_name\":[\"a_a0\",\"a_a1\",\"a_a2\",\"a_a0\",\"a_a1\",\"a_a2\",\"a_a0\",\"a_a1\",\"a_a2\",\"a_a0\",\"a_a1\",\"a_a2\",\"a_a0\",\"a_a1\",\"a_a2\",\"a_a0\",\"a_a1\",\"a_a2\",\"a_a0\",\"a_a1\",\"a_a2\",\"a_a0\",\"a_a1\",\"a_a2\",\"a_a0\",\"a_a1\",\"a_a2\",\"a_a0\",\"a_a1\",\"a_a2\",\"a_a0\",\"a_a1\",\"a_a2\",\"a_a0\",\"a_a1\",\"a_a2\",\"a_a0\",\"a_a1\",\"a_a2\",\"a_a0\",\"a_a1\",\"a_a2\",\"a_a0\",\"a_a1\",\"a_a2\",\"a_a0\",\"a_a1\",\"a_a2\",\"a_a0\",\"a_a1\",\"a_a2\",\"a_a0\",\"a_a1\",\"a_a2\",\"a_a0\",\"a_a1\",\"a_a2\",\"a_a0\",\"a_a1\",\"a_a2\",\"a_a0\",\"a_a1\",\"a_a2\",\"a_a0\",\"a_a1\",\"a_a2\",\"a_a0\",\"a_a1\",\"a_a2\",\"a_a0\",\"a_a1\",\"a_a2\",\"a_a0\",\"a_a1\",\"a_a2\",\"a_a0\",\"a_a1\",\"a_a2\",\"a_a0\",\"a_a1\",\"a_a2\",\"a_a0\",\"a_a1\",\"a_a2\",\"a_a0\",\"a_a1\",\"a_a2\",\"a_a0\",\"a_a1\",\"a_a2\"],\"group\":[\"a\",\"a\",\"a\",\"a\",\"a\",\"a\",\"a\",\"a\",\"a\",\"a\",\"a\",\"a\",\"a\",\"a\",\"a\",\"a\",\"a\",\"a\",\"a\",\"a\",\"a\",\"a\",\"a\",\"a\",\"a\",\"a\",\"a\",\"a\",\"a\",\"a\",\"a\",\"a\",\"a\",\"a\",\"a\",\"a\",\"a\",\"a\",\"a\",\"a\",\"a\",\"a\",\"a\",\"a\",\"a\",\"a\",\"a\",\"a\",\"a\",\"a\",\"a\",\"a\",\"a\",\"a\",\"a\",\"a\",\"a\",\"a\",\"a\",\"a\",\"a\",\"a\",\"a\",\"a\",\"a\",\"a\",\"a\",\"a\",\"a\",\"a\",\"a\",\"a\",\"a\",\"a\",\"a\",\"a\",\"a\",\"a\",\"a\",\"a\",\"a\",\"a\",\"a\",\"a\",\"a\",\"a\",\"a\",\"a\",\"a\",\"a\"],\"index\":[0,4,8,0,4,8,0,4,8,0,4,8,0,4,8,0,4,8,0,4,8,0,4,8,0,4,8,0,4,8,0,4,8,0,4,8,0,4,8,0,4,8,0,4,8,0,4,8,0,4,8,0,4,8,0,4,8,0,4,8,0,4,8,0,4,8,0,4,8,0,4,8,0,4,8,0,4,8,0,4,8,0,4,8,0,4,8,0,4,8],\"level_0\":[0,2,4,6,8,10,12,14,16,18,20,22,24,26,28,30,32,34,36,38,40,42,44,46,48,50,52,54,56,58,60,62,64,66,68,70,72,74,76,78,80,82,84,86,88,90,92,94,96,98,100,102,104,106,108,110,112,114,116,118,120,122,124,126,128,130,132,134,136,138,140,142,144,146,148,150,152,154,156,158,160,162,164,166,168,170,172,174,176,178],\"marker\":[\"circle\",\"circle\",\"circle\",\"circle\",\"circle\",\"circle\",\"circle\",\"circle\",\"circle\",\"circle\",\"circle\",\"circle\",\"circle\",\"circle\",\"circle\",\"circle\",\"circle\",\"circle\",\"circle\",\"circle\",\"circle\",\"circle\",\"circle\",\"circle\",\"circle\",\"circle\",\"circle\",\"circle\",\"circle\",\"circle\",\"circle\",\"circle\",\"circle\",\"circle\",\"circle\",\"circle\",\"circle\",\"circle\",\"circle\",\"circle\",\"circle\",\"circle\",\"circle\",\"circle\",\"circle\",\"circle\",\"circle\",\"circle\",\"circle\",\"circle\",\"circle\",\"circle\",\"circle\",\"circle\",\"circle\",\"circle\",\"circle\",\"circle\",\"circle\",\"circle\",\"circle\",\"circle\",\"circle\",\"circle\",\"circle\",\"circle\",\"circle\",\"circle\",\"circle\",\"circle\",\"circle\",\"circle\",\"circle\",\"circle\",\"circle\",\"circle\",\"circle\",\"circle\",\"circle\",\"circle\",\"circle\",\"circle\",\"circle\",\"circle\",\"circle\",\"circle\",\"circle\",\"circle\",\"circle\",\"circle\"],\"model\":[\"scipy_L-BFGS-B_0\",\"scipy_L-BFGS-B_0\",\"scipy_L-BFGS-B_0\",\"scipy_L-BFGS-B_1\",\"scipy_L-BFGS-B_1\",\"scipy_L-BFGS-B_1\",\"scipy_L-BFGS-B_2\",\"scipy_L-BFGS-B_2\",\"scipy_L-BFGS-B_2\",\"scipy_L-BFGS-B_3\",\"scipy_L-BFGS-B_3\",\"scipy_L-BFGS-B_3\",\"scipy_L-BFGS-B_4\",\"scipy_L-BFGS-B_4\",\"scipy_L-BFGS-B_4\",\"scipy_L-BFGS-B_5\",\"scipy_L-BFGS-B_5\",\"scipy_L-BFGS-B_5\",\"scipy_L-BFGS-B_6\",\"scipy_L-BFGS-B_6\",\"scipy_L-BFGS-B_6\",\"scipy_L-BFGS-B_7\",\"scipy_L-BFGS-B_7\",\"scipy_L-BFGS-B_7\",\"scipy_L-BFGS-B_8\",\"scipy_L-BFGS-B_8\",\"scipy_L-BFGS-B_8\",\"scipy_L-BFGS-B_9\",\"scipy_L-BFGS-B_9\",\"scipy_L-BFGS-B_9\",\"scipy_TNC_0\",\"scipy_TNC_0\",\"scipy_TNC_0\",\"scipy_TNC_1\",\"scipy_TNC_1\",\"scipy_TNC_1\",\"scipy_TNC_2\",\"scipy_TNC_2\",\"scipy_TNC_2\",\"scipy_TNC_3\",\"scipy_TNC_3\",\"scipy_TNC_3\",\"scipy_TNC_4\",\"scipy_TNC_4\",\"scipy_TNC_4\",\"scipy_TNC_5\",\"scipy_TNC_5\",\"scipy_TNC_5\",\"scipy_TNC_6\",\"scipy_TNC_6\",\"scipy_TNC_6\",\"scipy_TNC_7\",\"scipy_TNC_7\",\"scipy_TNC_7\",\"scipy_TNC_8\",\"scipy_TNC_8\",\"scipy_TNC_8\",\"scipy_TNC_9\",\"scipy_TNC_9\",\"scipy_TNC_9\",\"scipy_SLSQP_0\",\"scipy_SLSQP_0\",\"scipy_SLSQP_0\",\"scipy_SLSQP_1\",\"scipy_SLSQP_1\",\"scipy_SLSQP_1\",\"scipy_SLSQP_2\",\"scipy_SLSQP_2\",\"scipy_SLSQP_2\",\"scipy_SLSQP_3\",\"scipy_SLSQP_3\",\"scipy_SLSQP_3\",\"scipy_SLSQP_4\",\"scipy_SLSQP_4\",\"scipy_SLSQP_4\",\"scipy_SLSQP_5\",\"scipy_SLSQP_5\",\"scipy_SLSQP_5\",\"scipy_SLSQP_6\",\"scipy_SLSQP_6\",\"scipy_SLSQP_6\",\"scipy_SLSQP_7\",\"scipy_SLSQP_7\",\"scipy_SLSQP_7\",\"scipy_SLSQP_8\",\"scipy_SLSQP_8\",\"scipy_SLSQP_8\",\"scipy_SLSQP_9\",\"scipy_SLSQP_9\",\"scipy_SLSQP_9\"],\"model_class\":[\"L-BFGS-B\",\"L-BFGS-B\",\"L-BFGS-B\",\"L-BFGS-B\",\"L-BFGS-B\",\"L-BFGS-B\",\"L-BFGS-B\",\"L-BFGS-B\",\"L-BFGS-B\",\"L-BFGS-B\",\"L-BFGS-B\",\"L-BFGS-B\",\"L-BFGS-B\",\"L-BFGS-B\",\"L-BFGS-B\",\"L-BFGS-B\",\"L-BFGS-B\",\"L-BFGS-B\",\"L-BFGS-B\",\"L-BFGS-B\",\"L-BFGS-B\",\"L-BFGS-B\",\"L-BFGS-B\",\"L-BFGS-B\",\"L-BFGS-B\",\"L-BFGS-B\",\"L-BFGS-B\",\"L-BFGS-B\",\"L-BFGS-B\",\"L-BFGS-B\",\"TNC\",\"TNC\",\"TNC\",\"TNC\",\"TNC\",\"TNC\",\"TNC\",\"TNC\",\"TNC\",\"TNC\",\"TNC\",\"TNC\",\"TNC\",\"TNC\",\"TNC\",\"TNC\",\"TNC\",\"TNC\",\"TNC\",\"TNC\",\"TNC\",\"TNC\",\"TNC\",\"TNC\",\"TNC\",\"TNC\",\"TNC\",\"TNC\",\"TNC\",\"TNC\",\"SLSQP\",\"SLSQP\",\"SLSQP\",\"SLSQP\",\"SLSQP\",\"SLSQP\",\"SLSQP\",\"SLSQP\",\"SLSQP\",\"SLSQP\",\"SLSQP\",\"SLSQP\",\"SLSQP\",\"SLSQP\",\"SLSQP\",\"SLSQP\",\"SLSQP\",\"SLSQP\",\"SLSQP\",\"SLSQP\",\"SLSQP\",\"SLSQP\",\"SLSQP\",\"SLSQP\",\"SLSQP\",\"SLSQP\",\"SLSQP\",\"SLSQP\",\"SLSQP\",\"SLSQP\"],\"name\":[\"a0\",\"a1\",\"a2\",\"a0\",\"a1\",\"a2\",\"a0\",\"a1\",\"a2\",\"a0\",\"a1\",\"a2\",\"a0\",\"a1\",\"a2\",\"a0\",\"a1\",\"a2\",\"a0\",\"a1\",\"a2\",\"a0\",\"a1\",\"a2\",\"a0\",\"a1\",\"a2\",\"a0\",\"a1\",\"a2\",\"a0\",\"a1\",\"a2\",\"a0\",\"a1\",\"a2\",\"a0\",\"a1\",\"a2\",\"a0\",\"a1\",\"a2\",\"a0\",\"a1\",\"a2\",\"a0\",\"a1\",\"a2\",\"a0\",\"a1\",\"a2\",\"a0\",\"a1\",\"a2\",\"a0\",\"a1\",\"a2\",\"a0\",\"a1\",\"a2\",\"a0\",\"a1\",\"a2\",\"a0\",\"a1\",\"a2\",\"a0\",\"a1\",\"a2\",\"a0\",\"a1\",\"a2\",\"a0\",\"a1\",\"a2\",\"a0\",\"a1\",\"a2\",\"a0\",\"a1\",\"a2\",\"a0\",\"a1\",\"a2\",\"a0\",\"a1\",\"a2\",\"a0\",\"a1\",\"a2\"],\"start_value\":{\"__ndarray__\":\"QPq3UB7EuL/Ckw8QGq0GwDi+QOFujdW/UGuc2uLsAUA4PXffVNv0P5DZoh1G4e+/rBLi7f6N6r84trkdWQH+P9ByEO5uDOG/fKEumbMpAsAp+q73KZ72vx0CKAEvIQbA4COX5UqI9D+MpwsV0YP6P3IrKd8FVgfAuPVD7Eqx5z+4WKsP0RQEwAyhzh551vu/AP4uGAz87j8oEoomvuPxP0DTcFvSutU/wE07VGf5t7+QWao6tVHFv10dI+f/7vy/HOnyM1AvBEAqwW2PnQcBwATyMnToygVAsMmURq5d2D94l/LPobnXv7xYRDl6XwfAQPq3UB7EuL/Ckw8QGq0GwDi+QOFujdW/UGuc2uLsAUA4PXffVNv0P5DZoh1G4e+/rBLi7f6N6r84trkdWQH+P9ByEO5uDOG/fKEumbMpAsAp+q73KZ72vx0CKAEvIQbA4COX5UqI9D+MpwsV0YP6P3IrKd8FVgfAuPVD7Eqx5z+4WKsP0RQEwAyhzh551vu/AP4uGAz87j8oEoomvuPxP0DTcFvSutU/wE07VGf5t7+QWao6tVHFv10dI+f/7vy/HOnyM1AvBEAqwW2PnQcBwATyMnToygVAsMmURq5d2D94l/LPobnXv7xYRDl6XwfAQPq3UB7EuL/Ckw8QGq0GwDi+QOFujdW/UGuc2uLsAUA4PXffVNv0P5DZoh1G4e+/rBLi7f6N6r84trkdWQH+P9ByEO5uDOG/fKEumbMpAsAp+q73KZ72vx0CKAEvIQbA4COX5UqI9D+MpwsV0YP6P3IrKd8FVgfAuPVD7Eqx5z+4WKsP0RQEwAyhzh551vu/AP4uGAz87j8oEoomvuPxP0DTcFvSutU/wE07VGf5t7+QWao6tVHFv10dI+f/7vy/HOnyM1AvBEAqwW2PnQcBwATyMnToygVAsMmURq5d2D94l/LPobnXv7xYRDl6XwfA\",\"dtype\":\"float64\",\"shape\":[90]}},\"selected\":{\"id\":\"1981\",\"type\":\"Selection\"},\"selection_policy\":{\"id\":\"1980\",\"type\":\"UnionRenderers\"}},\"id\":\"1909\",\"type\":\"ColumnDataSource\"},{\"attributes\":{},\"id\":\"1883\",\"type\":\"LinearScale\"},{\"attributes\":{},\"id\":\"1896\",\"type\":\"PanTool\"},{\"attributes\":{\"source\":{\"id\":\"1915\",\"type\":\"ColumnDataSource\"}},\"id\":\"1920\",\"type\":\"CDSView\"},{\"attributes\":{},\"id\":\"1897\",\"type\":\"WheelZoomTool\"},{\"attributes\":{\"data_source\":{\"id\":\"1915\",\"type\":\"ColumnDataSource\"},\"glyph\":{\"id\":\"1917\",\"type\":\"HBar\"},\"hover_glyph\":null,\"muted_glyph\":null,\"nonselection_glyph\":{\"id\":\"1918\",\"type\":\"HBar\"},\"selection_glyph\":null,\"view\":{\"id\":\"1920\",\"type\":\"CDSView\"}},\"id\":\"1919\",\"type\":\"GlyphRenderer\"},{\"attributes\":{},\"id\":\"1899\",\"type\":\"SaveTool\"},{\"attributes\":{\"callback\":null},\"id\":\"1879\",\"type\":\"DataRange1d\"},{\"attributes\":{\"overlay\":{\"id\":\"1979\",\"type\":\"BoxAnnotation\"}},\"id\":\"1898\",\"type\":\"BoxZoomTool\"},{\"attributes\":{\"fill_alpha\":{\"value\":0.1},\"fill_color\":{\"value\":\"#1f77b4\"},\"height\":{\"value\":0.01},\"left\":{\"field\":\"conf_int_lower\"},\"line_alpha\":{\"value\":0.1},\"line_color\":{\"value\":\"#1f77b4\"},\"right\":{\"field\":\"conf_int_upper\"},\"y\":{\"field\":\"full_name\"}},\"id\":\"1918\",\"type\":\"HBar\"},{\"attributes\":{\"callback\":null,\"data\":{\"color\":[\"forestgreen\",\"forestgreen\",\"forestgreen\",\"forestgreen\",\"forestgreen\",\"forestgreen\",\"forestgreen\",\"forestgreen\",\"forestgreen\",\"forestgreen\",\"forestgreen\",\"forestgreen\",\"forestgreen\",\"forestgreen\",\"forestgreen\",\"forestgreen\",\"forestgreen\",\"forestgreen\",\"forestgreen\",\"forestgreen\",\"forestgreen\",\"forestgreen\",\"forestgreen\",\"forestgreen\",\"forestgreen\",\"forestgreen\",\"forestgreen\",\"forestgreen\",\"forestgreen\",\"forestgreen\",\"#035096\",\"#035096\",\"#035096\",\"#035096\",\"#035096\",\"#035096\",\"#035096\",\"#035096\",\"#035096\",\"#035096\",\"#035096\",\"#035096\",\"#035096\",\"#035096\",\"#035096\",\"#035096\",\"#035096\",\"#035096\",\"#035096\",\"#035096\",\"#035096\",\"#035096\",\"#035096\",\"#035096\",\"#035096\",\"#035096\",\"#035096\",\"#035096\",\"#035096\",\"#035096\",\"firebrick\",\"firebrick\",\"firebrick\",\"firebrick\",\"firebrick\",\"firebrick\",\"firebrick\",\"firebrick\",\"firebrick\",\"firebrick\",\"firebrick\",\"firebrick\",\"firebrick\",\"firebrick\",\"firebrick\",\"firebrick\",\"firebrick\",\"firebrick\",\"firebrick\",\"firebrick\",\"firebrick\",\"firebrick\",\"firebrick\",\"firebrick\",\"firebrick\",\"firebrick\",\"firebrick\",\"firebrick\",\"firebrick\",\"firebrick\"],\"conf_int_lower\":{\"__ndarray__\":\"BQqOaxnVi79jdGI/VQ2Tv2QWTCwJN5O/wITQ+f2sQT81d1UQfT2Zv0H8WkwW0Ja/DG4ZfBScUj/6+BxX+jOIvw/vAyy3RpC/fGLi5zkWnL/mg8PMQCKlv/DR5vhhjoO/wJGBRBs3pb8hXl4QdWmhv7xjwEzNS6y/WspyoFWzir8iDAYEgneAv/jqvEEznqa/I01fAHKHjL/QRs5pp7GQvy4ZnSesHpu/Vi1WXaWNpr9yooNzd6eVv7xAEI6msIi/lhdhDFClnr+0AWKb0x53P3/u4pdpwI6/6wNDY7vHh7/M6OnB4vugv0SCNjbl4Zm//oD0NO2Vl78axBewR4+nv6BvboQhKaS/TWH8Le56lb+cZ89aAcyGv0DRVXPEBFu/1ljTXfH3mD8KguVhhfu3v3JVSMF9OqU/KP2xVv6qar+0aWqznV95v93f3Yzl/KG/m+oTBg/UrL87JK4UzXCgv3jA9LVhtZW/H7nTxMPPuD/a7HMOslOev27fbaPRla6/OR+Bb6wcsz8BhYD8Ie7RPzgmIvv+mds/7kZymSYenr8JkDgB1aGTv8h201yqgoG/R0iqUDktqb8wqMAoUwmrv8kr0SuY3ai/8JoYSCVkeb9kefwKZa+ev5Zs8qzBz5+/NJNr/92LoL/1e1VqHhKxv3d8QmjMAra/cB7dWAnAqL/AyQgnQemKv3NtCQSkK5u/EduwtGb6o7/g80Iz3221v9i8SW4AtaK/HzIPncErmb+CzHyuktGuv0fFvslGd5y/pTL0Ji1lsL/KV1NFDiSzv8IfNWeDH7y/BNBp+T0cr78QS3XFYN9gPyQCOE56S3C/rF4wpTqcs7+gS2eVwbSWv//KgD2jxpO/q2mPEJ9Dnr8i3L28PzOov+BND21CqJG/KN973zC0h79UKXriScWmv3D3+ju9iaq/2gZyiQZClr+OfVAzSW2wv9dlYYegmKm/\",\"dtype\":\"float64\",\"shape\":[90]},\"conf_int_upper\":{\"__ndarray__\":\"PcAXYP1nkz9CT3ncXh6FP66kvOKLYaA/gOXCmmXEoj+3UC8l8J2aP8vLsrHCnJM/i+1uBIfslT90OfMKCUKaPzc0I+IR9J0/FEybpjdqmz8YNOajFX94Py4YHgi4UqE/QPftb324Wb9AWR1uCgR/P+Bxv0Rel0o/csJ4KDT8mD/x1O28Dn2fP4qYB6/DnnK/csxXhKdJfT8DXXkVkMqZPy+ChIi19os/AM7PAtA1ID/F9c1YEzWJP5Fr8uhQe4M/nrKX7KQPgL/29w72rpmpP8OAuXHy9qU/fonqZohNmD/ucqU6M6CTP3aWaiBLbpk/VpVnl9NElD9IqYs+pOeVPyZHGRZ7K50/HwCBSMnFkz/1pwIoQ8SgP4DEj9+Dk6w/sPAcryzTtT//xTdh+2Wiv2ptuS43fLE/A6rPTpBEpz8u8RZyHZewPyQ+mm+LUKQ/ToO/Wwb0lj97POJlYzOYPxOuLOLOOKg/EeIPqtdxwz9M/h7+nGSkP5Ai6X3yn3S/eBJMy4oyxD9MMb6AJWLUPwBYcJM2ROA/mn0qTFEUjD9YGY5juoqaPyhwndpBXqE/0AW1IkBdjD9QVJBzjNGcP2BfReZ+rn2/RI65L2UisT/obYUVrKOgPxzHyCy6kKU/bfFeuglrpj8QZQYu9gigP6gptILnRHE/ib2cdQ5bmj9SgW+U1b2mP6Z26diRapI/GX1jwKzCpD9uKxaeuMCUv1yj8Ibd9qs/hLYiUDxVsT+Azs5o3JOiP7vxnqGThLE/XrJ4tQkilT8cwpKX0s6NP+Rk2LWQo4G/vSaMhJv0lz/K1dh14uGwPzLBqwEQn7I/0H/WNAfZlL8DtBhDbAKrP7DKj3jurKo/KwVSVst5mT+qF4qNT9uhP7dwdzJ7Iqo/D6ysLOuvsj/sWkpk/F6eP5n/FdGWvZS/oCKlBIqHsD9UGW8jkf6AP+PsLmxIvqA/\",\"dtype\":\"float64\",\"shape\":[90]},\"final_value\":{\"__ndarray__\":\"G4YehnuBbj/UmDtx3IVzv0eZN0plwHA/HuvDYnJElT/rkLX8LdZivzDqUh81JnG/f48f9pQ+eD8z1o/Z7Kd5P44RcGnamVC/8Ens4iW2ej+umydwAg6Sv9zBwq57SoM/SdeHEL+Dlr9WGBnXbA2Mv4HILM1M85e/sxLY6I/LVT92a9StexCCP2u+xF5A1o6/yB10rVz9Yr/QL4/YPQVnP73TR59CGIW/6n2y5BgQlL+j7nccWbOBv6OcR4rqalA/NJDgR8RhjL8L3JSjByGWP9U6OH/11Yc/U+npp6+vhD+UuFSsR5SKvzDaaL5vsGA/gEyBUUWiTz8AGB+XffBqv6AAgcvzm4G/AEiVBeSRYL8A/iJXszN9P0A3fY3NGJI/EHQ7BsZrrT+w1aTCpkWwv6A2UGGiB6c/AC0mKsT5gz/AxTPi6mmVPwBBFdD+loM/gBIQJjmgir+A+V0OZWKIPwDAklkFh48/SP2jsH6Auz8A3v9mFkCHP8BHDwhqx6O/SFPCLYpwvT/sr4MnaCXUP5SzExSen90/oDXkO62abL8g6uKgvph1P4B/4heCboQ/AEhRU0x9jb+AZoog/hCQvwACEeF8Xpu/yLIAZ31yoT+gNvGS7ouGPwBMYN2Sy2I/uPXbY7nwdb8lkA4VXJWEv2wbYZ4JOaG/MaKXxNhul7/aW/D/Sr6LP0rvufg/l5C/S2hxheDHgb+3/rVe4PypvymYvDPgM4o/SWFOm+f5lT/KdaGvEjiLv5oQEKWxxYg/xFWUVenikb9aoLGe3hOjvwbyR/A8eaG/e79DIhdLab94Ekg6vWCfP/jZXEFyhoQ/4+K1C/SBrL+CgUmgSOWRPwn16gyXpWs/gHvjbjrp5L7l2huaSWCTv/wgXmt8p5o/BiJHCTjBgz8KjfkdZjRSv8Ovy2NUap+/F6Jy5NB7oT++J96P4Z6hv6hAJFAEeE4/\",\"dtype\":\"float64\",\"shape\":[90]},\"full_name\":[\"a_a0\",\"a_a1\",\"a_a2\",\"a_a0\",\"a_a1\",\"a_a2\",\"a_a0\",\"a_a1\",\"a_a2\",\"a_a0\",\"a_a1\",\"a_a2\",\"a_a0\",\"a_a1\",\"a_a2\",\"a_a0\",\"a_a1\",\"a_a2\",\"a_a0\",\"a_a1\",\"a_a2\",\"a_a0\",\"a_a1\",\"a_a2\",\"a_a0\",\"a_a1\",\"a_a2\",\"a_a0\",\"a_a1\",\"a_a2\",\"a_a0\",\"a_a1\",\"a_a2\",\"a_a0\",\"a_a1\",\"a_a2\",\"a_a0\",\"a_a1\",\"a_a2\",\"a_a0\",\"a_a1\",\"a_a2\",\"a_a0\",\"a_a1\",\"a_a2\",\"a_a0\",\"a_a1\",\"a_a2\",\"a_a0\",\"a_a1\",\"a_a2\",\"a_a0\",\"a_a1\",\"a_a2\",\"a_a0\",\"a_a1\",\"a_a2\",\"a_a0\",\"a_a1\",\"a_a2\",\"a_a0\",\"a_a1\",\"a_a2\",\"a_a0\",\"a_a1\",\"a_a2\",\"a_a0\",\"a_a1\",\"a_a2\",\"a_a0\",\"a_a1\",\"a_a2\",\"a_a0\",\"a_a1\",\"a_a2\",\"a_a0\",\"a_a1\",\"a_a2\",\"a_a0\",\"a_a1\",\"a_a2\",\"a_a0\",\"a_a1\",\"a_a2\",\"a_a0\",\"a_a1\",\"a_a2\",\"a_a0\",\"a_a1\",\"a_a2\"],\"group\":[\"a\",\"a\",\"a\",\"a\",\"a\",\"a\",\"a\",\"a\",\"a\",\"a\",\"a\",\"a\",\"a\",\"a\",\"a\",\"a\",\"a\",\"a\",\"a\",\"a\",\"a\",\"a\",\"a\",\"a\",\"a\",\"a\",\"a\",\"a\",\"a\",\"a\",\"a\",\"a\",\"a\",\"a\",\"a\",\"a\",\"a\",\"a\",\"a\",\"a\",\"a\",\"a\",\"a\",\"a\",\"a\",\"a\",\"a\",\"a\",\"a\",\"a\",\"a\",\"a\",\"a\",\"a\",\"a\",\"a\",\"a\",\"a\",\"a\",\"a\",\"a\",\"a\",\"a\",\"a\",\"a\",\"a\",\"a\",\"a\",\"a\",\"a\",\"a\",\"a\",\"a\",\"a\",\"a\",\"a\",\"a\",\"a\",\"a\",\"a\",\"a\",\"a\",\"a\",\"a\",\"a\",\"a\",\"a\",\"a\",\"a\",\"a\"],\"index\":[0,4,8,0,4,8,0,4,8,0,4,8,0,4,8,0,4,8,0,4,8,0,4,8,0,4,8,0,4,8,0,4,8,0,4,8,0,4,8,0,4,8,0,4,8,0,4,8,0,4,8,0,4,8,0,4,8,0,4,8,0,4,8,0,4,8,0,4,8,0,4,8,0,4,8,0,4,8,0,4,8,0,4,8,0,4,8,0,4,8],\"level_0\":[0,2,4,6,8,10,12,14,16,18,20,22,24,26,28,30,32,34,36,38,40,42,44,46,48,50,52,54,56,58,60,62,64,66,68,70,72,74,76,78,80,82,84,86,88,90,92,94,96,98,100,102,104,106,108,110,112,114,116,118,120,122,124,126,128,130,132,134,136,138,140,142,144,146,148,150,152,154,156,158,160,162,164,166,168,170,172,174,176,178],\"marker\":[\"circle\",\"circle\",\"circle\",\"circle\",\"circle\",\"circle\",\"circle\",\"circle\",\"circle\",\"circle\",\"circle\",\"circle\",\"circle\",\"circle\",\"circle\",\"circle\",\"circle\",\"circle\",\"circle\",\"circle\",\"circle\",\"circle\",\"circle\",\"circle\",\"circle\",\"circle\",\"circle\",\"circle\",\"circle\",\"circle\",\"circle\",\"circle\",\"circle\",\"circle\",\"circle\",\"circle\",\"circle\",\"circle\",\"circle\",\"circle\",\"circle\",\"circle\",\"circle\",\"circle\",\"circle\",\"circle\",\"circle\",\"circle\",\"circle\",\"circle\",\"circle\",\"circle\",\"circle\",\"circle\",\"circle\",\"circle\",\"circle\",\"circle\",\"circle\",\"circle\",\"circle\",\"circle\",\"circle\",\"circle\",\"circle\",\"circle\",\"circle\",\"circle\",\"circle\",\"circle\",\"circle\",\"circle\",\"circle\",\"circle\",\"circle\",\"circle\",\"circle\",\"circle\",\"circle\",\"circle\",\"circle\",\"circle\",\"circle\",\"circle\",\"circle\",\"circle\",\"circle\",\"circle\",\"circle\",\"circle\"],\"model\":[\"scipy_L-BFGS-B_0\",\"scipy_L-BFGS-B_0\",\"scipy_L-BFGS-B_0\",\"scipy_L-BFGS-B_1\",\"scipy_L-BFGS-B_1\",\"scipy_L-BFGS-B_1\",\"scipy_L-BFGS-B_2\",\"scipy_L-BFGS-B_2\",\"scipy_L-BFGS-B_2\",\"scipy_L-BFGS-B_3\",\"scipy_L-BFGS-B_3\",\"scipy_L-BFGS-B_3\",\"scipy_L-BFGS-B_4\",\"scipy_L-BFGS-B_4\",\"scipy_L-BFGS-B_4\",\"scipy_L-BFGS-B_5\",\"scipy_L-BFGS-B_5\",\"scipy_L-BFGS-B_5\",\"scipy_L-BFGS-B_6\",\"scipy_L-BFGS-B_6\",\"scipy_L-BFGS-B_6\",\"scipy_L-BFGS-B_7\",\"scipy_L-BFGS-B_7\",\"scipy_L-BFGS-B_7\",\"scipy_L-BFGS-B_8\",\"scipy_L-BFGS-B_8\",\"scipy_L-BFGS-B_8\",\"scipy_L-BFGS-B_9\",\"scipy_L-BFGS-B_9\",\"scipy_L-BFGS-B_9\",\"scipy_TNC_0\",\"scipy_TNC_0\",\"scipy_TNC_0\",\"scipy_TNC_1\",\"scipy_TNC_1\",\"scipy_TNC_1\",\"scipy_TNC_2\",\"scipy_TNC_2\",\"scipy_TNC_2\",\"scipy_TNC_3\",\"scipy_TNC_3\",\"scipy_TNC_3\",\"scipy_TNC_4\",\"scipy_TNC_4\",\"scipy_TNC_4\",\"scipy_TNC_5\",\"scipy_TNC_5\",\"scipy_TNC_5\",\"scipy_TNC_6\",\"scipy_TNC_6\",\"scipy_TNC_6\",\"scipy_TNC_7\",\"scipy_TNC_7\",\"scipy_TNC_7\",\"scipy_TNC_8\",\"scipy_TNC_8\",\"scipy_TNC_8\",\"scipy_TNC_9\",\"scipy_TNC_9\",\"scipy_TNC_9\",\"scipy_SLSQP_0\",\"scipy_SLSQP_0\",\"scipy_SLSQP_0\",\"scipy_SLSQP_1\",\"scipy_SLSQP_1\",\"scipy_SLSQP_1\",\"scipy_SLSQP_2\",\"scipy_SLSQP_2\",\"scipy_SLSQP_2\",\"scipy_SLSQP_3\",\"scipy_SLSQP_3\",\"scipy_SLSQP_3\",\"scipy_SLSQP_4\",\"scipy_SLSQP_4\",\"scipy_SLSQP_4\",\"scipy_SLSQP_5\",\"scipy_SLSQP_5\",\"scipy_SLSQP_5\",\"scipy_SLSQP_6\",\"scipy_SLSQP_6\",\"scipy_SLSQP_6\",\"scipy_SLSQP_7\",\"scipy_SLSQP_7\",\"scipy_SLSQP_7\",\"scipy_SLSQP_8\",\"scipy_SLSQP_8\",\"scipy_SLSQP_8\",\"scipy_SLSQP_9\",\"scipy_SLSQP_9\",\"scipy_SLSQP_9\"],\"model_class\":[\"L-BFGS-B\",\"L-BFGS-B\",\"L-BFGS-B\",\"L-BFGS-B\",\"L-BFGS-B\",\"L-BFGS-B\",\"L-BFGS-B\",\"L-BFGS-B\",\"L-BFGS-B\",\"L-BFGS-B\",\"L-BFGS-B\",\"L-BFGS-B\",\"L-BFGS-B\",\"L-BFGS-B\",\"L-BFGS-B\",\"L-BFGS-B\",\"L-BFGS-B\",\"L-BFGS-B\",\"L-BFGS-B\",\"L-BFGS-B\",\"L-BFGS-B\",\"L-BFGS-B\",\"L-BFGS-B\",\"L-BFGS-B\",\"L-BFGS-B\",\"L-BFGS-B\",\"L-BFGS-B\",\"L-BFGS-B\",\"L-BFGS-B\",\"L-BFGS-B\",\"TNC\",\"TNC\",\"TNC\",\"TNC\",\"TNC\",\"TNC\",\"TNC\",\"TNC\",\"TNC\",\"TNC\",\"TNC\",\"TNC\",\"TNC\",\"TNC\",\"TNC\",\"TNC\",\"TNC\",\"TNC\",\"TNC\",\"TNC\",\"TNC\",\"TNC\",\"TNC\",\"TNC\",\"TNC\",\"TNC\",\"TNC\",\"TNC\",\"TNC\",\"TNC\",\"SLSQP\",\"SLSQP\",\"SLSQP\",\"SLSQP\",\"SLSQP\",\"SLSQP\",\"SLSQP\",\"SLSQP\",\"SLSQP\",\"SLSQP\",\"SLSQP\",\"SLSQP\",\"SLSQP\",\"SLSQP\",\"SLSQP\",\"SLSQP\",\"SLSQP\",\"SLSQP\",\"SLSQP\",\"SLSQP\",\"SLSQP\",\"SLSQP\",\"SLSQP\",\"SLSQP\",\"SLSQP\",\"SLSQP\",\"SLSQP\",\"SLSQP\",\"SLSQP\",\"SLSQP\"],\"name\":[\"a0\",\"a1\",\"a2\",\"a0\",\"a1\",\"a2\",\"a0\",\"a1\",\"a2\",\"a0\",\"a1\",\"a2\",\"a0\",\"a1\",\"a2\",\"a0\",\"a1\",\"a2\",\"a0\",\"a1\",\"a2\",\"a0\",\"a1\",\"a2\",\"a0\",\"a1\",\"a2\",\"a0\",\"a1\",\"a2\",\"a0\",\"a1\",\"a2\",\"a0\",\"a1\",\"a2\",\"a0\",\"a1\",\"a2\",\"a0\",\"a1\",\"a2\",\"a0\",\"a1\",\"a2\",\"a0\",\"a1\",\"a2\",\"a0\",\"a1\",\"a2\",\"a0\",\"a1\",\"a2\",\"a0\",\"a1\",\"a2\",\"a0\",\"a1\",\"a2\",\"a0\",\"a1\",\"a2\",\"a0\",\"a1\",\"a2\",\"a0\",\"a1\",\"a2\",\"a0\",\"a1\",\"a2\",\"a0\",\"a1\",\"a2\",\"a0\",\"a1\",\"a2\",\"a0\",\"a1\",\"a2\",\"a0\",\"a1\",\"a2\",\"a0\",\"a1\",\"a2\",\"a0\",\"a1\",\"a2\"],\"start_value\":{\"__ndarray__\":\"QPq3UB7EuL/Ckw8QGq0GwDi+QOFujdW/UGuc2uLsAUA4PXffVNv0P5DZoh1G4e+/rBLi7f6N6r84trkdWQH+P9ByEO5uDOG/fKEumbMpAsAp+q73KZ72vx0CKAEvIQbA4COX5UqI9D+MpwsV0YP6P3IrKd8FVgfAuPVD7Eqx5z+4WKsP0RQEwAyhzh551vu/AP4uGAz87j8oEoomvuPxP0DTcFvSutU/wE07VGf5t7+QWao6tVHFv10dI+f/7vy/HOnyM1AvBEAqwW2PnQcBwATyMnToygVAsMmURq5d2D94l/LPobnXv7xYRDl6XwfAQPq3UB7EuL/Ckw8QGq0GwDi+QOFujdW/UGuc2uLsAUA4PXffVNv0P5DZoh1G4e+/rBLi7f6N6r84trkdWQH+P9ByEO5uDOG/fKEumbMpAsAp+q73KZ72vx0CKAEvIQbA4COX5UqI9D+MpwsV0YP6P3IrKd8FVgfAuPVD7Eqx5z+4WKsP0RQEwAyhzh551vu/AP4uGAz87j8oEoomvuPxP0DTcFvSutU/wE07VGf5t7+QWao6tVHFv10dI+f/7vy/HOnyM1AvBEAqwW2PnQcBwATyMnToygVAsMmURq5d2D94l/LPobnXv7xYRDl6XwfAQPq3UB7EuL/Ckw8QGq0GwDi+QOFujdW/UGuc2uLsAUA4PXffVNv0P5DZoh1G4e+/rBLi7f6N6r84trkdWQH+P9ByEO5uDOG/fKEumbMpAsAp+q73KZ72vx0CKAEvIQbA4COX5UqI9D+MpwsV0YP6P3IrKd8FVgfAuPVD7Eqx5z+4WKsP0RQEwAyhzh551vu/AP4uGAz87j8oEoomvuPxP0DTcFvSutU/wE07VGf5t7+QWao6tVHFv10dI+f/7vy/HOnyM1AvBEAqwW2PnQcBwATyMnToygVAsMmURq5d2D94l/LPobnXv7xYRDl6XwfA\",\"dtype\":\"float64\",\"shape\":[90]}},\"selected\":{\"id\":\"1983\",\"type\":\"Selection\"},\"selection_policy\":{\"id\":\"1982\",\"type\":\"UnionRenderers\"}},\"id\":\"1915\",\"type\":\"ColumnDataSource\"},{\"attributes\":{},\"id\":\"1976\",\"type\":\"BasicTickFormatter\"},{\"attributes\":{},\"id\":\"1900\",\"type\":\"ResetTool\"},{\"attributes\":{},\"id\":\"1981\",\"type\":\"Selection\"},{\"attributes\":{},\"id\":\"1901\",\"type\":\"HelpTool\"},{\"attributes\":{},\"id\":\"1982\",\"type\":\"UnionRenderers\"},{\"attributes\":{\"active_drag\":\"auto\",\"active_inspect\":\"auto\",\"active_multi\":null,\"active_scroll\":\"auto\",\"active_tap\":\"auto\",\"tools\":[{\"id\":\"1896\",\"type\":\"PanTool\"},{\"id\":\"1897\",\"type\":\"WheelZoomTool\"},{\"id\":\"1898\",\"type\":\"BoxZoomTool\"},{\"id\":\"1899\",\"type\":\"SaveTool\"},{\"id\":\"1900\",\"type\":\"ResetTool\"},{\"id\":\"1901\",\"type\":\"HelpTool\"}]},\"id\":\"1902\",\"type\":\"Toolbar\"},{\"attributes\":{\"fill_alpha\":{\"value\":0.5},\"fill_color\":{\"field\":\"color\"},\"line_alpha\":{\"value\":0.5},\"line_color\":{\"field\":\"color\"},\"size\":{\"units\":\"screen\",\"value\":12},\"x\":{\"field\":\"final_value\"},\"y\":{\"field\":\"full_name\"}},\"id\":\"1911\",\"type\":\"Scatter\"},{\"attributes\":{},\"id\":\"1983\",\"type\":\"Selection\"},{\"attributes\":{\"fill_alpha\":{\"value\":0.2},\"fill_color\":{\"field\":\"color\"},\"height\":{\"value\":0.01},\"left\":{\"field\":\"conf_int_lower\"},\"line_alpha\":{\"value\":0.2},\"line_color\":{\"field\":\"color\"},\"right\":{\"field\":\"conf_int_upper\"},\"y\":{\"field\":\"full_name\"}},\"id\":\"1917\",\"type\":\"HBar\"},{\"attributes\":{\"callback\":null,\"factors\":[\"a_a2\",\"a_a1\",\"a_a0\"]},\"id\":\"1881\",\"type\":\"FactorRange\"}],\"root_ids\":[\"1876\"]},\"title\":\"Bokeh Application\",\"version\":\"1.2.0\"}};\n",
       "  var render_items = [{\"docid\":\"a8eee646-19cf-47b9-901a-79cf30e9d86e\",\"roots\":{\"1876\":\"c739e350-75a3-44e5-b950-9b413711d7f2\"}}];\n",
       "  root.Bokeh.embed.embed_items_notebook(docs_json, render_items);\n",
       "\n",
       "  }\n",
       "  if (root.Bokeh !== undefined) {\n",
       "    embed_document(root);\n",
       "  } else {\n",
       "    var attempts = 0;\n",
       "    var timer = setInterval(function(root) {\n",
       "      if (root.Bokeh !== undefined) {\n",
       "        embed_document(root);\n",
       "        clearInterval(timer);\n",
       "      }\n",
       "      attempts++;\n",
       "      if (attempts > 100) {\n",
       "        console.log(\"Bokeh: ERROR: Unable to run BokehJS code because BokehJS library is missing\");\n",
       "        clearInterval(timer);\n",
       "      }\n",
       "    }, 10, root)\n",
       "  }\n",
       "})(window);"
      ],
      "application/vnd.bokehjs_exec.v0+json": ""
     },
     "metadata": {
      "application/vnd.bokehjs_exec.v0+json": {
       "id": "1876"
      }
     },
     "output_type": "display_data"
    }
   ],
   "source": [
    "p = figure(\n",
    "    title=\"Comparison Plot of A Parameters\",\n",
    "    plot_height=300,\n",
    "    plot_width=500,\n",
    "    y_range=sorted(a_data['full_name'].unique(), reverse=True),\n",
    ")\n",
    "\n",
    "p.scatter(\n",
    "    source=a_data,\n",
    "    x=\"final_value\",\n",
    "    y=\"full_name\",    \n",
    "    color=\"color\",\n",
    "    size=12,\n",
    "    alpha=0.5,\n",
    ")\n",
    "\n",
    "# =======================================\n",
    "p.hbar(\n",
    "    source=a_data,\n",
    "    left=\"conf_int_lower\",\n",
    "    right=\"conf_int_upper\",\n",
    "    y=\"full_name\",\n",
    "    color=\"color\",\n",
    "    height=0.01,\n",
    "    alpha=0.2,\n",
    ")\n",
    "# =======================================\n",
    "\n",
    "show(p)"
   ]
  },
  {
   "cell_type": "markdown",
   "metadata": {},
   "source": [
    "## Our First Interaction: Only Show the Confidence Interval of Selected Point(s)"
   ]
  },
  {
   "cell_type": "code",
   "execution_count": 13,
   "metadata": {},
   "outputs": [
    {
     "data": {
      "text/html": [
       "\n",
       "\n",
       "\n",
       "\n",
       "\n",
       "\n",
       "  <div class=\"bk-root\" id=\"f8e519d5-1d77-43fd-9475-51fec72ef324\" data-root-id=\"2044\"></div>\n"
      ]
     },
     "metadata": {},
     "output_type": "display_data"
    },
    {
     "data": {
      "application/javascript": [
       "(function(root) {\n",
       "  function embed_document(root) {\n",
       "    \n",
       "  var docs_json = {\"84d7053b-346f-4c55-be50-a40e79e927b8\":{\"roots\":{\"references\":[{\"attributes\":{\"below\":[{\"id\":\"2055\",\"type\":\"LinearAxis\"}],\"center\":[{\"id\":\"2059\",\"type\":\"Grid\"},{\"id\":\"2063\",\"type\":\"Grid\"}],\"left\":[{\"id\":\"2060\",\"type\":\"CategoricalAxis\"}],\"plot_height\":300,\"plot_width\":500,\"renderers\":[{\"id\":\"2072\",\"type\":\"GlyphRenderer\"},{\"id\":\"2078\",\"type\":\"GlyphRenderer\"}],\"title\":{\"id\":\"2045\",\"type\":\"Title\"},\"toolbar\":{\"id\":\"2065\",\"type\":\"Toolbar\"},\"x_range\":{\"id\":\"2047\",\"type\":\"DataRange1d\"},\"x_scale\":{\"id\":\"2051\",\"type\":\"LinearScale\"},\"y_range\":{\"id\":\"2049\",\"type\":\"FactorRange\"},\"y_scale\":{\"id\":\"2053\",\"type\":\"CategoricalScale\"}},\"id\":\"2044\",\"subtype\":\"Figure\",\"type\":\"Plot\"},{\"attributes\":{\"data_source\":{\"id\":\"2067\",\"type\":\"ColumnDataSource\"},\"glyph\":{\"id\":\"2069\",\"type\":\"Scatter\"},\"hover_glyph\":null,\"muted_glyph\":null,\"nonselection_glyph\":{\"id\":\"2070\",\"type\":\"Scatter\"},\"selection_glyph\":{\"id\":\"2071\",\"type\":\"Scatter\"},\"view\":{\"id\":\"2073\",\"type\":\"CDSView\"}},\"id\":\"2072\",\"type\":\"GlyphRenderer\"},{\"attributes\":{\"callback\":null},\"id\":\"2047\",\"type\":\"DataRange1d\"},{\"attributes\":{\"source\":{\"id\":\"2067\",\"type\":\"ColumnDataSource\"}},\"id\":\"2073\",\"type\":\"CDSView\"},{\"attributes\":{\"callback\":null,\"factors\":[\"a_a2\",\"a_a1\",\"a_a0\"]},\"id\":\"2049\",\"type\":\"FactorRange\"},{\"attributes\":{},\"id\":\"2051\",\"type\":\"LinearScale\"},{\"attributes\":{\"fill_alpha\":{\"value\":0.0},\"fill_color\":{\"field\":\"color\"},\"height\":{\"value\":0.01},\"left\":{\"field\":\"conf_int_lower\"},\"line_alpha\":{\"value\":0.0},\"line_color\":{\"field\":\"color\"},\"right\":{\"field\":\"conf_int_upper\"},\"y\":{\"field\":\"full_name\"}},\"id\":\"2075\",\"type\":\"HBar\"},{\"attributes\":{},\"id\":\"2053\",\"type\":\"CategoricalScale\"},{\"attributes\":{\"fill_alpha\":{\"value\":0.0},\"fill_color\":{\"field\":\"color\"},\"height\":{\"value\":0.01},\"left\":{\"field\":\"conf_int_lower\"},\"line_alpha\":{\"value\":0.0},\"line_color\":{\"field\":\"color\"},\"right\":{\"field\":\"conf_int_upper\"},\"y\":{\"field\":\"full_name\"}},\"id\":\"2076\",\"type\":\"HBar\"},{\"attributes\":{\"formatter\":{\"id\":\"2145\",\"type\":\"BasicTickFormatter\"},\"ticker\":{\"id\":\"2056\",\"type\":\"BasicTicker\"}},\"id\":\"2055\",\"type\":\"LinearAxis\"},{\"attributes\":{\"fill_color\":{\"field\":\"color\"},\"height\":{\"value\":0.01},\"left\":{\"field\":\"conf_int_lower\"},\"line_color\":{\"field\":\"color\"},\"right\":{\"field\":\"conf_int_upper\"},\"y\":{\"field\":\"full_name\"}},\"id\":\"2077\",\"type\":\"HBar\"},{\"attributes\":{},\"id\":\"2056\",\"type\":\"BasicTicker\"},{\"attributes\":{\"data_source\":{\"id\":\"2067\",\"type\":\"ColumnDataSource\"},\"glyph\":{\"id\":\"2075\",\"type\":\"HBar\"},\"hover_glyph\":null,\"muted_glyph\":null,\"nonselection_glyph\":{\"id\":\"2076\",\"type\":\"HBar\"},\"selection_glyph\":{\"id\":\"2077\",\"type\":\"HBar\"},\"view\":{\"id\":\"2079\",\"type\":\"CDSView\"}},\"id\":\"2078\",\"type\":\"GlyphRenderer\"},{\"attributes\":{\"ticker\":{\"id\":\"2056\",\"type\":\"BasicTicker\"}},\"id\":\"2059\",\"type\":\"Grid\"},{\"attributes\":{\"source\":{\"id\":\"2067\",\"type\":\"ColumnDataSource\"}},\"id\":\"2079\",\"type\":\"CDSView\"},{\"attributes\":{\"formatter\":{\"id\":\"2147\",\"type\":\"CategoricalTickFormatter\"},\"ticker\":{\"id\":\"2061\",\"type\":\"CategoricalTicker\"}},\"id\":\"2060\",\"type\":\"CategoricalAxis\"},{\"attributes\":{},\"id\":\"2061\",\"type\":\"CategoricalTicker\"},{\"attributes\":{},\"id\":\"2145\",\"type\":\"BasicTickFormatter\"},{\"attributes\":{\"dimension\":1,\"ticker\":{\"id\":\"2061\",\"type\":\"CategoricalTicker\"}},\"id\":\"2063\",\"type\":\"Grid\"},{\"attributes\":{},\"id\":\"2147\",\"type\":\"CategoricalTickFormatter\"},{\"attributes\":{\"active_drag\":\"auto\",\"active_inspect\":\"auto\",\"active_multi\":null,\"active_scroll\":\"auto\",\"active_tap\":\"auto\",\"tools\":[{\"id\":\"2064\",\"type\":\"TapTool\"}]},\"id\":\"2065\",\"type\":\"Toolbar\"},{\"attributes\":{\"callback\":null},\"id\":\"2064\",\"type\":\"TapTool\"},{\"attributes\":{},\"id\":\"2148\",\"type\":\"UnionRenderers\"},{\"attributes\":{},\"id\":\"2149\",\"type\":\"Selection\"},{\"attributes\":{\"fill_alpha\":{\"value\":0.7},\"fill_color\":{\"field\":\"color\"},\"line_alpha\":{\"value\":0.7},\"line_color\":{\"field\":\"color\"},\"size\":{\"units\":\"screen\",\"value\":12},\"x\":{\"field\":\"final_value\"},\"y\":{\"field\":\"full_name\"}},\"id\":\"2071\",\"type\":\"Scatter\"},{\"attributes\":{\"callback\":null,\"data\":{\"color\":[\"forestgreen\",\"forestgreen\",\"forestgreen\",\"forestgreen\",\"forestgreen\",\"forestgreen\",\"forestgreen\",\"forestgreen\",\"forestgreen\",\"forestgreen\",\"forestgreen\",\"forestgreen\",\"forestgreen\",\"forestgreen\",\"forestgreen\",\"forestgreen\",\"forestgreen\",\"forestgreen\",\"forestgreen\",\"forestgreen\",\"forestgreen\",\"forestgreen\",\"forestgreen\",\"forestgreen\",\"forestgreen\",\"forestgreen\",\"forestgreen\",\"forestgreen\",\"forestgreen\",\"forestgreen\",\"#035096\",\"#035096\",\"#035096\",\"#035096\",\"#035096\",\"#035096\",\"#035096\",\"#035096\",\"#035096\",\"#035096\",\"#035096\",\"#035096\",\"#035096\",\"#035096\",\"#035096\",\"#035096\",\"#035096\",\"#035096\",\"#035096\",\"#035096\",\"#035096\",\"#035096\",\"#035096\",\"#035096\",\"#035096\",\"#035096\",\"#035096\",\"#035096\",\"#035096\",\"#035096\",\"firebrick\",\"firebrick\",\"firebrick\",\"firebrick\",\"firebrick\",\"firebrick\",\"firebrick\",\"firebrick\",\"firebrick\",\"firebrick\",\"firebrick\",\"firebrick\",\"firebrick\",\"firebrick\",\"firebrick\",\"firebrick\",\"firebrick\",\"firebrick\",\"firebrick\",\"firebrick\",\"firebrick\",\"firebrick\",\"firebrick\",\"firebrick\",\"firebrick\",\"firebrick\",\"firebrick\",\"firebrick\",\"firebrick\",\"firebrick\"],\"conf_int_lower\":{\"__ndarray__\":\"BQqOaxnVi79jdGI/VQ2Tv2QWTCwJN5O/wITQ+f2sQT81d1UQfT2Zv0H8WkwW0Ja/DG4ZfBScUj/6+BxX+jOIvw/vAyy3RpC/fGLi5zkWnL/mg8PMQCKlv/DR5vhhjoO/wJGBRBs3pb8hXl4QdWmhv7xjwEzNS6y/WspyoFWzir8iDAYEgneAv/jqvEEznqa/I01fAHKHjL/QRs5pp7GQvy4ZnSesHpu/Vi1WXaWNpr9yooNzd6eVv7xAEI6msIi/lhdhDFClnr+0AWKb0x53P3/u4pdpwI6/6wNDY7vHh7/M6OnB4vugv0SCNjbl4Zm//oD0NO2Vl78axBewR4+nv6BvboQhKaS/TWH8Le56lb+cZ89aAcyGv0DRVXPEBFu/1ljTXfH3mD8KguVhhfu3v3JVSMF9OqU/KP2xVv6qar+0aWqznV95v93f3Yzl/KG/m+oTBg/UrL87JK4UzXCgv3jA9LVhtZW/H7nTxMPPuD/a7HMOslOev27fbaPRla6/OR+Bb6wcsz8BhYD8Ie7RPzgmIvv+mds/7kZymSYenr8JkDgB1aGTv8h201yqgoG/R0iqUDktqb8wqMAoUwmrv8kr0SuY3ai/8JoYSCVkeb9kefwKZa+ev5Zs8qzBz5+/NJNr/92LoL/1e1VqHhKxv3d8QmjMAra/cB7dWAnAqL/AyQgnQemKv3NtCQSkK5u/EduwtGb6o7/g80Iz3221v9i8SW4AtaK/HzIPncErmb+CzHyuktGuv0fFvslGd5y/pTL0Ji1lsL/KV1NFDiSzv8IfNWeDH7y/BNBp+T0cr78QS3XFYN9gPyQCOE56S3C/rF4wpTqcs7+gS2eVwbSWv//KgD2jxpO/q2mPEJ9Dnr8i3L28PzOov+BND21CqJG/KN973zC0h79UKXriScWmv3D3+ju9iaq/2gZyiQZClr+OfVAzSW2wv9dlYYegmKm/\",\"dtype\":\"float64\",\"shape\":[90]},\"conf_int_upper\":{\"__ndarray__\":\"PcAXYP1nkz9CT3ncXh6FP66kvOKLYaA/gOXCmmXEoj+3UC8l8J2aP8vLsrHCnJM/i+1uBIfslT90OfMKCUKaPzc0I+IR9J0/FEybpjdqmz8YNOajFX94Py4YHgi4UqE/QPftb324Wb9AWR1uCgR/P+Bxv0Rel0o/csJ4KDT8mD/x1O28Dn2fP4qYB6/DnnK/csxXhKdJfT8DXXkVkMqZPy+ChIi19os/AM7PAtA1ID/F9c1YEzWJP5Fr8uhQe4M/nrKX7KQPgL/29w72rpmpP8OAuXHy9qU/fonqZohNmD/ucqU6M6CTP3aWaiBLbpk/VpVnl9NElD9IqYs+pOeVPyZHGRZ7K50/HwCBSMnFkz/1pwIoQ8SgP4DEj9+Dk6w/sPAcryzTtT//xTdh+2Wiv2ptuS43fLE/A6rPTpBEpz8u8RZyHZewPyQ+mm+LUKQ/ToO/Wwb0lj97POJlYzOYPxOuLOLOOKg/EeIPqtdxwz9M/h7+nGSkP5Ai6X3yn3S/eBJMy4oyxD9MMb6AJWLUPwBYcJM2ROA/mn0qTFEUjD9YGY5juoqaPyhwndpBXqE/0AW1IkBdjD9QVJBzjNGcP2BfReZ+rn2/RI65L2UisT/obYUVrKOgPxzHyCy6kKU/bfFeuglrpj8QZQYu9gigP6gptILnRHE/ib2cdQ5bmj9SgW+U1b2mP6Z26diRapI/GX1jwKzCpD9uKxaeuMCUv1yj8Ibd9qs/hLYiUDxVsT+Azs5o3JOiP7vxnqGThLE/XrJ4tQkilT8cwpKX0s6NP+Rk2LWQo4G/vSaMhJv0lz/K1dh14uGwPzLBqwEQn7I/0H/WNAfZlL8DtBhDbAKrP7DKj3jurKo/KwVSVst5mT+qF4qNT9uhP7dwdzJ7Iqo/D6ysLOuvsj/sWkpk/F6eP5n/FdGWvZS/oCKlBIqHsD9UGW8jkf6AP+PsLmxIvqA/\",\"dtype\":\"float64\",\"shape\":[90]},\"final_value\":{\"__ndarray__\":\"G4YehnuBbj/UmDtx3IVzv0eZN0plwHA/HuvDYnJElT/rkLX8LdZivzDqUh81JnG/f48f9pQ+eD8z1o/Z7Kd5P44RcGnamVC/8Ens4iW2ej+umydwAg6Sv9zBwq57SoM/SdeHEL+Dlr9WGBnXbA2Mv4HILM1M85e/sxLY6I/LVT92a9StexCCP2u+xF5A1o6/yB10rVz9Yr/QL4/YPQVnP73TR59CGIW/6n2y5BgQlL+j7nccWbOBv6OcR4rqalA/NJDgR8RhjL8L3JSjByGWP9U6OH/11Yc/U+npp6+vhD+UuFSsR5SKvzDaaL5vsGA/gEyBUUWiTz8AGB+XffBqv6AAgcvzm4G/AEiVBeSRYL8A/iJXszN9P0A3fY3NGJI/EHQ7BsZrrT+w1aTCpkWwv6A2UGGiB6c/AC0mKsT5gz/AxTPi6mmVPwBBFdD+loM/gBIQJjmgir+A+V0OZWKIPwDAklkFh48/SP2jsH6Auz8A3v9mFkCHP8BHDwhqx6O/SFPCLYpwvT/sr4MnaCXUP5SzExSen90/oDXkO62abL8g6uKgvph1P4B/4heCboQ/AEhRU0x9jb+AZoog/hCQvwACEeF8Xpu/yLIAZ31yoT+gNvGS7ouGPwBMYN2Sy2I/uPXbY7nwdb8lkA4VXJWEv2wbYZ4JOaG/MaKXxNhul7/aW/D/Sr6LP0rvufg/l5C/S2hxheDHgb+3/rVe4PypvymYvDPgM4o/SWFOm+f5lT/KdaGvEjiLv5oQEKWxxYg/xFWUVenikb9aoLGe3hOjvwbyR/A8eaG/e79DIhdLab94Ekg6vWCfP/jZXEFyhoQ/4+K1C/SBrL+CgUmgSOWRPwn16gyXpWs/gHvjbjrp5L7l2huaSWCTv/wgXmt8p5o/BiJHCTjBgz8KjfkdZjRSv8Ovy2NUap+/F6Jy5NB7oT++J96P4Z6hv6hAJFAEeE4/\",\"dtype\":\"float64\",\"shape\":[90]},\"full_name\":[\"a_a0\",\"a_a1\",\"a_a2\",\"a_a0\",\"a_a1\",\"a_a2\",\"a_a0\",\"a_a1\",\"a_a2\",\"a_a0\",\"a_a1\",\"a_a2\",\"a_a0\",\"a_a1\",\"a_a2\",\"a_a0\",\"a_a1\",\"a_a2\",\"a_a0\",\"a_a1\",\"a_a2\",\"a_a0\",\"a_a1\",\"a_a2\",\"a_a0\",\"a_a1\",\"a_a2\",\"a_a0\",\"a_a1\",\"a_a2\",\"a_a0\",\"a_a1\",\"a_a2\",\"a_a0\",\"a_a1\",\"a_a2\",\"a_a0\",\"a_a1\",\"a_a2\",\"a_a0\",\"a_a1\",\"a_a2\",\"a_a0\",\"a_a1\",\"a_a2\",\"a_a0\",\"a_a1\",\"a_a2\",\"a_a0\",\"a_a1\",\"a_a2\",\"a_a0\",\"a_a1\",\"a_a2\",\"a_a0\",\"a_a1\",\"a_a2\",\"a_a0\",\"a_a1\",\"a_a2\",\"a_a0\",\"a_a1\",\"a_a2\",\"a_a0\",\"a_a1\",\"a_a2\",\"a_a0\",\"a_a1\",\"a_a2\",\"a_a0\",\"a_a1\",\"a_a2\",\"a_a0\",\"a_a1\",\"a_a2\",\"a_a0\",\"a_a1\",\"a_a2\",\"a_a0\",\"a_a1\",\"a_a2\",\"a_a0\",\"a_a1\",\"a_a2\",\"a_a0\",\"a_a1\",\"a_a2\",\"a_a0\",\"a_a1\",\"a_a2\"],\"group\":[\"a\",\"a\",\"a\",\"a\",\"a\",\"a\",\"a\",\"a\",\"a\",\"a\",\"a\",\"a\",\"a\",\"a\",\"a\",\"a\",\"a\",\"a\",\"a\",\"a\",\"a\",\"a\",\"a\",\"a\",\"a\",\"a\",\"a\",\"a\",\"a\",\"a\",\"a\",\"a\",\"a\",\"a\",\"a\",\"a\",\"a\",\"a\",\"a\",\"a\",\"a\",\"a\",\"a\",\"a\",\"a\",\"a\",\"a\",\"a\",\"a\",\"a\",\"a\",\"a\",\"a\",\"a\",\"a\",\"a\",\"a\",\"a\",\"a\",\"a\",\"a\",\"a\",\"a\",\"a\",\"a\",\"a\",\"a\",\"a\",\"a\",\"a\",\"a\",\"a\",\"a\",\"a\",\"a\",\"a\",\"a\",\"a\",\"a\",\"a\",\"a\",\"a\",\"a\",\"a\",\"a\",\"a\",\"a\",\"a\",\"a\",\"a\"],\"index\":[0,4,8,0,4,8,0,4,8,0,4,8,0,4,8,0,4,8,0,4,8,0,4,8,0,4,8,0,4,8,0,4,8,0,4,8,0,4,8,0,4,8,0,4,8,0,4,8,0,4,8,0,4,8,0,4,8,0,4,8,0,4,8,0,4,8,0,4,8,0,4,8,0,4,8,0,4,8,0,4,8,0,4,8,0,4,8,0,4,8],\"level_0\":[0,2,4,6,8,10,12,14,16,18,20,22,24,26,28,30,32,34,36,38,40,42,44,46,48,50,52,54,56,58,60,62,64,66,68,70,72,74,76,78,80,82,84,86,88,90,92,94,96,98,100,102,104,106,108,110,112,114,116,118,120,122,124,126,128,130,132,134,136,138,140,142,144,146,148,150,152,154,156,158,160,162,164,166,168,170,172,174,176,178],\"marker\":[\"circle\",\"circle\",\"circle\",\"circle\",\"circle\",\"circle\",\"circle\",\"circle\",\"circle\",\"circle\",\"circle\",\"circle\",\"circle\",\"circle\",\"circle\",\"circle\",\"circle\",\"circle\",\"circle\",\"circle\",\"circle\",\"circle\",\"circle\",\"circle\",\"circle\",\"circle\",\"circle\",\"circle\",\"circle\",\"circle\",\"circle\",\"circle\",\"circle\",\"circle\",\"circle\",\"circle\",\"circle\",\"circle\",\"circle\",\"circle\",\"circle\",\"circle\",\"circle\",\"circle\",\"circle\",\"circle\",\"circle\",\"circle\",\"circle\",\"circle\",\"circle\",\"circle\",\"circle\",\"circle\",\"circle\",\"circle\",\"circle\",\"circle\",\"circle\",\"circle\",\"circle\",\"circle\",\"circle\",\"circle\",\"circle\",\"circle\",\"circle\",\"circle\",\"circle\",\"circle\",\"circle\",\"circle\",\"circle\",\"circle\",\"circle\",\"circle\",\"circle\",\"circle\",\"circle\",\"circle\",\"circle\",\"circle\",\"circle\",\"circle\",\"circle\",\"circle\",\"circle\",\"circle\",\"circle\",\"circle\"],\"model\":[\"scipy_L-BFGS-B_0\",\"scipy_L-BFGS-B_0\",\"scipy_L-BFGS-B_0\",\"scipy_L-BFGS-B_1\",\"scipy_L-BFGS-B_1\",\"scipy_L-BFGS-B_1\",\"scipy_L-BFGS-B_2\",\"scipy_L-BFGS-B_2\",\"scipy_L-BFGS-B_2\",\"scipy_L-BFGS-B_3\",\"scipy_L-BFGS-B_3\",\"scipy_L-BFGS-B_3\",\"scipy_L-BFGS-B_4\",\"scipy_L-BFGS-B_4\",\"scipy_L-BFGS-B_4\",\"scipy_L-BFGS-B_5\",\"scipy_L-BFGS-B_5\",\"scipy_L-BFGS-B_5\",\"scipy_L-BFGS-B_6\",\"scipy_L-BFGS-B_6\",\"scipy_L-BFGS-B_6\",\"scipy_L-BFGS-B_7\",\"scipy_L-BFGS-B_7\",\"scipy_L-BFGS-B_7\",\"scipy_L-BFGS-B_8\",\"scipy_L-BFGS-B_8\",\"scipy_L-BFGS-B_8\",\"scipy_L-BFGS-B_9\",\"scipy_L-BFGS-B_9\",\"scipy_L-BFGS-B_9\",\"scipy_TNC_0\",\"scipy_TNC_0\",\"scipy_TNC_0\",\"scipy_TNC_1\",\"scipy_TNC_1\",\"scipy_TNC_1\",\"scipy_TNC_2\",\"scipy_TNC_2\",\"scipy_TNC_2\",\"scipy_TNC_3\",\"scipy_TNC_3\",\"scipy_TNC_3\",\"scipy_TNC_4\",\"scipy_TNC_4\",\"scipy_TNC_4\",\"scipy_TNC_5\",\"scipy_TNC_5\",\"scipy_TNC_5\",\"scipy_TNC_6\",\"scipy_TNC_6\",\"scipy_TNC_6\",\"scipy_TNC_7\",\"scipy_TNC_7\",\"scipy_TNC_7\",\"scipy_TNC_8\",\"scipy_TNC_8\",\"scipy_TNC_8\",\"scipy_TNC_9\",\"scipy_TNC_9\",\"scipy_TNC_9\",\"scipy_SLSQP_0\",\"scipy_SLSQP_0\",\"scipy_SLSQP_0\",\"scipy_SLSQP_1\",\"scipy_SLSQP_1\",\"scipy_SLSQP_1\",\"scipy_SLSQP_2\",\"scipy_SLSQP_2\",\"scipy_SLSQP_2\",\"scipy_SLSQP_3\",\"scipy_SLSQP_3\",\"scipy_SLSQP_3\",\"scipy_SLSQP_4\",\"scipy_SLSQP_4\",\"scipy_SLSQP_4\",\"scipy_SLSQP_5\",\"scipy_SLSQP_5\",\"scipy_SLSQP_5\",\"scipy_SLSQP_6\",\"scipy_SLSQP_6\",\"scipy_SLSQP_6\",\"scipy_SLSQP_7\",\"scipy_SLSQP_7\",\"scipy_SLSQP_7\",\"scipy_SLSQP_8\",\"scipy_SLSQP_8\",\"scipy_SLSQP_8\",\"scipy_SLSQP_9\",\"scipy_SLSQP_9\",\"scipy_SLSQP_9\"],\"model_class\":[\"L-BFGS-B\",\"L-BFGS-B\",\"L-BFGS-B\",\"L-BFGS-B\",\"L-BFGS-B\",\"L-BFGS-B\",\"L-BFGS-B\",\"L-BFGS-B\",\"L-BFGS-B\",\"L-BFGS-B\",\"L-BFGS-B\",\"L-BFGS-B\",\"L-BFGS-B\",\"L-BFGS-B\",\"L-BFGS-B\",\"L-BFGS-B\",\"L-BFGS-B\",\"L-BFGS-B\",\"L-BFGS-B\",\"L-BFGS-B\",\"L-BFGS-B\",\"L-BFGS-B\",\"L-BFGS-B\",\"L-BFGS-B\",\"L-BFGS-B\",\"L-BFGS-B\",\"L-BFGS-B\",\"L-BFGS-B\",\"L-BFGS-B\",\"L-BFGS-B\",\"TNC\",\"TNC\",\"TNC\",\"TNC\",\"TNC\",\"TNC\",\"TNC\",\"TNC\",\"TNC\",\"TNC\",\"TNC\",\"TNC\",\"TNC\",\"TNC\",\"TNC\",\"TNC\",\"TNC\",\"TNC\",\"TNC\",\"TNC\",\"TNC\",\"TNC\",\"TNC\",\"TNC\",\"TNC\",\"TNC\",\"TNC\",\"TNC\",\"TNC\",\"TNC\",\"SLSQP\",\"SLSQP\",\"SLSQP\",\"SLSQP\",\"SLSQP\",\"SLSQP\",\"SLSQP\",\"SLSQP\",\"SLSQP\",\"SLSQP\",\"SLSQP\",\"SLSQP\",\"SLSQP\",\"SLSQP\",\"SLSQP\",\"SLSQP\",\"SLSQP\",\"SLSQP\",\"SLSQP\",\"SLSQP\",\"SLSQP\",\"SLSQP\",\"SLSQP\",\"SLSQP\",\"SLSQP\",\"SLSQP\",\"SLSQP\",\"SLSQP\",\"SLSQP\",\"SLSQP\"],\"name\":[\"a0\",\"a1\",\"a2\",\"a0\",\"a1\",\"a2\",\"a0\",\"a1\",\"a2\",\"a0\",\"a1\",\"a2\",\"a0\",\"a1\",\"a2\",\"a0\",\"a1\",\"a2\",\"a0\",\"a1\",\"a2\",\"a0\",\"a1\",\"a2\",\"a0\",\"a1\",\"a2\",\"a0\",\"a1\",\"a2\",\"a0\",\"a1\",\"a2\",\"a0\",\"a1\",\"a2\",\"a0\",\"a1\",\"a2\",\"a0\",\"a1\",\"a2\",\"a0\",\"a1\",\"a2\",\"a0\",\"a1\",\"a2\",\"a0\",\"a1\",\"a2\",\"a0\",\"a1\",\"a2\",\"a0\",\"a1\",\"a2\",\"a0\",\"a1\",\"a2\",\"a0\",\"a1\",\"a2\",\"a0\",\"a1\",\"a2\",\"a0\",\"a1\",\"a2\",\"a0\",\"a1\",\"a2\",\"a0\",\"a1\",\"a2\",\"a0\",\"a1\",\"a2\",\"a0\",\"a1\",\"a2\",\"a0\",\"a1\",\"a2\",\"a0\",\"a1\",\"a2\",\"a0\",\"a1\",\"a2\"],\"start_value\":{\"__ndarray__\":\"QPq3UB7EuL/Ckw8QGq0GwDi+QOFujdW/UGuc2uLsAUA4PXffVNv0P5DZoh1G4e+/rBLi7f6N6r84trkdWQH+P9ByEO5uDOG/fKEumbMpAsAp+q73KZ72vx0CKAEvIQbA4COX5UqI9D+MpwsV0YP6P3IrKd8FVgfAuPVD7Eqx5z+4WKsP0RQEwAyhzh551vu/AP4uGAz87j8oEoomvuPxP0DTcFvSutU/wE07VGf5t7+QWao6tVHFv10dI+f/7vy/HOnyM1AvBEAqwW2PnQcBwATyMnToygVAsMmURq5d2D94l/LPobnXv7xYRDl6XwfAQPq3UB7EuL/Ckw8QGq0GwDi+QOFujdW/UGuc2uLsAUA4PXffVNv0P5DZoh1G4e+/rBLi7f6N6r84trkdWQH+P9ByEO5uDOG/fKEumbMpAsAp+q73KZ72vx0CKAEvIQbA4COX5UqI9D+MpwsV0YP6P3IrKd8FVgfAuPVD7Eqx5z+4WKsP0RQEwAyhzh551vu/AP4uGAz87j8oEoomvuPxP0DTcFvSutU/wE07VGf5t7+QWao6tVHFv10dI+f/7vy/HOnyM1AvBEAqwW2PnQcBwATyMnToygVAsMmURq5d2D94l/LPobnXv7xYRDl6XwfAQPq3UB7EuL/Ckw8QGq0GwDi+QOFujdW/UGuc2uLsAUA4PXffVNv0P5DZoh1G4e+/rBLi7f6N6r84trkdWQH+P9ByEO5uDOG/fKEumbMpAsAp+q73KZ72vx0CKAEvIQbA4COX5UqI9D+MpwsV0YP6P3IrKd8FVgfAuPVD7Eqx5z+4WKsP0RQEwAyhzh551vu/AP4uGAz87j8oEoomvuPxP0DTcFvSutU/wE07VGf5t7+QWao6tVHFv10dI+f/7vy/HOnyM1AvBEAqwW2PnQcBwATyMnToygVAsMmURq5d2D94l/LPobnXv7xYRDl6XwfA\",\"dtype\":\"float64\",\"shape\":[90]}},\"selected\":{\"id\":\"2149\",\"type\":\"Selection\"},\"selection_policy\":{\"id\":\"2148\",\"type\":\"UnionRenderers\"}},\"id\":\"2067\",\"type\":\"ColumnDataSource\"},{\"attributes\":{\"fill_alpha\":{\"value\":0.2},\"fill_color\":{\"field\":\"color\"},\"line_alpha\":{\"value\":0.2},\"line_color\":{\"field\":\"color\"},\"size\":{\"units\":\"screen\",\"value\":12},\"x\":{\"field\":\"final_value\"},\"y\":{\"field\":\"full_name\"}},\"id\":\"2070\",\"type\":\"Scatter\"},{\"attributes\":{\"fill_alpha\":{\"value\":0.5},\"fill_color\":{\"field\":\"color\"},\"line_alpha\":{\"value\":0.5},\"line_color\":{\"field\":\"color\"},\"size\":{\"units\":\"screen\",\"value\":12},\"x\":{\"field\":\"final_value\"},\"y\":{\"field\":\"full_name\"}},\"id\":\"2069\",\"type\":\"Scatter\"},{\"attributes\":{\"text\":\"Comparison Plot of A Parameters\"},\"id\":\"2045\",\"type\":\"Title\"}],\"root_ids\":[\"2044\"]},\"title\":\"Bokeh Application\",\"version\":\"1.2.0\"}};\n",
       "  var render_items = [{\"docid\":\"84d7053b-346f-4c55-be50-a40e79e927b8\",\"roots\":{\"2044\":\"f8e519d5-1d77-43fd-9475-51fec72ef324\"}}];\n",
       "  root.Bokeh.embed.embed_items_notebook(docs_json, render_items);\n",
       "\n",
       "  }\n",
       "  if (root.Bokeh !== undefined) {\n",
       "    embed_document(root);\n",
       "  } else {\n",
       "    var attempts = 0;\n",
       "    var timer = setInterval(function(root) {\n",
       "      if (root.Bokeh !== undefined) {\n",
       "        embed_document(root);\n",
       "        clearInterval(timer);\n",
       "      }\n",
       "      attempts++;\n",
       "      if (attempts > 100) {\n",
       "        console.log(\"Bokeh: ERROR: Unable to run BokehJS code because BokehJS library is missing\");\n",
       "        clearInterval(timer);\n",
       "      }\n",
       "    }, 10, root)\n",
       "  }\n",
       "})(window);"
      ],
      "application/vnd.bokehjs_exec.v0+json": ""
     },
     "metadata": {
      "application/vnd.bokehjs_exec.v0+json": {
       "id": "2044"
      }
     },
     "output_type": "display_data"
    }
   ],
   "source": [
    "from bokeh.models import ColumnDataSource\n",
    "\n",
    "p = figure(\n",
    "    title=\"Comparison Plot of A Parameters\",\n",
    "    plot_height=300,\n",
    "    plot_width=500,\n",
    "    y_range=sorted(a_data['full_name'].unique(), reverse=True),\n",
    "    # =======================================\n",
    "    tools=\"tap\"\n",
    "    # =======================================\n",
    ")\n",
    "    \n",
    "# =======================================\n",
    "source = ColumnDataSource(a_data)\n",
    "# =======================================\n",
    "\n",
    "p.scatter(\n",
    "    # =======================================\n",
    "    source=source,\n",
    "    # =======================================\n",
    "    \n",
    "    x=\"final_value\",\n",
    "    y=\"full_name\",    \n",
    "    size=12,\n",
    "    \n",
    "    # =======================================\n",
    "    alpha=0.5,\n",
    "    selection_alpha=0.7,\n",
    "    nonselection_alpha=0.2,\n",
    "    \n",
    "    color=\"color\",\n",
    "    selection_color=\"color\",\n",
    "    nonselection_color=\"color\",\n",
    "    # =======================================\n",
    ")\n",
    "\n",
    "p.hbar(\n",
    "    source=source,\n",
    "    left=\"conf_int_lower\",\n",
    "    right=\"conf_int_upper\",\n",
    "    y=\"full_name\",\n",
    "    height=0.01,\n",
    "    \n",
    "    # =======================================\n",
    "    alpha=0.0,\n",
    "    selection_alpha=1, \n",
    "    nonselection_alpha=0.0,\n",
    "    \n",
    "    color=\"color\",\n",
    "    selection_color=\"color\",\n",
    "    nonselection_color=\"color\",\n",
    "    # =======================================\n",
    ")\n",
    "\n",
    "show(p)"
   ]
  },
  {
   "cell_type": "code",
   "execution_count": null,
   "metadata": {},
   "outputs": [],
   "source": []
  },
  {
   "cell_type": "markdown",
   "metadata": {},
   "source": [
    "### Now do this for every group of parameters and arrange them in a grid ..."
   ]
  },
  {
   "cell_type": "code",
   "execution_count": 14,
   "metadata": {},
   "outputs": [
    {
     "data": {
      "text/plain": [
       "[('a', 400), ('b', 400)]"
      ]
     },
     "execution_count": 14,
     "metadata": {},
     "output_type": "execute_result"
    }
   ],
   "source": [
    "# we now have an additional input \n",
    "# it is a list of tuples of the name of the parameter group\n",
    "# and the height allotted to that plot\n",
    "param_groups_and_heights"
   ]
  },
  {
   "cell_type": "code",
   "execution_count": 15,
   "metadata": {},
   "outputs": [
    {
     "data": {
      "text/html": [
       "\n",
       "\n",
       "\n",
       "\n",
       "\n",
       "\n",
       "  <div class=\"bk-root\" id=\"4b403a3f-da8a-42f4-b291-bf174cd4c04b\" data-root-id=\"2282\"></div>\n"
      ]
     },
     "metadata": {},
     "output_type": "display_data"
    },
    {
     "data": {
      "application/javascript": [
       "(function(root) {\n",
       "  function embed_document(root) {\n",
       "    \n",
       "  var docs_json = {\"1a28343b-da50-494f-a6e1-3c55430d3a2f\":{\"roots\":{\"references\":[{\"attributes\":{\"children\":[{\"id\":\"2281\",\"type\":\"ToolbarBox\"},{\"id\":\"2279\",\"type\":\"GridBox\"}]},\"id\":\"2282\",\"type\":\"Column\"},{\"attributes\":{\"toolbar\":{\"id\":\"2280\",\"type\":\"ProxyToolbar\"},\"toolbar_location\":\"above\"},\"id\":\"2281\",\"type\":\"ToolbarBox\"},{\"attributes\":{},\"id\":\"2202\",\"type\":\"CategoricalScale\"},{\"attributes\":{},\"id\":\"2245\",\"type\":\"CategoricalTicker\"},{\"attributes\":{\"fill_alpha\":{\"value\":0.5},\"fill_color\":{\"field\":\"color\"},\"line_alpha\":{\"value\":0.5},\"line_color\":{\"field\":\"color\"},\"size\":{\"units\":\"screen\",\"value\":12},\"x\":{\"field\":\"final_value\"},\"y\":{\"field\":\"full_name\"}},\"id\":\"2217\",\"type\":\"Scatter\"},{\"attributes\":{\"fill_alpha\":{\"value\":0.7},\"fill_color\":{\"field\":\"color\"},\"line_alpha\":{\"value\":0.7},\"line_color\":{\"field\":\"color\"},\"size\":{\"units\":\"screen\",\"value\":12},\"x\":{\"field\":\"final_value\"},\"y\":{\"field\":\"full_name\"}},\"id\":\"2254\",\"type\":\"Scatter\"},{\"attributes\":{\"below\":[{\"id\":\"2239\",\"type\":\"LinearAxis\"}],\"center\":[{\"id\":\"2243\",\"type\":\"Grid\"},{\"id\":\"2247\",\"type\":\"Grid\"}],\"left\":[{\"id\":\"2244\",\"type\":\"CategoricalAxis\"}],\"plot_height\":300,\"renderers\":[{\"id\":\"2255\",\"type\":\"GlyphRenderer\"},{\"id\":\"2261\",\"type\":\"GlyphRenderer\"}],\"title\":{\"id\":\"2229\",\"type\":\"Title\"},\"toolbar\":{\"id\":\"2249\",\"type\":\"Toolbar\"},\"toolbar_location\":null,\"x_range\":{\"id\":\"2231\",\"type\":\"DataRange1d\"},\"x_scale\":{\"id\":\"2235\",\"type\":\"LinearScale\"},\"y_range\":{\"id\":\"2233\",\"type\":\"FactorRange\"},\"y_scale\":{\"id\":\"2237\",\"type\":\"CategoricalScale\"}},\"id\":\"2228\",\"subtype\":\"Figure\",\"type\":\"Plot\"},{\"attributes\":{\"fill_alpha\":{\"value\":0.2},\"fill_color\":{\"field\":\"color\"},\"line_alpha\":{\"value\":0.2},\"line_color\":{\"field\":\"color\"},\"size\":{\"units\":\"screen\",\"value\":12},\"x\":{\"field\":\"final_value\"},\"y\":{\"field\":\"full_name\"}},\"id\":\"2218\",\"type\":\"Scatter\"},{\"attributes\":{\"data_source\":{\"id\":\"2192\",\"type\":\"ColumnDataSource\"},\"glyph\":{\"id\":\"2252\",\"type\":\"Scatter\"},\"hover_glyph\":null,\"muted_glyph\":null,\"nonselection_glyph\":{\"id\":\"2253\",\"type\":\"Scatter\"},\"selection_glyph\":{\"id\":\"2254\",\"type\":\"Scatter\"},\"view\":{\"id\":\"2256\",\"type\":\"CDSView\"}},\"id\":\"2255\",\"type\":\"GlyphRenderer\"},{\"attributes\":{\"fill_alpha\":{\"value\":0.7},\"fill_color\":{\"field\":\"color\"},\"line_alpha\":{\"value\":0.7},\"line_color\":{\"field\":\"color\"},\"size\":{\"units\":\"screen\",\"value\":12},\"x\":{\"field\":\"final_value\"},\"y\":{\"field\":\"full_name\"}},\"id\":\"2219\",\"type\":\"Scatter\"},{\"attributes\":{\"children\":[[{\"id\":\"2193\",\"subtype\":\"Figure\",\"type\":\"Plot\"},0,0],[{\"id\":\"2228\",\"subtype\":\"Figure\",\"type\":\"Plot\"},1,0]]},\"id\":\"2279\",\"type\":\"GridBox\"},{\"attributes\":{\"below\":[{\"id\":\"2204\",\"type\":\"LinearAxis\"}],\"center\":[{\"id\":\"2208\",\"type\":\"Grid\"},{\"id\":\"2212\",\"type\":\"Grid\"}],\"left\":[{\"id\":\"2209\",\"type\":\"CategoricalAxis\"}],\"plot_height\":300,\"renderers\":[{\"id\":\"2220\",\"type\":\"GlyphRenderer\"},{\"id\":\"2226\",\"type\":\"GlyphRenderer\"}],\"title\":{\"id\":\"2194\",\"type\":\"Title\"},\"toolbar\":{\"id\":\"2214\",\"type\":\"Toolbar\"},\"toolbar_location\":null,\"x_range\":{\"id\":\"2196\",\"type\":\"DataRange1d\"},\"x_scale\":{\"id\":\"2200\",\"type\":\"LinearScale\"},\"y_range\":{\"id\":\"2198\",\"type\":\"FactorRange\"},\"y_scale\":{\"id\":\"2202\",\"type\":\"CategoricalScale\"}},\"id\":\"2193\",\"subtype\":\"Figure\",\"type\":\"Plot\"},{\"attributes\":{\"source\":{\"id\":\"2192\",\"type\":\"ColumnDataSource\"}},\"id\":\"2256\",\"type\":\"CDSView\"},{\"attributes\":{\"ticker\":{\"id\":\"2240\",\"type\":\"BasicTicker\"}},\"id\":\"2243\",\"type\":\"Grid\"},{\"attributes\":{\"data_source\":{\"id\":\"2192\",\"type\":\"ColumnDataSource\"},\"glyph\":{\"id\":\"2217\",\"type\":\"Scatter\"},\"hover_glyph\":null,\"muted_glyph\":null,\"nonselection_glyph\":{\"id\":\"2218\",\"type\":\"Scatter\"},\"selection_glyph\":{\"id\":\"2219\",\"type\":\"Scatter\"},\"view\":{\"id\":\"2221\",\"type\":\"CDSView\"}},\"id\":\"2220\",\"type\":\"GlyphRenderer\"},{\"attributes\":{},\"id\":\"2200\",\"type\":\"LinearScale\"},{\"attributes\":{\"source\":{\"id\":\"2192\",\"type\":\"ColumnDataSource\"}},\"id\":\"2221\",\"type\":\"CDSView\"},{\"attributes\":{\"callback\":null,\"factors\":[\"a_a2\",\"a_a1\",\"a_a0\"]},\"id\":\"2198\",\"type\":\"FactorRange\"},{\"attributes\":{\"fill_alpha\":{\"value\":0.0},\"fill_color\":{\"field\":\"color\"},\"height\":{\"value\":0.01},\"left\":{\"field\":\"conf_int_lower\"},\"line_alpha\":{\"value\":0.0},\"line_color\":{\"field\":\"color\"},\"right\":{\"field\":\"conf_int_upper\"},\"y\":{\"field\":\"full_name\"}},\"id\":\"2258\",\"type\":\"HBar\"},{\"attributes\":{\"callback\":null},\"id\":\"2248\",\"type\":\"TapTool\"},{\"attributes\":{\"formatter\":{\"id\":\"2273\",\"type\":\"BasicTickFormatter\"},\"ticker\":{\"id\":\"2240\",\"type\":\"BasicTicker\"}},\"id\":\"2239\",\"type\":\"LinearAxis\"},{\"attributes\":{\"callback\":null},\"id\":\"2196\",\"type\":\"DataRange1d\"},{\"attributes\":{\"fill_alpha\":{\"value\":0.0},\"fill_color\":{\"field\":\"color\"},\"height\":{\"value\":0.01},\"left\":{\"field\":\"conf_int_lower\"},\"line_alpha\":{\"value\":0.0},\"line_color\":{\"field\":\"color\"},\"right\":{\"field\":\"conf_int_upper\"},\"y\":{\"field\":\"full_name\"}},\"id\":\"2259\",\"type\":\"HBar\"},{\"attributes\":{\"fill_alpha\":{\"value\":0.0},\"fill_color\":{\"field\":\"color\"},\"height\":{\"value\":0.01},\"left\":{\"field\":\"conf_int_lower\"},\"line_alpha\":{\"value\":0.0},\"line_color\":{\"field\":\"color\"},\"right\":{\"field\":\"conf_int_upper\"},\"y\":{\"field\":\"full_name\"}},\"id\":\"2223\",\"type\":\"HBar\"},{\"attributes\":{\"text\":\"Comparison Plot of A Parameters\"},\"id\":\"2194\",\"type\":\"Title\"},{\"attributes\":{\"fill_alpha\":{\"value\":0.25},\"fill_color\":{\"field\":\"color\"},\"height\":{\"value\":0.01},\"left\":{\"field\":\"conf_int_lower\"},\"line_alpha\":{\"value\":0.25},\"line_color\":{\"field\":\"color\"},\"right\":{\"field\":\"conf_int_upper\"},\"y\":{\"field\":\"full_name\"}},\"id\":\"2260\",\"type\":\"HBar\"},{\"attributes\":{\"fill_alpha\":{\"value\":0.0},\"fill_color\":{\"field\":\"color\"},\"height\":{\"value\":0.01},\"left\":{\"field\":\"conf_int_lower\"},\"line_alpha\":{\"value\":0.0},\"line_color\":{\"field\":\"color\"},\"right\":{\"field\":\"conf_int_upper\"},\"y\":{\"field\":\"full_name\"}},\"id\":\"2224\",\"type\":\"HBar\"},{\"attributes\":{\"tools\":[{\"id\":\"2213\",\"type\":\"TapTool\"},{\"id\":\"2248\",\"type\":\"TapTool\"}]},\"id\":\"2280\",\"type\":\"ProxyToolbar\"},{\"attributes\":{\"data_source\":{\"id\":\"2192\",\"type\":\"ColumnDataSource\"},\"glyph\":{\"id\":\"2258\",\"type\":\"HBar\"},\"hover_glyph\":null,\"muted_glyph\":null,\"nonselection_glyph\":{\"id\":\"2259\",\"type\":\"HBar\"},\"selection_glyph\":{\"id\":\"2260\",\"type\":\"HBar\"},\"view\":{\"id\":\"2262\",\"type\":\"CDSView\"}},\"id\":\"2261\",\"type\":\"GlyphRenderer\"},{\"attributes\":{\"formatter\":{\"id\":\"2275\",\"type\":\"CategoricalTickFormatter\"},\"ticker\":{\"id\":\"2245\",\"type\":\"CategoricalTicker\"}},\"id\":\"2244\",\"type\":\"CategoricalAxis\"},{\"attributes\":{},\"id\":\"2240\",\"type\":\"BasicTicker\"},{\"attributes\":{\"fill_alpha\":{\"value\":0.25},\"fill_color\":{\"field\":\"color\"},\"height\":{\"value\":0.01},\"left\":{\"field\":\"conf_int_lower\"},\"line_alpha\":{\"value\":0.25},\"line_color\":{\"field\":\"color\"},\"right\":{\"field\":\"conf_int_upper\"},\"y\":{\"field\":\"full_name\"}},\"id\":\"2225\",\"type\":\"HBar\"},{\"attributes\":{\"callback\":null,\"data\":{\"color\":[\"forestgreen\",\"forestgreen\",\"forestgreen\",\"forestgreen\",\"forestgreen\",\"forestgreen\",\"forestgreen\",\"forestgreen\",\"forestgreen\",\"forestgreen\",\"forestgreen\",\"forestgreen\",\"forestgreen\",\"forestgreen\",\"forestgreen\",\"forestgreen\",\"forestgreen\",\"forestgreen\",\"forestgreen\",\"forestgreen\",\"forestgreen\",\"forestgreen\",\"forestgreen\",\"forestgreen\",\"forestgreen\",\"forestgreen\",\"forestgreen\",\"forestgreen\",\"forestgreen\",\"forestgreen\",\"forestgreen\",\"forestgreen\",\"forestgreen\",\"forestgreen\",\"forestgreen\",\"forestgreen\",\"forestgreen\",\"forestgreen\",\"forestgreen\",\"forestgreen\",\"forestgreen\",\"forestgreen\",\"forestgreen\",\"forestgreen\",\"forestgreen\",\"forestgreen\",\"forestgreen\",\"forestgreen\",\"forestgreen\",\"forestgreen\",\"forestgreen\",\"forestgreen\",\"forestgreen\",\"forestgreen\",\"forestgreen\",\"forestgreen\",\"forestgreen\",\"forestgreen\",\"forestgreen\",\"forestgreen\",\"#035096\",\"#035096\",\"#035096\",\"#035096\",\"#035096\",\"#035096\",\"#035096\",\"#035096\",\"#035096\",\"#035096\",\"#035096\",\"#035096\",\"#035096\",\"#035096\",\"#035096\",\"#035096\",\"#035096\",\"#035096\",\"#035096\",\"#035096\",\"#035096\",\"#035096\",\"#035096\",\"#035096\",\"#035096\",\"#035096\",\"#035096\",\"#035096\",\"#035096\",\"#035096\",\"#035096\",\"#035096\",\"#035096\",\"#035096\",\"#035096\",\"#035096\",\"#035096\",\"#035096\",\"#035096\",\"#035096\",\"#035096\",\"#035096\",\"#035096\",\"#035096\",\"#035096\",\"#035096\",\"#035096\",\"#035096\",\"#035096\",\"#035096\",\"#035096\",\"#035096\",\"#035096\",\"#035096\",\"#035096\",\"#035096\",\"#035096\",\"#035096\",\"#035096\",\"#035096\",\"firebrick\",\"firebrick\",\"firebrick\",\"firebrick\",\"firebrick\",\"firebrick\",\"firebrick\",\"firebrick\",\"firebrick\",\"firebrick\",\"firebrick\",\"firebrick\",\"firebrick\",\"firebrick\",\"firebrick\",\"firebrick\",\"firebrick\",\"firebrick\",\"firebrick\",\"firebrick\",\"firebrick\",\"firebrick\",\"firebrick\",\"firebrick\",\"firebrick\",\"firebrick\",\"firebrick\",\"firebrick\",\"firebrick\",\"firebrick\",\"firebrick\",\"firebrick\",\"firebrick\",\"firebrick\",\"firebrick\",\"firebrick\",\"firebrick\",\"firebrick\",\"firebrick\",\"firebrick\",\"firebrick\",\"firebrick\",\"firebrick\",\"firebrick\",\"firebrick\",\"firebrick\",\"firebrick\",\"firebrick\",\"firebrick\",\"firebrick\",\"firebrick\",\"firebrick\",\"firebrick\",\"firebrick\",\"firebrick\",\"firebrick\",\"firebrick\",\"firebrick\",\"firebrick\",\"firebrick\"],\"conf_int_lower\":{\"__ndarray__\":\"BQqOaxnVi78pfEGAjEmWv2N0Yj9VDZO/78uFzIROnL9kFkwsCTeTvwQM/dijLJa/wITQ+f2sQT98HKOrjZuUvzV3VRB9PZm/a53hDQt3nr9B/FpMFtCWv7T+3GpsSJ2/DG4ZfBScUj/belxqFteWv/r4HFf6M4i/yevP2J0Clb8P7wMst0aQv4iqLlFUfJO/fGLi5zkWnL+OrTVB3T+Kv+aDw8xAIqW/fxPkv0Ueib/w0eb4YY6Dv5iHJaVX75y/wJGBRBs3pb83UVHlYfyYvyFeXhB1aaG/Aw9X2+I2m7+8Y8BMzUusv5Qelp1533C/WspyoFWzir96su0J64KUvyIMBgSCd4C/ORf6jTwPlL/46rxBM56mv6inuJDndpa/I01fAHKHjL8Oe+fxxrydv9BGzmmnsZC/h5HsMpl4kr8uGZ0nrB6bvz71G1zfYoO/Vi1WXaWNpr8u7QmYyuOOv3Kig3N3p5W/0XHUfTgngL+8QBCOprCIv7MTmLO4N4+/lhdhDFClnr9UW26hf6qTv7QBYpvTHnc/XgOd7+TClL9/7uKXacCOv6aRFYeHQpa/6wNDY7vHh79j0HD/cBeSv8zo6cHi+6C/36LyPgcLlb9EgjY25eGZv7kf5mmUdqG//oD0NO2Vl79PVP2rwxCTvxrEF7BHj6e/4djVoTFNpr+gb26EISmkv+NNLJVcAqC/TWH8Le56lb/2KASUmPKgv5xnz1oBzIa/upWsIYs3pr9A0VVzxARbv/YETiHqSKm/1ljTXfH3mD8BFDbspAGjvwqC5WGF+7e/WlkZ7/94mr9yVUjBfTqlP1oMQ4OvEKa/KP2xVv6qar9r8o/iCzWhv7RparOdX3m/Yt0bB7K0lr/d392M5fyhv6gic4OkCaG/m+oTBg/UrL+0Zk+vxneRvzskrhTNcKC/FjjLLTUspL94wPS1YbWVvxqYqEavAJS/H7nTxMPPuD/2SV3gC+miv9rscw6yU56/h2wXQXqZn79u322j0ZWuv7o1gnv+tpm/OR+Bb6wcsz+9UxeberahvwGFgPwh7tE/bALjiARJsr84JiL7/pnbPwwbCFfpO7W/7kZymSYenr9toJPxMFaivwmQOAHVoZO/EqhmUjqKqL/IdtNcqoKBvyJ2ZnL9o4K/R0iqUDktqb/GcTFP5/qovzCowChTCau/AE5fldZPn7/JK9ErmN2ovw9vXeCAiKC/8JoYSCVkeb8i15HuiF+jv2R5/Aplr56/p5RGg/zpnb+WbPKswc+fv/8L3BooZ6m/NJNr/92LoL9e7+6gzauyv/V7VWoeErG/f/5iIB3+qr93fEJozAK2v63Mt+9A3ae/cB7dWAnAqL96t8caviubv8DJCCdB6Yq/ZKHrXLzkn79zbQkEpCubvz/qG8VDXqe/EduwtGb6o79OdIPgjYasv+DzQjPfbbW/+3e0kjgfor/YvEluALWiv9Xv+x7gray/HzIPncErmb8hzvFYm/2hv4LMfK6S0a6/kgiI3F0op79Hxb7JRnecv+W1qoM+baO/pTL0Ji1lsL/IJwxalU2vv8pXU0UOJLO/0c/QRjz5qL/CHzVngx+8v/L8KDkOKqW/BNBp+T0cr79GZ7hS88GhvxBLdcVg32A/6FAeQ9bxrb8kAjhOektwv6QL0xz+GJG/rF4wpTqcs7+MQdRJi4GIv6BLZ5XBtJa/74MFDR5gk7//yoA9o8aTv5FGJ68+0KW/q2mPEJ9Dnr9GD8Gd4SitvyLcvbw/M6i/Pi6ZbJItnL/gTQ9tQqiRvwgbN4d9iZq/KN973zC0h7+G9bPzzpSrv1QpeuJJxaa/a8+xI8QYpb9w9/o7vYmqv6mmp/ro2p+/2gZyiQZClr8g/8U2drKqv459UDNJbbC/Ux4ZrPTspL/XZWGHoJipv2JLUpqnIaq/\",\"dtype\":\"float64\",\"shape\":[180]},\"conf_int_upper\":{\"__ndarray__\":\"PcAXYP1nkz9xqoiHWYCVP0JPedxeHoU/NiNEoxo4mT+upLzii2GgP/rgTom1RZM/gOXCmmXEoj9/fQirNB6bP7dQLyXwnZo/Vpyg8FEamD/Ly7KxwpyTP9+f0SYVS5Q/i+1uBIfslT8iFWFzVy2HP3Q58woJQpo/IH+O0Zd/kD83NCPiEfSdP+OUkI41R50/FEybpjdqmz9W0jQF17CMPxg05qMVf3g/YFmH8xY+mj8uGB4IuFKhP8Qx2/6iL5M/QPftb324Wb+4CVpOWDGTP0BZHW4KBH8/tqYFN3vUlD/gcb9EXpdKP4yTPT5XIZE/csJ4KDT8mD9jhUClfxqTP/HU7bwOfZ8//gE+zcFIhT+KmAevw55yv0SqyCbccZc/csxXhKdJfT8HEZNnGpSOPwNdeRWQypk/zCUb6csFmT8vgoSItfaLP2xtW1PrN34/AM7PAtA1ID9tBwdjXgygP8X1zVgTNYk/5VqL3PXmoD+Ra/LoUHuDP2y+I+3veZI/nrKX7KQPgL8q3lb1cHuNP/b3Dvaumak/CxRFaPZWlD/DgLlx8valPx9q/x+uV5E/fonqZohNmD9K0cb3GxWSP+5ypTozoJM/R4tM3Xktjz92lmogS26ZPyEPJl6tJZ0/VpVnl9NElD/WDoXVUfOUP0ipiz6k55U/qD24rL8spj8mRxkWeyudP1UbDyjQ4p8/HwCBSMnFkz+MLRDO4IeiP/WnAihDxKA/XjIGa8I4mT+AxI/fg5OsPyKO3Txc36E/sPAcryzTtT/IqzwPhuaFP//FN2H7ZaK/OK5BtVf+oj9qbbkuN3yxP6myW7X+HqE/A6rPTpBEpz9qHClZLdujPy7xFnIdl7A/wLFew+18jz8kPppvi1CkP9YQ0ofyS6E/ToO/Wwb0lj/C82WkNcKcP3s84mVjM5g/BiHxGxgXoj8TrizizjioPzy0S4V0VKI/EeIPqtdxwz8ER1HxPeefP0z+Hv6cZKQ/++9g6Qf5pz+QIul98p90vzMSNW+jH6A/eBJMy4oyxD9QhsZr7mKZP0wxvoAlYtQ/hjf9+Fidjr8AWHCTNkTgP9QVjIGCFpW/mn0qTFEUjD88k4CMQ/qEP1gZjmO6ipo/Xz2mlMJZoT8ocJ3aQV6hP7Lg+PghZpw/0AW1IkBdjD9kFRpm86mpP1BUkHOM0Zw/UFbtZmN+oD9gX0Xmfq59vzFukpoCdKI/RI65L2UisT9edtlaoTepP+hthRWso6A/9Ga67KHmlj8cx8gsupClPwVFi9+82ZY/bfFeuglrpj8M3d+q8cCdPxBlBi72CKA/B9tOUx7Hoz+oKbSC50RxP/b5FLu7s64/ib2cdQ5bmj9KNWRL2iCaP1KBb5TVvaY/u6EXHyIdqj+mdunYkWqSP900GB+2Kak/GX1jwKzCpD8afCHnjh6hP24rFp64wJS//flXsqYzrz9co/CG3farPxTIRPoi6Js/hLYiUDxVsT8OUCVQXYeqP4DOzmjck6I/W5SgN6Kcnz+78Z6hk4SxP2oTEoKGL6Q/XrJ4tQkilT8/5vF/QnSsPxzCkpfSzo0/qvEmuwgZsD/kZNi1kKOBv99JrftNU6U/vSaMhJv0lz+kucb1WRmgP8rV2HXi4bA/FQnHlVhSoT8ywasBEJ+yP0OW2l+fTaQ/0H/WNAfZlL9G4ZzzEImjPwO0GENsAqs/lBuoX+18oD+wyo947qyqP5V6CNdNi5g/KwVSVst5mT9w+frrdp6rP6oXio1P26E/gG1dot+BmT+3cHcyeyKqP3DhSA1MXKg/D6ysLOuvsj8UgYL6BvOkP+xaSmT8Xp4/KeztRAcmsT+Z/xXRlr2Uv8/JDyvHoZw/oCKlBIqHsD8cZpW3yIuSP1QZbyOR/oA/WFxLGUUroz/j7C5sSL6gP/cibX5+4Kg/\",\"dtype\":\"float64\",\"shape\":[180]},\"final_value\":{\"__ndarray__\":\"G4YehnuBbj/lC5QRboI4v9SYO3HchXO/LZONbghJPz9HmTdKZcBwPyYBC/SOxjq/HuvDYnJElT+OZVYXGgJhv+uQtfwt1mK/TMMK/GwILj8w6lIfNSZxv/Y4OjgLYjs/f48f9pQ+eD8UA+lgyFhDvzPWj9nsp3k/hzDo+ZObRL+OEXBp2plQvxL1EpBjUBo/8Ens4iW2ej8I0M2j2lZFv66bJ3ACDpK/GupqApTjXD/cwcKue0qDP4A43XOy2E6/SdeHEL+Dlr/JcHph0gJiP1YYGddsDYy/8CXkkQhwVj+ByCzNTPOXv5P+ZlHfKWM/sxLY6I/LVT8OWjrf/24hv3Zr1K17EII/62emjKfuTL9rvsReQNaOv0kXSY76sFg/yB10rVz9Yr8yr0zKuWUuP9Avj9g9BWc/stro8spzMr+900efQhiFv9CWyU+431A/6n2y5BgQlL+Zo1mZMA5gP6PudxxZs4G/i/GI+nRPTD+jnEeK6mpQP+p+os5KzBq/NJDgR8RhjL/xJLeSgblWPwvclKMHIZY/JtgZOx/EYb/VOjh/9dWHP4RRfx2WI1O/U+npp6+vhD8S5NLt8Y5Qv5S4VKxHlIq/quy6lk9DVT8w2mi+b7BgP0oJRKJNwiq/gEyBUUWiTz8AwO/4ck4ZvwAYH5d98Gq/AHCEkSSNNT+gAIHL85uBvwCgfmyaLEw/AEiVBeSRYL8AQL/u9ZAqPwD+IlezM30/AJSMjUx0R79AN32NzRiSPwCQkl3fAF2/EHQ7BsZrrT8Ak73FtrF3v7DVpMKmRbC/AKidG0CpeT+gNlBhogenPwB+fZVbXnK/AC0mKsT5gz8AgBoId/9Pv8DFM+LqaZU/ALgev+wmYb8AQRXQ/paDPwB4r/fAVU+/gBIQJjmgir8AcKO7NEdVP4D5XQ5lYog/APhChTt5U78AwJJZBYePPwBk0k3WN1m/SP2jsH6Auz8A1+vFL8CFvwDe/2YWQIc/AKBN5AgqS7/ARw8IasejvwAmye0konI/SFPCLYpwvT+Ar5r21jSIv+yvgydoJdQ/sJSmuV/vor+UsxMUnp/dP4ArxShFHam/oDXkO62abL8A8Oxpf242PyDq4qC+mHU/ANA5XjJ7QL+Af+IXgm6EPwBXFjljl0+/AEhRU0x9jb8AiHdpzuVbP4BmiiD+EJC/AGgWJunWXT8AAhHhfF6bvwDYRl6kJWg/yLIAZ31yoT8AzCLP2uhrv6A28ZLui4Y/AGzis7UGUr8ATGDdkstiPwBelTOSHi2/uPXbY7nwdb8G2lZ0445BPyWQDhVclYS/oQyq/yF4UD9sG2GeCTmhvxx8tZThjms/MaKXxNhul79c+HG3y75iP9pb8P9Kvos/ICs5+4AyVr9K77n4P5eQv6D+KeJ/jFo/S2hxheDHgb/gyRwTDX9MP7f+tV7g/Km/qYKqqwnNdD8pmLwz4DOKP55N9mkK51S/SWFOm+f5lT/a6BcD0JNhv8p1oa8SOIu/0ez1Sl7JVT+aEBClscWIP66lARynzVO/xFWUVenikb99xswMEaJcP1qgsZ7eE6O/MAVxCySPbj8G8kfwPHmhv6aFUHCC9ms/e79DIhdLab/Js4UCw2A0P3gSSDq9YJ8/bFhDaIIdab/42VxBcoaEP8Ul7zXObVC/4+K1C/SBrL8ll5eCyc92P4KBSaBI5ZE/9PIUdguUXL8J9eoMl6VrPx+YF5SlDja/gHvjbjrp5L5ABTCmf5O5PuXaG5pJYJO/Z39XPk4AXz/8IF5rfKeaP2C5BAB/UmW/BiJHCTjBgz/SMFqfHqdPvwqN+R1mNFK/tCOOXZwHHT/Dr8tjVGqfv+c0wWdwH2k/F6Jy5NB7oT9kuTwX8/lrv74n3o/hnqG/kq+jTOgybD+oQCRQBHhOP/ABy4YLdRi/\",\"dtype\":\"float64\",\"shape\":[180]},\"full_name\":[\"a_a0\",\"b_b0\",\"a_a1\",\"b_b1\",\"a_a2\",\"b_b2\",\"a_a0\",\"b_b0\",\"a_a1\",\"b_b1\",\"a_a2\",\"b_b2\",\"a_a0\",\"b_b0\",\"a_a1\",\"b_b1\",\"a_a2\",\"b_b2\",\"a_a0\",\"b_b0\",\"a_a1\",\"b_b1\",\"a_a2\",\"b_b2\",\"a_a0\",\"b_b0\",\"a_a1\",\"b_b1\",\"a_a2\",\"b_b2\",\"a_a0\",\"b_b0\",\"a_a1\",\"b_b1\",\"a_a2\",\"b_b2\",\"a_a0\",\"b_b0\",\"a_a1\",\"b_b1\",\"a_a2\",\"b_b2\",\"a_a0\",\"b_b0\",\"a_a1\",\"b_b1\",\"a_a2\",\"b_b2\",\"a_a0\",\"b_b0\",\"a_a1\",\"b_b1\",\"a_a2\",\"b_b2\",\"a_a0\",\"b_b0\",\"a_a1\",\"b_b1\",\"a_a2\",\"b_b2\",\"a_a0\",\"b_b0\",\"a_a1\",\"b_b1\",\"a_a2\",\"b_b2\",\"a_a0\",\"b_b0\",\"a_a1\",\"b_b1\",\"a_a2\",\"b_b2\",\"a_a0\",\"b_b0\",\"a_a1\",\"b_b1\",\"a_a2\",\"b_b2\",\"a_a0\",\"b_b0\",\"a_a1\",\"b_b1\",\"a_a2\",\"b_b2\",\"a_a0\",\"b_b0\",\"a_a1\",\"b_b1\",\"a_a2\",\"b_b2\",\"a_a0\",\"b_b0\",\"a_a1\",\"b_b1\",\"a_a2\",\"b_b2\",\"a_a0\",\"b_b0\",\"a_a1\",\"b_b1\",\"a_a2\",\"b_b2\",\"a_a0\",\"b_b0\",\"a_a1\",\"b_b1\",\"a_a2\",\"b_b2\",\"a_a0\",\"b_b0\",\"a_a1\",\"b_b1\",\"a_a2\",\"b_b2\",\"a_a0\",\"b_b0\",\"a_a1\",\"b_b1\",\"a_a2\",\"b_b2\",\"a_a0\",\"b_b0\",\"a_a1\",\"b_b1\",\"a_a2\",\"b_b2\",\"a_a0\",\"b_b0\",\"a_a1\",\"b_b1\",\"a_a2\",\"b_b2\",\"a_a0\",\"b_b0\",\"a_a1\",\"b_b1\",\"a_a2\",\"b_b2\",\"a_a0\",\"b_b0\",\"a_a1\",\"b_b1\",\"a_a2\",\"b_b2\",\"a_a0\",\"b_b0\",\"a_a1\",\"b_b1\",\"a_a2\",\"b_b2\",\"a_a0\",\"b_b0\",\"a_a1\",\"b_b1\",\"a_a2\",\"b_b2\",\"a_a0\",\"b_b0\",\"a_a1\",\"b_b1\",\"a_a2\",\"b_b2\",\"a_a0\",\"b_b0\",\"a_a1\",\"b_b1\",\"a_a2\",\"b_b2\",\"a_a0\",\"b_b0\",\"a_a1\",\"b_b1\",\"a_a2\",\"b_b2\",\"a_a0\",\"b_b0\",\"a_a1\",\"b_b1\",\"a_a2\",\"b_b2\"],\"group\":[\"a\",\"b\",\"a\",\"b\",\"a\",\"b\",\"a\",\"b\",\"a\",\"b\",\"a\",\"b\",\"a\",\"b\",\"a\",\"b\",\"a\",\"b\",\"a\",\"b\",\"a\",\"b\",\"a\",\"b\",\"a\",\"b\",\"a\",\"b\",\"a\",\"b\",\"a\",\"b\",\"a\",\"b\",\"a\",\"b\",\"a\",\"b\",\"a\",\"b\",\"a\",\"b\",\"a\",\"b\",\"a\",\"b\",\"a\",\"b\",\"a\",\"b\",\"a\",\"b\",\"a\",\"b\",\"a\",\"b\",\"a\",\"b\",\"a\",\"b\",\"a\",\"b\",\"a\",\"b\",\"a\",\"b\",\"a\",\"b\",\"a\",\"b\",\"a\",\"b\",\"a\",\"b\",\"a\",\"b\",\"a\",\"b\",\"a\",\"b\",\"a\",\"b\",\"a\",\"b\",\"a\",\"b\",\"a\",\"b\",\"a\",\"b\",\"a\",\"b\",\"a\",\"b\",\"a\",\"b\",\"a\",\"b\",\"a\",\"b\",\"a\",\"b\",\"a\",\"b\",\"a\",\"b\",\"a\",\"b\",\"a\",\"b\",\"a\",\"b\",\"a\",\"b\",\"a\",\"b\",\"a\",\"b\",\"a\",\"b\",\"a\",\"b\",\"a\",\"b\",\"a\",\"b\",\"a\",\"b\",\"a\",\"b\",\"a\",\"b\",\"a\",\"b\",\"a\",\"b\",\"a\",\"b\",\"a\",\"b\",\"a\",\"b\",\"a\",\"b\",\"a\",\"b\",\"a\",\"b\",\"a\",\"b\",\"a\",\"b\",\"a\",\"b\",\"a\",\"b\",\"a\",\"b\",\"a\",\"b\",\"a\",\"b\",\"a\",\"b\",\"a\",\"b\",\"a\",\"b\",\"a\",\"b\",\"a\",\"b\",\"a\",\"b\",\"a\",\"b\",\"a\",\"b\",\"a\",\"b\"],\"index\":[0,1,4,5,8,9,0,1,4,5,8,9,0,1,4,5,8,9,0,1,4,5,8,9,0,1,4,5,8,9,0,1,4,5,8,9,0,1,4,5,8,9,0,1,4,5,8,9,0,1,4,5,8,9,0,1,4,5,8,9,0,1,4,5,8,9,0,1,4,5,8,9,0,1,4,5,8,9,0,1,4,5,8,9,0,1,4,5,8,9,0,1,4,5,8,9,0,1,4,5,8,9,0,1,4,5,8,9,0,1,4,5,8,9,0,1,4,5,8,9,0,1,4,5,8,9,0,1,4,5,8,9,0,1,4,5,8,9,0,1,4,5,8,9,0,1,4,5,8,9,0,1,4,5,8,9,0,1,4,5,8,9,0,1,4,5,8,9,0,1,4,5,8,9,0,1,4,5,8,9],\"level_0\":[0,1,2,3,4,5,6,7,8,9,10,11,12,13,14,15,16,17,18,19,20,21,22,23,24,25,26,27,28,29,30,31,32,33,34,35,36,37,38,39,40,41,42,43,44,45,46,47,48,49,50,51,52,53,54,55,56,57,58,59,60,61,62,63,64,65,66,67,68,69,70,71,72,73,74,75,76,77,78,79,80,81,82,83,84,85,86,87,88,89,90,91,92,93,94,95,96,97,98,99,100,101,102,103,104,105,106,107,108,109,110,111,112,113,114,115,116,117,118,119,120,121,122,123,124,125,126,127,128,129,130,131,132,133,134,135,136,137,138,139,140,141,142,143,144,145,146,147,148,149,150,151,152,153,154,155,156,157,158,159,160,161,162,163,164,165,166,167,168,169,170,171,172,173,174,175,176,177,178,179],\"marker\":[\"circle\",\"circle\",\"circle\",\"circle\",\"circle\",\"circle\",\"circle\",\"circle\",\"circle\",\"circle\",\"circle\",\"circle\",\"circle\",\"circle\",\"circle\",\"circle\",\"circle\",\"circle\",\"circle\",\"circle\",\"circle\",\"circle\",\"circle\",\"circle\",\"circle\",\"circle\",\"circle\",\"circle\",\"circle\",\"circle\",\"circle\",\"circle\",\"circle\",\"circle\",\"circle\",\"circle\",\"circle\",\"circle\",\"circle\",\"circle\",\"circle\",\"circle\",\"circle\",\"circle\",\"circle\",\"circle\",\"circle\",\"circle\",\"circle\",\"circle\",\"circle\",\"circle\",\"circle\",\"circle\",\"circle\",\"circle\",\"circle\",\"circle\",\"circle\",\"circle\",\"circle\",\"circle\",\"circle\",\"circle\",\"circle\",\"circle\",\"circle\",\"circle\",\"circle\",\"circle\",\"circle\",\"circle\",\"circle\",\"circle\",\"circle\",\"circle\",\"circle\",\"circle\",\"circle\",\"circle\",\"circle\",\"circle\",\"circle\",\"circle\",\"circle\",\"circle\",\"circle\",\"circle\",\"circle\",\"circle\",\"circle\",\"circle\",\"circle\",\"circle\",\"circle\",\"circle\",\"circle\",\"circle\",\"circle\",\"circle\",\"circle\",\"circle\",\"circle\",\"circle\",\"circle\",\"circle\",\"circle\",\"circle\",\"circle\",\"circle\",\"circle\",\"circle\",\"circle\",\"circle\",\"circle\",\"circle\",\"circle\",\"circle\",\"circle\",\"circle\",\"circle\",\"circle\",\"circle\",\"circle\",\"circle\",\"circle\",\"circle\",\"circle\",\"circle\",\"circle\",\"circle\",\"circle\",\"circle\",\"circle\",\"circle\",\"circle\",\"circle\",\"circle\",\"circle\",\"circle\",\"circle\",\"circle\",\"circle\",\"circle\",\"circle\",\"circle\",\"circle\",\"circle\",\"circle\",\"circle\",\"circle\",\"circle\",\"circle\",\"circle\",\"circle\",\"circle\",\"circle\",\"circle\",\"circle\",\"circle\",\"circle\",\"circle\",\"circle\",\"circle\",\"circle\",\"circle\",\"circle\",\"circle\",\"circle\",\"circle\",\"circle\",\"circle\",\"circle\",\"circle\",\"circle\",\"circle\",\"circle\",\"circle\",\"circle\",\"circle\"],\"model\":[\"scipy_L-BFGS-B_0\",\"scipy_L-BFGS-B_0\",\"scipy_L-BFGS-B_0\",\"scipy_L-BFGS-B_0\",\"scipy_L-BFGS-B_0\",\"scipy_L-BFGS-B_0\",\"scipy_L-BFGS-B_1\",\"scipy_L-BFGS-B_1\",\"scipy_L-BFGS-B_1\",\"scipy_L-BFGS-B_1\",\"scipy_L-BFGS-B_1\",\"scipy_L-BFGS-B_1\",\"scipy_L-BFGS-B_2\",\"scipy_L-BFGS-B_2\",\"scipy_L-BFGS-B_2\",\"scipy_L-BFGS-B_2\",\"scipy_L-BFGS-B_2\",\"scipy_L-BFGS-B_2\",\"scipy_L-BFGS-B_3\",\"scipy_L-BFGS-B_3\",\"scipy_L-BFGS-B_3\",\"scipy_L-BFGS-B_3\",\"scipy_L-BFGS-B_3\",\"scipy_L-BFGS-B_3\",\"scipy_L-BFGS-B_4\",\"scipy_L-BFGS-B_4\",\"scipy_L-BFGS-B_4\",\"scipy_L-BFGS-B_4\",\"scipy_L-BFGS-B_4\",\"scipy_L-BFGS-B_4\",\"scipy_L-BFGS-B_5\",\"scipy_L-BFGS-B_5\",\"scipy_L-BFGS-B_5\",\"scipy_L-BFGS-B_5\",\"scipy_L-BFGS-B_5\",\"scipy_L-BFGS-B_5\",\"scipy_L-BFGS-B_6\",\"scipy_L-BFGS-B_6\",\"scipy_L-BFGS-B_6\",\"scipy_L-BFGS-B_6\",\"scipy_L-BFGS-B_6\",\"scipy_L-BFGS-B_6\",\"scipy_L-BFGS-B_7\",\"scipy_L-BFGS-B_7\",\"scipy_L-BFGS-B_7\",\"scipy_L-BFGS-B_7\",\"scipy_L-BFGS-B_7\",\"scipy_L-BFGS-B_7\",\"scipy_L-BFGS-B_8\",\"scipy_L-BFGS-B_8\",\"scipy_L-BFGS-B_8\",\"scipy_L-BFGS-B_8\",\"scipy_L-BFGS-B_8\",\"scipy_L-BFGS-B_8\",\"scipy_L-BFGS-B_9\",\"scipy_L-BFGS-B_9\",\"scipy_L-BFGS-B_9\",\"scipy_L-BFGS-B_9\",\"scipy_L-BFGS-B_9\",\"scipy_L-BFGS-B_9\",\"scipy_TNC_0\",\"scipy_TNC_0\",\"scipy_TNC_0\",\"scipy_TNC_0\",\"scipy_TNC_0\",\"scipy_TNC_0\",\"scipy_TNC_1\",\"scipy_TNC_1\",\"scipy_TNC_1\",\"scipy_TNC_1\",\"scipy_TNC_1\",\"scipy_TNC_1\",\"scipy_TNC_2\",\"scipy_TNC_2\",\"scipy_TNC_2\",\"scipy_TNC_2\",\"scipy_TNC_2\",\"scipy_TNC_2\",\"scipy_TNC_3\",\"scipy_TNC_3\",\"scipy_TNC_3\",\"scipy_TNC_3\",\"scipy_TNC_3\",\"scipy_TNC_3\",\"scipy_TNC_4\",\"scipy_TNC_4\",\"scipy_TNC_4\",\"scipy_TNC_4\",\"scipy_TNC_4\",\"scipy_TNC_4\",\"scipy_TNC_5\",\"scipy_TNC_5\",\"scipy_TNC_5\",\"scipy_TNC_5\",\"scipy_TNC_5\",\"scipy_TNC_5\",\"scipy_TNC_6\",\"scipy_TNC_6\",\"scipy_TNC_6\",\"scipy_TNC_6\",\"scipy_TNC_6\",\"scipy_TNC_6\",\"scipy_TNC_7\",\"scipy_TNC_7\",\"scipy_TNC_7\",\"scipy_TNC_7\",\"scipy_TNC_7\",\"scipy_TNC_7\",\"scipy_TNC_8\",\"scipy_TNC_8\",\"scipy_TNC_8\",\"scipy_TNC_8\",\"scipy_TNC_8\",\"scipy_TNC_8\",\"scipy_TNC_9\",\"scipy_TNC_9\",\"scipy_TNC_9\",\"scipy_TNC_9\",\"scipy_TNC_9\",\"scipy_TNC_9\",\"scipy_SLSQP_0\",\"scipy_SLSQP_0\",\"scipy_SLSQP_0\",\"scipy_SLSQP_0\",\"scipy_SLSQP_0\",\"scipy_SLSQP_0\",\"scipy_SLSQP_1\",\"scipy_SLSQP_1\",\"scipy_SLSQP_1\",\"scipy_SLSQP_1\",\"scipy_SLSQP_1\",\"scipy_SLSQP_1\",\"scipy_SLSQP_2\",\"scipy_SLSQP_2\",\"scipy_SLSQP_2\",\"scipy_SLSQP_2\",\"scipy_SLSQP_2\",\"scipy_SLSQP_2\",\"scipy_SLSQP_3\",\"scipy_SLSQP_3\",\"scipy_SLSQP_3\",\"scipy_SLSQP_3\",\"scipy_SLSQP_3\",\"scipy_SLSQP_3\",\"scipy_SLSQP_4\",\"scipy_SLSQP_4\",\"scipy_SLSQP_4\",\"scipy_SLSQP_4\",\"scipy_SLSQP_4\",\"scipy_SLSQP_4\",\"scipy_SLSQP_5\",\"scipy_SLSQP_5\",\"scipy_SLSQP_5\",\"scipy_SLSQP_5\",\"scipy_SLSQP_5\",\"scipy_SLSQP_5\",\"scipy_SLSQP_6\",\"scipy_SLSQP_6\",\"scipy_SLSQP_6\",\"scipy_SLSQP_6\",\"scipy_SLSQP_6\",\"scipy_SLSQP_6\",\"scipy_SLSQP_7\",\"scipy_SLSQP_7\",\"scipy_SLSQP_7\",\"scipy_SLSQP_7\",\"scipy_SLSQP_7\",\"scipy_SLSQP_7\",\"scipy_SLSQP_8\",\"scipy_SLSQP_8\",\"scipy_SLSQP_8\",\"scipy_SLSQP_8\",\"scipy_SLSQP_8\",\"scipy_SLSQP_8\",\"scipy_SLSQP_9\",\"scipy_SLSQP_9\",\"scipy_SLSQP_9\",\"scipy_SLSQP_9\",\"scipy_SLSQP_9\",\"scipy_SLSQP_9\"],\"model_class\":[\"L-BFGS-B\",\"L-BFGS-B\",\"L-BFGS-B\",\"L-BFGS-B\",\"L-BFGS-B\",\"L-BFGS-B\",\"L-BFGS-B\",\"L-BFGS-B\",\"L-BFGS-B\",\"L-BFGS-B\",\"L-BFGS-B\",\"L-BFGS-B\",\"L-BFGS-B\",\"L-BFGS-B\",\"L-BFGS-B\",\"L-BFGS-B\",\"L-BFGS-B\",\"L-BFGS-B\",\"L-BFGS-B\",\"L-BFGS-B\",\"L-BFGS-B\",\"L-BFGS-B\",\"L-BFGS-B\",\"L-BFGS-B\",\"L-BFGS-B\",\"L-BFGS-B\",\"L-BFGS-B\",\"L-BFGS-B\",\"L-BFGS-B\",\"L-BFGS-B\",\"L-BFGS-B\",\"L-BFGS-B\",\"L-BFGS-B\",\"L-BFGS-B\",\"L-BFGS-B\",\"L-BFGS-B\",\"L-BFGS-B\",\"L-BFGS-B\",\"L-BFGS-B\",\"L-BFGS-B\",\"L-BFGS-B\",\"L-BFGS-B\",\"L-BFGS-B\",\"L-BFGS-B\",\"L-BFGS-B\",\"L-BFGS-B\",\"L-BFGS-B\",\"L-BFGS-B\",\"L-BFGS-B\",\"L-BFGS-B\",\"L-BFGS-B\",\"L-BFGS-B\",\"L-BFGS-B\",\"L-BFGS-B\",\"L-BFGS-B\",\"L-BFGS-B\",\"L-BFGS-B\",\"L-BFGS-B\",\"L-BFGS-B\",\"L-BFGS-B\",\"TNC\",\"TNC\",\"TNC\",\"TNC\",\"TNC\",\"TNC\",\"TNC\",\"TNC\",\"TNC\",\"TNC\",\"TNC\",\"TNC\",\"TNC\",\"TNC\",\"TNC\",\"TNC\",\"TNC\",\"TNC\",\"TNC\",\"TNC\",\"TNC\",\"TNC\",\"TNC\",\"TNC\",\"TNC\",\"TNC\",\"TNC\",\"TNC\",\"TNC\",\"TNC\",\"TNC\",\"TNC\",\"TNC\",\"TNC\",\"TNC\",\"TNC\",\"TNC\",\"TNC\",\"TNC\",\"TNC\",\"TNC\",\"TNC\",\"TNC\",\"TNC\",\"TNC\",\"TNC\",\"TNC\",\"TNC\",\"TNC\",\"TNC\",\"TNC\",\"TNC\",\"TNC\",\"TNC\",\"TNC\",\"TNC\",\"TNC\",\"TNC\",\"TNC\",\"TNC\",\"SLSQP\",\"SLSQP\",\"SLSQP\",\"SLSQP\",\"SLSQP\",\"SLSQP\",\"SLSQP\",\"SLSQP\",\"SLSQP\",\"SLSQP\",\"SLSQP\",\"SLSQP\",\"SLSQP\",\"SLSQP\",\"SLSQP\",\"SLSQP\",\"SLSQP\",\"SLSQP\",\"SLSQP\",\"SLSQP\",\"SLSQP\",\"SLSQP\",\"SLSQP\",\"SLSQP\",\"SLSQP\",\"SLSQP\",\"SLSQP\",\"SLSQP\",\"SLSQP\",\"SLSQP\",\"SLSQP\",\"SLSQP\",\"SLSQP\",\"SLSQP\",\"SLSQP\",\"SLSQP\",\"SLSQP\",\"SLSQP\",\"SLSQP\",\"SLSQP\",\"SLSQP\",\"SLSQP\",\"SLSQP\",\"SLSQP\",\"SLSQP\",\"SLSQP\",\"SLSQP\",\"SLSQP\",\"SLSQP\",\"SLSQP\",\"SLSQP\",\"SLSQP\",\"SLSQP\",\"SLSQP\",\"SLSQP\",\"SLSQP\",\"SLSQP\",\"SLSQP\",\"SLSQP\",\"SLSQP\"],\"name\":[\"a0\",\"b0\",\"a1\",\"b1\",\"a2\",\"b2\",\"a0\",\"b0\",\"a1\",\"b1\",\"a2\",\"b2\",\"a0\",\"b0\",\"a1\",\"b1\",\"a2\",\"b2\",\"a0\",\"b0\",\"a1\",\"b1\",\"a2\",\"b2\",\"a0\",\"b0\",\"a1\",\"b1\",\"a2\",\"b2\",\"a0\",\"b0\",\"a1\",\"b1\",\"a2\",\"b2\",\"a0\",\"b0\",\"a1\",\"b1\",\"a2\",\"b2\",\"a0\",\"b0\",\"a1\",\"b1\",\"a2\",\"b2\",\"a0\",\"b0\",\"a1\",\"b1\",\"a2\",\"b2\",\"a0\",\"b0\",\"a1\",\"b1\",\"a2\",\"b2\",\"a0\",\"b0\",\"a1\",\"b1\",\"a2\",\"b2\",\"a0\",\"b0\",\"a1\",\"b1\",\"a2\",\"b2\",\"a0\",\"b0\",\"a1\",\"b1\",\"a2\",\"b2\",\"a0\",\"b0\",\"a1\",\"b1\",\"a2\",\"b2\",\"a0\",\"b0\",\"a1\",\"b1\",\"a2\",\"b2\",\"a0\",\"b0\",\"a1\",\"b1\",\"a2\",\"b2\",\"a0\",\"b0\",\"a1\",\"b1\",\"a2\",\"b2\",\"a0\",\"b0\",\"a1\",\"b1\",\"a2\",\"b2\",\"a0\",\"b0\",\"a1\",\"b1\",\"a2\",\"b2\",\"a0\",\"b0\",\"a1\",\"b1\",\"a2\",\"b2\",\"a0\",\"b0\",\"a1\",\"b1\",\"a2\",\"b2\",\"a0\",\"b0\",\"a1\",\"b1\",\"a2\",\"b2\",\"a0\",\"b0\",\"a1\",\"b1\",\"a2\",\"b2\",\"a0\",\"b0\",\"a1\",\"b1\",\"a2\",\"b2\",\"a0\",\"b0\",\"a1\",\"b1\",\"a2\",\"b2\",\"a0\",\"b0\",\"a1\",\"b1\",\"a2\",\"b2\",\"a0\",\"b0\",\"a1\",\"b1\",\"a2\",\"b2\",\"a0\",\"b0\",\"a1\",\"b1\",\"a2\",\"b2\",\"a0\",\"b0\",\"a1\",\"b1\",\"a2\",\"b2\",\"a0\",\"b0\",\"a1\",\"b1\",\"a2\",\"b2\"],\"start_value\":{\"__ndarray__\":\"QPq3UB7EuL/SjZtfx3Hxv8KTDxAarQbA4PbtHpDh+z84vkDhbo3Vv1F8A9QpZfG/UGuc2uLsAUBujtgBdTwDwDg9d99U2/Q/MGf+eHTl4r+Q2aIdRuHvv3hfq1dFavY/rBLi7f6N6r+sfuzDFMDwPzi2uR1ZAf4/fKCz/dOWBMDQchDubgzhv3ZmDruDwwZAfKEumbMpAsBCiy6XLfr0vyn6rvcpnva/TnIwPztiBcAdAigBLyEGwGgnTvVeV+q/4COX5UqI9D/4IqAbnWz9P4ynCxXRg/o/7iIPfUP9AkByKynfBVYHwF/54qiyt/S/uPVD7Eqx5z80dybeU/YAQLhYqw/RFATA26nOQJPp8r8Moc4eedb7v5I1ngHR8gZAAP4uGAz87j9kp8rBtMrwPygSiia+4/E/zIc+4ZVw7L9A03Bb0rrVP5zajMJv8wTAwE07VGf5t7/YzSuZCxHzP5BZqjq1UcW/nNgk3LZi8L9dHSPn/+78vyAibIsQHsY/HOnyM1AvBEC0m0Le+zgHwCrBbY+dBwHAogJ1/wNnA8AE8jJ06MoFQPxK51W2U/k/sMmURq5d2D9ImstfmaYEQHiX8s+hude/sETRA6oU8z+8WEQ5el8HwEAIY/jeiLg/QPq3UB7EuL/SjZtfx3Hxv8KTDxAarQbA4PbtHpDh+z84vkDhbo3Vv1F8A9QpZfG/UGuc2uLsAUBujtgBdTwDwDg9d99U2/Q/MGf+eHTl4r+Q2aIdRuHvv3hfq1dFavY/rBLi7f6N6r+sfuzDFMDwPzi2uR1ZAf4/fKCz/dOWBMDQchDubgzhv3ZmDruDwwZAfKEumbMpAsBCiy6XLfr0vyn6rvcpnva/TnIwPztiBcAdAigBLyEGwGgnTvVeV+q/4COX5UqI9D/4IqAbnWz9P4ynCxXRg/o/7iIPfUP9AkByKynfBVYHwF/54qiyt/S/uPVD7Eqx5z80dybeU/YAQLhYqw/RFATA26nOQJPp8r8Moc4eedb7v5I1ngHR8gZAAP4uGAz87j9kp8rBtMrwPygSiia+4/E/zIc+4ZVw7L9A03Bb0rrVP5zajMJv8wTAwE07VGf5t7/YzSuZCxHzP5BZqjq1UcW/nNgk3LZi8L9dHSPn/+78vyAibIsQHsY/HOnyM1AvBEC0m0Le+zgHwCrBbY+dBwHAogJ1/wNnA8AE8jJ06MoFQPxK51W2U/k/sMmURq5d2D9ImstfmaYEQHiX8s+hude/sETRA6oU8z+8WEQ5el8HwEAIY/jeiLg/QPq3UB7EuL/SjZtfx3Hxv8KTDxAarQbA4PbtHpDh+z84vkDhbo3Vv1F8A9QpZfG/UGuc2uLsAUBujtgBdTwDwDg9d99U2/Q/MGf+eHTl4r+Q2aIdRuHvv3hfq1dFavY/rBLi7f6N6r+sfuzDFMDwPzi2uR1ZAf4/fKCz/dOWBMDQchDubgzhv3ZmDruDwwZAfKEumbMpAsBCiy6XLfr0vyn6rvcpnva/TnIwPztiBcAdAigBLyEGwGgnTvVeV+q/4COX5UqI9D/4IqAbnWz9P4ynCxXRg/o/7iIPfUP9AkByKynfBVYHwF/54qiyt/S/uPVD7Eqx5z80dybeU/YAQLhYqw/RFATA26nOQJPp8r8Moc4eedb7v5I1ngHR8gZAAP4uGAz87j9kp8rBtMrwPygSiia+4/E/zIc+4ZVw7L9A03Bb0rrVP5zajMJv8wTAwE07VGf5t7/YzSuZCxHzP5BZqjq1UcW/nNgk3LZi8L9dHSPn/+78vyAibIsQHsY/HOnyM1AvBEC0m0Le+zgHwCrBbY+dBwHAogJ1/wNnA8AE8jJ06MoFQPxK51W2U/k/sMmURq5d2D9ImstfmaYEQHiX8s+hude/sETRA6oU8z+8WEQ5el8HwEAIY/jeiLg/\",\"dtype\":\"float64\",\"shape\":[180]}},\"selected\":{\"id\":\"2269\",\"type\":\"Selection\"},\"selection_policy\":{\"id\":\"2268\",\"type\":\"UnionRenderers\"}},\"id\":\"2192\",\"type\":\"ColumnDataSource\"},{\"attributes\":{\"source\":{\"id\":\"2192\",\"type\":\"ColumnDataSource\"}},\"id\":\"2262\",\"type\":\"CDSView\"},{\"attributes\":{\"data_source\":{\"id\":\"2192\",\"type\":\"ColumnDataSource\"},\"glyph\":{\"id\":\"2223\",\"type\":\"HBar\"},\"hover_glyph\":null,\"muted_glyph\":null,\"nonselection_glyph\":{\"id\":\"2224\",\"type\":\"HBar\"},\"selection_glyph\":{\"id\":\"2225\",\"type\":\"HBar\"},\"view\":{\"id\":\"2227\",\"type\":\"CDSView\"}},\"id\":\"2226\",\"type\":\"GlyphRenderer\"},{\"attributes\":{\"formatter\":{\"id\":\"2265\",\"type\":\"BasicTickFormatter\"},\"ticker\":{\"id\":\"2205\",\"type\":\"BasicTicker\"}},\"id\":\"2204\",\"type\":\"LinearAxis\"},{\"attributes\":{\"source\":{\"id\":\"2192\",\"type\":\"ColumnDataSource\"}},\"id\":\"2227\",\"type\":\"CDSView\"},{\"attributes\":{},\"id\":\"2265\",\"type\":\"BasicTickFormatter\"},{\"attributes\":{},\"id\":\"2205\",\"type\":\"BasicTicker\"},{\"attributes\":{},\"id\":\"2267\",\"type\":\"CategoricalTickFormatter\"},{\"attributes\":{\"ticker\":{\"id\":\"2205\",\"type\":\"BasicTicker\"}},\"id\":\"2208\",\"type\":\"Grid\"},{\"attributes\":{},\"id\":\"2268\",\"type\":\"UnionRenderers\"},{\"attributes\":{\"fill_alpha\":{\"value\":0.2},\"fill_color\":{\"field\":\"color\"},\"line_alpha\":{\"value\":0.2},\"line_color\":{\"field\":\"color\"},\"size\":{\"units\":\"screen\",\"value\":12},\"x\":{\"field\":\"final_value\"},\"y\":{\"field\":\"full_name\"}},\"id\":\"2253\",\"type\":\"Scatter\"},{\"attributes\":{\"formatter\":{\"id\":\"2267\",\"type\":\"CategoricalTickFormatter\"},\"ticker\":{\"id\":\"2210\",\"type\":\"CategoricalTicker\"}},\"id\":\"2209\",\"type\":\"CategoricalAxis\"},{\"attributes\":{\"callback\":null},\"id\":\"2231\",\"type\":\"DataRange1d\"},{\"attributes\":{\"fill_alpha\":{\"value\":0.5},\"fill_color\":{\"field\":\"color\"},\"line_alpha\":{\"value\":0.5},\"line_color\":{\"field\":\"color\"},\"size\":{\"units\":\"screen\",\"value\":12},\"x\":{\"field\":\"final_value\"},\"y\":{\"field\":\"full_name\"}},\"id\":\"2252\",\"type\":\"Scatter\"},{\"attributes\":{},\"id\":\"2269\",\"type\":\"Selection\"},{\"attributes\":{\"text\":\"Comparison Plot of B Parameters\"},\"id\":\"2229\",\"type\":\"Title\"},{\"attributes\":{},\"id\":\"2210\",\"type\":\"CategoricalTicker\"},{\"attributes\":{},\"id\":\"2273\",\"type\":\"BasicTickFormatter\"},{\"attributes\":{\"callback\":null,\"factors\":[\"b_b2\",\"b_b1\",\"b_b0\"]},\"id\":\"2233\",\"type\":\"FactorRange\"},{\"attributes\":{\"dimension\":1,\"ticker\":{\"id\":\"2210\",\"type\":\"CategoricalTicker\"}},\"id\":\"2212\",\"type\":\"Grid\"},{\"attributes\":{},\"id\":\"2275\",\"type\":\"CategoricalTickFormatter\"},{\"attributes\":{\"active_drag\":\"auto\",\"active_inspect\":\"auto\",\"active_multi\":null,\"active_scroll\":\"auto\",\"active_tap\":\"auto\",\"tools\":[{\"id\":\"2248\",\"type\":\"TapTool\"}]},\"id\":\"2249\",\"type\":\"Toolbar\"},{\"attributes\":{},\"id\":\"2235\",\"type\":\"LinearScale\"},{\"attributes\":{\"active_drag\":\"auto\",\"active_inspect\":\"auto\",\"active_multi\":null,\"active_scroll\":\"auto\",\"active_tap\":\"auto\",\"tools\":[{\"id\":\"2213\",\"type\":\"TapTool\"}]},\"id\":\"2214\",\"type\":\"Toolbar\"},{\"attributes\":{\"callback\":null},\"id\":\"2213\",\"type\":\"TapTool\"},{\"attributes\":{},\"id\":\"2237\",\"type\":\"CategoricalScale\"},{\"attributes\":{\"dimension\":1,\"ticker\":{\"id\":\"2245\",\"type\":\"CategoricalTicker\"}},\"id\":\"2247\",\"type\":\"Grid\"}],\"root_ids\":[\"2282\"]},\"title\":\"Bokeh Application\",\"version\":\"1.2.0\"}};\n",
       "  var render_items = [{\"docid\":\"1a28343b-da50-494f-a6e1-3c55430d3a2f\",\"roots\":{\"2282\":\"4b403a3f-da8a-42f4-b291-bf174cd4c04b\"}}];\n",
       "  root.Bokeh.embed.embed_items_notebook(docs_json, render_items);\n",
       "\n",
       "  }\n",
       "  if (root.Bokeh !== undefined) {\n",
       "    embed_document(root);\n",
       "  } else {\n",
       "    var attempts = 0;\n",
       "    var timer = setInterval(function(root) {\n",
       "      if (root.Bokeh !== undefined) {\n",
       "        embed_document(root);\n",
       "        clearInterval(timer);\n",
       "      }\n",
       "      attempts++;\n",
       "      if (attempts > 100) {\n",
       "        console.log(\"Bokeh: ERROR: Unable to run BokehJS code because BokehJS library is missing\");\n",
       "        clearInterval(timer);\n",
       "      }\n",
       "    }, 10, root)\n",
       "  }\n",
       "})(window);"
      ],
      "application/vnd.bokehjs_exec.v0+json": ""
     },
     "metadata": {
      "application/vnd.bokehjs_exec.v0+json": {
       "id": "2282"
      }
     },
     "output_type": "display_data"
    }
   ],
   "source": [
    "from bokeh.layouts import gridplot\n",
    "\n",
    "source = ColumnDataSource(df)\n",
    "# =======================================\n",
    "figures = []\n",
    "for param_group_name, height in param_groups_and_heights:\n",
    "    df_slice = df[df['group'] == param_group_name]\n",
    "    param_names_to_plot = sorted(df_slice[\"full_name\"].unique(), reverse=True)\n",
    "    # =======================================\n",
    "\n",
    "    p = figure(\n",
    "        title=\"Comparison Plot of {} Parameters\".format(param_group_name.title()),\n",
    "        plot_height=300,\n",
    "        plot_width=600,\n",
    "        y_range=param_names_to_plot,\n",
    "        tools=\"tap\"\n",
    "    )\n",
    "\n",
    "    p.scatter(\n",
    "        source=source,\n",
    "        x=\"final_value\",\n",
    "        y=\"full_name\",\n",
    "        size=12,\n",
    "        alpha=0.5,\n",
    "        selection_alpha=0.7,\n",
    "        nonselection_alpha=0.2,\n",
    "\n",
    "        color=\"color\",\n",
    "        selection_color=\"color\",\n",
    "        nonselection_color=\"color\",    \n",
    "    )\n",
    "\n",
    "    p.hbar(\n",
    "    source=source,\n",
    "    left=\"conf_int_lower\",\n",
    "    right=\"conf_int_upper\",\n",
    "    y=\"full_name\",\n",
    "    height=0.01,\n",
    "    alpha=0.0,\n",
    "    selection_alpha=0.25,\n",
    "    nonselection_alpha=0.0,\n",
    "    color=\"color\",\n",
    "    selection_color=\"color\",\n",
    "    nonselection_color=\"color\",\n",
    ")\n",
    "    \n",
    "    figures.append(p)\n",
    "\n",
    "    \n",
    "# =======================================\n",
    "grid = gridplot(figures, ncols=1)\n",
    "\n",
    "show(grid)\n",
    "# ======================================="
   ]
  },
  {
   "cell_type": "code",
   "execution_count": null,
   "metadata": {},
   "outputs": [],
   "source": []
  },
  {
   "cell_type": "markdown",
   "metadata": {},
   "source": [
    "## Fade in Information when Hovering Over a Point"
   ]
  },
  {
   "cell_type": "code",
   "execution_count": 18,
   "metadata": {},
   "outputs": [
    {
     "data": {
      "text/html": [
       "\n",
       "\n",
       "\n",
       "\n",
       "\n",
       "\n",
       "  <div class=\"bk-root\" id=\"fcf05b69-8326-49be-b292-7d781a977347\" data-root-id=\"3109\"></div>\n"
      ]
     },
     "metadata": {},
     "output_type": "display_data"
    },
    {
     "data": {
      "application/javascript": [
       "(function(root) {\n",
       "  function embed_document(root) {\n",
       "    \n",
       "  var docs_json = {\"035f9ae2-2fef-46c5-976d-ead868d9cc1d\":{\"roots\":{\"references\":[{\"attributes\":{\"children\":[{\"id\":\"3108\",\"type\":\"ToolbarBox\"},{\"id\":\"3106\",\"type\":\"GridBox\"}]},\"id\":\"3109\",\"type\":\"Column\"},{\"attributes\":{},\"id\":\"3062\",\"type\":\"CategoricalScale\"},{\"attributes\":{\"children\":[[{\"id\":\"3016\",\"subtype\":\"Figure\",\"type\":\"Plot\"},0,0],[{\"id\":\"3053\",\"subtype\":\"Figure\",\"type\":\"Plot\"},1,0]]},\"id\":\"3106\",\"type\":\"GridBox\"},{\"attributes\":{\"callback\":null,\"factors\":[\"a_a2\",\"a_a1\",\"a_a0\"]},\"id\":\"3021\",\"type\":\"FactorRange\"},{\"attributes\":{\"callback\":null},\"id\":\"3036\",\"type\":\"TapTool\"},{\"attributes\":{\"data_source\":{\"id\":\"3015\",\"type\":\"ColumnDataSource\"},\"glyph\":{\"id\":\"3077\",\"type\":\"Scatter\"},\"hover_glyph\":null,\"muted_glyph\":null,\"nonselection_glyph\":{\"id\":\"3078\",\"type\":\"Scatter\"},\"selection_glyph\":{\"id\":\"3079\",\"type\":\"Scatter\"},\"view\":{\"id\":\"3081\",\"type\":\"CDSView\"}},\"id\":\"3080\",\"type\":\"GlyphRenderer\"},{\"attributes\":{\"active_drag\":\"auto\",\"active_inspect\":\"auto\",\"active_multi\":null,\"active_scroll\":\"auto\",\"active_tap\":\"auto\",\"tools\":[{\"id\":\"3036\",\"type\":\"TapTool\"},{\"id\":\"3051\",\"type\":\"HoverTool\"}]},\"id\":\"3037\",\"type\":\"Toolbar\"},{\"attributes\":{\"formatter\":{\"id\":\"3102\",\"type\":\"CategoricalTickFormatter\"},\"ticker\":{\"id\":\"3070\",\"type\":\"CategoricalTicker\"}},\"id\":\"3069\",\"type\":\"CategoricalAxis\"},{\"attributes\":{\"dimension\":1,\"ticker\":{\"id\":\"3033\",\"type\":\"CategoricalTicker\"}},\"id\":\"3035\",\"type\":\"Grid\"},{\"attributes\":{\"below\":[{\"id\":\"3064\",\"type\":\"LinearAxis\"}],\"center\":[{\"id\":\"3068\",\"type\":\"Grid\"},{\"id\":\"3072\",\"type\":\"Grid\"}],\"left\":[{\"id\":\"3069\",\"type\":\"CategoricalAxis\"}],\"plot_height\":300,\"plot_width\":500,\"renderers\":[{\"id\":\"3080\",\"type\":\"GlyphRenderer\"},{\"id\":\"3086\",\"type\":\"GlyphRenderer\"}],\"title\":{\"id\":\"3054\",\"type\":\"Title\"},\"toolbar\":{\"id\":\"3074\",\"type\":\"Toolbar\"},\"toolbar_location\":null,\"x_range\":{\"id\":\"3056\",\"type\":\"DataRange1d\"},\"x_scale\":{\"id\":\"3060\",\"type\":\"LinearScale\"},\"y_range\":{\"id\":\"3058\",\"type\":\"FactorRange\"},\"y_scale\":{\"id\":\"3062\",\"type\":\"CategoricalScale\"}},\"id\":\"3053\",\"subtype\":\"Figure\",\"type\":\"Plot\"},{\"attributes\":{\"source\":{\"id\":\"3015\",\"type\":\"ColumnDataSource\"}},\"id\":\"3081\",\"type\":\"CDSView\"},{\"attributes\":{\"text\":\"Comparison Plot of A Parameters\"},\"id\":\"3017\",\"type\":\"Title\"},{\"attributes\":{\"callback\":null},\"id\":\"3019\",\"type\":\"DataRange1d\"},{\"attributes\":{\"formatter\":{\"id\":\"3094\",\"type\":\"CategoricalTickFormatter\"},\"ticker\":{\"id\":\"3033\",\"type\":\"CategoricalTicker\"}},\"id\":\"3032\",\"type\":\"CategoricalAxis\"},{\"attributes\":{\"ticker\":{\"id\":\"3065\",\"type\":\"BasicTicker\"}},\"id\":\"3068\",\"type\":\"Grid\"},{\"attributes\":{\"fill_alpha\":{\"value\":0.5},\"fill_color\":{\"field\":\"color\"},\"line_alpha\":{\"value\":0.5},\"line_color\":{\"field\":\"color\"},\"size\":{\"units\":\"screen\",\"value\":12},\"x\":{\"field\":\"final_value\"},\"y\":{\"field\":\"full_name\"}},\"id\":\"3040\",\"type\":\"Scatter\"},{\"attributes\":{\"below\":[{\"id\":\"3027\",\"type\":\"LinearAxis\"}],\"center\":[{\"id\":\"3031\",\"type\":\"Grid\"},{\"id\":\"3035\",\"type\":\"Grid\"}],\"left\":[{\"id\":\"3032\",\"type\":\"CategoricalAxis\"}],\"plot_height\":300,\"plot_width\":500,\"renderers\":[{\"id\":\"3043\",\"type\":\"GlyphRenderer\"},{\"id\":\"3049\",\"type\":\"GlyphRenderer\"}],\"title\":{\"id\":\"3017\",\"type\":\"Title\"},\"toolbar\":{\"id\":\"3037\",\"type\":\"Toolbar\"},\"toolbar_location\":null,\"x_range\":{\"id\":\"3019\",\"type\":\"DataRange1d\"},\"x_scale\":{\"id\":\"3023\",\"type\":\"LinearScale\"},\"y_range\":{\"id\":\"3021\",\"type\":\"FactorRange\"},\"y_scale\":{\"id\":\"3025\",\"type\":\"CategoricalScale\"}},\"id\":\"3016\",\"subtype\":\"Figure\",\"type\":\"Plot\"},{\"attributes\":{},\"id\":\"3060\",\"type\":\"LinearScale\"},{\"attributes\":{\"fill_alpha\":{\"value\":0.0},\"fill_color\":{\"field\":\"color\"},\"height\":{\"value\":0.01},\"left\":{\"field\":\"conf_int_lower\"},\"line_alpha\":{\"value\":0.0},\"line_color\":{\"field\":\"color\"},\"right\":{\"field\":\"conf_int_upper\"},\"y\":{\"field\":\"full_name\"}},\"id\":\"3083\",\"type\":\"HBar\"},{\"attributes\":{},\"id\":\"3065\",\"type\":\"BasicTicker\"},{\"attributes\":{\"fill_alpha\":{\"value\":0.0},\"fill_color\":{\"field\":\"color\"},\"height\":{\"value\":0.01},\"left\":{\"field\":\"conf_int_lower\"},\"line_alpha\":{\"value\":0.0},\"line_color\":{\"field\":\"color\"},\"right\":{\"field\":\"conf_int_upper\"},\"y\":{\"field\":\"full_name\"}},\"id\":\"3084\",\"type\":\"HBar\"},{\"attributes\":{\"fill_alpha\":{\"value\":0.7},\"fill_color\":{\"field\":\"color\"},\"line_alpha\":{\"value\":0.7},\"line_color\":{\"field\":\"color\"},\"size\":{\"units\":\"screen\",\"value\":12},\"x\":{\"field\":\"final_value\"},\"y\":{\"field\":\"full_name\"}},\"id\":\"3042\",\"type\":\"Scatter\"},{\"attributes\":{\"fill_alpha\":{\"value\":0.25},\"fill_color\":{\"field\":\"color\"},\"height\":{\"value\":0.01},\"left\":{\"field\":\"conf_int_lower\"},\"line_alpha\":{\"value\":0.25},\"line_color\":{\"field\":\"color\"},\"right\":{\"field\":\"conf_int_upper\"},\"y\":{\"field\":\"full_name\"}},\"id\":\"3085\",\"type\":\"HBar\"},{\"attributes\":{\"fill_alpha\":{\"value\":0.2},\"fill_color\":{\"field\":\"color\"},\"line_alpha\":{\"value\":0.2},\"line_color\":{\"field\":\"color\"},\"size\":{\"units\":\"screen\",\"value\":12},\"x\":{\"field\":\"final_value\"},\"y\":{\"field\":\"full_name\"}},\"id\":\"3041\",\"type\":\"Scatter\"},{\"attributes\":{\"fill_alpha\":{\"value\":0.5},\"fill_color\":{\"field\":\"color\"},\"line_alpha\":{\"value\":0.5},\"line_color\":{\"field\":\"color\"},\"size\":{\"units\":\"screen\",\"value\":12},\"x\":{\"field\":\"final_value\"},\"y\":{\"field\":\"full_name\"}},\"id\":\"3077\",\"type\":\"Scatter\"},{\"attributes\":{\"fill_alpha\":{\"value\":0.25},\"fill_color\":{\"field\":\"color\"},\"height\":{\"value\":0.01},\"left\":{\"field\":\"conf_int_lower\"},\"line_alpha\":{\"value\":0.25},\"line_color\":{\"field\":\"color\"},\"right\":{\"field\":\"conf_int_upper\"},\"y\":{\"field\":\"full_name\"}},\"id\":\"3048\",\"type\":\"HBar\"},{\"attributes\":{\"data_source\":{\"id\":\"3015\",\"type\":\"ColumnDataSource\"},\"glyph\":{\"id\":\"3083\",\"type\":\"HBar\"},\"hover_glyph\":null,\"muted_glyph\":null,\"nonselection_glyph\":{\"id\":\"3084\",\"type\":\"HBar\"},\"selection_glyph\":{\"id\":\"3085\",\"type\":\"HBar\"},\"view\":{\"id\":\"3087\",\"type\":\"CDSView\"}},\"id\":\"3086\",\"type\":\"GlyphRenderer\"},{\"attributes\":{\"formatter\":{\"id\":\"3100\",\"type\":\"BasicTickFormatter\"},\"ticker\":{\"id\":\"3065\",\"type\":\"BasicTicker\"}},\"id\":\"3064\",\"type\":\"LinearAxis\"},{\"attributes\":{\"source\":{\"id\":\"3015\",\"type\":\"ColumnDataSource\"}},\"id\":\"3087\",\"type\":\"CDSView\"},{\"attributes\":{\"source\":{\"id\":\"3015\",\"type\":\"ColumnDataSource\"}},\"id\":\"3044\",\"type\":\"CDSView\"},{\"attributes\":{\"callback\":null,\"renderers\":[{\"id\":\"3080\",\"type\":\"GlyphRenderer\"}],\"tooltips\":[[\"Start Value\",\"@start_value\"],[\"Model Class\",\"@model_class\"]]},\"id\":\"3088\",\"type\":\"HoverTool\"},{\"attributes\":{\"data_source\":{\"id\":\"3015\",\"type\":\"ColumnDataSource\"},\"glyph\":{\"id\":\"3040\",\"type\":\"Scatter\"},\"hover_glyph\":null,\"muted_glyph\":null,\"nonselection_glyph\":{\"id\":\"3041\",\"type\":\"Scatter\"},\"selection_glyph\":{\"id\":\"3042\",\"type\":\"Scatter\"},\"view\":{\"id\":\"3044\",\"type\":\"CDSView\"}},\"id\":\"3043\",\"type\":\"GlyphRenderer\"},{\"attributes\":{\"callback\":null,\"factors\":[\"b_b2\",\"b_b1\",\"b_b0\"]},\"id\":\"3058\",\"type\":\"FactorRange\"},{\"attributes\":{\"dimension\":1,\"ticker\":{\"id\":\"3070\",\"type\":\"CategoricalTicker\"}},\"id\":\"3072\",\"type\":\"Grid\"},{\"attributes\":{},\"id\":\"3028\",\"type\":\"BasicTicker\"},{\"attributes\":{\"source\":{\"id\":\"3015\",\"type\":\"ColumnDataSource\"}},\"id\":\"3050\",\"type\":\"CDSView\"},{\"attributes\":{},\"id\":\"3092\",\"type\":\"BasicTickFormatter\"},{\"attributes\":{},\"id\":\"3025\",\"type\":\"CategoricalScale\"},{\"attributes\":{\"fill_alpha\":{\"value\":0.0},\"fill_color\":{\"field\":\"color\"},\"height\":{\"value\":0.01},\"left\":{\"field\":\"conf_int_lower\"},\"line_alpha\":{\"value\":0.0},\"line_color\":{\"field\":\"color\"},\"right\":{\"field\":\"conf_int_upper\"},\"y\":{\"field\":\"full_name\"}},\"id\":\"3046\",\"type\":\"HBar\"},{\"attributes\":{},\"id\":\"3094\",\"type\":\"CategoricalTickFormatter\"},{\"attributes\":{\"callback\":null},\"id\":\"3073\",\"type\":\"TapTool\"},{\"attributes\":{\"callback\":null,\"data\":{\"color\":[\"forestgreen\",\"forestgreen\",\"forestgreen\",\"forestgreen\",\"forestgreen\",\"forestgreen\",\"forestgreen\",\"forestgreen\",\"forestgreen\",\"forestgreen\",\"forestgreen\",\"forestgreen\",\"forestgreen\",\"forestgreen\",\"forestgreen\",\"forestgreen\",\"forestgreen\",\"forestgreen\",\"forestgreen\",\"forestgreen\",\"forestgreen\",\"forestgreen\",\"forestgreen\",\"forestgreen\",\"forestgreen\",\"forestgreen\",\"forestgreen\",\"forestgreen\",\"forestgreen\",\"forestgreen\",\"forestgreen\",\"forestgreen\",\"forestgreen\",\"forestgreen\",\"forestgreen\",\"forestgreen\",\"forestgreen\",\"forestgreen\",\"forestgreen\",\"forestgreen\",\"forestgreen\",\"forestgreen\",\"forestgreen\",\"forestgreen\",\"forestgreen\",\"forestgreen\",\"forestgreen\",\"forestgreen\",\"forestgreen\",\"forestgreen\",\"forestgreen\",\"forestgreen\",\"forestgreen\",\"forestgreen\",\"forestgreen\",\"forestgreen\",\"forestgreen\",\"forestgreen\",\"forestgreen\",\"forestgreen\",\"#035096\",\"#035096\",\"#035096\",\"#035096\",\"#035096\",\"#035096\",\"#035096\",\"#035096\",\"#035096\",\"#035096\",\"#035096\",\"#035096\",\"#035096\",\"#035096\",\"#035096\",\"#035096\",\"#035096\",\"#035096\",\"#035096\",\"#035096\",\"#035096\",\"#035096\",\"#035096\",\"#035096\",\"#035096\",\"#035096\",\"#035096\",\"#035096\",\"#035096\",\"#035096\",\"#035096\",\"#035096\",\"#035096\",\"#035096\",\"#035096\",\"#035096\",\"#035096\",\"#035096\",\"#035096\",\"#035096\",\"#035096\",\"#035096\",\"#035096\",\"#035096\",\"#035096\",\"#035096\",\"#035096\",\"#035096\",\"#035096\",\"#035096\",\"#035096\",\"#035096\",\"#035096\",\"#035096\",\"#035096\",\"#035096\",\"#035096\",\"#035096\",\"#035096\",\"#035096\",\"firebrick\",\"firebrick\",\"firebrick\",\"firebrick\",\"firebrick\",\"firebrick\",\"firebrick\",\"firebrick\",\"firebrick\",\"firebrick\",\"firebrick\",\"firebrick\",\"firebrick\",\"firebrick\",\"firebrick\",\"firebrick\",\"firebrick\",\"firebrick\",\"firebrick\",\"firebrick\",\"firebrick\",\"firebrick\",\"firebrick\",\"firebrick\",\"firebrick\",\"firebrick\",\"firebrick\",\"firebrick\",\"firebrick\",\"firebrick\",\"firebrick\",\"firebrick\",\"firebrick\",\"firebrick\",\"firebrick\",\"firebrick\",\"firebrick\",\"firebrick\",\"firebrick\",\"firebrick\",\"firebrick\",\"firebrick\",\"firebrick\",\"firebrick\",\"firebrick\",\"firebrick\",\"firebrick\",\"firebrick\",\"firebrick\",\"firebrick\",\"firebrick\",\"firebrick\",\"firebrick\",\"firebrick\",\"firebrick\",\"firebrick\",\"firebrick\",\"firebrick\",\"firebrick\",\"firebrick\"],\"conf_int_lower\":{\"__ndarray__\":\"BQqOaxnVi78pfEGAjEmWv2N0Yj9VDZO/78uFzIROnL9kFkwsCTeTvwQM/dijLJa/wITQ+f2sQT98HKOrjZuUvzV3VRB9PZm/a53hDQt3nr9B/FpMFtCWv7T+3GpsSJ2/DG4ZfBScUj/belxqFteWv/r4HFf6M4i/yevP2J0Clb8P7wMst0aQv4iqLlFUfJO/fGLi5zkWnL+OrTVB3T+Kv+aDw8xAIqW/fxPkv0Ueib/w0eb4YY6Dv5iHJaVX75y/wJGBRBs3pb83UVHlYfyYvyFeXhB1aaG/Aw9X2+I2m7+8Y8BMzUusv5Qelp1533C/WspyoFWzir96su0J64KUvyIMBgSCd4C/ORf6jTwPlL/46rxBM56mv6inuJDndpa/I01fAHKHjL8Oe+fxxrydv9BGzmmnsZC/h5HsMpl4kr8uGZ0nrB6bvz71G1zfYoO/Vi1WXaWNpr8u7QmYyuOOv3Kig3N3p5W/0XHUfTgngL+8QBCOprCIv7MTmLO4N4+/lhdhDFClnr9UW26hf6qTv7QBYpvTHnc/XgOd7+TClL9/7uKXacCOv6aRFYeHQpa/6wNDY7vHh79j0HD/cBeSv8zo6cHi+6C/36LyPgcLlb9EgjY25eGZv7kf5mmUdqG//oD0NO2Vl79PVP2rwxCTvxrEF7BHj6e/4djVoTFNpr+gb26EISmkv+NNLJVcAqC/TWH8Le56lb/2KASUmPKgv5xnz1oBzIa/upWsIYs3pr9A0VVzxARbv/YETiHqSKm/1ljTXfH3mD8BFDbspAGjvwqC5WGF+7e/WlkZ7/94mr9yVUjBfTqlP1oMQ4OvEKa/KP2xVv6qar9r8o/iCzWhv7RparOdX3m/Yt0bB7K0lr/d392M5fyhv6gic4OkCaG/m+oTBg/UrL+0Zk+vxneRvzskrhTNcKC/FjjLLTUspL94wPS1YbWVvxqYqEavAJS/H7nTxMPPuD/2SV3gC+miv9rscw6yU56/h2wXQXqZn79u322j0ZWuv7o1gnv+tpm/OR+Bb6wcsz+9UxeberahvwGFgPwh7tE/bALjiARJsr84JiL7/pnbPwwbCFfpO7W/7kZymSYenr9toJPxMFaivwmQOAHVoZO/EqhmUjqKqL/IdtNcqoKBvyJ2ZnL9o4K/R0iqUDktqb/GcTFP5/qovzCowChTCau/AE5fldZPn7/JK9ErmN2ovw9vXeCAiKC/8JoYSCVkeb8i15HuiF+jv2R5/Aplr56/p5RGg/zpnb+WbPKswc+fv/8L3BooZ6m/NJNr/92LoL9e7+6gzauyv/V7VWoeErG/f/5iIB3+qr93fEJozAK2v63Mt+9A3ae/cB7dWAnAqL96t8caviubv8DJCCdB6Yq/ZKHrXLzkn79zbQkEpCubvz/qG8VDXqe/EduwtGb6o79OdIPgjYasv+DzQjPfbbW/+3e0kjgfor/YvEluALWiv9Xv+x7gray/HzIPncErmb8hzvFYm/2hv4LMfK6S0a6/kgiI3F0op79Hxb7JRnecv+W1qoM+baO/pTL0Ji1lsL/IJwxalU2vv8pXU0UOJLO/0c/QRjz5qL/CHzVngx+8v/L8KDkOKqW/BNBp+T0cr79GZ7hS88GhvxBLdcVg32A/6FAeQ9bxrb8kAjhOektwv6QL0xz+GJG/rF4wpTqcs7+MQdRJi4GIv6BLZ5XBtJa/74MFDR5gk7//yoA9o8aTv5FGJ68+0KW/q2mPEJ9Dnr9GD8Gd4SitvyLcvbw/M6i/Pi6ZbJItnL/gTQ9tQqiRvwgbN4d9iZq/KN973zC0h7+G9bPzzpSrv1QpeuJJxaa/a8+xI8QYpb9w9/o7vYmqv6mmp/ro2p+/2gZyiQZClr8g/8U2drKqv459UDNJbbC/Ux4ZrPTspL/XZWGHoJipv2JLUpqnIaq/\",\"dtype\":\"float64\",\"shape\":[180]},\"conf_int_upper\":{\"__ndarray__\":\"PcAXYP1nkz9xqoiHWYCVP0JPedxeHoU/NiNEoxo4mT+upLzii2GgP/rgTom1RZM/gOXCmmXEoj9/fQirNB6bP7dQLyXwnZo/Vpyg8FEamD/Ly7KxwpyTP9+f0SYVS5Q/i+1uBIfslT8iFWFzVy2HP3Q58woJQpo/IH+O0Zd/kD83NCPiEfSdP+OUkI41R50/FEybpjdqmz9W0jQF17CMPxg05qMVf3g/YFmH8xY+mj8uGB4IuFKhP8Qx2/6iL5M/QPftb324Wb+4CVpOWDGTP0BZHW4KBH8/tqYFN3vUlD/gcb9EXpdKP4yTPT5XIZE/csJ4KDT8mD9jhUClfxqTP/HU7bwOfZ8//gE+zcFIhT+KmAevw55yv0SqyCbccZc/csxXhKdJfT8HEZNnGpSOPwNdeRWQypk/zCUb6csFmT8vgoSItfaLP2xtW1PrN34/AM7PAtA1ID9tBwdjXgygP8X1zVgTNYk/5VqL3PXmoD+Ra/LoUHuDP2y+I+3veZI/nrKX7KQPgL8q3lb1cHuNP/b3Dvaumak/CxRFaPZWlD/DgLlx8valPx9q/x+uV5E/fonqZohNmD9K0cb3GxWSP+5ypTozoJM/R4tM3Xktjz92lmogS26ZPyEPJl6tJZ0/VpVnl9NElD/WDoXVUfOUP0ipiz6k55U/qD24rL8spj8mRxkWeyudP1UbDyjQ4p8/HwCBSMnFkz+MLRDO4IeiP/WnAihDxKA/XjIGa8I4mT+AxI/fg5OsPyKO3Txc36E/sPAcryzTtT/IqzwPhuaFP//FN2H7ZaK/OK5BtVf+oj9qbbkuN3yxP6myW7X+HqE/A6rPTpBEpz9qHClZLdujPy7xFnIdl7A/wLFew+18jz8kPppvi1CkP9YQ0ofyS6E/ToO/Wwb0lj/C82WkNcKcP3s84mVjM5g/BiHxGxgXoj8TrizizjioPzy0S4V0VKI/EeIPqtdxwz8ER1HxPeefP0z+Hv6cZKQ/++9g6Qf5pz+QIul98p90vzMSNW+jH6A/eBJMy4oyxD9QhsZr7mKZP0wxvoAlYtQ/hjf9+Fidjr8AWHCTNkTgP9QVjIGCFpW/mn0qTFEUjD88k4CMQ/qEP1gZjmO6ipo/Xz2mlMJZoT8ocJ3aQV6hP7Lg+PghZpw/0AW1IkBdjD9kFRpm86mpP1BUkHOM0Zw/UFbtZmN+oD9gX0Xmfq59vzFukpoCdKI/RI65L2UisT9edtlaoTepP+hthRWso6A/9Ga67KHmlj8cx8gsupClPwVFi9+82ZY/bfFeuglrpj8M3d+q8cCdPxBlBi72CKA/B9tOUx7Hoz+oKbSC50RxP/b5FLu7s64/ib2cdQ5bmj9KNWRL2iCaP1KBb5TVvaY/u6EXHyIdqj+mdunYkWqSP900GB+2Kak/GX1jwKzCpD8afCHnjh6hP24rFp64wJS//flXsqYzrz9co/CG3farPxTIRPoi6Js/hLYiUDxVsT8OUCVQXYeqP4DOzmjck6I/W5SgN6Kcnz+78Z6hk4SxP2oTEoKGL6Q/XrJ4tQkilT8/5vF/QnSsPxzCkpfSzo0/qvEmuwgZsD/kZNi1kKOBv99JrftNU6U/vSaMhJv0lz+kucb1WRmgP8rV2HXi4bA/FQnHlVhSoT8ywasBEJ+yP0OW2l+fTaQ/0H/WNAfZlL9G4ZzzEImjPwO0GENsAqs/lBuoX+18oD+wyo947qyqP5V6CNdNi5g/KwVSVst5mT9w+frrdp6rP6oXio1P26E/gG1dot+BmT+3cHcyeyKqP3DhSA1MXKg/D6ysLOuvsj8UgYL6BvOkP+xaSmT8Xp4/KeztRAcmsT+Z/xXRlr2Uv8/JDyvHoZw/oCKlBIqHsD8cZpW3yIuSP1QZbyOR/oA/WFxLGUUroz/j7C5sSL6gP/cibX5+4Kg/\",\"dtype\":\"float64\",\"shape\":[180]},\"final_value\":{\"__ndarray__\":\"G4YehnuBbj/lC5QRboI4v9SYO3HchXO/LZONbghJPz9HmTdKZcBwPyYBC/SOxjq/HuvDYnJElT+OZVYXGgJhv+uQtfwt1mK/TMMK/GwILj8w6lIfNSZxv/Y4OjgLYjs/f48f9pQ+eD8UA+lgyFhDvzPWj9nsp3k/hzDo+ZObRL+OEXBp2plQvxL1EpBjUBo/8Ens4iW2ej8I0M2j2lZFv66bJ3ACDpK/GupqApTjXD/cwcKue0qDP4A43XOy2E6/SdeHEL+Dlr/JcHph0gJiP1YYGddsDYy/8CXkkQhwVj+ByCzNTPOXv5P+ZlHfKWM/sxLY6I/LVT8OWjrf/24hv3Zr1K17EII/62emjKfuTL9rvsReQNaOv0kXSY76sFg/yB10rVz9Yr8yr0zKuWUuP9Avj9g9BWc/stro8spzMr+900efQhiFv9CWyU+431A/6n2y5BgQlL+Zo1mZMA5gP6PudxxZs4G/i/GI+nRPTD+jnEeK6mpQP+p+os5KzBq/NJDgR8RhjL/xJLeSgblWPwvclKMHIZY/JtgZOx/EYb/VOjh/9dWHP4RRfx2WI1O/U+npp6+vhD8S5NLt8Y5Qv5S4VKxHlIq/quy6lk9DVT8w2mi+b7BgP0oJRKJNwiq/gEyBUUWiTz8AwO/4ck4ZvwAYH5d98Gq/AHCEkSSNNT+gAIHL85uBvwCgfmyaLEw/AEiVBeSRYL8AQL/u9ZAqPwD+IlezM30/AJSMjUx0R79AN32NzRiSPwCQkl3fAF2/EHQ7BsZrrT8Ak73FtrF3v7DVpMKmRbC/AKidG0CpeT+gNlBhogenPwB+fZVbXnK/AC0mKsT5gz8AgBoId/9Pv8DFM+LqaZU/ALgev+wmYb8AQRXQ/paDPwB4r/fAVU+/gBIQJjmgir8AcKO7NEdVP4D5XQ5lYog/APhChTt5U78AwJJZBYePPwBk0k3WN1m/SP2jsH6Auz8A1+vFL8CFvwDe/2YWQIc/AKBN5AgqS7/ARw8IasejvwAmye0konI/SFPCLYpwvT+Ar5r21jSIv+yvgydoJdQ/sJSmuV/vor+UsxMUnp/dP4ArxShFHam/oDXkO62abL8A8Oxpf242PyDq4qC+mHU/ANA5XjJ7QL+Af+IXgm6EPwBXFjljl0+/AEhRU0x9jb8AiHdpzuVbP4BmiiD+EJC/AGgWJunWXT8AAhHhfF6bvwDYRl6kJWg/yLIAZ31yoT8AzCLP2uhrv6A28ZLui4Y/AGzis7UGUr8ATGDdkstiPwBelTOSHi2/uPXbY7nwdb8G2lZ0445BPyWQDhVclYS/oQyq/yF4UD9sG2GeCTmhvxx8tZThjms/MaKXxNhul79c+HG3y75iP9pb8P9Kvos/ICs5+4AyVr9K77n4P5eQv6D+KeJ/jFo/S2hxheDHgb/gyRwTDX9MP7f+tV7g/Km/qYKqqwnNdD8pmLwz4DOKP55N9mkK51S/SWFOm+f5lT/a6BcD0JNhv8p1oa8SOIu/0ez1Sl7JVT+aEBClscWIP66lARynzVO/xFWUVenikb99xswMEaJcP1qgsZ7eE6O/MAVxCySPbj8G8kfwPHmhv6aFUHCC9ms/e79DIhdLab/Js4UCw2A0P3gSSDq9YJ8/bFhDaIIdab/42VxBcoaEP8Ul7zXObVC/4+K1C/SBrL8ll5eCyc92P4KBSaBI5ZE/9PIUdguUXL8J9eoMl6VrPx+YF5SlDja/gHvjbjrp5L5ABTCmf5O5PuXaG5pJYJO/Z39XPk4AXz/8IF5rfKeaP2C5BAB/UmW/BiJHCTjBgz/SMFqfHqdPvwqN+R1mNFK/tCOOXZwHHT/Dr8tjVGqfv+c0wWdwH2k/F6Jy5NB7oT9kuTwX8/lrv74n3o/hnqG/kq+jTOgybD+oQCRQBHhOP/ABy4YLdRi/\",\"dtype\":\"float64\",\"shape\":[180]},\"full_name\":[\"a_a0\",\"b_b0\",\"a_a1\",\"b_b1\",\"a_a2\",\"b_b2\",\"a_a0\",\"b_b0\",\"a_a1\",\"b_b1\",\"a_a2\",\"b_b2\",\"a_a0\",\"b_b0\",\"a_a1\",\"b_b1\",\"a_a2\",\"b_b2\",\"a_a0\",\"b_b0\",\"a_a1\",\"b_b1\",\"a_a2\",\"b_b2\",\"a_a0\",\"b_b0\",\"a_a1\",\"b_b1\",\"a_a2\",\"b_b2\",\"a_a0\",\"b_b0\",\"a_a1\",\"b_b1\",\"a_a2\",\"b_b2\",\"a_a0\",\"b_b0\",\"a_a1\",\"b_b1\",\"a_a2\",\"b_b2\",\"a_a0\",\"b_b0\",\"a_a1\",\"b_b1\",\"a_a2\",\"b_b2\",\"a_a0\",\"b_b0\",\"a_a1\",\"b_b1\",\"a_a2\",\"b_b2\",\"a_a0\",\"b_b0\",\"a_a1\",\"b_b1\",\"a_a2\",\"b_b2\",\"a_a0\",\"b_b0\",\"a_a1\",\"b_b1\",\"a_a2\",\"b_b2\",\"a_a0\",\"b_b0\",\"a_a1\",\"b_b1\",\"a_a2\",\"b_b2\",\"a_a0\",\"b_b0\",\"a_a1\",\"b_b1\",\"a_a2\",\"b_b2\",\"a_a0\",\"b_b0\",\"a_a1\",\"b_b1\",\"a_a2\",\"b_b2\",\"a_a0\",\"b_b0\",\"a_a1\",\"b_b1\",\"a_a2\",\"b_b2\",\"a_a0\",\"b_b0\",\"a_a1\",\"b_b1\",\"a_a2\",\"b_b2\",\"a_a0\",\"b_b0\",\"a_a1\",\"b_b1\",\"a_a2\",\"b_b2\",\"a_a0\",\"b_b0\",\"a_a1\",\"b_b1\",\"a_a2\",\"b_b2\",\"a_a0\",\"b_b0\",\"a_a1\",\"b_b1\",\"a_a2\",\"b_b2\",\"a_a0\",\"b_b0\",\"a_a1\",\"b_b1\",\"a_a2\",\"b_b2\",\"a_a0\",\"b_b0\",\"a_a1\",\"b_b1\",\"a_a2\",\"b_b2\",\"a_a0\",\"b_b0\",\"a_a1\",\"b_b1\",\"a_a2\",\"b_b2\",\"a_a0\",\"b_b0\",\"a_a1\",\"b_b1\",\"a_a2\",\"b_b2\",\"a_a0\",\"b_b0\",\"a_a1\",\"b_b1\",\"a_a2\",\"b_b2\",\"a_a0\",\"b_b0\",\"a_a1\",\"b_b1\",\"a_a2\",\"b_b2\",\"a_a0\",\"b_b0\",\"a_a1\",\"b_b1\",\"a_a2\",\"b_b2\",\"a_a0\",\"b_b0\",\"a_a1\",\"b_b1\",\"a_a2\",\"b_b2\",\"a_a0\",\"b_b0\",\"a_a1\",\"b_b1\",\"a_a2\",\"b_b2\",\"a_a0\",\"b_b0\",\"a_a1\",\"b_b1\",\"a_a2\",\"b_b2\",\"a_a0\",\"b_b0\",\"a_a1\",\"b_b1\",\"a_a2\",\"b_b2\"],\"group\":[\"a\",\"b\",\"a\",\"b\",\"a\",\"b\",\"a\",\"b\",\"a\",\"b\",\"a\",\"b\",\"a\",\"b\",\"a\",\"b\",\"a\",\"b\",\"a\",\"b\",\"a\",\"b\",\"a\",\"b\",\"a\",\"b\",\"a\",\"b\",\"a\",\"b\",\"a\",\"b\",\"a\",\"b\",\"a\",\"b\",\"a\",\"b\",\"a\",\"b\",\"a\",\"b\",\"a\",\"b\",\"a\",\"b\",\"a\",\"b\",\"a\",\"b\",\"a\",\"b\",\"a\",\"b\",\"a\",\"b\",\"a\",\"b\",\"a\",\"b\",\"a\",\"b\",\"a\",\"b\",\"a\",\"b\",\"a\",\"b\",\"a\",\"b\",\"a\",\"b\",\"a\",\"b\",\"a\",\"b\",\"a\",\"b\",\"a\",\"b\",\"a\",\"b\",\"a\",\"b\",\"a\",\"b\",\"a\",\"b\",\"a\",\"b\",\"a\",\"b\",\"a\",\"b\",\"a\",\"b\",\"a\",\"b\",\"a\",\"b\",\"a\",\"b\",\"a\",\"b\",\"a\",\"b\",\"a\",\"b\",\"a\",\"b\",\"a\",\"b\",\"a\",\"b\",\"a\",\"b\",\"a\",\"b\",\"a\",\"b\",\"a\",\"b\",\"a\",\"b\",\"a\",\"b\",\"a\",\"b\",\"a\",\"b\",\"a\",\"b\",\"a\",\"b\",\"a\",\"b\",\"a\",\"b\",\"a\",\"b\",\"a\",\"b\",\"a\",\"b\",\"a\",\"b\",\"a\",\"b\",\"a\",\"b\",\"a\",\"b\",\"a\",\"b\",\"a\",\"b\",\"a\",\"b\",\"a\",\"b\",\"a\",\"b\",\"a\",\"b\",\"a\",\"b\",\"a\",\"b\",\"a\",\"b\",\"a\",\"b\",\"a\",\"b\",\"a\",\"b\",\"a\",\"b\",\"a\",\"b\"],\"index\":[0,1,4,5,8,9,0,1,4,5,8,9,0,1,4,5,8,9,0,1,4,5,8,9,0,1,4,5,8,9,0,1,4,5,8,9,0,1,4,5,8,9,0,1,4,5,8,9,0,1,4,5,8,9,0,1,4,5,8,9,0,1,4,5,8,9,0,1,4,5,8,9,0,1,4,5,8,9,0,1,4,5,8,9,0,1,4,5,8,9,0,1,4,5,8,9,0,1,4,5,8,9,0,1,4,5,8,9,0,1,4,5,8,9,0,1,4,5,8,9,0,1,4,5,8,9,0,1,4,5,8,9,0,1,4,5,8,9,0,1,4,5,8,9,0,1,4,5,8,9,0,1,4,5,8,9,0,1,4,5,8,9,0,1,4,5,8,9,0,1,4,5,8,9,0,1,4,5,8,9],\"level_0\":[0,1,2,3,4,5,6,7,8,9,10,11,12,13,14,15,16,17,18,19,20,21,22,23,24,25,26,27,28,29,30,31,32,33,34,35,36,37,38,39,40,41,42,43,44,45,46,47,48,49,50,51,52,53,54,55,56,57,58,59,60,61,62,63,64,65,66,67,68,69,70,71,72,73,74,75,76,77,78,79,80,81,82,83,84,85,86,87,88,89,90,91,92,93,94,95,96,97,98,99,100,101,102,103,104,105,106,107,108,109,110,111,112,113,114,115,116,117,118,119,120,121,122,123,124,125,126,127,128,129,130,131,132,133,134,135,136,137,138,139,140,141,142,143,144,145,146,147,148,149,150,151,152,153,154,155,156,157,158,159,160,161,162,163,164,165,166,167,168,169,170,171,172,173,174,175,176,177,178,179],\"marker\":[\"circle\",\"circle\",\"circle\",\"circle\",\"circle\",\"circle\",\"circle\",\"circle\",\"circle\",\"circle\",\"circle\",\"circle\",\"circle\",\"circle\",\"circle\",\"circle\",\"circle\",\"circle\",\"circle\",\"circle\",\"circle\",\"circle\",\"circle\",\"circle\",\"circle\",\"circle\",\"circle\",\"circle\",\"circle\",\"circle\",\"circle\",\"circle\",\"circle\",\"circle\",\"circle\",\"circle\",\"circle\",\"circle\",\"circle\",\"circle\",\"circle\",\"circle\",\"circle\",\"circle\",\"circle\",\"circle\",\"circle\",\"circle\",\"circle\",\"circle\",\"circle\",\"circle\",\"circle\",\"circle\",\"circle\",\"circle\",\"circle\",\"circle\",\"circle\",\"circle\",\"circle\",\"circle\",\"circle\",\"circle\",\"circle\",\"circle\",\"circle\",\"circle\",\"circle\",\"circle\",\"circle\",\"circle\",\"circle\",\"circle\",\"circle\",\"circle\",\"circle\",\"circle\",\"circle\",\"circle\",\"circle\",\"circle\",\"circle\",\"circle\",\"circle\",\"circle\",\"circle\",\"circle\",\"circle\",\"circle\",\"circle\",\"circle\",\"circle\",\"circle\",\"circle\",\"circle\",\"circle\",\"circle\",\"circle\",\"circle\",\"circle\",\"circle\",\"circle\",\"circle\",\"circle\",\"circle\",\"circle\",\"circle\",\"circle\",\"circle\",\"circle\",\"circle\",\"circle\",\"circle\",\"circle\",\"circle\",\"circle\",\"circle\",\"circle\",\"circle\",\"circle\",\"circle\",\"circle\",\"circle\",\"circle\",\"circle\",\"circle\",\"circle\",\"circle\",\"circle\",\"circle\",\"circle\",\"circle\",\"circle\",\"circle\",\"circle\",\"circle\",\"circle\",\"circle\",\"circle\",\"circle\",\"circle\",\"circle\",\"circle\",\"circle\",\"circle\",\"circle\",\"circle\",\"circle\",\"circle\",\"circle\",\"circle\",\"circle\",\"circle\",\"circle\",\"circle\",\"circle\",\"circle\",\"circle\",\"circle\",\"circle\",\"circle\",\"circle\",\"circle\",\"circle\",\"circle\",\"circle\",\"circle\",\"circle\",\"circle\",\"circle\",\"circle\",\"circle\",\"circle\",\"circle\",\"circle\",\"circle\",\"circle\",\"circle\",\"circle\"],\"model\":[\"scipy_L-BFGS-B_0\",\"scipy_L-BFGS-B_0\",\"scipy_L-BFGS-B_0\",\"scipy_L-BFGS-B_0\",\"scipy_L-BFGS-B_0\",\"scipy_L-BFGS-B_0\",\"scipy_L-BFGS-B_1\",\"scipy_L-BFGS-B_1\",\"scipy_L-BFGS-B_1\",\"scipy_L-BFGS-B_1\",\"scipy_L-BFGS-B_1\",\"scipy_L-BFGS-B_1\",\"scipy_L-BFGS-B_2\",\"scipy_L-BFGS-B_2\",\"scipy_L-BFGS-B_2\",\"scipy_L-BFGS-B_2\",\"scipy_L-BFGS-B_2\",\"scipy_L-BFGS-B_2\",\"scipy_L-BFGS-B_3\",\"scipy_L-BFGS-B_3\",\"scipy_L-BFGS-B_3\",\"scipy_L-BFGS-B_3\",\"scipy_L-BFGS-B_3\",\"scipy_L-BFGS-B_3\",\"scipy_L-BFGS-B_4\",\"scipy_L-BFGS-B_4\",\"scipy_L-BFGS-B_4\",\"scipy_L-BFGS-B_4\",\"scipy_L-BFGS-B_4\",\"scipy_L-BFGS-B_4\",\"scipy_L-BFGS-B_5\",\"scipy_L-BFGS-B_5\",\"scipy_L-BFGS-B_5\",\"scipy_L-BFGS-B_5\",\"scipy_L-BFGS-B_5\",\"scipy_L-BFGS-B_5\",\"scipy_L-BFGS-B_6\",\"scipy_L-BFGS-B_6\",\"scipy_L-BFGS-B_6\",\"scipy_L-BFGS-B_6\",\"scipy_L-BFGS-B_6\",\"scipy_L-BFGS-B_6\",\"scipy_L-BFGS-B_7\",\"scipy_L-BFGS-B_7\",\"scipy_L-BFGS-B_7\",\"scipy_L-BFGS-B_7\",\"scipy_L-BFGS-B_7\",\"scipy_L-BFGS-B_7\",\"scipy_L-BFGS-B_8\",\"scipy_L-BFGS-B_8\",\"scipy_L-BFGS-B_8\",\"scipy_L-BFGS-B_8\",\"scipy_L-BFGS-B_8\",\"scipy_L-BFGS-B_8\",\"scipy_L-BFGS-B_9\",\"scipy_L-BFGS-B_9\",\"scipy_L-BFGS-B_9\",\"scipy_L-BFGS-B_9\",\"scipy_L-BFGS-B_9\",\"scipy_L-BFGS-B_9\",\"scipy_TNC_0\",\"scipy_TNC_0\",\"scipy_TNC_0\",\"scipy_TNC_0\",\"scipy_TNC_0\",\"scipy_TNC_0\",\"scipy_TNC_1\",\"scipy_TNC_1\",\"scipy_TNC_1\",\"scipy_TNC_1\",\"scipy_TNC_1\",\"scipy_TNC_1\",\"scipy_TNC_2\",\"scipy_TNC_2\",\"scipy_TNC_2\",\"scipy_TNC_2\",\"scipy_TNC_2\",\"scipy_TNC_2\",\"scipy_TNC_3\",\"scipy_TNC_3\",\"scipy_TNC_3\",\"scipy_TNC_3\",\"scipy_TNC_3\",\"scipy_TNC_3\",\"scipy_TNC_4\",\"scipy_TNC_4\",\"scipy_TNC_4\",\"scipy_TNC_4\",\"scipy_TNC_4\",\"scipy_TNC_4\",\"scipy_TNC_5\",\"scipy_TNC_5\",\"scipy_TNC_5\",\"scipy_TNC_5\",\"scipy_TNC_5\",\"scipy_TNC_5\",\"scipy_TNC_6\",\"scipy_TNC_6\",\"scipy_TNC_6\",\"scipy_TNC_6\",\"scipy_TNC_6\",\"scipy_TNC_6\",\"scipy_TNC_7\",\"scipy_TNC_7\",\"scipy_TNC_7\",\"scipy_TNC_7\",\"scipy_TNC_7\",\"scipy_TNC_7\",\"scipy_TNC_8\",\"scipy_TNC_8\",\"scipy_TNC_8\",\"scipy_TNC_8\",\"scipy_TNC_8\",\"scipy_TNC_8\",\"scipy_TNC_9\",\"scipy_TNC_9\",\"scipy_TNC_9\",\"scipy_TNC_9\",\"scipy_TNC_9\",\"scipy_TNC_9\",\"scipy_SLSQP_0\",\"scipy_SLSQP_0\",\"scipy_SLSQP_0\",\"scipy_SLSQP_0\",\"scipy_SLSQP_0\",\"scipy_SLSQP_0\",\"scipy_SLSQP_1\",\"scipy_SLSQP_1\",\"scipy_SLSQP_1\",\"scipy_SLSQP_1\",\"scipy_SLSQP_1\",\"scipy_SLSQP_1\",\"scipy_SLSQP_2\",\"scipy_SLSQP_2\",\"scipy_SLSQP_2\",\"scipy_SLSQP_2\",\"scipy_SLSQP_2\",\"scipy_SLSQP_2\",\"scipy_SLSQP_3\",\"scipy_SLSQP_3\",\"scipy_SLSQP_3\",\"scipy_SLSQP_3\",\"scipy_SLSQP_3\",\"scipy_SLSQP_3\",\"scipy_SLSQP_4\",\"scipy_SLSQP_4\",\"scipy_SLSQP_4\",\"scipy_SLSQP_4\",\"scipy_SLSQP_4\",\"scipy_SLSQP_4\",\"scipy_SLSQP_5\",\"scipy_SLSQP_5\",\"scipy_SLSQP_5\",\"scipy_SLSQP_5\",\"scipy_SLSQP_5\",\"scipy_SLSQP_5\",\"scipy_SLSQP_6\",\"scipy_SLSQP_6\",\"scipy_SLSQP_6\",\"scipy_SLSQP_6\",\"scipy_SLSQP_6\",\"scipy_SLSQP_6\",\"scipy_SLSQP_7\",\"scipy_SLSQP_7\",\"scipy_SLSQP_7\",\"scipy_SLSQP_7\",\"scipy_SLSQP_7\",\"scipy_SLSQP_7\",\"scipy_SLSQP_8\",\"scipy_SLSQP_8\",\"scipy_SLSQP_8\",\"scipy_SLSQP_8\",\"scipy_SLSQP_8\",\"scipy_SLSQP_8\",\"scipy_SLSQP_9\",\"scipy_SLSQP_9\",\"scipy_SLSQP_9\",\"scipy_SLSQP_9\",\"scipy_SLSQP_9\",\"scipy_SLSQP_9\"],\"model_class\":[\"L-BFGS-B\",\"L-BFGS-B\",\"L-BFGS-B\",\"L-BFGS-B\",\"L-BFGS-B\",\"L-BFGS-B\",\"L-BFGS-B\",\"L-BFGS-B\",\"L-BFGS-B\",\"L-BFGS-B\",\"L-BFGS-B\",\"L-BFGS-B\",\"L-BFGS-B\",\"L-BFGS-B\",\"L-BFGS-B\",\"L-BFGS-B\",\"L-BFGS-B\",\"L-BFGS-B\",\"L-BFGS-B\",\"L-BFGS-B\",\"L-BFGS-B\",\"L-BFGS-B\",\"L-BFGS-B\",\"L-BFGS-B\",\"L-BFGS-B\",\"L-BFGS-B\",\"L-BFGS-B\",\"L-BFGS-B\",\"L-BFGS-B\",\"L-BFGS-B\",\"L-BFGS-B\",\"L-BFGS-B\",\"L-BFGS-B\",\"L-BFGS-B\",\"L-BFGS-B\",\"L-BFGS-B\",\"L-BFGS-B\",\"L-BFGS-B\",\"L-BFGS-B\",\"L-BFGS-B\",\"L-BFGS-B\",\"L-BFGS-B\",\"L-BFGS-B\",\"L-BFGS-B\",\"L-BFGS-B\",\"L-BFGS-B\",\"L-BFGS-B\",\"L-BFGS-B\",\"L-BFGS-B\",\"L-BFGS-B\",\"L-BFGS-B\",\"L-BFGS-B\",\"L-BFGS-B\",\"L-BFGS-B\",\"L-BFGS-B\",\"L-BFGS-B\",\"L-BFGS-B\",\"L-BFGS-B\",\"L-BFGS-B\",\"L-BFGS-B\",\"TNC\",\"TNC\",\"TNC\",\"TNC\",\"TNC\",\"TNC\",\"TNC\",\"TNC\",\"TNC\",\"TNC\",\"TNC\",\"TNC\",\"TNC\",\"TNC\",\"TNC\",\"TNC\",\"TNC\",\"TNC\",\"TNC\",\"TNC\",\"TNC\",\"TNC\",\"TNC\",\"TNC\",\"TNC\",\"TNC\",\"TNC\",\"TNC\",\"TNC\",\"TNC\",\"TNC\",\"TNC\",\"TNC\",\"TNC\",\"TNC\",\"TNC\",\"TNC\",\"TNC\",\"TNC\",\"TNC\",\"TNC\",\"TNC\",\"TNC\",\"TNC\",\"TNC\",\"TNC\",\"TNC\",\"TNC\",\"TNC\",\"TNC\",\"TNC\",\"TNC\",\"TNC\",\"TNC\",\"TNC\",\"TNC\",\"TNC\",\"TNC\",\"TNC\",\"TNC\",\"SLSQP\",\"SLSQP\",\"SLSQP\",\"SLSQP\",\"SLSQP\",\"SLSQP\",\"SLSQP\",\"SLSQP\",\"SLSQP\",\"SLSQP\",\"SLSQP\",\"SLSQP\",\"SLSQP\",\"SLSQP\",\"SLSQP\",\"SLSQP\",\"SLSQP\",\"SLSQP\",\"SLSQP\",\"SLSQP\",\"SLSQP\",\"SLSQP\",\"SLSQP\",\"SLSQP\",\"SLSQP\",\"SLSQP\",\"SLSQP\",\"SLSQP\",\"SLSQP\",\"SLSQP\",\"SLSQP\",\"SLSQP\",\"SLSQP\",\"SLSQP\",\"SLSQP\",\"SLSQP\",\"SLSQP\",\"SLSQP\",\"SLSQP\",\"SLSQP\",\"SLSQP\",\"SLSQP\",\"SLSQP\",\"SLSQP\",\"SLSQP\",\"SLSQP\",\"SLSQP\",\"SLSQP\",\"SLSQP\",\"SLSQP\",\"SLSQP\",\"SLSQP\",\"SLSQP\",\"SLSQP\",\"SLSQP\",\"SLSQP\",\"SLSQP\",\"SLSQP\",\"SLSQP\",\"SLSQP\"],\"name\":[\"a0\",\"b0\",\"a1\",\"b1\",\"a2\",\"b2\",\"a0\",\"b0\",\"a1\",\"b1\",\"a2\",\"b2\",\"a0\",\"b0\",\"a1\",\"b1\",\"a2\",\"b2\",\"a0\",\"b0\",\"a1\",\"b1\",\"a2\",\"b2\",\"a0\",\"b0\",\"a1\",\"b1\",\"a2\",\"b2\",\"a0\",\"b0\",\"a1\",\"b1\",\"a2\",\"b2\",\"a0\",\"b0\",\"a1\",\"b1\",\"a2\",\"b2\",\"a0\",\"b0\",\"a1\",\"b1\",\"a2\",\"b2\",\"a0\",\"b0\",\"a1\",\"b1\",\"a2\",\"b2\",\"a0\",\"b0\",\"a1\",\"b1\",\"a2\",\"b2\",\"a0\",\"b0\",\"a1\",\"b1\",\"a2\",\"b2\",\"a0\",\"b0\",\"a1\",\"b1\",\"a2\",\"b2\",\"a0\",\"b0\",\"a1\",\"b1\",\"a2\",\"b2\",\"a0\",\"b0\",\"a1\",\"b1\",\"a2\",\"b2\",\"a0\",\"b0\",\"a1\",\"b1\",\"a2\",\"b2\",\"a0\",\"b0\",\"a1\",\"b1\",\"a2\",\"b2\",\"a0\",\"b0\",\"a1\",\"b1\",\"a2\",\"b2\",\"a0\",\"b0\",\"a1\",\"b1\",\"a2\",\"b2\",\"a0\",\"b0\",\"a1\",\"b1\",\"a2\",\"b2\",\"a0\",\"b0\",\"a1\",\"b1\",\"a2\",\"b2\",\"a0\",\"b0\",\"a1\",\"b1\",\"a2\",\"b2\",\"a0\",\"b0\",\"a1\",\"b1\",\"a2\",\"b2\",\"a0\",\"b0\",\"a1\",\"b1\",\"a2\",\"b2\",\"a0\",\"b0\",\"a1\",\"b1\",\"a2\",\"b2\",\"a0\",\"b0\",\"a1\",\"b1\",\"a2\",\"b2\",\"a0\",\"b0\",\"a1\",\"b1\",\"a2\",\"b2\",\"a0\",\"b0\",\"a1\",\"b1\",\"a2\",\"b2\",\"a0\",\"b0\",\"a1\",\"b1\",\"a2\",\"b2\",\"a0\",\"b0\",\"a1\",\"b1\",\"a2\",\"b2\",\"a0\",\"b0\",\"a1\",\"b1\",\"a2\",\"b2\"],\"start_value\":{\"__ndarray__\":\"QPq3UB7EuL/SjZtfx3Hxv8KTDxAarQbA4PbtHpDh+z84vkDhbo3Vv1F8A9QpZfG/UGuc2uLsAUBujtgBdTwDwDg9d99U2/Q/MGf+eHTl4r+Q2aIdRuHvv3hfq1dFavY/rBLi7f6N6r+sfuzDFMDwPzi2uR1ZAf4/fKCz/dOWBMDQchDubgzhv3ZmDruDwwZAfKEumbMpAsBCiy6XLfr0vyn6rvcpnva/TnIwPztiBcAdAigBLyEGwGgnTvVeV+q/4COX5UqI9D/4IqAbnWz9P4ynCxXRg/o/7iIPfUP9AkByKynfBVYHwF/54qiyt/S/uPVD7Eqx5z80dybeU/YAQLhYqw/RFATA26nOQJPp8r8Moc4eedb7v5I1ngHR8gZAAP4uGAz87j9kp8rBtMrwPygSiia+4/E/zIc+4ZVw7L9A03Bb0rrVP5zajMJv8wTAwE07VGf5t7/YzSuZCxHzP5BZqjq1UcW/nNgk3LZi8L9dHSPn/+78vyAibIsQHsY/HOnyM1AvBEC0m0Le+zgHwCrBbY+dBwHAogJ1/wNnA8AE8jJ06MoFQPxK51W2U/k/sMmURq5d2D9ImstfmaYEQHiX8s+hude/sETRA6oU8z+8WEQ5el8HwEAIY/jeiLg/QPq3UB7EuL/SjZtfx3Hxv8KTDxAarQbA4PbtHpDh+z84vkDhbo3Vv1F8A9QpZfG/UGuc2uLsAUBujtgBdTwDwDg9d99U2/Q/MGf+eHTl4r+Q2aIdRuHvv3hfq1dFavY/rBLi7f6N6r+sfuzDFMDwPzi2uR1ZAf4/fKCz/dOWBMDQchDubgzhv3ZmDruDwwZAfKEumbMpAsBCiy6XLfr0vyn6rvcpnva/TnIwPztiBcAdAigBLyEGwGgnTvVeV+q/4COX5UqI9D/4IqAbnWz9P4ynCxXRg/o/7iIPfUP9AkByKynfBVYHwF/54qiyt/S/uPVD7Eqx5z80dybeU/YAQLhYqw/RFATA26nOQJPp8r8Moc4eedb7v5I1ngHR8gZAAP4uGAz87j9kp8rBtMrwPygSiia+4/E/zIc+4ZVw7L9A03Bb0rrVP5zajMJv8wTAwE07VGf5t7/YzSuZCxHzP5BZqjq1UcW/nNgk3LZi8L9dHSPn/+78vyAibIsQHsY/HOnyM1AvBEC0m0Le+zgHwCrBbY+dBwHAogJ1/wNnA8AE8jJ06MoFQPxK51W2U/k/sMmURq5d2D9ImstfmaYEQHiX8s+hude/sETRA6oU8z+8WEQ5el8HwEAIY/jeiLg/QPq3UB7EuL/SjZtfx3Hxv8KTDxAarQbA4PbtHpDh+z84vkDhbo3Vv1F8A9QpZfG/UGuc2uLsAUBujtgBdTwDwDg9d99U2/Q/MGf+eHTl4r+Q2aIdRuHvv3hfq1dFavY/rBLi7f6N6r+sfuzDFMDwPzi2uR1ZAf4/fKCz/dOWBMDQchDubgzhv3ZmDruDwwZAfKEumbMpAsBCiy6XLfr0vyn6rvcpnva/TnIwPztiBcAdAigBLyEGwGgnTvVeV+q/4COX5UqI9D/4IqAbnWz9P4ynCxXRg/o/7iIPfUP9AkByKynfBVYHwF/54qiyt/S/uPVD7Eqx5z80dybeU/YAQLhYqw/RFATA26nOQJPp8r8Moc4eedb7v5I1ngHR8gZAAP4uGAz87j9kp8rBtMrwPygSiia+4/E/zIc+4ZVw7L9A03Bb0rrVP5zajMJv8wTAwE07VGf5t7/YzSuZCxHzP5BZqjq1UcW/nNgk3LZi8L9dHSPn/+78vyAibIsQHsY/HOnyM1AvBEC0m0Le+zgHwCrBbY+dBwHAogJ1/wNnA8AE8jJ06MoFQPxK51W2U/k/sMmURq5d2D9ImstfmaYEQHiX8s+hude/sETRA6oU8z+8WEQ5el8HwEAIY/jeiLg/\",\"dtype\":\"float64\",\"shape\":[180]}},\"selected\":{\"id\":\"3096\",\"type\":\"Selection\"},\"selection_policy\":{\"id\":\"3095\",\"type\":\"UnionRenderers\"}},\"id\":\"3015\",\"type\":\"ColumnDataSource\"},{\"attributes\":{\"fill_alpha\":{\"value\":0.2},\"fill_color\":{\"field\":\"color\"},\"line_alpha\":{\"value\":0.2},\"line_color\":{\"field\":\"color\"},\"size\":{\"units\":\"screen\",\"value\":12},\"x\":{\"field\":\"final_value\"},\"y\":{\"field\":\"full_name\"}},\"id\":\"3078\",\"type\":\"Scatter\"},{\"attributes\":{\"callback\":null,\"renderers\":[{\"id\":\"3043\",\"type\":\"GlyphRenderer\"}],\"tooltips\":[[\"Start Value\",\"@start_value\"],[\"Model Class\",\"@model_class\"]]},\"id\":\"3051\",\"type\":\"HoverTool\"},{\"attributes\":{\"formatter\":{\"id\":\"3092\",\"type\":\"BasicTickFormatter\"},\"ticker\":{\"id\":\"3028\",\"type\":\"BasicTicker\"}},\"id\":\"3027\",\"type\":\"LinearAxis\"},{\"attributes\":{},\"id\":\"3095\",\"type\":\"UnionRenderers\"},{\"attributes\":{\"callback\":null},\"id\":\"3056\",\"type\":\"DataRange1d\"},{\"attributes\":{\"data_source\":{\"id\":\"3015\",\"type\":\"ColumnDataSource\"},\"glyph\":{\"id\":\"3046\",\"type\":\"HBar\"},\"hover_glyph\":null,\"muted_glyph\":null,\"nonselection_glyph\":{\"id\":\"3047\",\"type\":\"HBar\"},\"selection_glyph\":{\"id\":\"3048\",\"type\":\"HBar\"},\"view\":{\"id\":\"3050\",\"type\":\"CDSView\"}},\"id\":\"3049\",\"type\":\"GlyphRenderer\"},{\"attributes\":{\"fill_alpha\":{\"value\":0.7},\"fill_color\":{\"field\":\"color\"},\"line_alpha\":{\"value\":0.7},\"line_color\":{\"field\":\"color\"},\"size\":{\"units\":\"screen\",\"value\":12},\"x\":{\"field\":\"final_value\"},\"y\":{\"field\":\"full_name\"}},\"id\":\"3079\",\"type\":\"Scatter\"},{\"attributes\":{},\"id\":\"3096\",\"type\":\"Selection\"},{\"attributes\":{},\"id\":\"3070\",\"type\":\"CategoricalTicker\"},{\"attributes\":{},\"id\":\"3033\",\"type\":\"CategoricalTicker\"},{\"attributes\":{},\"id\":\"3100\",\"type\":\"BasicTickFormatter\"},{\"attributes\":{\"fill_alpha\":{\"value\":0.0},\"fill_color\":{\"field\":\"color\"},\"height\":{\"value\":0.01},\"left\":{\"field\":\"conf_int_lower\"},\"line_alpha\":{\"value\":0.0},\"line_color\":{\"field\":\"color\"},\"right\":{\"field\":\"conf_int_upper\"},\"y\":{\"field\":\"full_name\"}},\"id\":\"3047\",\"type\":\"HBar\"},{\"attributes\":{},\"id\":\"3023\",\"type\":\"LinearScale\"},{\"attributes\":{\"active_drag\":\"auto\",\"active_inspect\":\"auto\",\"active_multi\":null,\"active_scroll\":\"auto\",\"active_tap\":\"auto\",\"tools\":[{\"id\":\"3073\",\"type\":\"TapTool\"},{\"id\":\"3088\",\"type\":\"HoverTool\"}]},\"id\":\"3074\",\"type\":\"Toolbar\"},{\"attributes\":{},\"id\":\"3102\",\"type\":\"CategoricalTickFormatter\"},{\"attributes\":{\"tools\":[{\"id\":\"3036\",\"type\":\"TapTool\"},{\"id\":\"3051\",\"type\":\"HoverTool\"},{\"id\":\"3073\",\"type\":\"TapTool\"},{\"id\":\"3088\",\"type\":\"HoverTool\"}]},\"id\":\"3107\",\"type\":\"ProxyToolbar\"},{\"attributes\":{\"ticker\":{\"id\":\"3028\",\"type\":\"BasicTicker\"}},\"id\":\"3031\",\"type\":\"Grid\"},{\"attributes\":{\"text\":\"Comparison Plot of B Parameters\"},\"id\":\"3054\",\"type\":\"Title\"},{\"attributes\":{\"toolbar\":{\"id\":\"3107\",\"type\":\"ProxyToolbar\"},\"toolbar_location\":\"above\"},\"id\":\"3108\",\"type\":\"ToolbarBox\"}],\"root_ids\":[\"3109\"]},\"title\":\"Bokeh Application\",\"version\":\"1.2.0\"}};\n",
       "  var render_items = [{\"docid\":\"035f9ae2-2fef-46c5-976d-ead868d9cc1d\",\"roots\":{\"3109\":\"fcf05b69-8326-49be-b292-7d781a977347\"}}];\n",
       "  root.Bokeh.embed.embed_items_notebook(docs_json, render_items);\n",
       "\n",
       "  }\n",
       "  if (root.Bokeh !== undefined) {\n",
       "    embed_document(root);\n",
       "  } else {\n",
       "    var attempts = 0;\n",
       "    var timer = setInterval(function(root) {\n",
       "      if (root.Bokeh !== undefined) {\n",
       "        embed_document(root);\n",
       "        clearInterval(timer);\n",
       "      }\n",
       "      attempts++;\n",
       "      if (attempts > 100) {\n",
       "        console.log(\"Bokeh: ERROR: Unable to run BokehJS code because BokehJS library is missing\");\n",
       "        clearInterval(timer);\n",
       "      }\n",
       "    }, 10, root)\n",
       "  }\n",
       "})(window);"
      ],
      "application/vnd.bokehjs_exec.v0+json": ""
     },
     "metadata": {
      "application/vnd.bokehjs_exec.v0+json": {
       "id": "3109"
      }
     },
     "output_type": "display_data"
    }
   ],
   "source": [
    "from bokeh.models import HoverTool\n",
    "\n",
    "source = ColumnDataSource(df)\n",
    "figures = []\n",
    "for param_group_name, height in param_groups_and_heights:\n",
    "    df_slice = df[df['group'] == param_group_name]\n",
    "    param_names_to_plot = sorted(df_slice[\"full_name\"].unique(), reverse=True)\n",
    "\n",
    "    p = figure(\n",
    "        title=\"Comparison Plot of {} Parameters\".format(param_group_name.title()),\n",
    "        plot_height=300,\n",
    "        plot_width=500,\n",
    "        y_range=param_names_to_plot,\n",
    "        tools='tap',\n",
    "    )\n",
    "\n",
    "    scatter = p.scatter(\n",
    "        source=source,\n",
    "        x=\"final_value\",\n",
    "        y=\"full_name\",\n",
    "        size=12,\n",
    "        alpha=0.5,\n",
    "        selection_alpha=0.7,\n",
    "        nonselection_alpha=0.2,\n",
    "\n",
    "        color=\"color\",\n",
    "        selection_color=\"color\",\n",
    "        nonselection_color=\"color\",    \n",
    "    )\n",
    "    \n",
    "    p.hbar(\n",
    "        source=source,\n",
    "        left=\"conf_int_lower\",\n",
    "        right=\"conf_int_upper\",\n",
    "        y=\"full_name\",\n",
    "        height=0.01,\n",
    "        alpha=0.0,\n",
    "        selection_alpha=0.25,\n",
    "        nonselection_alpha=0.0,\n",
    "        color=\"color\",\n",
    "        selection_color=\"color\",\n",
    "        nonselection_color=\"color\",\n",
    "    )\n",
    "    \n",
    "    # =======================================    \n",
    "    # Overlay additional information when hovering on a point\n",
    "    to_display = [('Start Value', '@start_value'), ('Model Class', '@model_class')]\n",
    "    hover = HoverTool(renderers=[scatter], tooltips=to_display)\n",
    "    p.tools.append(hover)\n",
    "    # =======================================\n",
    "\n",
    "    figures.append(p)\n",
    "\n",
    "    \n",
    "grid = gridplot(figures, ncols=1)\n",
    "\n",
    "show(grid)"
   ]
  },
  {
   "cell_type": "code",
   "execution_count": null,
   "metadata": {},
   "outputs": [],
   "source": []
  },
  {
   "cell_type": "markdown",
   "metadata": {},
   "source": [
    "## Advanced Interactions\n",
    "\n",
    "## Only show confidence intervals of selected parameters"
   ]
  },
  {
   "cell_type": "markdown",
   "metadata": {},
   "source": [
    "This processing of a user's input (usually by updating the data and then the plot) is called a **callback**. \n",
    "\n",
    "Up until now, we were using pre-implemented callbacks supplied by Bokeh. \n",
    "\n",
    "They all had in common that they only needed information of the row of the point that the user was hovering or clicking! (i.e. only mark that row selected or display information from that same row of our data set).\n",
    "\n",
    "What we want to do next is more complicated: \n",
    "\n",
    "From the point the user selected, we want to identify the model that this point belongs to and then mark all points selected that also belong to this model and then update our back.\n",
    "\n",
    "As this is non-standard we are going to implement a custom callback!"
   ]
  },
  {
   "cell_type": "markdown",
   "metadata": {},
   "source": [
    "### To implement this we need:\n",
    "\n",
    "1. a ColumnDataSource that is used by all plots as it tracks for us which points are selected and we can modify this information\n",
    "\n",
    "2. a customizable implementation of TapTool\n",
    "\n",
    "3. Code to convert the input from the user to a different selection"
   ]
  },
  {
   "cell_type": "code",
   "execution_count": null,
   "metadata": {},
   "outputs": [],
   "source": []
  },
  {
   "cell_type": "markdown",
   "metadata": {},
   "source": [
    "### Background Information: Custom Callbacks in Bokeh\n",
    "\n",
    "- Bokeh is **not** a pure Python package. \n",
    "\n",
    "- Python's Bokeh library creates objects and passes them to BokehJS\n",
    "\n",
    "- It is possible to have Python callbacks but to do that we'd have to set up a Bokeh server. \n",
    "    - Have a look at the implementation of the Estimagic Dashboard if you are interested \n",
    "    - Bokeh also has many examples using the command line command ``bokeh --serve``: https://bokeh.pydata.org/en/latest/docs/gallery.html#server-app-examples\n",
    "    - for general information on Bokeh Servers see https://bokeh.pydata.org/en/latest/docs/user_guide/server.html\n"
   ]
  },
  {
   "cell_type": "markdown",
   "metadata": {},
   "source": [
    "### Today: Pass a JavaScript callback to update the data to our TapTool.\n",
    "\n",
    "#### Here is the JavaScript code:"
   ]
  },
  {
   "cell_type": "markdown",
   "metadata": {},
   "source": [
    "```javascript\n",
    "\n",
    "var chosen = source.selected.indices;\n",
    "if (typeof(chosen) == \"number\"){\n",
    "    var chosen = [chosen]\n",
    "};\n",
    "\n",
    "var chosen_models = [];\n",
    "\n",
    "for (var i = 0; i < chosen.length; ++ i){\n",
    "    chosen_models.push(source.data['model'][chosen[i]])\n",
    "};\n",
    "\n",
    "var chosen_models_indices = [];\n",
    "\n",
    "for (var i = 0; i < source.data['index'].length; ++ i){\n",
    "    if (chosen_models.includes(source.data['model'][i])){\n",
    "        chosen_models_indices.push(i)\n",
    "    };\n",
    "};\n",
    "\n",
    "source.selected.indices = chosen_models_indices;\n",
    "source.change.emit();\n",
    "```"
   ]
  },
  {
   "cell_type": "code",
   "execution_count": 17,
   "metadata": {},
   "outputs": [
    {
     "data": {
      "text/html": [
       "\n",
       "\n",
       "\n",
       "\n",
       "\n",
       "\n",
       "  <div class=\"bk-root\" id=\"a18f8b2c-ebb2-4b2a-806a-e8bd7f1e2e79\" data-root-id=\"2820\"></div>\n"
      ]
     },
     "metadata": {},
     "output_type": "display_data"
    },
    {
     "data": {
      "application/javascript": [
       "(function(root) {\n",
       "  function embed_document(root) {\n",
       "    \n",
       "  var docs_json = {\"f94e9bd1-1f70-4931-abcc-6e202a738e8b\":{\"roots\":{\"references\":[{\"attributes\":{\"children\":[{\"id\":\"2819\",\"type\":\"ToolbarBox\"},{\"id\":\"2817\",\"type\":\"GridBox\"}]},\"id\":\"2820\",\"type\":\"Column\"},{\"attributes\":{},\"id\":\"2726\",\"type\":\"SaveTool\"},{\"attributes\":{},\"id\":\"2772\",\"type\":\"WheelZoomTool\"},{\"attributes\":{},\"id\":\"2715\",\"type\":\"BasicTicker\"},{\"attributes\":{},\"id\":\"2801\",\"type\":\"BasicTickFormatter\"},{\"attributes\":{\"fill_alpha\":{\"value\":0.0},\"fill_color\":{\"field\":\"color\"},\"height\":{\"value\":0.01},\"left\":{\"field\":\"conf_int_lower\"},\"line_alpha\":{\"value\":0.0},\"line_color\":{\"field\":\"color\"},\"right\":{\"field\":\"conf_int_upper\"},\"y\":{\"field\":\"full_name\"}},\"id\":\"2743\",\"type\":\"HBar\"},{\"attributes\":{\"overlay\":{\"id\":\"2813\",\"type\":\"BoxAnnotation\"}},\"id\":\"2773\",\"type\":\"BoxZoomTool\"},{\"attributes\":{\"ticker\":{\"id\":\"2715\",\"type\":\"BasicTicker\"}},\"id\":\"2718\",\"type\":\"Grid\"},{\"attributes\":{\"fill_alpha\":{\"value\":0.0},\"fill_color\":{\"field\":\"color\"},\"height\":{\"value\":0.01},\"left\":{\"field\":\"conf_int_lower\"},\"line_alpha\":{\"value\":0.0},\"line_color\":{\"field\":\"color\"},\"right\":{\"field\":\"conf_int_upper\"},\"y\":{\"field\":\"full_name\"}},\"id\":\"2744\",\"type\":\"HBar\"},{\"attributes\":{},\"id\":\"2803\",\"type\":\"CategoricalTickFormatter\"},{\"attributes\":{},\"id\":\"2774\",\"type\":\"SaveTool\"},{\"attributes\":{\"formatter\":{\"id\":\"2803\",\"type\":\"CategoricalTickFormatter\"},\"ticker\":{\"id\":\"2720\",\"type\":\"CategoricalTicker\"}},\"id\":\"2719\",\"type\":\"CategoricalAxis\"},{\"attributes\":{\"bottom_units\":\"screen\",\"fill_alpha\":{\"value\":0.5},\"fill_color\":{\"value\":\"lightgrey\"},\"left_units\":\"screen\",\"level\":\"overlay\",\"line_alpha\":{\"value\":1.0},\"line_color\":{\"value\":\"black\"},\"line_dash\":[4,4],\"line_width\":{\"value\":2},\"render_mode\":\"css\",\"right_units\":\"screen\",\"top_units\":\"screen\"},\"id\":\"2804\",\"type\":\"BoxAnnotation\"},{\"attributes\":{\"fill_alpha\":{\"value\":0.25},\"fill_color\":{\"field\":\"color\"},\"height\":{\"value\":0.01},\"left\":{\"field\":\"conf_int_lower\"},\"line_alpha\":{\"value\":0.25},\"line_color\":{\"field\":\"color\"},\"right\":{\"field\":\"conf_int_upper\"},\"y\":{\"field\":\"full_name\"}},\"id\":\"2745\",\"type\":\"HBar\"},{\"attributes\":{},\"id\":\"2775\",\"type\":\"ResetTool\"},{\"attributes\":{},\"id\":\"2720\",\"type\":\"CategoricalTicker\"},{\"attributes\":{\"data_source\":{\"id\":\"2702\",\"type\":\"ColumnDataSource\"},\"glyph\":{\"id\":\"2743\",\"type\":\"HBar\"},\"hover_glyph\":null,\"muted_glyph\":null,\"nonselection_glyph\":{\"id\":\"2744\",\"type\":\"HBar\"},\"selection_glyph\":{\"id\":\"2745\",\"type\":\"HBar\"},\"view\":{\"id\":\"2747\",\"type\":\"CDSView\"}},\"id\":\"2746\",\"type\":\"GlyphRenderer\"},{\"attributes\":{},\"id\":\"2805\",\"type\":\"UnionRenderers\"},{\"attributes\":{},\"id\":\"2776\",\"type\":\"HelpTool\"},{\"attributes\":{\"dimension\":1,\"ticker\":{\"id\":\"2720\",\"type\":\"CategoricalTicker\"}},\"id\":\"2722\",\"type\":\"Grid\"},{\"attributes\":{\"source\":{\"id\":\"2702\",\"type\":\"ColumnDataSource\"}},\"id\":\"2747\",\"type\":\"CDSView\"},{\"attributes\":{},\"id\":\"2806\",\"type\":\"Selection\"},{\"attributes\":{\"active_drag\":\"auto\",\"active_inspect\":\"auto\",\"active_multi\":null,\"active_scroll\":\"auto\",\"active_tap\":\"auto\",\"tools\":[{\"id\":\"2771\",\"type\":\"PanTool\"},{\"id\":\"2772\",\"type\":\"WheelZoomTool\"},{\"id\":\"2773\",\"type\":\"BoxZoomTool\"},{\"id\":\"2774\",\"type\":\"SaveTool\"},{\"id\":\"2775\",\"type\":\"ResetTool\"},{\"id\":\"2776\",\"type\":\"HelpTool\"},{\"id\":\"2797\",\"type\":\"TapTool\"}]},\"id\":\"2777\",\"type\":\"Toolbar\"},{\"attributes\":{\"callback\":null},\"id\":\"2754\",\"type\":\"DataRange1d\"},{\"attributes\":{\"text\":\"Comparison Plot of A Parameters\"},\"id\":\"2704\",\"type\":\"Title\"},{\"attributes\":{\"fill_alpha\":{\"value\":0.5},\"fill_color\":{\"field\":\"color\"},\"line_alpha\":{\"value\":0.5},\"line_color\":{\"field\":\"color\"},\"marker\":{\"field\":\"marker\"},\"size\":{\"units\":\"screen\",\"value\":12},\"x\":{\"field\":\"final_value\"},\"y\":{\"field\":\"full_name\"}},\"id\":\"2737\",\"type\":\"Scatter\"},{\"attributes\":{\"callback\":null,\"factors\":[\"b_b2\",\"b_b1\",\"b_b0\"]},\"id\":\"2756\",\"type\":\"FactorRange\"},{\"attributes\":{},\"id\":\"2810\",\"type\":\"BasicTickFormatter\"},{\"attributes\":{\"args\":{\"source\":{\"id\":\"2702\",\"type\":\"ColumnDataSource\"}},\"code\":\"var chosen = source.selected.indices;\\nif (typeof(chosen) == \\\"number\\\"){\\n    var chosen = [chosen]\\n};\\n\\nvar chosen_models = [];\\n\\nfor (var i = 0; i < chosen.length; ++ i){\\n    chosen_models.push(source.data['model'][chosen[i]])\\n};\\n\\nvar chosen_models_indices = [];\\n\\nfor (var i = 0; i < source.data['index'].length; ++ i){\\n    if (chosen_models.includes(source.data['model'][i])){\\n        chosen_models_indices.push(i)\\n    };\\n};\\n\\nsource.selected.indices = chosen_models_indices;\\nsource.change.emit();\"},\"id\":\"2796\",\"type\":\"CustomJS\"},{\"attributes\":{},\"id\":\"2812\",\"type\":\"CategoricalTickFormatter\"},{\"attributes\":{\"data_source\":{\"id\":\"2702\",\"type\":\"ColumnDataSource\"},\"glyph\":{\"id\":\"2785\",\"type\":\"Scatter\"},\"hover_glyph\":null,\"muted_glyph\":null,\"nonselection_glyph\":{\"id\":\"2786\",\"type\":\"Scatter\"},\"selection_glyph\":{\"id\":\"2787\",\"type\":\"Scatter\"},\"view\":{\"id\":\"2789\",\"type\":\"CDSView\"}},\"id\":\"2788\",\"type\":\"GlyphRenderer\"},{\"attributes\":{},\"id\":\"2758\",\"type\":\"LinearScale\"},{\"attributes\":{\"fill_alpha\":{\"value\":0.8},\"fill_color\":{\"field\":\"color\"},\"line_alpha\":{\"value\":0.8},\"line_color\":{\"field\":\"color\"},\"marker\":{\"field\":\"marker\"},\"size\":{\"units\":\"screen\",\"value\":12},\"x\":{\"field\":\"final_value\"},\"y\":{\"field\":\"full_name\"}},\"id\":\"2739\",\"type\":\"Scatter\"},{\"attributes\":{\"fill_alpha\":{\"value\":0.8},\"fill_color\":{\"field\":\"color\"},\"line_alpha\":{\"value\":0.8},\"line_color\":{\"field\":\"color\"},\"marker\":{\"field\":\"marker\"},\"size\":{\"units\":\"screen\",\"value\":12},\"x\":{\"field\":\"final_value\"},\"y\":{\"field\":\"full_name\"}},\"id\":\"2787\",\"type\":\"Scatter\"},{\"attributes\":{\"bottom_units\":\"screen\",\"fill_alpha\":{\"value\":0.5},\"fill_color\":{\"value\":\"lightgrey\"},\"left_units\":\"screen\",\"level\":\"overlay\",\"line_alpha\":{\"value\":1.0},\"line_color\":{\"value\":\"black\"},\"line_dash\":[4,4],\"line_width\":{\"value\":2},\"render_mode\":\"css\",\"right_units\":\"screen\",\"top_units\":\"screen\"},\"id\":\"2813\",\"type\":\"BoxAnnotation\"},{\"attributes\":{},\"id\":\"2723\",\"type\":\"PanTool\"},{\"attributes\":{},\"id\":\"2760\",\"type\":\"CategoricalScale\"},{\"attributes\":{\"source\":{\"id\":\"2702\",\"type\":\"ColumnDataSource\"}},\"id\":\"2789\",\"type\":\"CDSView\"},{\"attributes\":{},\"id\":\"2724\",\"type\":\"WheelZoomTool\"},{\"attributes\":{\"fill_alpha\":{\"value\":0.2},\"fill_color\":{\"field\":\"color\"},\"line_alpha\":{\"value\":0.2},\"line_color\":{\"field\":\"color\"},\"marker\":{\"field\":\"marker\"},\"size\":{\"units\":\"screen\",\"value\":12},\"x\":{\"field\":\"final_value\"},\"y\":{\"field\":\"full_name\"}},\"id\":\"2738\",\"type\":\"Scatter\"},{\"attributes\":{\"formatter\":{\"id\":\"2810\",\"type\":\"BasicTickFormatter\"},\"ticker\":{\"id\":\"2763\",\"type\":\"BasicTicker\"}},\"id\":\"2762\",\"type\":\"LinearAxis\"},{\"attributes\":{\"callback\":null,\"data\":{\"color\":[\"forestgreen\",\"forestgreen\",\"forestgreen\",\"forestgreen\",\"forestgreen\",\"forestgreen\",\"forestgreen\",\"forestgreen\",\"forestgreen\",\"forestgreen\",\"forestgreen\",\"forestgreen\",\"forestgreen\",\"forestgreen\",\"forestgreen\",\"forestgreen\",\"forestgreen\",\"forestgreen\",\"forestgreen\",\"forestgreen\",\"forestgreen\",\"forestgreen\",\"forestgreen\",\"forestgreen\",\"forestgreen\",\"forestgreen\",\"forestgreen\",\"forestgreen\",\"forestgreen\",\"forestgreen\",\"forestgreen\",\"forestgreen\",\"forestgreen\",\"forestgreen\",\"forestgreen\",\"forestgreen\",\"forestgreen\",\"forestgreen\",\"forestgreen\",\"forestgreen\",\"forestgreen\",\"forestgreen\",\"forestgreen\",\"forestgreen\",\"forestgreen\",\"forestgreen\",\"forestgreen\",\"forestgreen\",\"forestgreen\",\"forestgreen\",\"forestgreen\",\"forestgreen\",\"forestgreen\",\"forestgreen\",\"forestgreen\",\"forestgreen\",\"forestgreen\",\"forestgreen\",\"forestgreen\",\"forestgreen\",\"#035096\",\"#035096\",\"#035096\",\"#035096\",\"#035096\",\"#035096\",\"#035096\",\"#035096\",\"#035096\",\"#035096\",\"#035096\",\"#035096\",\"#035096\",\"#035096\",\"#035096\",\"#035096\",\"#035096\",\"#035096\",\"#035096\",\"#035096\",\"#035096\",\"#035096\",\"#035096\",\"#035096\",\"#035096\",\"#035096\",\"#035096\",\"#035096\",\"#035096\",\"#035096\",\"#035096\",\"#035096\",\"#035096\",\"#035096\",\"#035096\",\"#035096\",\"#035096\",\"#035096\",\"#035096\",\"#035096\",\"#035096\",\"#035096\",\"#035096\",\"#035096\",\"#035096\",\"#035096\",\"#035096\",\"#035096\",\"#035096\",\"#035096\",\"#035096\",\"#035096\",\"#035096\",\"#035096\",\"#035096\",\"#035096\",\"#035096\",\"#035096\",\"#035096\",\"#035096\",\"firebrick\",\"firebrick\",\"firebrick\",\"firebrick\",\"firebrick\",\"firebrick\",\"firebrick\",\"firebrick\",\"firebrick\",\"firebrick\",\"firebrick\",\"firebrick\",\"firebrick\",\"firebrick\",\"firebrick\",\"firebrick\",\"firebrick\",\"firebrick\",\"firebrick\",\"firebrick\",\"firebrick\",\"firebrick\",\"firebrick\",\"firebrick\",\"firebrick\",\"firebrick\",\"firebrick\",\"firebrick\",\"firebrick\",\"firebrick\",\"firebrick\",\"firebrick\",\"firebrick\",\"firebrick\",\"firebrick\",\"firebrick\",\"firebrick\",\"firebrick\",\"firebrick\",\"firebrick\",\"firebrick\",\"firebrick\",\"firebrick\",\"firebrick\",\"firebrick\",\"firebrick\",\"firebrick\",\"firebrick\",\"firebrick\",\"firebrick\",\"firebrick\",\"firebrick\",\"firebrick\",\"firebrick\",\"firebrick\",\"firebrick\",\"firebrick\",\"firebrick\",\"firebrick\",\"firebrick\"],\"conf_int_lower\":{\"__ndarray__\":\"BQqOaxnVi78pfEGAjEmWv2N0Yj9VDZO/78uFzIROnL9kFkwsCTeTvwQM/dijLJa/wITQ+f2sQT98HKOrjZuUvzV3VRB9PZm/a53hDQt3nr9B/FpMFtCWv7T+3GpsSJ2/DG4ZfBScUj/belxqFteWv/r4HFf6M4i/yevP2J0Clb8P7wMst0aQv4iqLlFUfJO/fGLi5zkWnL+OrTVB3T+Kv+aDw8xAIqW/fxPkv0Ueib/w0eb4YY6Dv5iHJaVX75y/wJGBRBs3pb83UVHlYfyYvyFeXhB1aaG/Aw9X2+I2m7+8Y8BMzUusv5Qelp1533C/WspyoFWzir96su0J64KUvyIMBgSCd4C/ORf6jTwPlL/46rxBM56mv6inuJDndpa/I01fAHKHjL8Oe+fxxrydv9BGzmmnsZC/h5HsMpl4kr8uGZ0nrB6bvz71G1zfYoO/Vi1WXaWNpr8u7QmYyuOOv3Kig3N3p5W/0XHUfTgngL+8QBCOprCIv7MTmLO4N4+/lhdhDFClnr9UW26hf6qTv7QBYpvTHnc/XgOd7+TClL9/7uKXacCOv6aRFYeHQpa/6wNDY7vHh79j0HD/cBeSv8zo6cHi+6C/36LyPgcLlb9EgjY25eGZv7kf5mmUdqG//oD0NO2Vl79PVP2rwxCTvxrEF7BHj6e/4djVoTFNpr+gb26EISmkv+NNLJVcAqC/TWH8Le56lb/2KASUmPKgv5xnz1oBzIa/upWsIYs3pr9A0VVzxARbv/YETiHqSKm/1ljTXfH3mD8BFDbspAGjvwqC5WGF+7e/WlkZ7/94mr9yVUjBfTqlP1oMQ4OvEKa/KP2xVv6qar9r8o/iCzWhv7RparOdX3m/Yt0bB7K0lr/d392M5fyhv6gic4OkCaG/m+oTBg/UrL+0Zk+vxneRvzskrhTNcKC/FjjLLTUspL94wPS1YbWVvxqYqEavAJS/H7nTxMPPuD/2SV3gC+miv9rscw6yU56/h2wXQXqZn79u322j0ZWuv7o1gnv+tpm/OR+Bb6wcsz+9UxeberahvwGFgPwh7tE/bALjiARJsr84JiL7/pnbPwwbCFfpO7W/7kZymSYenr9toJPxMFaivwmQOAHVoZO/EqhmUjqKqL/IdtNcqoKBvyJ2ZnL9o4K/R0iqUDktqb/GcTFP5/qovzCowChTCau/AE5fldZPn7/JK9ErmN2ovw9vXeCAiKC/8JoYSCVkeb8i15HuiF+jv2R5/Aplr56/p5RGg/zpnb+WbPKswc+fv/8L3BooZ6m/NJNr/92LoL9e7+6gzauyv/V7VWoeErG/f/5iIB3+qr93fEJozAK2v63Mt+9A3ae/cB7dWAnAqL96t8caviubv8DJCCdB6Yq/ZKHrXLzkn79zbQkEpCubvz/qG8VDXqe/EduwtGb6o79OdIPgjYasv+DzQjPfbbW/+3e0kjgfor/YvEluALWiv9Xv+x7gray/HzIPncErmb8hzvFYm/2hv4LMfK6S0a6/kgiI3F0op79Hxb7JRnecv+W1qoM+baO/pTL0Ji1lsL/IJwxalU2vv8pXU0UOJLO/0c/QRjz5qL/CHzVngx+8v/L8KDkOKqW/BNBp+T0cr79GZ7hS88GhvxBLdcVg32A/6FAeQ9bxrb8kAjhOektwv6QL0xz+GJG/rF4wpTqcs7+MQdRJi4GIv6BLZ5XBtJa/74MFDR5gk7//yoA9o8aTv5FGJ68+0KW/q2mPEJ9Dnr9GD8Gd4SitvyLcvbw/M6i/Pi6ZbJItnL/gTQ9tQqiRvwgbN4d9iZq/KN973zC0h7+G9bPzzpSrv1QpeuJJxaa/a8+xI8QYpb9w9/o7vYmqv6mmp/ro2p+/2gZyiQZClr8g/8U2drKqv459UDNJbbC/Ux4ZrPTspL/XZWGHoJipv2JLUpqnIaq/\",\"dtype\":\"float64\",\"shape\":[180]},\"conf_int_upper\":{\"__ndarray__\":\"PcAXYP1nkz9xqoiHWYCVP0JPedxeHoU/NiNEoxo4mT+upLzii2GgP/rgTom1RZM/gOXCmmXEoj9/fQirNB6bP7dQLyXwnZo/Vpyg8FEamD/Ly7KxwpyTP9+f0SYVS5Q/i+1uBIfslT8iFWFzVy2HP3Q58woJQpo/IH+O0Zd/kD83NCPiEfSdP+OUkI41R50/FEybpjdqmz9W0jQF17CMPxg05qMVf3g/YFmH8xY+mj8uGB4IuFKhP8Qx2/6iL5M/QPftb324Wb+4CVpOWDGTP0BZHW4KBH8/tqYFN3vUlD/gcb9EXpdKP4yTPT5XIZE/csJ4KDT8mD9jhUClfxqTP/HU7bwOfZ8//gE+zcFIhT+KmAevw55yv0SqyCbccZc/csxXhKdJfT8HEZNnGpSOPwNdeRWQypk/zCUb6csFmT8vgoSItfaLP2xtW1PrN34/AM7PAtA1ID9tBwdjXgygP8X1zVgTNYk/5VqL3PXmoD+Ra/LoUHuDP2y+I+3veZI/nrKX7KQPgL8q3lb1cHuNP/b3Dvaumak/CxRFaPZWlD/DgLlx8valPx9q/x+uV5E/fonqZohNmD9K0cb3GxWSP+5ypTozoJM/R4tM3Xktjz92lmogS26ZPyEPJl6tJZ0/VpVnl9NElD/WDoXVUfOUP0ipiz6k55U/qD24rL8spj8mRxkWeyudP1UbDyjQ4p8/HwCBSMnFkz+MLRDO4IeiP/WnAihDxKA/XjIGa8I4mT+AxI/fg5OsPyKO3Txc36E/sPAcryzTtT/IqzwPhuaFP//FN2H7ZaK/OK5BtVf+oj9qbbkuN3yxP6myW7X+HqE/A6rPTpBEpz9qHClZLdujPy7xFnIdl7A/wLFew+18jz8kPppvi1CkP9YQ0ofyS6E/ToO/Wwb0lj/C82WkNcKcP3s84mVjM5g/BiHxGxgXoj8TrizizjioPzy0S4V0VKI/EeIPqtdxwz8ER1HxPeefP0z+Hv6cZKQ/++9g6Qf5pz+QIul98p90vzMSNW+jH6A/eBJMy4oyxD9QhsZr7mKZP0wxvoAlYtQ/hjf9+Fidjr8AWHCTNkTgP9QVjIGCFpW/mn0qTFEUjD88k4CMQ/qEP1gZjmO6ipo/Xz2mlMJZoT8ocJ3aQV6hP7Lg+PghZpw/0AW1IkBdjD9kFRpm86mpP1BUkHOM0Zw/UFbtZmN+oD9gX0Xmfq59vzFukpoCdKI/RI65L2UisT9edtlaoTepP+hthRWso6A/9Ga67KHmlj8cx8gsupClPwVFi9+82ZY/bfFeuglrpj8M3d+q8cCdPxBlBi72CKA/B9tOUx7Hoz+oKbSC50RxP/b5FLu7s64/ib2cdQ5bmj9KNWRL2iCaP1KBb5TVvaY/u6EXHyIdqj+mdunYkWqSP900GB+2Kak/GX1jwKzCpD8afCHnjh6hP24rFp64wJS//flXsqYzrz9co/CG3farPxTIRPoi6Js/hLYiUDxVsT8OUCVQXYeqP4DOzmjck6I/W5SgN6Kcnz+78Z6hk4SxP2oTEoKGL6Q/XrJ4tQkilT8/5vF/QnSsPxzCkpfSzo0/qvEmuwgZsD/kZNi1kKOBv99JrftNU6U/vSaMhJv0lz+kucb1WRmgP8rV2HXi4bA/FQnHlVhSoT8ywasBEJ+yP0OW2l+fTaQ/0H/WNAfZlL9G4ZzzEImjPwO0GENsAqs/lBuoX+18oD+wyo947qyqP5V6CNdNi5g/KwVSVst5mT9w+frrdp6rP6oXio1P26E/gG1dot+BmT+3cHcyeyKqP3DhSA1MXKg/D6ysLOuvsj8UgYL6BvOkP+xaSmT8Xp4/KeztRAcmsT+Z/xXRlr2Uv8/JDyvHoZw/oCKlBIqHsD8cZpW3yIuSP1QZbyOR/oA/WFxLGUUroz/j7C5sSL6gP/cibX5+4Kg/\",\"dtype\":\"float64\",\"shape\":[180]},\"final_value\":{\"__ndarray__\":\"G4YehnuBbj/lC5QRboI4v9SYO3HchXO/LZONbghJPz9HmTdKZcBwPyYBC/SOxjq/HuvDYnJElT+OZVYXGgJhv+uQtfwt1mK/TMMK/GwILj8w6lIfNSZxv/Y4OjgLYjs/f48f9pQ+eD8UA+lgyFhDvzPWj9nsp3k/hzDo+ZObRL+OEXBp2plQvxL1EpBjUBo/8Ens4iW2ej8I0M2j2lZFv66bJ3ACDpK/GupqApTjXD/cwcKue0qDP4A43XOy2E6/SdeHEL+Dlr/JcHph0gJiP1YYGddsDYy/8CXkkQhwVj+ByCzNTPOXv5P+ZlHfKWM/sxLY6I/LVT8OWjrf/24hv3Zr1K17EII/62emjKfuTL9rvsReQNaOv0kXSY76sFg/yB10rVz9Yr8yr0zKuWUuP9Avj9g9BWc/stro8spzMr+900efQhiFv9CWyU+431A/6n2y5BgQlL+Zo1mZMA5gP6PudxxZs4G/i/GI+nRPTD+jnEeK6mpQP+p+os5KzBq/NJDgR8RhjL/xJLeSgblWPwvclKMHIZY/JtgZOx/EYb/VOjh/9dWHP4RRfx2WI1O/U+npp6+vhD8S5NLt8Y5Qv5S4VKxHlIq/quy6lk9DVT8w2mi+b7BgP0oJRKJNwiq/gEyBUUWiTz8AwO/4ck4ZvwAYH5d98Gq/AHCEkSSNNT+gAIHL85uBvwCgfmyaLEw/AEiVBeSRYL8AQL/u9ZAqPwD+IlezM30/AJSMjUx0R79AN32NzRiSPwCQkl3fAF2/EHQ7BsZrrT8Ak73FtrF3v7DVpMKmRbC/AKidG0CpeT+gNlBhogenPwB+fZVbXnK/AC0mKsT5gz8AgBoId/9Pv8DFM+LqaZU/ALgev+wmYb8AQRXQ/paDPwB4r/fAVU+/gBIQJjmgir8AcKO7NEdVP4D5XQ5lYog/APhChTt5U78AwJJZBYePPwBk0k3WN1m/SP2jsH6Auz8A1+vFL8CFvwDe/2YWQIc/AKBN5AgqS7/ARw8IasejvwAmye0konI/SFPCLYpwvT+Ar5r21jSIv+yvgydoJdQ/sJSmuV/vor+UsxMUnp/dP4ArxShFHam/oDXkO62abL8A8Oxpf242PyDq4qC+mHU/ANA5XjJ7QL+Af+IXgm6EPwBXFjljl0+/AEhRU0x9jb8AiHdpzuVbP4BmiiD+EJC/AGgWJunWXT8AAhHhfF6bvwDYRl6kJWg/yLIAZ31yoT8AzCLP2uhrv6A28ZLui4Y/AGzis7UGUr8ATGDdkstiPwBelTOSHi2/uPXbY7nwdb8G2lZ0445BPyWQDhVclYS/oQyq/yF4UD9sG2GeCTmhvxx8tZThjms/MaKXxNhul79c+HG3y75iP9pb8P9Kvos/ICs5+4AyVr9K77n4P5eQv6D+KeJ/jFo/S2hxheDHgb/gyRwTDX9MP7f+tV7g/Km/qYKqqwnNdD8pmLwz4DOKP55N9mkK51S/SWFOm+f5lT/a6BcD0JNhv8p1oa8SOIu/0ez1Sl7JVT+aEBClscWIP66lARynzVO/xFWUVenikb99xswMEaJcP1qgsZ7eE6O/MAVxCySPbj8G8kfwPHmhv6aFUHCC9ms/e79DIhdLab/Js4UCw2A0P3gSSDq9YJ8/bFhDaIIdab/42VxBcoaEP8Ul7zXObVC/4+K1C/SBrL8ll5eCyc92P4KBSaBI5ZE/9PIUdguUXL8J9eoMl6VrPx+YF5SlDja/gHvjbjrp5L5ABTCmf5O5PuXaG5pJYJO/Z39XPk4AXz/8IF5rfKeaP2C5BAB/UmW/BiJHCTjBgz/SMFqfHqdPvwqN+R1mNFK/tCOOXZwHHT/Dr8tjVGqfv+c0wWdwH2k/F6Jy5NB7oT9kuTwX8/lrv74n3o/hnqG/kq+jTOgybD+oQCRQBHhOP/ABy4YLdRi/\",\"dtype\":\"float64\",\"shape\":[180]},\"full_name\":[\"a_a0\",\"b_b0\",\"a_a1\",\"b_b1\",\"a_a2\",\"b_b2\",\"a_a0\",\"b_b0\",\"a_a1\",\"b_b1\",\"a_a2\",\"b_b2\",\"a_a0\",\"b_b0\",\"a_a1\",\"b_b1\",\"a_a2\",\"b_b2\",\"a_a0\",\"b_b0\",\"a_a1\",\"b_b1\",\"a_a2\",\"b_b2\",\"a_a0\",\"b_b0\",\"a_a1\",\"b_b1\",\"a_a2\",\"b_b2\",\"a_a0\",\"b_b0\",\"a_a1\",\"b_b1\",\"a_a2\",\"b_b2\",\"a_a0\",\"b_b0\",\"a_a1\",\"b_b1\",\"a_a2\",\"b_b2\",\"a_a0\",\"b_b0\",\"a_a1\",\"b_b1\",\"a_a2\",\"b_b2\",\"a_a0\",\"b_b0\",\"a_a1\",\"b_b1\",\"a_a2\",\"b_b2\",\"a_a0\",\"b_b0\",\"a_a1\",\"b_b1\",\"a_a2\",\"b_b2\",\"a_a0\",\"b_b0\",\"a_a1\",\"b_b1\",\"a_a2\",\"b_b2\",\"a_a0\",\"b_b0\",\"a_a1\",\"b_b1\",\"a_a2\",\"b_b2\",\"a_a0\",\"b_b0\",\"a_a1\",\"b_b1\",\"a_a2\",\"b_b2\",\"a_a0\",\"b_b0\",\"a_a1\",\"b_b1\",\"a_a2\",\"b_b2\",\"a_a0\",\"b_b0\",\"a_a1\",\"b_b1\",\"a_a2\",\"b_b2\",\"a_a0\",\"b_b0\",\"a_a1\",\"b_b1\",\"a_a2\",\"b_b2\",\"a_a0\",\"b_b0\",\"a_a1\",\"b_b1\",\"a_a2\",\"b_b2\",\"a_a0\",\"b_b0\",\"a_a1\",\"b_b1\",\"a_a2\",\"b_b2\",\"a_a0\",\"b_b0\",\"a_a1\",\"b_b1\",\"a_a2\",\"b_b2\",\"a_a0\",\"b_b0\",\"a_a1\",\"b_b1\",\"a_a2\",\"b_b2\",\"a_a0\",\"b_b0\",\"a_a1\",\"b_b1\",\"a_a2\",\"b_b2\",\"a_a0\",\"b_b0\",\"a_a1\",\"b_b1\",\"a_a2\",\"b_b2\",\"a_a0\",\"b_b0\",\"a_a1\",\"b_b1\",\"a_a2\",\"b_b2\",\"a_a0\",\"b_b0\",\"a_a1\",\"b_b1\",\"a_a2\",\"b_b2\",\"a_a0\",\"b_b0\",\"a_a1\",\"b_b1\",\"a_a2\",\"b_b2\",\"a_a0\",\"b_b0\",\"a_a1\",\"b_b1\",\"a_a2\",\"b_b2\",\"a_a0\",\"b_b0\",\"a_a1\",\"b_b1\",\"a_a2\",\"b_b2\",\"a_a0\",\"b_b0\",\"a_a1\",\"b_b1\",\"a_a2\",\"b_b2\",\"a_a0\",\"b_b0\",\"a_a1\",\"b_b1\",\"a_a2\",\"b_b2\",\"a_a0\",\"b_b0\",\"a_a1\",\"b_b1\",\"a_a2\",\"b_b2\"],\"group\":[\"a\",\"b\",\"a\",\"b\",\"a\",\"b\",\"a\",\"b\",\"a\",\"b\",\"a\",\"b\",\"a\",\"b\",\"a\",\"b\",\"a\",\"b\",\"a\",\"b\",\"a\",\"b\",\"a\",\"b\",\"a\",\"b\",\"a\",\"b\",\"a\",\"b\",\"a\",\"b\",\"a\",\"b\",\"a\",\"b\",\"a\",\"b\",\"a\",\"b\",\"a\",\"b\",\"a\",\"b\",\"a\",\"b\",\"a\",\"b\",\"a\",\"b\",\"a\",\"b\",\"a\",\"b\",\"a\",\"b\",\"a\",\"b\",\"a\",\"b\",\"a\",\"b\",\"a\",\"b\",\"a\",\"b\",\"a\",\"b\",\"a\",\"b\",\"a\",\"b\",\"a\",\"b\",\"a\",\"b\",\"a\",\"b\",\"a\",\"b\",\"a\",\"b\",\"a\",\"b\",\"a\",\"b\",\"a\",\"b\",\"a\",\"b\",\"a\",\"b\",\"a\",\"b\",\"a\",\"b\",\"a\",\"b\",\"a\",\"b\",\"a\",\"b\",\"a\",\"b\",\"a\",\"b\",\"a\",\"b\",\"a\",\"b\",\"a\",\"b\",\"a\",\"b\",\"a\",\"b\",\"a\",\"b\",\"a\",\"b\",\"a\",\"b\",\"a\",\"b\",\"a\",\"b\",\"a\",\"b\",\"a\",\"b\",\"a\",\"b\",\"a\",\"b\",\"a\",\"b\",\"a\",\"b\",\"a\",\"b\",\"a\",\"b\",\"a\",\"b\",\"a\",\"b\",\"a\",\"b\",\"a\",\"b\",\"a\",\"b\",\"a\",\"b\",\"a\",\"b\",\"a\",\"b\",\"a\",\"b\",\"a\",\"b\",\"a\",\"b\",\"a\",\"b\",\"a\",\"b\",\"a\",\"b\",\"a\",\"b\",\"a\",\"b\",\"a\",\"b\",\"a\",\"b\",\"a\",\"b\"],\"index\":[0,1,4,5,8,9,0,1,4,5,8,9,0,1,4,5,8,9,0,1,4,5,8,9,0,1,4,5,8,9,0,1,4,5,8,9,0,1,4,5,8,9,0,1,4,5,8,9,0,1,4,5,8,9,0,1,4,5,8,9,0,1,4,5,8,9,0,1,4,5,8,9,0,1,4,5,8,9,0,1,4,5,8,9,0,1,4,5,8,9,0,1,4,5,8,9,0,1,4,5,8,9,0,1,4,5,8,9,0,1,4,5,8,9,0,1,4,5,8,9,0,1,4,5,8,9,0,1,4,5,8,9,0,1,4,5,8,9,0,1,4,5,8,9,0,1,4,5,8,9,0,1,4,5,8,9,0,1,4,5,8,9,0,1,4,5,8,9,0,1,4,5,8,9,0,1,4,5,8,9],\"level_0\":[0,1,2,3,4,5,6,7,8,9,10,11,12,13,14,15,16,17,18,19,20,21,22,23,24,25,26,27,28,29,30,31,32,33,34,35,36,37,38,39,40,41,42,43,44,45,46,47,48,49,50,51,52,53,54,55,56,57,58,59,60,61,62,63,64,65,66,67,68,69,70,71,72,73,74,75,76,77,78,79,80,81,82,83,84,85,86,87,88,89,90,91,92,93,94,95,96,97,98,99,100,101,102,103,104,105,106,107,108,109,110,111,112,113,114,115,116,117,118,119,120,121,122,123,124,125,126,127,128,129,130,131,132,133,134,135,136,137,138,139,140,141,142,143,144,145,146,147,148,149,150,151,152,153,154,155,156,157,158,159,160,161,162,163,164,165,166,167,168,169,170,171,172,173,174,175,176,177,178,179],\"marker\":[\"circle\",\"circle\",\"circle\",\"circle\",\"circle\",\"circle\",\"circle\",\"circle\",\"circle\",\"circle\",\"circle\",\"circle\",\"circle\",\"circle\",\"circle\",\"circle\",\"circle\",\"circle\",\"circle\",\"circle\",\"circle\",\"circle\",\"circle\",\"circle\",\"circle\",\"circle\",\"circle\",\"circle\",\"circle\",\"circle\",\"circle\",\"circle\",\"circle\",\"circle\",\"circle\",\"circle\",\"circle\",\"circle\",\"circle\",\"circle\",\"circle\",\"circle\",\"circle\",\"circle\",\"circle\",\"circle\",\"circle\",\"circle\",\"circle\",\"circle\",\"circle\",\"circle\",\"circle\",\"circle\",\"circle\",\"circle\",\"circle\",\"circle\",\"circle\",\"circle\",\"circle\",\"circle\",\"circle\",\"circle\",\"circle\",\"circle\",\"circle\",\"circle\",\"circle\",\"circle\",\"circle\",\"circle\",\"circle\",\"circle\",\"circle\",\"circle\",\"circle\",\"circle\",\"circle\",\"circle\",\"circle\",\"circle\",\"circle\",\"circle\",\"circle\",\"circle\",\"circle\",\"circle\",\"circle\",\"circle\",\"circle\",\"circle\",\"circle\",\"circle\",\"circle\",\"circle\",\"circle\",\"circle\",\"circle\",\"circle\",\"circle\",\"circle\",\"circle\",\"circle\",\"circle\",\"circle\",\"circle\",\"circle\",\"circle\",\"circle\",\"circle\",\"circle\",\"circle\",\"circle\",\"circle\",\"circle\",\"circle\",\"circle\",\"circle\",\"circle\",\"circle\",\"circle\",\"circle\",\"circle\",\"circle\",\"circle\",\"circle\",\"circle\",\"circle\",\"circle\",\"circle\",\"circle\",\"circle\",\"circle\",\"circle\",\"circle\",\"circle\",\"circle\",\"circle\",\"circle\",\"circle\",\"circle\",\"circle\",\"circle\",\"circle\",\"circle\",\"circle\",\"circle\",\"circle\",\"circle\",\"circle\",\"circle\",\"circle\",\"circle\",\"circle\",\"circle\",\"circle\",\"circle\",\"circle\",\"circle\",\"circle\",\"circle\",\"circle\",\"circle\",\"circle\",\"circle\",\"circle\",\"circle\",\"circle\",\"circle\",\"circle\",\"circle\",\"circle\",\"circle\",\"circle\",\"circle\",\"circle\",\"circle\",\"circle\",\"circle\"],\"model\":[\"scipy_L-BFGS-B_0\",\"scipy_L-BFGS-B_0\",\"scipy_L-BFGS-B_0\",\"scipy_L-BFGS-B_0\",\"scipy_L-BFGS-B_0\",\"scipy_L-BFGS-B_0\",\"scipy_L-BFGS-B_1\",\"scipy_L-BFGS-B_1\",\"scipy_L-BFGS-B_1\",\"scipy_L-BFGS-B_1\",\"scipy_L-BFGS-B_1\",\"scipy_L-BFGS-B_1\",\"scipy_L-BFGS-B_2\",\"scipy_L-BFGS-B_2\",\"scipy_L-BFGS-B_2\",\"scipy_L-BFGS-B_2\",\"scipy_L-BFGS-B_2\",\"scipy_L-BFGS-B_2\",\"scipy_L-BFGS-B_3\",\"scipy_L-BFGS-B_3\",\"scipy_L-BFGS-B_3\",\"scipy_L-BFGS-B_3\",\"scipy_L-BFGS-B_3\",\"scipy_L-BFGS-B_3\",\"scipy_L-BFGS-B_4\",\"scipy_L-BFGS-B_4\",\"scipy_L-BFGS-B_4\",\"scipy_L-BFGS-B_4\",\"scipy_L-BFGS-B_4\",\"scipy_L-BFGS-B_4\",\"scipy_L-BFGS-B_5\",\"scipy_L-BFGS-B_5\",\"scipy_L-BFGS-B_5\",\"scipy_L-BFGS-B_5\",\"scipy_L-BFGS-B_5\",\"scipy_L-BFGS-B_5\",\"scipy_L-BFGS-B_6\",\"scipy_L-BFGS-B_6\",\"scipy_L-BFGS-B_6\",\"scipy_L-BFGS-B_6\",\"scipy_L-BFGS-B_6\",\"scipy_L-BFGS-B_6\",\"scipy_L-BFGS-B_7\",\"scipy_L-BFGS-B_7\",\"scipy_L-BFGS-B_7\",\"scipy_L-BFGS-B_7\",\"scipy_L-BFGS-B_7\",\"scipy_L-BFGS-B_7\",\"scipy_L-BFGS-B_8\",\"scipy_L-BFGS-B_8\",\"scipy_L-BFGS-B_8\",\"scipy_L-BFGS-B_8\",\"scipy_L-BFGS-B_8\",\"scipy_L-BFGS-B_8\",\"scipy_L-BFGS-B_9\",\"scipy_L-BFGS-B_9\",\"scipy_L-BFGS-B_9\",\"scipy_L-BFGS-B_9\",\"scipy_L-BFGS-B_9\",\"scipy_L-BFGS-B_9\",\"scipy_TNC_0\",\"scipy_TNC_0\",\"scipy_TNC_0\",\"scipy_TNC_0\",\"scipy_TNC_0\",\"scipy_TNC_0\",\"scipy_TNC_1\",\"scipy_TNC_1\",\"scipy_TNC_1\",\"scipy_TNC_1\",\"scipy_TNC_1\",\"scipy_TNC_1\",\"scipy_TNC_2\",\"scipy_TNC_2\",\"scipy_TNC_2\",\"scipy_TNC_2\",\"scipy_TNC_2\",\"scipy_TNC_2\",\"scipy_TNC_3\",\"scipy_TNC_3\",\"scipy_TNC_3\",\"scipy_TNC_3\",\"scipy_TNC_3\",\"scipy_TNC_3\",\"scipy_TNC_4\",\"scipy_TNC_4\",\"scipy_TNC_4\",\"scipy_TNC_4\",\"scipy_TNC_4\",\"scipy_TNC_4\",\"scipy_TNC_5\",\"scipy_TNC_5\",\"scipy_TNC_5\",\"scipy_TNC_5\",\"scipy_TNC_5\",\"scipy_TNC_5\",\"scipy_TNC_6\",\"scipy_TNC_6\",\"scipy_TNC_6\",\"scipy_TNC_6\",\"scipy_TNC_6\",\"scipy_TNC_6\",\"scipy_TNC_7\",\"scipy_TNC_7\",\"scipy_TNC_7\",\"scipy_TNC_7\",\"scipy_TNC_7\",\"scipy_TNC_7\",\"scipy_TNC_8\",\"scipy_TNC_8\",\"scipy_TNC_8\",\"scipy_TNC_8\",\"scipy_TNC_8\",\"scipy_TNC_8\",\"scipy_TNC_9\",\"scipy_TNC_9\",\"scipy_TNC_9\",\"scipy_TNC_9\",\"scipy_TNC_9\",\"scipy_TNC_9\",\"scipy_SLSQP_0\",\"scipy_SLSQP_0\",\"scipy_SLSQP_0\",\"scipy_SLSQP_0\",\"scipy_SLSQP_0\",\"scipy_SLSQP_0\",\"scipy_SLSQP_1\",\"scipy_SLSQP_1\",\"scipy_SLSQP_1\",\"scipy_SLSQP_1\",\"scipy_SLSQP_1\",\"scipy_SLSQP_1\",\"scipy_SLSQP_2\",\"scipy_SLSQP_2\",\"scipy_SLSQP_2\",\"scipy_SLSQP_2\",\"scipy_SLSQP_2\",\"scipy_SLSQP_2\",\"scipy_SLSQP_3\",\"scipy_SLSQP_3\",\"scipy_SLSQP_3\",\"scipy_SLSQP_3\",\"scipy_SLSQP_3\",\"scipy_SLSQP_3\",\"scipy_SLSQP_4\",\"scipy_SLSQP_4\",\"scipy_SLSQP_4\",\"scipy_SLSQP_4\",\"scipy_SLSQP_4\",\"scipy_SLSQP_4\",\"scipy_SLSQP_5\",\"scipy_SLSQP_5\",\"scipy_SLSQP_5\",\"scipy_SLSQP_5\",\"scipy_SLSQP_5\",\"scipy_SLSQP_5\",\"scipy_SLSQP_6\",\"scipy_SLSQP_6\",\"scipy_SLSQP_6\",\"scipy_SLSQP_6\",\"scipy_SLSQP_6\",\"scipy_SLSQP_6\",\"scipy_SLSQP_7\",\"scipy_SLSQP_7\",\"scipy_SLSQP_7\",\"scipy_SLSQP_7\",\"scipy_SLSQP_7\",\"scipy_SLSQP_7\",\"scipy_SLSQP_8\",\"scipy_SLSQP_8\",\"scipy_SLSQP_8\",\"scipy_SLSQP_8\",\"scipy_SLSQP_8\",\"scipy_SLSQP_8\",\"scipy_SLSQP_9\",\"scipy_SLSQP_9\",\"scipy_SLSQP_9\",\"scipy_SLSQP_9\",\"scipy_SLSQP_9\",\"scipy_SLSQP_9\"],\"model_class\":[\"L-BFGS-B\",\"L-BFGS-B\",\"L-BFGS-B\",\"L-BFGS-B\",\"L-BFGS-B\",\"L-BFGS-B\",\"L-BFGS-B\",\"L-BFGS-B\",\"L-BFGS-B\",\"L-BFGS-B\",\"L-BFGS-B\",\"L-BFGS-B\",\"L-BFGS-B\",\"L-BFGS-B\",\"L-BFGS-B\",\"L-BFGS-B\",\"L-BFGS-B\",\"L-BFGS-B\",\"L-BFGS-B\",\"L-BFGS-B\",\"L-BFGS-B\",\"L-BFGS-B\",\"L-BFGS-B\",\"L-BFGS-B\",\"L-BFGS-B\",\"L-BFGS-B\",\"L-BFGS-B\",\"L-BFGS-B\",\"L-BFGS-B\",\"L-BFGS-B\",\"L-BFGS-B\",\"L-BFGS-B\",\"L-BFGS-B\",\"L-BFGS-B\",\"L-BFGS-B\",\"L-BFGS-B\",\"L-BFGS-B\",\"L-BFGS-B\",\"L-BFGS-B\",\"L-BFGS-B\",\"L-BFGS-B\",\"L-BFGS-B\",\"L-BFGS-B\",\"L-BFGS-B\",\"L-BFGS-B\",\"L-BFGS-B\",\"L-BFGS-B\",\"L-BFGS-B\",\"L-BFGS-B\",\"L-BFGS-B\",\"L-BFGS-B\",\"L-BFGS-B\",\"L-BFGS-B\",\"L-BFGS-B\",\"L-BFGS-B\",\"L-BFGS-B\",\"L-BFGS-B\",\"L-BFGS-B\",\"L-BFGS-B\",\"L-BFGS-B\",\"TNC\",\"TNC\",\"TNC\",\"TNC\",\"TNC\",\"TNC\",\"TNC\",\"TNC\",\"TNC\",\"TNC\",\"TNC\",\"TNC\",\"TNC\",\"TNC\",\"TNC\",\"TNC\",\"TNC\",\"TNC\",\"TNC\",\"TNC\",\"TNC\",\"TNC\",\"TNC\",\"TNC\",\"TNC\",\"TNC\",\"TNC\",\"TNC\",\"TNC\",\"TNC\",\"TNC\",\"TNC\",\"TNC\",\"TNC\",\"TNC\",\"TNC\",\"TNC\",\"TNC\",\"TNC\",\"TNC\",\"TNC\",\"TNC\",\"TNC\",\"TNC\",\"TNC\",\"TNC\",\"TNC\",\"TNC\",\"TNC\",\"TNC\",\"TNC\",\"TNC\",\"TNC\",\"TNC\",\"TNC\",\"TNC\",\"TNC\",\"TNC\",\"TNC\",\"TNC\",\"SLSQP\",\"SLSQP\",\"SLSQP\",\"SLSQP\",\"SLSQP\",\"SLSQP\",\"SLSQP\",\"SLSQP\",\"SLSQP\",\"SLSQP\",\"SLSQP\",\"SLSQP\",\"SLSQP\",\"SLSQP\",\"SLSQP\",\"SLSQP\",\"SLSQP\",\"SLSQP\",\"SLSQP\",\"SLSQP\",\"SLSQP\",\"SLSQP\",\"SLSQP\",\"SLSQP\",\"SLSQP\",\"SLSQP\",\"SLSQP\",\"SLSQP\",\"SLSQP\",\"SLSQP\",\"SLSQP\",\"SLSQP\",\"SLSQP\",\"SLSQP\",\"SLSQP\",\"SLSQP\",\"SLSQP\",\"SLSQP\",\"SLSQP\",\"SLSQP\",\"SLSQP\",\"SLSQP\",\"SLSQP\",\"SLSQP\",\"SLSQP\",\"SLSQP\",\"SLSQP\",\"SLSQP\",\"SLSQP\",\"SLSQP\",\"SLSQP\",\"SLSQP\",\"SLSQP\",\"SLSQP\",\"SLSQP\",\"SLSQP\",\"SLSQP\",\"SLSQP\",\"SLSQP\",\"SLSQP\"],\"name\":[\"a0\",\"b0\",\"a1\",\"b1\",\"a2\",\"b2\",\"a0\",\"b0\",\"a1\",\"b1\",\"a2\",\"b2\",\"a0\",\"b0\",\"a1\",\"b1\",\"a2\",\"b2\",\"a0\",\"b0\",\"a1\",\"b1\",\"a2\",\"b2\",\"a0\",\"b0\",\"a1\",\"b1\",\"a2\",\"b2\",\"a0\",\"b0\",\"a1\",\"b1\",\"a2\",\"b2\",\"a0\",\"b0\",\"a1\",\"b1\",\"a2\",\"b2\",\"a0\",\"b0\",\"a1\",\"b1\",\"a2\",\"b2\",\"a0\",\"b0\",\"a1\",\"b1\",\"a2\",\"b2\",\"a0\",\"b0\",\"a1\",\"b1\",\"a2\",\"b2\",\"a0\",\"b0\",\"a1\",\"b1\",\"a2\",\"b2\",\"a0\",\"b0\",\"a1\",\"b1\",\"a2\",\"b2\",\"a0\",\"b0\",\"a1\",\"b1\",\"a2\",\"b2\",\"a0\",\"b0\",\"a1\",\"b1\",\"a2\",\"b2\",\"a0\",\"b0\",\"a1\",\"b1\",\"a2\",\"b2\",\"a0\",\"b0\",\"a1\",\"b1\",\"a2\",\"b2\",\"a0\",\"b0\",\"a1\",\"b1\",\"a2\",\"b2\",\"a0\",\"b0\",\"a1\",\"b1\",\"a2\",\"b2\",\"a0\",\"b0\",\"a1\",\"b1\",\"a2\",\"b2\",\"a0\",\"b0\",\"a1\",\"b1\",\"a2\",\"b2\",\"a0\",\"b0\",\"a1\",\"b1\",\"a2\",\"b2\",\"a0\",\"b0\",\"a1\",\"b1\",\"a2\",\"b2\",\"a0\",\"b0\",\"a1\",\"b1\",\"a2\",\"b2\",\"a0\",\"b0\",\"a1\",\"b1\",\"a2\",\"b2\",\"a0\",\"b0\",\"a1\",\"b1\",\"a2\",\"b2\",\"a0\",\"b0\",\"a1\",\"b1\",\"a2\",\"b2\",\"a0\",\"b0\",\"a1\",\"b1\",\"a2\",\"b2\",\"a0\",\"b0\",\"a1\",\"b1\",\"a2\",\"b2\",\"a0\",\"b0\",\"a1\",\"b1\",\"a2\",\"b2\",\"a0\",\"b0\",\"a1\",\"b1\",\"a2\",\"b2\"],\"start_value\":{\"__ndarray__\":\"QPq3UB7EuL/SjZtfx3Hxv8KTDxAarQbA4PbtHpDh+z84vkDhbo3Vv1F8A9QpZfG/UGuc2uLsAUBujtgBdTwDwDg9d99U2/Q/MGf+eHTl4r+Q2aIdRuHvv3hfq1dFavY/rBLi7f6N6r+sfuzDFMDwPzi2uR1ZAf4/fKCz/dOWBMDQchDubgzhv3ZmDruDwwZAfKEumbMpAsBCiy6XLfr0vyn6rvcpnva/TnIwPztiBcAdAigBLyEGwGgnTvVeV+q/4COX5UqI9D/4IqAbnWz9P4ynCxXRg/o/7iIPfUP9AkByKynfBVYHwF/54qiyt/S/uPVD7Eqx5z80dybeU/YAQLhYqw/RFATA26nOQJPp8r8Moc4eedb7v5I1ngHR8gZAAP4uGAz87j9kp8rBtMrwPygSiia+4/E/zIc+4ZVw7L9A03Bb0rrVP5zajMJv8wTAwE07VGf5t7/YzSuZCxHzP5BZqjq1UcW/nNgk3LZi8L9dHSPn/+78vyAibIsQHsY/HOnyM1AvBEC0m0Le+zgHwCrBbY+dBwHAogJ1/wNnA8AE8jJ06MoFQPxK51W2U/k/sMmURq5d2D9ImstfmaYEQHiX8s+hude/sETRA6oU8z+8WEQ5el8HwEAIY/jeiLg/QPq3UB7EuL/SjZtfx3Hxv8KTDxAarQbA4PbtHpDh+z84vkDhbo3Vv1F8A9QpZfG/UGuc2uLsAUBujtgBdTwDwDg9d99U2/Q/MGf+eHTl4r+Q2aIdRuHvv3hfq1dFavY/rBLi7f6N6r+sfuzDFMDwPzi2uR1ZAf4/fKCz/dOWBMDQchDubgzhv3ZmDruDwwZAfKEumbMpAsBCiy6XLfr0vyn6rvcpnva/TnIwPztiBcAdAigBLyEGwGgnTvVeV+q/4COX5UqI9D/4IqAbnWz9P4ynCxXRg/o/7iIPfUP9AkByKynfBVYHwF/54qiyt/S/uPVD7Eqx5z80dybeU/YAQLhYqw/RFATA26nOQJPp8r8Moc4eedb7v5I1ngHR8gZAAP4uGAz87j9kp8rBtMrwPygSiia+4/E/zIc+4ZVw7L9A03Bb0rrVP5zajMJv8wTAwE07VGf5t7/YzSuZCxHzP5BZqjq1UcW/nNgk3LZi8L9dHSPn/+78vyAibIsQHsY/HOnyM1AvBEC0m0Le+zgHwCrBbY+dBwHAogJ1/wNnA8AE8jJ06MoFQPxK51W2U/k/sMmURq5d2D9ImstfmaYEQHiX8s+hude/sETRA6oU8z+8WEQ5el8HwEAIY/jeiLg/QPq3UB7EuL/SjZtfx3Hxv8KTDxAarQbA4PbtHpDh+z84vkDhbo3Vv1F8A9QpZfG/UGuc2uLsAUBujtgBdTwDwDg9d99U2/Q/MGf+eHTl4r+Q2aIdRuHvv3hfq1dFavY/rBLi7f6N6r+sfuzDFMDwPzi2uR1ZAf4/fKCz/dOWBMDQchDubgzhv3ZmDruDwwZAfKEumbMpAsBCiy6XLfr0vyn6rvcpnva/TnIwPztiBcAdAigBLyEGwGgnTvVeV+q/4COX5UqI9D/4IqAbnWz9P4ynCxXRg/o/7iIPfUP9AkByKynfBVYHwF/54qiyt/S/uPVD7Eqx5z80dybeU/YAQLhYqw/RFATA26nOQJPp8r8Moc4eedb7v5I1ngHR8gZAAP4uGAz87j9kp8rBtMrwPygSiia+4/E/zIc+4ZVw7L9A03Bb0rrVP5zajMJv8wTAwE07VGf5t7/YzSuZCxHzP5BZqjq1UcW/nNgk3LZi8L9dHSPn/+78vyAibIsQHsY/HOnyM1AvBEC0m0Le+zgHwCrBbY+dBwHAogJ1/wNnA8AE8jJ06MoFQPxK51W2U/k/sMmURq5d2D9ImstfmaYEQHiX8s+hude/sETRA6oU8z+8WEQ5el8HwEAIY/jeiLg/\",\"dtype\":\"float64\",\"shape\":[180]}},\"selected\":{\"id\":\"2806\",\"type\":\"Selection\"},\"selection_policy\":{\"id\":\"2805\",\"type\":\"UnionRenderers\"}},\"id\":\"2702\",\"type\":\"ColumnDataSource\"},{\"attributes\":{\"tools\":[{\"id\":\"2723\",\"type\":\"PanTool\"},{\"id\":\"2724\",\"type\":\"WheelZoomTool\"},{\"id\":\"2725\",\"type\":\"BoxZoomTool\"},{\"id\":\"2726\",\"type\":\"SaveTool\"},{\"id\":\"2727\",\"type\":\"ResetTool\"},{\"id\":\"2728\",\"type\":\"HelpTool\"},{\"id\":\"2749\",\"type\":\"TapTool\"},{\"id\":\"2771\",\"type\":\"PanTool\"},{\"id\":\"2772\",\"type\":\"WheelZoomTool\"},{\"id\":\"2773\",\"type\":\"BoxZoomTool\"},{\"id\":\"2774\",\"type\":\"SaveTool\"},{\"id\":\"2775\",\"type\":\"ResetTool\"},{\"id\":\"2776\",\"type\":\"HelpTool\"},{\"id\":\"2797\",\"type\":\"TapTool\"}]},\"id\":\"2818\",\"type\":\"ProxyToolbar\"},{\"attributes\":{\"overlay\":{\"id\":\"2804\",\"type\":\"BoxAnnotation\"}},\"id\":\"2725\",\"type\":\"BoxZoomTool\"},{\"attributes\":{},\"id\":\"2763\",\"type\":\"BasicTicker\"},{\"attributes\":{\"fill_alpha\":{\"value\":0.0},\"fill_color\":{\"field\":\"color\"},\"height\":{\"value\":0.01},\"left\":{\"field\":\"conf_int_lower\"},\"line_alpha\":{\"value\":0.0},\"line_color\":{\"field\":\"color\"},\"right\":{\"field\":\"conf_int_upper\"},\"y\":{\"field\":\"full_name\"}},\"id\":\"2791\",\"type\":\"HBar\"},{\"attributes\":{\"children\":[[{\"id\":\"2703\",\"subtype\":\"Figure\",\"type\":\"Plot\"},0,0],[{\"id\":\"2751\",\"subtype\":\"Figure\",\"type\":\"Plot\"},1,0]]},\"id\":\"2817\",\"type\":\"GridBox\"},{\"attributes\":{\"text\":\"Comparison Plot of B Parameters\"},\"id\":\"2752\",\"type\":\"Title\"},{\"attributes\":{\"ticker\":{\"id\":\"2763\",\"type\":\"BasicTicker\"}},\"id\":\"2766\",\"type\":\"Grid\"},{\"attributes\":{},\"id\":\"2727\",\"type\":\"ResetTool\"},{\"attributes\":{\"callback\":{\"id\":\"2748\",\"type\":\"CustomJS\"},\"renderers\":[{\"id\":\"2740\",\"type\":\"GlyphRenderer\"}]},\"id\":\"2749\",\"type\":\"TapTool\"},{\"attributes\":{\"fill_alpha\":{\"value\":0.0},\"fill_color\":{\"field\":\"color\"},\"height\":{\"value\":0.01},\"left\":{\"field\":\"conf_int_lower\"},\"line_alpha\":{\"value\":0.0},\"line_color\":{\"field\":\"color\"},\"right\":{\"field\":\"conf_int_upper\"},\"y\":{\"field\":\"full_name\"}},\"id\":\"2792\",\"type\":\"HBar\"},{\"attributes\":{\"formatter\":{\"id\":\"2801\",\"type\":\"BasicTickFormatter\"},\"ticker\":{\"id\":\"2715\",\"type\":\"BasicTicker\"}},\"id\":\"2714\",\"type\":\"LinearAxis\"},{\"attributes\":{\"formatter\":{\"id\":\"2812\",\"type\":\"CategoricalTickFormatter\"},\"ticker\":{\"id\":\"2768\",\"type\":\"CategoricalTicker\"}},\"id\":\"2767\",\"type\":\"CategoricalAxis\"},{\"attributes\":{},\"id\":\"2728\",\"type\":\"HelpTool\"},{\"attributes\":{\"fill_alpha\":{\"value\":0.25},\"fill_color\":{\"field\":\"color\"},\"height\":{\"value\":0.01},\"left\":{\"field\":\"conf_int_lower\"},\"line_alpha\":{\"value\":0.25},\"line_color\":{\"field\":\"color\"},\"right\":{\"field\":\"conf_int_upper\"},\"y\":{\"field\":\"full_name\"}},\"id\":\"2793\",\"type\":\"HBar\"},{\"attributes\":{},\"id\":\"2712\",\"type\":\"CategoricalScale\"},{\"attributes\":{},\"id\":\"2768\",\"type\":\"CategoricalTicker\"},{\"attributes\":{\"active_drag\":\"auto\",\"active_inspect\":\"auto\",\"active_multi\":null,\"active_scroll\":\"auto\",\"active_tap\":\"auto\",\"tools\":[{\"id\":\"2723\",\"type\":\"PanTool\"},{\"id\":\"2724\",\"type\":\"WheelZoomTool\"},{\"id\":\"2725\",\"type\":\"BoxZoomTool\"},{\"id\":\"2726\",\"type\":\"SaveTool\"},{\"id\":\"2727\",\"type\":\"ResetTool\"},{\"id\":\"2728\",\"type\":\"HelpTool\"},{\"id\":\"2749\",\"type\":\"TapTool\"}]},\"id\":\"2729\",\"type\":\"Toolbar\"},{\"attributes\":{\"data_source\":{\"id\":\"2702\",\"type\":\"ColumnDataSource\"},\"glyph\":{\"id\":\"2791\",\"type\":\"HBar\"},\"hover_glyph\":null,\"muted_glyph\":null,\"nonselection_glyph\":{\"id\":\"2792\",\"type\":\"HBar\"},\"selection_glyph\":{\"id\":\"2793\",\"type\":\"HBar\"},\"view\":{\"id\":\"2795\",\"type\":\"CDSView\"}},\"id\":\"2794\",\"type\":\"GlyphRenderer\"},{\"attributes\":{\"args\":{\"source\":{\"id\":\"2702\",\"type\":\"ColumnDataSource\"}},\"code\":\"var chosen = source.selected.indices;\\nif (typeof(chosen) == \\\"number\\\"){\\n    var chosen = [chosen]\\n};\\n\\nvar chosen_models = [];\\n\\nfor (var i = 0; i < chosen.length; ++ i){\\n    chosen_models.push(source.data['model'][chosen[i]])\\n};\\n\\nvar chosen_models_indices = [];\\n\\nfor (var i = 0; i < source.data['index'].length; ++ i){\\n    if (chosen_models.includes(source.data['model'][i])){\\n        chosen_models_indices.push(i)\\n    };\\n};\\n\\nsource.selected.indices = chosen_models_indices;\\nsource.change.emit();\"},\"id\":\"2748\",\"type\":\"CustomJS\"},{\"attributes\":{\"dimension\":1,\"ticker\":{\"id\":\"2768\",\"type\":\"CategoricalTicker\"}},\"id\":\"2770\",\"type\":\"Grid\"},{\"attributes\":{\"source\":{\"id\":\"2702\",\"type\":\"ColumnDataSource\"}},\"id\":\"2795\",\"type\":\"CDSView\"},{\"attributes\":{},\"id\":\"2710\",\"type\":\"LinearScale\"},{\"attributes\":{\"data_source\":{\"id\":\"2702\",\"type\":\"ColumnDataSource\"},\"glyph\":{\"id\":\"2737\",\"type\":\"Scatter\"},\"hover_glyph\":null,\"muted_glyph\":null,\"nonselection_glyph\":{\"id\":\"2738\",\"type\":\"Scatter\"},\"selection_glyph\":{\"id\":\"2739\",\"type\":\"Scatter\"},\"view\":{\"id\":\"2741\",\"type\":\"CDSView\"}},\"id\":\"2740\",\"type\":\"GlyphRenderer\"},{\"attributes\":{\"fill_alpha\":{\"value\":0.2},\"fill_color\":{\"field\":\"color\"},\"line_alpha\":{\"value\":0.2},\"line_color\":{\"field\":\"color\"},\"marker\":{\"field\":\"marker\"},\"size\":{\"units\":\"screen\",\"value\":12},\"x\":{\"field\":\"final_value\"},\"y\":{\"field\":\"full_name\"}},\"id\":\"2786\",\"type\":\"Scatter\"},{\"attributes\":{\"callback\":null,\"factors\":[\"a_a2\",\"a_a1\",\"a_a0\"]},\"id\":\"2708\",\"type\":\"FactorRange\"},{\"attributes\":{\"below\":[{\"id\":\"2714\",\"type\":\"LinearAxis\"}],\"center\":[{\"id\":\"2718\",\"type\":\"Grid\"},{\"id\":\"2722\",\"type\":\"Grid\"}],\"left\":[{\"id\":\"2719\",\"type\":\"CategoricalAxis\"}],\"plot_height\":400,\"plot_width\":500,\"renderers\":[{\"id\":\"2740\",\"type\":\"GlyphRenderer\"},{\"id\":\"2746\",\"type\":\"GlyphRenderer\"}],\"title\":{\"id\":\"2704\",\"type\":\"Title\"},\"toolbar\":{\"id\":\"2729\",\"type\":\"Toolbar\"},\"toolbar_location\":null,\"x_range\":{\"id\":\"2706\",\"type\":\"DataRange1d\"},\"x_scale\":{\"id\":\"2710\",\"type\":\"LinearScale\"},\"y_range\":{\"id\":\"2708\",\"type\":\"FactorRange\"},\"y_scale\":{\"id\":\"2712\",\"type\":\"CategoricalScale\"}},\"id\":\"2703\",\"subtype\":\"Figure\",\"type\":\"Plot\"},{\"attributes\":{\"fill_alpha\":{\"value\":0.5},\"fill_color\":{\"field\":\"color\"},\"line_alpha\":{\"value\":0.5},\"line_color\":{\"field\":\"color\"},\"marker\":{\"field\":\"marker\"},\"size\":{\"units\":\"screen\",\"value\":12},\"x\":{\"field\":\"final_value\"},\"y\":{\"field\":\"full_name\"}},\"id\":\"2785\",\"type\":\"Scatter\"},{\"attributes\":{\"source\":{\"id\":\"2702\",\"type\":\"ColumnDataSource\"}},\"id\":\"2741\",\"type\":\"CDSView\"},{\"attributes\":{\"toolbar\":{\"id\":\"2818\",\"type\":\"ProxyToolbar\"},\"toolbar_location\":\"above\"},\"id\":\"2819\",\"type\":\"ToolbarBox\"},{\"attributes\":{\"below\":[{\"id\":\"2762\",\"type\":\"LinearAxis\"}],\"center\":[{\"id\":\"2766\",\"type\":\"Grid\"},{\"id\":\"2770\",\"type\":\"Grid\"}],\"left\":[{\"id\":\"2767\",\"type\":\"CategoricalAxis\"}],\"plot_height\":400,\"plot_width\":500,\"renderers\":[{\"id\":\"2788\",\"type\":\"GlyphRenderer\"},{\"id\":\"2794\",\"type\":\"GlyphRenderer\"}],\"title\":{\"id\":\"2752\",\"type\":\"Title\"},\"toolbar\":{\"id\":\"2777\",\"type\":\"Toolbar\"},\"toolbar_location\":null,\"x_range\":{\"id\":\"2754\",\"type\":\"DataRange1d\"},\"x_scale\":{\"id\":\"2758\",\"type\":\"LinearScale\"},\"y_range\":{\"id\":\"2756\",\"type\":\"FactorRange\"},\"y_scale\":{\"id\":\"2760\",\"type\":\"CategoricalScale\"}},\"id\":\"2751\",\"subtype\":\"Figure\",\"type\":\"Plot\"},{\"attributes\":{\"callback\":null},\"id\":\"2706\",\"type\":\"DataRange1d\"},{\"attributes\":{\"callback\":{\"id\":\"2796\",\"type\":\"CustomJS\"},\"renderers\":[{\"id\":\"2788\",\"type\":\"GlyphRenderer\"}]},\"id\":\"2797\",\"type\":\"TapTool\"},{\"attributes\":{},\"id\":\"2771\",\"type\":\"PanTool\"}],\"root_ids\":[\"2820\"]},\"title\":\"Bokeh Application\",\"version\":\"1.2.0\"}};\n",
       "  var render_items = [{\"docid\":\"f94e9bd1-1f70-4931-abcc-6e202a738e8b\",\"roots\":{\"2820\":\"a18f8b2c-ebb2-4b2a-806a-e8bd7f1e2e79\"}}];\n",
       "  root.Bokeh.embed.embed_items_notebook(docs_json, render_items);\n",
       "\n",
       "  }\n",
       "  if (root.Bokeh !== undefined) {\n",
       "    embed_document(root);\n",
       "  } else {\n",
       "    var attempts = 0;\n",
       "    var timer = setInterval(function(root) {\n",
       "      if (root.Bokeh !== undefined) {\n",
       "        embed_document(root);\n",
       "        clearInterval(timer);\n",
       "      }\n",
       "      attempts++;\n",
       "      if (attempts > 100) {\n",
       "        console.log(\"Bokeh: ERROR: Unable to run BokehJS code because BokehJS library is missing\");\n",
       "        clearInterval(timer);\n",
       "      }\n",
       "    }, 10, root)\n",
       "  }\n",
       "})(window);"
      ],
      "application/vnd.bokehjs_exec.v0+json": ""
     },
     "metadata": {
      "application/vnd.bokehjs_exec.v0+json": {
       "id": "2820"
      }
     },
     "output_type": "display_data"
    }
   ],
   "source": [
    "from bokeh.models import TapTool\n",
    "from bokeh.models.callbacks import CustomJS\n",
    "\n",
    "source = ColumnDataSource(df)    \n",
    "figures = []\n",
    "    \n",
    "for param_group_name, height in param_groups_and_heights:\n",
    "    df_slice = df[df['group'] == param_group_name]\n",
    "    param_names_to_plot = sorted(df_slice[\"full_name\"].unique(), reverse=True)\n",
    "\n",
    "    p = figure(\n",
    "        title=\"Comparison Plot of {} Parameters\".format(param_group_name.title()),\n",
    "        y_range=param_names_to_plot,\n",
    "        plot_height=height,\n",
    "        plot_width=plot_width,\n",
    "        # =============================================\n",
    "        # NOT configuring the basic taptool here!\n",
    "        # =============================================\n",
    "    )\n",
    "\n",
    "    # Give a name to each scatter glyph \n",
    "    # so each can get a TapTool\n",
    "    scatter_glyph = p.scatter(\n",
    "        source=source,\n",
    "        x=\"final_value\",\n",
    "        y=\"full_name\",\n",
    "        marker=\"marker\",\n",
    "        size=12,\n",
    "        color=\"color\",\n",
    "        selection_color=\"color\",\n",
    "        nonselection_color=\"color\",\n",
    "        alpha=0.5,\n",
    "        selection_alpha=0.8,\n",
    "        nonselection_alpha=0.2,\n",
    "    )\n",
    "\n",
    "    p.hbar(\n",
    "        source=source,\n",
    "        left=\"conf_int_lower\",\n",
    "        right=\"conf_int_upper\",\n",
    "        y=\"full_name\",\n",
    "        height=0.01,\n",
    "        alpha=0.0,\n",
    "        selection_alpha=0.25,\n",
    "        nonselection_alpha=0.0,\n",
    "        color=\"color\",\n",
    "        selection_color=\"color\",\n",
    "        nonselection_color=\"color\",\n",
    "    )\n",
    "\n",
    "    \n",
    "    # =============================================\n",
    "    # Create the JavaScript callblack\n",
    "    tap_js_kwargs = {\"source\": source}\n",
    "    with open('tap_callback.js', 'r') as f:\n",
    "        tap_js_code = f.read()\n",
    "    tap_callback = CustomJS(args=tap_js_kwargs, code=tap_js_code)\n",
    "\n",
    "    # Add the TapTool to each plot\n",
    "    tap = TapTool(renderers=[scatter_glyph], callback=tap_callback)\n",
    "    p.tools.append(tap)\n",
    "    # =============================================\n",
    "    \n",
    "    figures.append(p)\n",
    "\n",
    "grid = gridplot(figures, ncols=1)\n",
    "show(grid)"
   ]
  },
  {
   "cell_type": "code",
   "execution_count": null,
   "metadata": {},
   "outputs": [],
   "source": []
  }
 ],
 "metadata": {
  "kernelspec": {
   "display_name": "Python 3",
   "language": "python",
   "name": "python3"
  },
  "language_info": {
   "codemirror_mode": {
    "name": "ipython",
    "version": 3
   },
   "file_extension": ".py",
   "mimetype": "text/x-python",
   "name": "python",
   "nbconvert_exporter": "python",
   "pygments_lexer": "ipython3",
   "version": "3.7.3"
  }
 },
 "nbformat": 4,
 "nbformat_minor": 2
}
